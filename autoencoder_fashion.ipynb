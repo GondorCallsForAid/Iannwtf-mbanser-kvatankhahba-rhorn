{
  "nbformat": 4,
  "nbformat_minor": 0,
  "metadata": {
    "colab": {
      "name": "autoencoder_fashion.ipynb",
      "provenance": [],
      "collapsed_sections": []
    },
    "kernelspec": {
      "name": "python3",
      "display_name": "Python 3"
    },
    "accelerator": "GPU"
  },
  "cells": [
    {
      "cell_type": "markdown",
      "metadata": {
        "id": "EUEg9lCo5DVb"
      },
      "source": [
        "# (Convolutional/Variational) Autoencoders"
      ]
    },
    {
      "cell_type": "markdown",
      "metadata": {
        "id": "rqrTLTOD4w7Q"
      },
      "source": [
        "## Import Libraries"
      ]
    },
    {
      "cell_type": "code",
      "metadata": {
        "id": "_PCxFf3X4Wp0"
      },
      "source": [
        "import numpy as np\n",
        "import tensorflow as tf\n",
        "import matplotlib.pyplot as plt\n",
        "\n",
        "# to hide warnings or atleast some of them (caused by mapping with lambda)\n",
        "# the warnings are not present in colab\n",
        "import logging\n",
        "logging.getLogger(\"tensorflow\").disabled = True"
      ],
      "execution_count": 1,
      "outputs": []
    },
    {
      "cell_type": "markdown",
      "metadata": {
        "id": "MCbQI25u5m_J"
      },
      "source": [
        "## Load Dataset"
      ]
    },
    {
      "cell_type": "code",
      "metadata": {
        "id": "lLpqPMUa5Pzr"
      },
      "source": [
        "(train_images, train_labels), (test_images, test_labels) = tf.keras.datasets.fashion_mnist.load_data()"
      ],
      "execution_count": 233,
      "outputs": []
    },
    {
      "cell_type": "markdown",
      "metadata": {
        "id": "SB-LX8XD6UH1"
      },
      "source": [
        "## Inspect Dataset"
      ]
    },
    {
      "cell_type": "code",
      "metadata": {
        "colab": {
          "base_uri": "https://localhost:8080/",
          "height": 230
        },
        "id": "zAIj-zDO6ATH",
        "outputId": "3a5f84a4-11c1-46f2-c2cc-41d09709334e"
      },
      "source": [
        "# Declare which number(index) corresponds to which class\n",
        "class_names = ['T-shirt/top', 'Trouser', 'Pullover', 'Dress', 'Coat', 'Sandal', 'Shirt', 'Sneaker', 'Bag', 'Ankle boot']\n",
        "\n",
        "fig, ax = plt.subplots(1, 5, figsize=(10,10))\n",
        "for index, [image, label] in enumerate(zip(train_images[0:5], train_labels[0:5])):\n",
        "    ax[index].imshow(image)\n",
        "    ax[index].set_title(class_names[label])\n",
        "    ax[index].axis('off')\n",
        "    print(image.shape)"
      ],
      "execution_count": 33,
      "outputs": [
        {
          "output_type": "stream",
          "text": [
            "(28, 28)\n",
            "(28, 28)\n",
            "(28, 28)\n",
            "(28, 28)\n",
            "(28, 28)\n"
          ],
          "name": "stdout"
        },
        {
          "output_type": "display_data",
          "data": {
            "image/png": "[encoded data removed]",
            "text/plain": [
              "<Figure size 720x720 with 5 Axes>"
            ]
          },
          "metadata": {
            "tags": [],
            "needs_background": "light"
          }
        }
      ]
    },
    {
      "cell_type": "markdown",
      "metadata": {
        "id": "GAqukCbc8REg"
      },
      "source": [
        "## Data Pipeline"
      ]
    },
    {
      "cell_type": "code",
      "metadata": {
        "id": "M7PCNIm68Us6"
      },
      "source": [
        "# combine images and labels into a tf dataset\n",
        "train_images = tf.data.Dataset.from_tensor_slices(train_images.reshape(-1, 28, 28, 1))\n",
        "train_labels = tf.data.Dataset.from_tensor_slices(train_labels)\n",
        "test_images = tf.data.Dataset.from_tensor_slices(test_images.reshape(-1, 28, 28, 1))\n",
        "test_labels = tf.data.Dataset.from_tensor_slices(test_labels)\n",
        "\n",
        "train_dataset = tf.data.Dataset.zip((train_images, train_labels))\n",
        "test_dataset = tf.data.Dataset.zip((test_images, test_labels))\n",
        "                                              \n",
        "\n",
        "# shuffle data\n",
        "train_dataset = train_dataset.shuffle(64)\n",
        "test_dataset = test_dataset.shuffle(64)                                                \n",
        "\n",
        "\n",
        "# create minibatches\n",
        "train_dataset = train_dataset.batch(64)\n",
        "test_dataset = test_dataset.batch(64)\n",
        "\n",
        "\n",
        "# normalize images and encode labels onehot\n",
        "train_dataset = train_dataset.map(lambda image, label: \n",
        "                                          (image/255, tf.one_hot(label, 10)), \n",
        "                                  num_parallel_calls=tf.data.experimental.AUTOTUNE).cache()\n",
        "\n",
        "test_dataset = test_dataset.map(lambda image, label: \n",
        "                                          (image/255, tf.one_hot(label, 10)), \n",
        "                                  num_parallel_calls=tf.data.experimental.AUTOTUNE).cache()\n",
        "\n",
        "# we store a non prefetched test_dataset to inspect the progess of our model later\n",
        "test_dataset_clean = test_dataset\n",
        "\n",
        "# Prefetch\n",
        "train_dataset = train_dataset.prefetch(tf.data.experimental.AUTOTUNE)\n",
        "test_dataset = test_dataset.prefetch(tf.data.experimental.AUTOTUNE)"
      ],
      "execution_count": 234,
      "outputs": []
    },
    {
      "cell_type": "markdown",
      "metadata": {
        "id": "TaZIMXB-9YI4"
      },
      "source": [
        "## Convolutional Autoencoder"
      ]
    },
    {
      "cell_type": "code",
      "metadata": {
        "id": "ORLGtP4K9St7"
      },
      "source": [
        "from tensorflow.keras import Model, Input\n",
        "\n",
        "class ConvAE(Model):\n",
        "\n",
        "  def __init__(self, embedding_size = 10):\n",
        "    super(ConvAE, self).__init__()\n",
        "\n",
        "    self.encoder = [\n",
        "            tf.keras.layers.Conv2D(\n",
        "                              filters = 32,\n",
        "                              kernel_size = 4,\n",
        "                              strides = 1,\n",
        "                              padding = 'same',\n",
        "                              activation = 'relu',\n",
        "                              input_shape = (28, 28, 1)),\n",
        "         \n",
        "            tf.keras.layers.Conv2D(\n",
        "                              filters = 64, \n",
        "                              kernel_size = 3, \n",
        "                              strides = (2, 2), \n",
        "                              activation='relu'),\n",
        "         \n",
        "            tf.keras.layers.Conv2D(\n",
        "                              filters = 128, \n",
        "                              kernel_size = 3, \n",
        "                              strides = (2, 2), \n",
        "                              activation ='relu'),\n",
        "         \n",
        "            tf.keras.layers.Flatten(),\n",
        "        \n",
        "            tf.keras.layers.Dense(\n",
        "                              embedding_size,\n",
        "                              activation = None),\n",
        "        ]\n",
        "\n",
        "\n",
        "    self.decoder = [\n",
        "            tf.keras.layers.InputLayer(input_shape=(embedding_size)),\n",
        "            tf.keras.layers.Dense(units=7*7*32, activation=tf.nn.relu),\n",
        "            tf.keras.layers.Reshape(target_shape=(7, 7, 32)),\n",
        "            tf.keras.layers.Conv2DTranspose(\n",
        "                filters=64, kernel_size=2, strides=2, padding='same',\n",
        "                activation='relu'),\n",
        "            tf.keras.layers.Conv2DTranspose(\n",
        "                filters=128, kernel_size=2, strides=2, padding='same',\n",
        "                activation='relu'),\n",
        "            tf.keras.layers.Conv2DTranspose(\n",
        "                filters=1, kernel_size=2, strides=1, padding='same',\n",
        "                activation = \"sigmoid\"),\n",
        "        ]\n",
        "  \n",
        "  # Helper function to get a nice summary with \n",
        "  # my_model.sum_helper().summary()\n",
        "  # mode defines which part of the model is returned as a summary\n",
        "\n",
        "  def sum_helper(self, mode = \"encode\"):\n",
        "        if mode == \"encode\":\n",
        "          x = Input(shape=(28, 28, 1))\n",
        "          return Model(inputs=[x], outputs=self.call(x, mode))\n",
        "        if mode == \"decode\":\n",
        "          x = Input(shape=(10))\n",
        "          return Model(inputs=[x], outputs=self.call(x, mode))\n",
        "\n",
        "\n",
        "  def call(self, x, mode = \"encode\"):\n",
        "    \n",
        "    if mode == \"encode\":\n",
        "      for layer in self.encoder:\n",
        "        x = layer(x)\n",
        "      return x\n",
        "\n",
        "    elif mode == \"decode\":\n",
        "      for layer in self.decoder:\n",
        "        x = layer(x)\n",
        "      return x\n",
        "\n",
        "    else:\n",
        "      return \"No mode was selected (encode or decode)\""
      ],
      "execution_count": 162,
      "outputs": []
    },
    {
      "cell_type": "markdown",
      "metadata": {
        "id": "a6eAuCNuEUoG"
      },
      "source": [
        "## Test encoder and decoder"
      ]
    },
    {
      "cell_type": "code",
      "metadata": {
        "id": "19lC6uDWVG8I"
      },
      "source": [
        "tf.keras.losses.MSE\n",
        "model = ConvAE(10);\n",
        "for img_batch, label_batch in train_dataset.take(1):\n",
        "    a = tf.keras.losses.MSE(img_batch, model(model(img_batch, \"encode\"), \"decode\")).numpy()"
      ],
      "execution_count": 170,
      "outputs": []
    },
    {
      "cell_type": "code",
      "metadata": {
        "colab": {
          "base_uri": "https://localhost:8080/"
        },
        "id": "62NebPzxVa0r",
        "outputId": "55b44ca4-82df-461c-f53e-22b8be0fbf7b"
      },
      "source": [
        "np.mean(a)"
      ],
      "execution_count": 171,
      "outputs": [
        {
          "output_type": "execute_result",
          "data": {
            "text/plain": [
              "0.17376177"
            ]
          },
          "metadata": {
            "tags": []
          },
          "execution_count": 171
        }
      ]
    },
    {
      "cell_type": "code",
      "metadata": {
        "colab": {
          "base_uri": "https://localhost:8080/",
          "height": 143
        },
        "id": "q4jyfbeqEX7-",
        "outputId": "ea9f9833-6bf6-499e-d572-680f661cbab1"
      },
      "source": [
        "model = ConvAE(10);\n",
        "for img_batch, label_batch in train_dataset.take(1):\n",
        "    de_encoded_imgs = model(model(img_batch, \"encode\"), \"decode\").numpy()\n",
        "    labels = label_batch\n",
        "\n",
        "fig, ax = plt.subplots(1, 5, figsize=(10,10))\n",
        "for index, [image, label] in enumerate(zip(de_encoded_imgs[0:5], labels[0:5])):\n",
        "    ax[index].imshow(image.squeeze())\n",
        "    ax[index].set_title(class_names[np.where(label == 1)[0][0]])\n",
        "    ax[index].axis('off')"
      ],
      "execution_count": 161,
      "outputs": [
        {
          "output_type": "display_data",
          "data": {
            "image/png": "[encoded data removed]",
            "text/plain": [
              "<Figure size 720x720 with 5 Axes>"
            ]
          },
          "metadata": {
            "tags": [],
            "needs_background": "light"
          }
        }
      ]
    },
    {
      "cell_type": "code",
      "metadata": {
        "colab": {
          "base_uri": "https://localhost:8080/"
        },
        "id": "P1qEcpd3IChv",
        "outputId": "8c2c9c29-5041-4995-8487-129215a26323"
      },
      "source": [
        "model.sum_helper(\"encode\").summary()\n",
        "model.sum_helper(\"decode\").summary()"
      ],
      "execution_count": 155,
      "outputs": [
        {
          "output_type": "stream",
          "text": [
            "Model: \"functional_31\"\n",
            "_________________________________________________________________\n",
            "Layer (type)                 Output Shape              Param #   \n",
            "=================================================================\n",
            "input_64 (InputLayer)        [(None, 28, 28, 1)]       0         \n",
            "_________________________________________________________________\n",
            "conv2d_126 (Conv2D)          (None, 28, 28, 32)        544       \n",
            "_________________________________________________________________\n",
            "conv2d_127 (Conv2D)          (None, 13, 13, 64)        18496     \n",
            "_________________________________________________________________\n",
            "conv2d_128 (Conv2D)          (None, 6, 6, 128)         73856     \n",
            "_________________________________________________________________\n",
            "flatten_42 (Flatten)         (None, 4608)              0         \n",
            "_________________________________________________________________\n",
            "dense_85 (Dense)             (None, 10)                46090     \n",
            "=================================================================\n",
            "Total params: 138,986\n",
            "Trainable params: 138,986\n",
            "Non-trainable params: 0\n",
            "_________________________________________________________________\n",
            "Model: \"functional_33\"\n",
            "_________________________________________________________________\n",
            "Layer (type)                 Output Shape              Param #   \n",
            "=================================================================\n",
            "input_65 (InputLayer)        [(None, 10)]              0         \n",
            "_________________________________________________________________\n",
            "input_61 (InputLayer)        multiple                  0         \n",
            "_________________________________________________________________\n",
            "dense_86 (Dense)             (None, 1568)              17248     \n",
            "_________________________________________________________________\n",
            "reshape_42 (Reshape)         (None, 7, 7, 32)          0         \n",
            "_________________________________________________________________\n",
            "conv2d_transpose_126 (Conv2D (None, 14, 14, 64)        8256      \n",
            "_________________________________________________________________\n",
            "conv2d_transpose_127 (Conv2D (None, 28, 28, 128)       32896     \n",
            "_________________________________________________________________\n",
            "conv2d_transpose_128 (Conv2D (None, 28, 28, 1)         513       \n",
            "=================================================================\n",
            "Total params: 58,913\n",
            "Trainable params: 58,913\n",
            "Non-trainable params: 0\n",
            "_________________________________________________________________\n"
          ],
          "name": "stdout"
        }
      ]
    },
    {
      "cell_type": "markdown",
      "metadata": {
        "id": "pnesY__wRlz2"
      },
      "source": [
        "## Define Training"
      ]
    },
    {
      "cell_type": "code",
      "metadata": {
        "id": "ei3GvLUPRodP"
      },
      "source": [
        "def train_step(model, input, target, loss_function, optimizer):\n",
        "    with tf.GradientTape() as tape:\n",
        "        encoded = model(input, \"encode\")\n",
        "        decoded = model(encoded, \"decode\")\n",
        "        loss = loss_function(input, decoded) #+ tf.reduce_sum(model.losses)\n",
        "        gradients = tape.gradient(loss, model.trainable_variables)\n",
        "    optimizer.apply_gradients(zip(gradients, model.trainable_variables))\n",
        "    return loss\n",
        "\n",
        "def test(model, test_data, loss_function, training = False):\n",
        "    # Test over complete test data\n",
        "\n",
        "    test_loss_aggregator = []\n",
        "\n",
        "    for (input, target) in test_data:\n",
        "        encoded = model(input, \"encode\")\n",
        "        decoded = model(encoded, \"decode\")\n",
        "        sample_test_loss = loss_function(input, decoded)\n",
        "        test_loss_aggregator.append(np.mean(sample_test_loss.numpy()))\n",
        "    \n",
        "    test_loss = np.mean(test_loss_aggregator)\n",
        "      \n",
        "    return test_loss"
      ],
      "execution_count": 192,
      "outputs": []
    },
    {
      "cell_type": "markdown",
      "metadata": {
        "id": "QO_PDhHITBs3"
      },
      "source": [
        "## Train model and observe progress"
      ]
    },
    {
      "cell_type": "code",
      "metadata": {
        "colab": {
          "base_uri": "https://localhost:8080/",
          "height": 661
        },
        "id": "dDML1tkpTFXq",
        "outputId": "4049c191-184c-46d4-9d84-b649e2140f83"
      },
      "source": [
        "%%time\n",
        "tf.keras.backend.clear_session()\n",
        "from IPython.display import clear_output\n",
        "\n",
        "### Hyperparameters\n",
        "num_epochs = 10\n",
        "learning_rate = 0.001\n",
        "embedding_size = 10\n",
        "running_average_factor = 0.95\n",
        "\n",
        "model = ConvAE(embedding_size)\n",
        "\n",
        "# Initialize the loss\n",
        "mean_squared_error = tf.keras.losses.MSE\n",
        "\n",
        "# Initialize the optimizer\n",
        "optimizer = tf.keras.optimizers.Adam(learning_rate)\n",
        "\n",
        "# Initialize lists for later visualization.\n",
        "train_losses = []\n",
        "test_losses = []\n",
        "\n",
        "# Testing model performance on train and test data before learning\n",
        "train_loss = test(model, train_dataset, mean_squared_error)\n",
        "train_losses.append(train_loss)\n",
        "\n",
        "\n",
        "test_loss = test(model, test_dataset, mean_squared_error)\n",
        "test_losses.append(test_loss)\n",
        "\n",
        "# Train loop for num_epochs epochs.\n",
        "for epoch in range(num_epochs):\n",
        "    print('Epoch: __ ' + str(epoch))\n",
        "\n",
        "    # Training\n",
        "    running_average_loss = 0\n",
        "    for (input,target) in train_dataset:\n",
        "        train_loss = np.mean(train_step(model, input, target, mean_squared_error, optimizer))\n",
        "        running_average_loss = running_average_factor * running_average_loss  + (1 - running_average_factor) * train_loss\n",
        "        \n",
        "    train_losses.append(running_average_loss)\n",
        "   \n",
        "\n",
        "    # Testing\n",
        "    test_loss = test(model, test_dataset, mean_squared_error)\n",
        "    test_losses.append(test_loss)\n",
        "\n",
        "    # each epoch we sample 1 image the clean test dataset that we stored earlier\n",
        "    # and compare it to the models en- and decoding\n",
        "    test_dataset_clean.shuffle(64)\n",
        "    for img_batch, label_batch in test_dataset_clean.take(1):\n",
        "      original = img_batch.numpy()[0]\n",
        "      reconstructed = model(model(img_batch, \"encode\"), \"decode\").numpy()[0]\n",
        "      label = class_names[np.where(label_batch[0] == 1)[0][0]]\n",
        "\n",
        "    clear_output(wait=True) \n",
        "    fontsize=24\n",
        "    fig, ax = plt.subplots(2,1,sharex=False,figsize=(15,10))\n",
        "    ax[0].set_xlim((0,num_epochs))\n",
        "    ax[0].plot(train_losses,label=\"Training\")\n",
        "    ax[0].plot(test_losses,label=\"Test\")\n",
        "\n",
        "\n",
        "    ax[0].set_ylabel(\"Loss\",fontsize=fontsize)\n",
        "    ax[1].set_xlabel(\"Epochs\",fontsize=fontsize)\n",
        "    ax[1].imshow(reconstructed.squeeze())\n",
        "\n",
        "    ax[1].set_title(label)\n",
        "    ax[1].axis('off')\n",
        "    \n",
        "    ax[0].legend()\n",
        "    ax[1].legend()\n",
        "    plt.show()\n",
        "\n",
        "    print('Train loss: ',running_average_loss)\n",
        "    print('Test loss: ',test_loss)\n"
      ],
      "execution_count": 245,
      "outputs": [
        {
          "output_type": "stream",
          "text": [
            "No handles with labels found to put in legend.\n"
          ],
          "name": "stderr"
        },
        {
          "output_type": "display_data",
          "data": {
            "image/png": "[encoded data removed]",
            "text/plain": [
              "<Figure size 1080x720 with 2 Axes>"
            ]
          },
          "metadata": {
            "tags": [],
            "needs_background": "light"
          }
        },
        {
          "output_type": "stream",
          "text": [
            "Train loss:  0.012943455707004935\n",
            "Test loss:  0.013003814\n",
            "CPU times: user 2min 6s, sys: 3.32 s, total: 2min 9s\n",
            "Wall time: 2min 10s\n"
          ],
          "name": "stdout"
        }
      ]
    }
  ]
}