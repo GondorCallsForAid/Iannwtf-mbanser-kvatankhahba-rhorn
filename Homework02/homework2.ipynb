{
 "cells": [
  {
   "cell_type": "code",
   "execution_count": 1,
   "metadata": {},
   "outputs": [],
   "source": [
    "import numpy as np\n",
    "import matplotlib.pyplot as plt"
   ]
  },
  {
   "cell_type": "markdown",
   "metadata": {},
   "source": [
    "# 1 Preparation\n",
    "\n",
    "* What is the purpose of an activation function in NN in general?  \n",
    "\n",
    "The activation function maps the input of a neuron to an output.\n",
    "\n",
    "* What’s the advantage of e.g. sigmoid over the step function (threshold function)?\n",
    "\n",
    "The logistic (sigmoid) function has a continuous derivative, where the step function has a derivative of 0(undefined at the step)  \n",
    "* How does sigmoid look like (the formula as well as the graph)?\n",
    "\n",
    "# $$\\sigma(x)=\\frac{1}{1+e^{-x}}$$\n",
    "![Sigmoid function](Logistic-curve.svg)\n",
    "* What is the derivative of sigmoid?\n",
    "\n",
    "$$\\sigma'(x)=\\sigma(x)(1-\\sigma(x))$$\n",
    "### Implement a function sigmoid(x) and a function sigmoidprime(x)"
   ]
  },
  {
   "cell_type": "code",
   "execution_count": 117,
   "metadata": {},
   "outputs": [
    {
     "data": {
      "image/png": "[encoded data removed]",
      "text/plain": [
       "<Figure size 432x288 with 1 Axes>"
      ]
     },
     "metadata": {
      "needs_background": "light"
     },
     "output_type": "display_data"
    }
   ],
   "source": [
    "def sigmoid(x):\n",
    "    return 1/(1+np.exp(-x))\n",
    "\n",
    "def sigmoidprime(x):\n",
    "    return sigmoid(x)*(1-sigmoid(x))\n",
    "\n",
    "x = np.arange(-6,6,0.1)\n",
    "\n",
    "fig, ax = plt.subplots()\n",
    "ax.plot(x, sigmoid(x),label='$\\sigma$')\n",
    "ax.plot(x, sigmoidprime(x),label='$\\sigma\\'(x)$')\n",
    "ax.legend()\n",
    "ax.grid()\n",
    "\n",
    "assert sigmoid(0)==0.5, \"sigmoid function returns wrong value\"\n",
    "assert sigmoidprime(0)==0.25, \"sigmoidprime function returns wrong value\""
   ]
  },
  {
   "cell_type": "markdown",
   "metadata": {},
   "source": [
    "# 2 Data Set\n",
    "### Input"
   ]
  },
  {
   "cell_type": "code",
   "execution_count": 118,
   "metadata": {},
   "outputs": [
    {
     "data": {
      "text/plain": [
       "array([[0, 0],\n",
       "       [0, 1],\n",
       "       [1, 0],\n",
       "       [1, 1]])"
      ]
     },
     "execution_count": 118,
     "metadata": {},
     "output_type": "execute_result"
    }
   ],
   "source": [
    "number_of_inputs = 2\n",
    "\n",
    "# Create all possible inputs for the number of inputs\n",
    "data = np.array(np.meshgrid(*[[0, 1]]*number_of_inputs)).T.reshape((2**number_of_inputs,number_of_inputs))\n",
    "data"
   ]
  },
  {
   "cell_type": "markdown",
   "metadata": {},
   "source": [
    "### Target"
   ]
  },
  {
   "cell_type": "code",
   "execution_count": 257,
   "metadata": {
    "scrolled": true
   },
   "outputs": [],
   "source": [
    "# Create target output for each logical function\n",
    "# Including name of logical function for plotting\n",
    "t_and = np.array(['AND',[0,0,0,1]])\n",
    "t_or = np.array(['OR',[0,1,1,1]])\n",
    "t_nand = np.array(['NAND',[1,1,1,0]])\n",
    "t_nor = np.array(['NOR',[1,0,0,0]])\n",
    "t_xor = np.array(['XOR',[0,1,1,0]])"
   ]
  },
  {
   "cell_type": "markdown",
   "metadata": {},
   "source": [
    "# 3 Perceptron"
   ]
  },
  {
   "cell_type": "code",
   "execution_count": 149,
   "metadata": {},
   "outputs": [],
   "source": [
    "class Perceptron:\n",
    "    \"\"\"Single neuron handling its own weights and bias.\"\"\"\n",
    "    \n",
    "    def __init__(self, input_units, alpha=1, act_fun=sigmoid):\n",
    "        \"\"\"Initialize a new neuron with its weights and bias.\n",
    "\n",
    "        Args:\n",
    "            input_units (int): Dimensionality of the data coming into this perceptron. \n",
    "                In a network of perceptrons this basically represents the \n",
    "                number of neurons in the layer before this neuron's layer.                 \n",
    "            alpha (int): The learning rate of this perceptron.                \n",
    "            act_fun (function): Function to apply on activation.\n",
    "        \"\"\"\n",
    "        self.input_units = input_units\n",
    "        self.alpha = alpha\n",
    "        self.act_func = act_fun\n",
    "        \n",
    "        # Randomly assign weights for the input and the bias\n",
    "        self.weights = np.random.randn(self.input_units + 1) \n",
    "        # Initialize variable to store the input\n",
    "        self.inputs=0\n",
    "        \n",
    "    def forward_step(self, inputs):\n",
    "        \"\"\"Activate this neuron with a specific input.\n",
    "\n",
    "        Calculate the weighted sum of inputs and apply the activation function.\n",
    "\n",
    "        Args:\n",
    "            inputs (ndarray): Vector of input values.\n",
    "\n",
    "        Returns:\n",
    "            float: A number representing the perceptron's activation after \n",
    "            calculating the weighted sum of inputs and applying the \n",
    "            perceptron's activation function.\n",
    "        \"\"\"\n",
    "        # Store input for update step (inputs = d(l) = a(l-1)+bias)\n",
    "        self.inputs = np.insert(inputs,0,1) # Insert '1' before the inputs, representing the bias input\n",
    "        return self.act_func(self.weights @ self.inputs) \n",
    "    \n",
    "    def update(self, delta):\n",
    "        \"\"\"Update this neuron's weights by a specific delta.\n",
    "\n",
    "        Args:\n",
    "            delta (float): Weight adaptation delta value.\n",
    "        \"\"\" \n",
    "        self.weights -= self.alpha * delta * self.inputs"
   ]
  },
  {
   "cell_type": "markdown",
   "metadata": {},
   "source": [
    "# 4 Multi-Layer Perceptron"
   ]
  },
  {
   "cell_type": "code",
   "execution_count": 184,
   "metadata": {},
   "outputs": [],
   "source": [
    "class MLP:\n",
    "    \"\"\"Network of multiple perceptrons.\"\"\"\n",
    "    \n",
    "    def __init__(self):\n",
    "        \"\"\"Initialize a new multi-layer perceptron with a hidden layer consisting of 4 neurons and 1 output neuron.\"\"\"\n",
    "        \n",
    "        # Initialize the neurons of the hidden layer\n",
    "        self.hidden_layer = [\n",
    "            Perceptron(2),\n",
    "            Perceptron(2),\n",
    "            Perceptron(2),\n",
    "            Perceptron(2)]\n",
    "        \n",
    "        # Initialize the output neuron\n",
    "        self.output_neuron = Perceptron(len(self.hidden_layer))\n",
    "        # Initialize variable to store the output\n",
    "        self.output=0\n",
    "        # Initialize variable to store the hidden layer activation\n",
    "        self.hidden_activation=[]\n",
    "        \n",
    "    def forward_step(self, inputs):\n",
    "        \"\"\"Process the inputs of the multi-layer perceptron through the network.\n",
    "        \n",
    "        Args:\n",
    "            inputs (ndarray): Vector of input values.\n",
    "        \"\"\"\n",
    "        # Compute activations of the neurons in the hidden layer\n",
    "        self.hidden_activation = [p.forward_step(inputs) for p in self.hidden_layer]\n",
    "        # Compute the activation of he output neuron\n",
    "        self.output = self.output_neuron.forward_step(self.hidden_activation)\n",
    "        \n",
    "    def backprop_step(self, inputs, target):\n",
    "        \"\"\"Performing the backpropagation step of the multi-layer perceptron.\n",
    "        \n",
    "        Args:\n",
    "            inputs (ndarray): Vector of input values.\n",
    "            target (int): The expected output of the multi-layer perceptron.\n",
    "        \"\"\"\n",
    "        # Compute the delta for the output neuron\n",
    "        # self.output is sigmoid(d) and sigmoid'(d) = sigmoid(d)*(1-sigmoid(d))\n",
    "        output_delta = - (target - self.output) * (self.output * (1-self.output))\n",
    "        # Compute deltas of hidden layer\n",
    "        hidden_deltas = output_delta * self.output_neuron.weights[-len(self.hidden_layer)] * (np.asarray(self.hidden_activation) * (1-np.asarray(self.hidden_activation)))\n",
    "                \n",
    "        # Update the weights of the output neuron\n",
    "        self.output_neuron.update(output_delta)\n",
    "        # Update the weights of the neurons in the hidden layer\n",
    "        for l, d in zip(self.hidden_layer,hidden_deltas):\n",
    "            l.update(d)\n",
    "        "
   ]
  },
  {
   "cell_type": "markdown",
   "metadata": {},
   "source": [
    "# 5 Training"
   ]
  },
  {
   "cell_type": "code",
   "execution_count": 259,
   "metadata": {},
   "outputs": [],
   "source": [
    "# Initialize the MLP.\n",
    "mlp = MLP()\n",
    "\n",
    "# Set the function to train on\n",
    "training_data = t_xor\n",
    "\n",
    "# Get the target of the trained function \n",
    "target = training_data[1]\n",
    "\n",
    "# Initialize lists to store epochs, loss, accuracy\n",
    "epochs=[]\n",
    "losses=[]\n",
    "accuracies=[]\n",
    "\n",
    "for epoch in range(1000):\n",
    "    epochs.append(epoch)\n",
    "    \n",
    "    accuracy = 0\n",
    "    loss = 0\n",
    "    \n",
    "    # Create list to loop through the datapoints in a random order\n",
    "    rnd_idx_list = np.random.permutation(4)\n",
    "    for i in rnd_idx_list:\n",
    "        \n",
    "        # Perform a forward step with the given input\n",
    "        mlp.forward_step(data[i])\n",
    "        # Perform a backpropagation step with the given input and target\n",
    "        mlp.backprop_step(data[i],target[i])\n",
    "        \n",
    "        # Add up the accuracy and loss for each datapoint\n",
    "        accuracy += int(mlp.output>=0.5) == target[i]\n",
    "        loss += (target[i]-mlp.output)**2\n",
    "        \n",
    "    # Store the average accuracy and loss for each epoch\n",
    "    accuracies.append(accuracy/4)\n",
    "    losses.append(loss/4)"
   ]
  },
  {
   "cell_type": "markdown",
   "metadata": {},
   "source": [
    "# 6 Visualization"
   ]
  },
  {
   "cell_type": "code",
   "execution_count": 261,
   "metadata": {},
   "outputs": [
    {
     "data": {
      "image/png": "[encoded data removed]",
      "text/plain": [
       "<Figure size 432x288 with 2 Axes>"
      ]
     },
     "metadata": {
      "needs_background": "light"
     },
     "output_type": "display_data"
    }
   ],
   "source": [
    "fig, ax = plt.subplots(2,sharex=True)\n",
    "fig.suptitle(f'Average loss and accuracy per epoch\\nTrained on {training_data[0]}')\n",
    "ax[0].plot(epochs, losses)\n",
    "ax[1].plot(epochs, accuracies)\n",
    "ax[0].set_ylabel('Loss')\n",
    "ax[1].set_ylabel('Accuracy')\n",
    "ax[1].set_xlabel('Epochs')\n",
    "\n",
    "plt.show()"
   ]
  }
 ],
 "metadata": {
  "kernelspec": {
   "display_name": "Python 3",
   "language": "python",
   "name": "python3"
  },
  "language_info": {
   "codemirror_mode": {
    "name": "ipython",
    "version": 3
   },
   "file_extension": ".py",
   "mimetype": "text/x-python",
   "name": "python",
   "nbconvert_exporter": "python",
   "pygments_lexer": "ipython3",
   "version": "3.7.9"
  }
 },
 "nbformat": 4,
 "nbformat_minor": 4
}
