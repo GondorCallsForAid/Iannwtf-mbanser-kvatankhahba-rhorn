{
  "nbformat": 4,
  "nbformat_minor": 0,
  "metadata": {
    "accelerator": "GPU",
    "colab": {
      "name": "homework06.ipynb",
      "provenance": [],
      "collapsed_sections": []
    },
    "kernelspec": {
      "display_name": "Python 3",
      "language": "python",
      "name": "python3"
    },
    "language_info": {
      "codemirror_mode": {
        "name": "ipython",
        "version": 3
      },
      "file_extension": ".py",
      "mimetype": "text/x-python",
      "name": "python",
      "nbconvert_exporter": "python",
      "pygments_lexer": "ipython3",
      "version": "3.7.9"
    }
  },
  "cells": [
    {
      "cell_type": "code",
      "metadata": {
        "id": "bvCeupatKuau"
      },
      "source": [
        "import numpy as np\n",
        "%tensorflow_version 2.x\n",
        "import tensorflow as tf\n",
        "import tensorflow_datasets as tfds\n",
        "import matplotlib.pyplot as plt"
      ],
      "execution_count": 3,
      "outputs": []
    },
    {
      "cell_type": "markdown",
      "metadata": {
        "id": "9Ll0Wp2OTosQ"
      },
      "source": [
        "# Load the dataset"
      ]
    },
    {
      "cell_type": "code",
      "metadata": {
        "colab": {
          "base_uri": "https://localhost:8080/"
        },
        "id": "12bpAFQy6Hnk",
        "outputId": "614f5b87-17c8-4232-ffb0-17ea601cb334"
      },
      "source": [
        "# Load the dataset as (image,label) tuples and split in 80% train and 20% test data\n",
        "(train_images, train_labels), (test_images, test_labels) = tf.keras.datasets.cifar10.load_data()"
      ],
      "execution_count": 4,
      "outputs": [
        {
          "output_type": "stream",
          "text": [
            "Downloading data from https://www.cs.toronto.edu/~kriz/cifar-10-python.tar.gz\n",
            "170500096/170498071 [==============================] - 4s 0us/step\n"
          ],
          "name": "stdout"
        }
      ]
    },
    {
      "cell_type": "markdown",
      "metadata": {
        "id": "WbGAxd2ATM-d"
      },
      "source": [
        "# Inspect the dataset"
      ]
    },
    {
      "cell_type": "code",
      "metadata": {
        "colab": {
          "base_uri": "https://localhost:8080/"
        },
        "id": "g1LKBEdDs7qN",
        "outputId": "c9fa7aa7-c8d5-42d7-c77e-f44023311a5e"
      },
      "source": [
        "print(train_images.shape)\n",
        "print(train_labels.shape)\n",
        "print(test_images.shape)\n",
        "print(test_labels.shape)"
      ],
      "execution_count": 5,
      "outputs": [
        {
          "output_type": "stream",
          "text": [
            "(50000, 32, 32, 3)\n",
            "(50000, 1)\n",
            "(10000, 32, 32, 3)\n",
            "(10000, 1)\n"
          ],
          "name": "stdout"
        }
      ]
    },
    {
      "cell_type": "code",
      "metadata": {
        "colab": {
          "base_uri": "https://localhost:8080/",
          "height": 143
        },
        "id": "uSazNv7_knny",
        "outputId": "2eb8af74-46db-4102-baf6-48c40dc6b121"
      },
      "source": [
        "explicit_labels =['airplane', 'automobile', 'bird', 'cat', 'deer', 'dog', 'frog', 'horse', 'ship', 'truck']\n",
        "fig, ax = plt.subplots(1,5,figsize=(10,15))\n",
        "for index, sample in enumerate(np.random.choice(train_images.shape[0], 5)):\n",
        "    ax[index].imshow(train_images[sample])\n",
        "    ax[index].set_title(explicit_labels[train_labels[sample,0]])\n",
        "    ax[index].axis(\"off\")"
      ],
      "execution_count": 6,
      "outputs": [
        {
          "output_type": "display_data",
          "data": {
            "image/png": "[encoded data removed]",
            "text/plain": [
              "<Figure size 720x1080 with 5 Axes>"
            ]
          },
          "metadata": {
            "tags": [],
            "needs_background": "light"
          }
        }
      ]
    },
    {
      "cell_type": "markdown",
      "metadata": {
        "id": "qY8YjlAd1STW"
      },
      "source": [
        "# Preprocess the data"
      ]
    },
    {
      "cell_type": "code",
      "metadata": {
        "id": "yrmYcryq1Q-W"
      },
      "source": [
        "# Set input shape for model\n",
        "my_input_shape = (train_images.shape[1:])\n",
        "\n",
        "# Create training and test dataset form the images and labels\n",
        "train_dataset_images = tf.data.Dataset.from_tensor_slices(train_images)\n",
        "train_dataset_targets = tf.data.Dataset.from_tensor_slices(train_labels)\n",
        "test_dataset_images = tf.data.Dataset.from_tensor_slices(test_images)\n",
        "test_dataset_targets = tf.data.Dataset.from_tensor_slices(test_labels)\n",
        "\n",
        "# Zip images and labels\n",
        "train_dataset = tf.data.Dataset.zip((train_dataset_images, train_dataset_targets))\n",
        "test_dataset = tf.data.Dataset.zip((test_dataset_images, test_dataset_targets))\n",
        "\n",
        "# Normalize images and onehot encode the labels\n",
        "train_dataset = train_dataset.map(lambda img, lbl: (tf.cast(2*(img/255)-1,tf.float32),\n",
        "                                                    tf.squeeze(tf.one_hot(lbl, 10))),\n",
        "                                  num_parallel_calls=tf.data.experimental.AUTOTUNE)\n",
        "test_dataset = test_dataset.map(lambda img, lbl: (tf.cast(2*(img/255)-1,tf.float32),\n",
        "                                                  tf.squeeze(tf.one_hot(lbl, 10))),\n",
        "                                num_parallel_calls=tf.data.experimental.AUTOTUNE)\n",
        "\n",
        "# Cache the preprocessed datasets\n",
        "train_dataset = train_dataset.cache()\n",
        "test_dataset = test_dataset.cache()\n",
        "\n",
        "# Shuffle the data\n",
        "train_dataset = train_dataset.shuffle(64)\n",
        "test_dataset = test_dataset.shuffle(64)\n",
        "\n",
        "# Create minibatches\n",
        "train_dataset = train_dataset.batch(64)\n",
        "test_dataset = test_dataset.batch(64)\n",
        "\n",
        "# Prefetch the data\n",
        "train_dataset = train_dataset.prefetch(tf.data.experimental.AUTOTUNE)\n",
        "test_dataset = test_dataset.prefetch(tf.data.experimental.AUTOTUNE)"
      ],
      "execution_count": 7,
      "outputs": []
    },
    {
      "cell_type": "markdown",
      "metadata": {
        "id": "78C9GeJq5ap7"
      },
      "source": [
        "# Define transition layer\n",
        "\n",
        "We can use this layer to **half our input size** and **reduce or increase the number of input-channels** .  \n",
        "This is not only needed in our DenseNet but also helpfull when we change the scale in our ResNet."
      ]
    },
    {
      "cell_type": "markdown",
      "metadata": {
        "id": "BztNTdnk5ap7"
      },
      "source": [
        "We inherit from **keras.Model** instead of **keras.layers.Layer** because the **keras.Model** also tracks its internal layers, making them easier to inspect with *Model.summary()*."
      ]
    },
    {
      "cell_type": "code",
      "metadata": {
        "id": "8nuXgjbz5ap8"
      },
      "source": [
        "from tensorflow.keras import Model, regularizers\n",
        "\n",
        "class TransitionLayer(Model):\n",
        "    '''\n",
        "    Creates a transition layer consisting of one bottleneck layer with batchnormalization and one average pooling layer\n",
        "\n",
        "            Parameters:\n",
        "                    channels: The number of channels the output of this layer should have\n",
        "                    regularizer:The kernel regularizer for the bottleneck layer\n",
        "\n",
        "            Returns:\n",
        "                    x: The output of the transition layer\n",
        "    '''\n",
        "    def __init__(self, channels, regularizer = None):\n",
        "        super(TransitionLayer, self).__init__()\n",
        "        self.my_layers = [\n",
        "            tf.keras.layers.Conv2D(\n",
        "                filters=channels,\n",
        "                kernel_size=1,\n",
        "                padding='same',\n",
        "                activation=None,\n",
        "                kernel_regularizer=regularizer\n",
        "            ),\n",
        "            tf.keras.layers.BatchNormalization(),\n",
        "            tf.keras.layers.Activation('relu'),\n",
        "            tf.keras.layers.AveragePooling2D()\n",
        "        ]\n",
        "        \n",
        "    def call(self, x, training=False):\n",
        "        for layer in self.my_layers:\n",
        "            x = layer(x, training=training)\n",
        "        return x"
      ],
      "execution_count": 8,
      "outputs": []
    },
    {
      "cell_type": "markdown",
      "metadata": {
        "id": "LeH_pz6b5ap8"
      },
      "source": [
        "### Test the TransitionLayer\n",
        "\n",
        "We test if the outputshape of our transitional layer matches our expectation"
      ]
    },
    {
      "cell_type": "code",
      "metadata": {
        "colab": {
          "base_uri": "https://localhost:8080/"
        },
        "id": "FcsgdndG5ap9",
        "outputId": "ea00de9f-7d27-4c3c-9be7-dba1e282b7de"
      },
      "source": [
        "transLayer = TransitionLayer(32)\n",
        "t = transLayer(tf.zeros([1,32,32,16])) # Inputshape: 32,32,16\n",
        "t.shape # Outputshape should be 16,16,32"
      ],
      "execution_count": 9,
      "outputs": [
        {
          "output_type": "execute_result",
          "data": {
            "text/plain": [
              "TensorShape([1, 16, 16, 32])"
            ]
          },
          "metadata": {
            "tags": []
          },
          "execution_count": 9
        }
      ]
    },
    {
      "cell_type": "markdown",
      "metadata": {
        "id": "xoCo3FewJgEy"
      },
      "source": [
        "# Define ResidualBlock"
      ]
    },
    {
      "cell_type": "code",
      "metadata": {
        "id": "0d6lQLW55ap_"
      },
      "source": [
        "from tensorflow.keras import Model, regularizers\n",
        "\n",
        "class ResidualBlock(Model):\n",
        "    '''\n",
        "    Creates a residual block consisting of convolutional layers with batchnormalization\n",
        "    The output of the residual block is added to it's input\n",
        "\n",
        "            Parameters:\n",
        "                    filters: The list containing the number of filters for each convolutional layer in the block \n",
        "                    kernel_sizes: The list containing the kernel size for each convolutional layer in the block\n",
        "                    regularizer:The kernel regularizer for the convolutional layers in the block \n",
        "                    dropout_rate: The dropout rate for each convolutional layer in the block\n",
        "\n",
        "            Returns:\n",
        "                    x: The output of the residual block added to it's input\n",
        "    '''\n",
        "    def __init__(self, filters, kernel_sizes, regularizer = None, dropout_rate = 0):\n",
        "        super(ResidualBlock, self).__init__()\n",
        "        self.my_layers = []\n",
        "        # Add the convolutional layers as specified in the parameters and append Batchnormalzation and ReLU to each\n",
        "        for my_filter,my_kernel_size in zip(filters, kernel_sizes):       \n",
        "            self.my_layers.append(\n",
        "                tf.keras.layers.Conv2D(\n",
        "                    filters=my_filter,\n",
        "                    kernel_size=my_kernel_size,\n",
        "                    padding='same',\n",
        "                    activation=None,\n",
        "                    kernel_regularizer=regularizer)\n",
        "            )                        \n",
        "            self.my_layers.append(tf.keras.layers.BatchNormalization())\n",
        "            self.my_layers.append(tf.keras.layers.Dropout(dropout_rate))\n",
        "            self.my_layers.append(tf.keras.layers.Activation('relu'))\n",
        "            \n",
        "        # Remove the last ReLU layer, we want to add the input to our last output before applying the activation\n",
        "        del self.my_layers[-1]\n",
        "        \n",
        "    def call(self, x, training = False):\n",
        "        my_input = x\n",
        "        for layer in self.my_layers:\n",
        "            x = layer(x, training=training)\n",
        "        x += my_input\n",
        "        return tf.keras.activations.relu(x)        "
      ],
      "execution_count": 10,
      "outputs": []
    },
    {
      "cell_type": "markdown",
      "metadata": {
        "id": "lk-zc9Td5ap_"
      },
      "source": [
        "### Test the ResidualBlock\n",
        "Here we test if the ResidualBlock creates the correct layers.  \n",
        "We simply forwardpass a \"black image\" through the block to get a summary."
      ]
    },
    {
      "cell_type": "code",
      "metadata": {
        "colab": {
          "base_uri": "https://localhost:8080/"
        },
        "id": "RoF-8_9i5ap_",
        "outputId": "ff4b17c2-cd81-4d72-b901-0412c25401cc"
      },
      "source": [
        "resBlock = ResidualBlock([64,64],[3,3])\n",
        "_ = resBlock(tf.zeros([1, 32, 32, 64]))\n",
        "resBlock.summary()"
      ],
      "execution_count": 11,
      "outputs": [
        {
          "output_type": "stream",
          "text": [
            "Model: \"residual_block\"\n",
            "_________________________________________________________________\n",
            "Layer (type)                 Output Shape              Param #   \n",
            "=================================================================\n",
            "conv2d_1 (Conv2D)            multiple                  36928     \n",
            "_________________________________________________________________\n",
            "batch_normalization_1 (Batch multiple                  256       \n",
            "_________________________________________________________________\n",
            "dropout (Dropout)            multiple                  0         \n",
            "_________________________________________________________________\n",
            "activation_1 (Activation)    multiple                  0         \n",
            "_________________________________________________________________\n",
            "conv2d_2 (Conv2D)            multiple                  36928     \n",
            "_________________________________________________________________\n",
            "batch_normalization_2 (Batch multiple                  256       \n",
            "_________________________________________________________________\n",
            "dropout_1 (Dropout)          multiple                  0         \n",
            "=================================================================\n",
            "Total params: 74,368\n",
            "Trainable params: 74,112\n",
            "Non-trainable params: 256\n",
            "_________________________________________________________________\n"
          ],
          "name": "stdout"
        }
      ]
    },
    {
      "cell_type": "markdown",
      "metadata": {
        "id": "Ac_UNFrVSvwc"
      },
      "source": [
        "# Define the ResNet model\n",
        "\n",
        "Here we define our ResNet model. We initialize the model with a list that contains the number of residual block we want to have in a scale (Remember: A scale means a section of the net were the size of the output stays the same) and the number of filters of the first layer in our net.  \n",
        "Whenever we enter the next scale in the net the number of filters is doubled while the output size is halved using transition layer between the residual blocks.\n",
        "\n",
        "Additionally we can indicate if the residual blocks of our net should follow the bottleneck design(on the right):\n",
        "![ResNet Design](ResNet_Design.png)\n",
        "\n",
        "We can also define a regularizer and add dropout layer to our net."
      ]
    },
    {
      "cell_type": "code",
      "metadata": {
        "id": "MX-fGUPcAQrq"
      },
      "source": [
        "from tensorflow.keras import Model, regularizers\n",
        "\n",
        "class ResNet(Model):\n",
        "    '''\n",
        "    Creates the ResNet consisting of residual blocks\n",
        "\n",
        "            Parameters:\n",
        "                    blocks_per_scale: The list containing the number of residual block for each scale in the net\n",
        "                    start_filter: The number of filters of the first convolutional layer in the net\n",
        "                    bottleneck: A flag indicating if the net uses the bootleneck design\n",
        "                    regularizer:The kernel regularizer for the convolutional layers in the net \n",
        "                    dropout_rate: The dropout rate for each convolutional layer in the net\n",
        "\n",
        "            Returns:\n",
        "                    x: The output of the net\n",
        "    '''\n",
        "    def __init__(self, blocks_per_scale, start_filter, bottleneck = False, regularizer = None, dropout_rate = 0):\n",
        "        super(ResNet, self).__init__()\n",
        "        self.conv_in = [\n",
        "            tf.keras.layers.Conv2D(\n",
        "                filters=start_filter,\n",
        "                kernel_size=5,\n",
        "                strides=2,\n",
        "                padding='same',\n",
        "                activation=None,\n",
        "                kernel_regularizer=regularizer,\n",
        "                input_shape=my_input_shape),\n",
        "            tf.keras.layers.BatchNormalization(),\n",
        "            tf.keras.layers.Activation('relu')\n",
        "        ]\n",
        "        \n",
        "        self.blocks=[]\n",
        "        my_filters = start_filter\n",
        "        if bottleneck:\n",
        "            # Add bottleneck to increase channels to match output of the first ResBlock\n",
        "            self.blocks.append(\n",
        "                tf.keras.layers.Conv2D(\n",
        "                    filters=my_filters*4,\n",
        "                    kernel_size=1,\n",
        "                    padding='same',\n",
        "                    activation=None,\n",
        "                    kernel_regularizer=regularizer\n",
        "                )\n",
        "            )\n",
        "            # Add bottleneck ResBlocks in every scale\n",
        "            for num_blocks in blocks_per_scale:\n",
        "                for _ in range(num_blocks):\n",
        "                    self.blocks.append(\n",
        "                        ResidualBlock([my_filters,my_filters,my_filters*4],[1,3,1],regularizer, dropout_rate)\n",
        "                    )\n",
        "                # The blocks in the next scale have double the filters\n",
        "                my_filters *= 2\n",
        "                # Add TransitionLayer to halve the output size \n",
        "                # and increase the channels to match output of the next ResBlock\n",
        "                self.blocks.append(\n",
        "                    TransitionLayer(my_filters*4,regularizer)\n",
        "                )\n",
        "        else:\n",
        "            # Add ResBlocks in every scale\n",
        "            for num_blocks in blocks_per_scale:\n",
        "                for _ in range(num_blocks):\n",
        "                    self.blocks.append(\n",
        "                        ResidualBlock([my_filters,my_filters],[3,3],regularizer, dropout_rate)\n",
        "                    )\n",
        "                # The blocks in the next scale have double the filters\n",
        "                my_filters *= 2\n",
        "                # Add TransitionLayer to halve the output size \n",
        "                # and increase the channels to match output of the next ResBlock\n",
        "                self.blocks.append(\n",
        "                    TransitionLayer(my_filters,regularizer)\n",
        "                )\n",
        "            \n",
        "        # Remove last TransitionLayer\n",
        "        del self.blocks[-1]\n",
        "        \n",
        "        self.readout = [\n",
        "            tf.keras.layers.GlobalAvgPool2D(),\n",
        "            tf.keras.layers.Dense(\n",
        "                units=10,\n",
        "                activation='softmax')\n",
        "        ]\n",
        "\n",
        "    def call(self, x, training = True):\n",
        "        for layer in self.conv_in:\n",
        "            x = layer(x, training=training)\n",
        "        for layer in self.blocks:\n",
        "            x = layer(x, training=training)        \n",
        "        for layer in self.readout:\n",
        "            x = layer(x, training=training)            \n",
        "        return x"
      ],
      "execution_count": 28,
      "outputs": []
    },
    {
      "cell_type": "markdown",
      "metadata": {
        "id": "x9CQWgEgaked"
      },
      "source": [
        "# Test the RestNet model\n",
        "### Let's see if our model creates the correct layers and how many parameters we have using the linear design or the bottleneck design "
      ]
    },
    {
      "cell_type": "markdown",
      "metadata": {
        "id": "vwMO0qir5aqE"
      },
      "source": [
        "Linear design:"
      ]
    },
    {
      "cell_type": "code",
      "metadata": {
        "colab": {
          "base_uri": "https://localhost:8080/"
        },
        "id": "yTwGKtxu5aqG",
        "outputId": "38bf48ff-e718-46c5-8f1b-a45cf585ba75"
      },
      "source": [
        "resModel = ResNet([2,3],64)\n",
        "_ = resModel(tf.zeros([1, 32, 32, 3]))\n",
        "resModel.summary()"
      ],
      "execution_count": 13,
      "outputs": [
        {
          "output_type": "stream",
          "text": [
            "Model: \"res_net\"\n",
            "_________________________________________________________________\n",
            "Layer (type)                 Output Shape              Param #   \n",
            "=================================================================\n",
            "conv2d_3 (Conv2D)            multiple                  4864      \n",
            "_________________________________________________________________\n",
            "batch_normalization_3 (Batch multiple                  256       \n",
            "_________________________________________________________________\n",
            "activation_3 (Activation)    multiple                  0         \n",
            "_________________________________________________________________\n",
            "max_pooling2d (MaxPooling2D) multiple                  0         \n",
            "_________________________________________________________________\n",
            "residual_block_1 (ResidualBl multiple                  74368     \n",
            "_________________________________________________________________\n",
            "residual_block_2 (ResidualBl multiple                  74368     \n",
            "_________________________________________________________________\n",
            "transition_layer_1 (Transiti multiple                  8832      \n",
            "_________________________________________________________________\n",
            "residual_block_3 (ResidualBl multiple                  296192    \n",
            "_________________________________________________________________\n",
            "residual_block_4 (ResidualBl multiple                  296192    \n",
            "_________________________________________________________________\n",
            "residual_block_5 (ResidualBl multiple                  296192    \n",
            "_________________________________________________________________\n",
            "global_average_pooling2d (Gl multiple                  0         \n",
            "_________________________________________________________________\n",
            "dense (Dense)                multiple                  1290      \n",
            "=================================================================\n",
            "Total params: 1,052,554\n",
            "Trainable params: 1,050,122\n",
            "Non-trainable params: 2,432\n",
            "_________________________________________________________________\n"
          ],
          "name": "stdout"
        }
      ]
    },
    {
      "cell_type": "markdown",
      "metadata": {
        "id": "lOgczp__akeg"
      },
      "source": [
        "Bottleneck design:"
      ]
    },
    {
      "cell_type": "code",
      "metadata": {
        "colab": {
          "base_uri": "https://localhost:8080/"
        },
        "id": "64JVg0YT5aqH",
        "outputId": "01d2a7e3-4596-4791-9d7e-8817af60bdd6"
      },
      "source": [
        "resModel = ResNet([2,3],64,True)\n",
        "_ = resModel(tf.zeros([1, 32, 32, 3]))\n",
        "resModel.summary()"
      ],
      "execution_count": 14,
      "outputs": [
        {
          "output_type": "stream",
          "text": [
            "Model: \"res_net_1\"\n",
            "_________________________________________________________________\n",
            "Layer (type)                 Output Shape              Param #   \n",
            "=================================================================\n",
            "conv2d_16 (Conv2D)           multiple                  4864      \n",
            "_________________________________________________________________\n",
            "batch_normalization_16 (Batc multiple                  256       \n",
            "_________________________________________________________________\n",
            "activation_16 (Activation)   multiple                  0         \n",
            "_________________________________________________________________\n",
            "max_pooling2d_1 (MaxPooling2 multiple                  0         \n",
            "_________________________________________________________________\n",
            "conv2d_17 (Conv2D)           multiple                  16640     \n",
            "_________________________________________________________________\n",
            "residual_block_6 (ResidualBl multiple                  71552     \n",
            "_________________________________________________________________\n",
            "residual_block_7 (ResidualBl multiple                  71552     \n",
            "_________________________________________________________________\n",
            "transition_layer_3 (Transiti multiple                  133632    \n",
            "_________________________________________________________________\n",
            "residual_block_8 (ResidualBl multiple                  282368    \n",
            "_________________________________________________________________\n",
            "residual_block_9 (ResidualBl multiple                  282368    \n",
            "_________________________________________________________________\n",
            "residual_block_10 (ResidualB multiple                  282368    \n",
            "_________________________________________________________________\n",
            "global_average_pooling2d_1 ( multiple                  0         \n",
            "_________________________________________________________________\n",
            "dense_1 (Dense)              multiple                  5130      \n",
            "=================================================================\n",
            "Total params: 1,150,730\n",
            "Trainable params: 1,143,434\n",
            "Non-trainable params: 7,296\n",
            "_________________________________________________________________\n"
          ],
          "name": "stdout"
        }
      ]
    },
    {
      "cell_type": "markdown",
      "metadata": {
        "id": "1jhP0U7b5aqH"
      },
      "source": [
        "# Define ConcatBlock\n",
        "Here we're defining a block that applies convolution, batchnormalization and ReLU to the input and returns the concatination of its input and output"
      ]
    },
    {
      "cell_type": "code",
      "metadata": {
        "id": "RdzLMQtM5aqH"
      },
      "source": [
        "class ConcatBlock(Model):\n",
        "    '''\n",
        "    Creates a convolutional layer and concatinates the output to it's input\n",
        "\n",
        "            Parameters:\n",
        "                    growth_rate: The number of filters that should be added to the input\n",
        "                    regularizer:The kernel regularizer for the convolutional layer\n",
        "                    dropout_rate: The dropout rate for the convolutional layer\n",
        "\n",
        "            Returns:\n",
        "                    x: The output of the convolutional layer concatinated it's input\n",
        "    '''\n",
        "    def __init__(self, growth_rate, regularizer = None, dropout_rate = 0):\n",
        "        super(ConcatBlock, self).__init__()\n",
        "        self.conv_bn_rl = [\n",
        "            tf.keras.layers.Conv2D(\n",
        "                        filters=growth_rate,\n",
        "                        kernel_size=3,\n",
        "                        padding='same',\n",
        "                        activation=None,\n",
        "                        kernel_regularizer=regularizer),           \n",
        "            tf.keras.layers.BatchNormalization(),\n",
        "            tf.keras.layers.Activation('relu'),\n",
        "            tf.keras.layers.Dropout(dropout_rate)\n",
        "        ]\n",
        "        self.concat = tf.keras.layers.Concatenate()\n",
        "\n",
        "    def call(self, x, training=False):\n",
        "        my_input = x\n",
        "        for layer in self.conv_bn_rl:\n",
        "            x = layer(x, training=training)\n",
        "        return self.concat([my_input, x])"
      ],
      "execution_count": 15,
      "outputs": []
    },
    {
      "cell_type": "markdown",
      "metadata": {
        "id": "BQ6Oag24akeh"
      },
      "source": [
        "### Test the ConcatBlock\n",
        "\n",
        "We check if the ConcatBlock adds the right amount of filters to the input"
      ]
    },
    {
      "cell_type": "code",
      "metadata": {
        "colab": {
          "base_uri": "https://localhost:8080/"
        },
        "id": "oLbgyXHLakei",
        "outputId": "4b5c03a2-3ca5-404a-8d82-e2645d42e85a"
      },
      "source": [
        "concatBlock = ConcatBlock(16)\n",
        "c = concatBlock(tf.zeros([1, 32, 32, 16]))\n",
        "c.shape # Should be (32,32,32)"
      ],
      "execution_count": 16,
      "outputs": [
        {
          "output_type": "execute_result",
          "data": {
            "text/plain": [
              "TensorShape([1, 32, 32, 32])"
            ]
          },
          "metadata": {
            "tags": []
          },
          "execution_count": 16
        }
      ]
    },
    {
      "cell_type": "markdown",
      "metadata": {
        "id": "_yiUerM9Jmup"
      },
      "source": [
        "# Define DenseBlock\n",
        "\n",
        "Here we define the DenseBlock consisting of multiple ConcatBlocks"
      ]
    },
    {
      "cell_type": "code",
      "metadata": {
        "id": "LcBHnh-X5aqI"
      },
      "source": [
        "class DenseBlock(Model):\n",
        "    '''\n",
        "    Creates a dense block of convolutional layers whose outputs are concatinated to their inputs\n",
        "\n",
        "            Parameters:\n",
        "                    num_layers: The number of layer in the block\n",
        "                    growth_rate: The number of filters that each layer should add to the input\n",
        "                    regularizer:The kernel regularizer for the convolutional layers in the block\n",
        "                    dropout_rate: The dropout rate for the convolutional layers in the block\n",
        "\n",
        "            Returns:\n",
        "                    x: The output of the block\n",
        "    '''\n",
        "    def __init__(self, num_layers, growth_rate, regularizer = None, dropout_rate = 0):\n",
        "        super(DenseBlock, self).__init__()\n",
        "        self.my_block = [ConcatBlock(growth_rate,regularizer,dropout_rate) for _ in range(num_layers)]            \n",
        "        \n",
        "    def call(self, x, training = False):\n",
        "        for layer in self.my_block:\n",
        "            x = layer(x, training=training)\n",
        "        return x"
      ],
      "execution_count": 17,
      "outputs": []
    },
    {
      "cell_type": "markdown",
      "metadata": {
        "id": "Z_hHJJy1akej"
      },
      "source": [
        "### Test the DenseBlock\n",
        "\n",
        "Check if the DenseBlock creates the correct layers"
      ]
    },
    {
      "cell_type": "code",
      "metadata": {
        "colab": {
          "base_uri": "https://localhost:8080/"
        },
        "id": "dp2LkeECakek",
        "outputId": "5bf39d32-399d-4b07-a067-2361b3d31357"
      },
      "source": [
        "denseBlock = DenseBlock(4,16)\n",
        "d = denseBlock(tf.zeros([1, 32, 32, 16]))\n",
        "denseBlock.summary()\n",
        "d.shape # Should be (32,32,80) (input+growth_rate*num_layers)"
      ],
      "execution_count": 18,
      "outputs": [
        {
          "output_type": "stream",
          "text": [
            "Model: \"dense_block\"\n",
            "_________________________________________________________________\n",
            "Layer (type)                 Output Shape              Param #   \n",
            "=================================================================\n",
            "concat_block_1 (ConcatBlock) multiple                  2384      \n",
            "_________________________________________________________________\n",
            "concat_block_2 (ConcatBlock) multiple                  4688      \n",
            "_________________________________________________________________\n",
            "concat_block_3 (ConcatBlock) multiple                  6992      \n",
            "_________________________________________________________________\n",
            "concat_block_4 (ConcatBlock) multiple                  9296      \n",
            "=================================================================\n",
            "Total params: 23,360\n",
            "Trainable params: 23,232\n",
            "Non-trainable params: 128\n",
            "_________________________________________________________________\n"
          ],
          "name": "stdout"
        },
        {
          "output_type": "execute_result",
          "data": {
            "text/plain": [
              "TensorShape([1, 32, 32, 80])"
            ]
          },
          "metadata": {
            "tags": []
          },
          "execution_count": 18
        }
      ]
    },
    {
      "cell_type": "markdown",
      "metadata": {
        "id": "qsyqDd1C5aqI"
      },
      "source": [
        "# Define the DenseNet Model\n",
        "\n",
        "Here we define our DenseNet model. We initialize our model with a list that defines how many layers each DenseBlock in our net should have and a growth rate that defines how many filters each layer in our net should add to it's input.  \n",
        "\n",
        "Again we can also define a regularizer and add dropout layers."
      ]
    },
    {
      "cell_type": "code",
      "metadata": {
        "id": "BGCKTcfH5aqI"
      },
      "source": [
        "class DenseNet(Model):\n",
        "    '''\n",
        "    Creates the DenseNet consisting of DenseBlocks\n",
        "\n",
        "            Parameters:\n",
        "                    layers_per_block: The list containing the number of layers for each dense block in the net\n",
        "                    growth_rate: The number of filters each layer should add to it's input\n",
        "                    regularizer:The kernel regularizer for the convolutional layers in the net \n",
        "                    dropout_rate: The dropout rate for each convolutional layer in the net\n",
        "\n",
        "            Returns:\n",
        "                    x: The output of the net\n",
        "    '''\n",
        "    def __init__(self, layers_per_block, growth_rate, regularizer = None, dropout_rate = 0):\n",
        "        super(DenseNet, self).__init__()\n",
        "        self.conv_in = [\n",
        "            tf.keras.layers.Conv2D(\n",
        "                filters=growth_rate*2,\n",
        "                kernel_size=5,\n",
        "                strides=2,\n",
        "                padding='same',\n",
        "                activation=None,\n",
        "                kernel_regularizer=regularizer,\n",
        "                input_shape=my_input_shape),\n",
        "            tf.keras.layers.BatchNormalization(),\n",
        "            tf.keras.layers.Activation('relu')\n",
        "        ]\n",
        "        \n",
        "        self.blocks=[]\n",
        "        \n",
        "        # Add DenseBlocks\n",
        "        for num_layers in layers_per_block:\n",
        "            self.blocks.append(\n",
        "                DenseBlock(num_layers,growth_rate,regularizer, dropout_rate)\n",
        "            )\n",
        "            # Add TransitionLayer to halve the output size and decrease the depth\n",
        "            self.blocks.append(\n",
        "                TransitionLayer(num_layers*growth_rate,regularizer)\n",
        "            )\n",
        "            \n",
        "        # Remove last TransitionLayer\n",
        "        del self.blocks[-1]\n",
        "        \n",
        "        self.readout = [\n",
        "            tf.keras.layers.GlobalAvgPool2D(),\n",
        "            tf.keras.layers.Dense(\n",
        "                units=10,\n",
        "                activation='softmax')\n",
        "        ]\n",
        "\n",
        "    def call(self, x, training = True):\n",
        "        for layer in self.conv_in:\n",
        "            x = layer(x, training=training)\n",
        "        for layer in self.blocks:\n",
        "            x = layer(x, training=training)        \n",
        "        for layer in self.readout:\n",
        "            x = layer(x, training=training)            \n",
        "        return x"
      ],
      "execution_count": 66,
      "outputs": []
    },
    {
      "cell_type": "markdown",
      "metadata": {
        "id": "NdsyUoHZ5aqI"
      },
      "source": [
        "### Test the DenseNet model"
      ]
    },
    {
      "cell_type": "code",
      "metadata": {
        "colab": {
          "base_uri": "https://localhost:8080/"
        },
        "id": "By6EkfLL5aqI",
        "outputId": "f294361b-4351-491e-b36e-e74b41b49585"
      },
      "source": [
        "densemodel = DenseNet(layers_per_block=[4,4,4,4], growth_rate=16)\n",
        "_ = densemodel(tf.zeros([1, 32, 32, 3]))\n",
        "densemodel.summary()"
      ],
      "execution_count": 20,
      "outputs": [
        {
          "output_type": "stream",
          "text": [
            "Model: \"dense_net\"\n",
            "_________________________________________________________________\n",
            "Layer (type)                 Output Shape              Param #   \n",
            "=================================================================\n",
            "conv2d_40 (Conv2D)           multiple                  1216      \n",
            "_________________________________________________________________\n",
            "batch_normalization_39 (Batc multiple                  64        \n",
            "_________________________________________________________________\n",
            "activation_39 (Activation)   multiple                  0         \n",
            "_________________________________________________________________\n",
            "max_pooling2d_2 (MaxPooling2 multiple                  0         \n",
            "_________________________________________________________________\n",
            "dense_block_1 (DenseBlock)   multiple                  23360     \n",
            "_________________________________________________________________\n",
            "transition_layer_5 (Transiti multiple                  5440      \n",
            "_________________________________________________________________\n",
            "dense_block_2 (DenseBlock)   multiple                  51008     \n",
            "_________________________________________________________________\n",
            "transition_layer_6 (Transiti multiple                  8512      \n",
            "_________________________________________________________________\n",
            "dense_block_3 (DenseBlock)   multiple                  51008     \n",
            "_________________________________________________________________\n",
            "transition_layer_7 (Transiti multiple                  8512      \n",
            "_________________________________________________________________\n",
            "dense_block_4 (DenseBlock)   multiple                  51008     \n",
            "_________________________________________________________________\n",
            "global_average_pooling2d_2 ( multiple                  0         \n",
            "_________________________________________________________________\n",
            "dense_2 (Dense)              multiple                  1290      \n",
            "=================================================================\n",
            "Total params: 201,418\n",
            "Trainable params: 200,490\n",
            "Non-trainable params: 928\n",
            "_________________________________________________________________\n"
          ],
          "name": "stdout"
        }
      ]
    },
    {
      "cell_type": "markdown",
      "metadata": {
        "id": "xaAAaMgISMI0"
      },
      "source": [
        "# Define the training process"
      ]
    },
    {
      "cell_type": "markdown",
      "metadata": {
        "id": "ZSX3yFSK5aqJ"
      },
      "source": [
        "#### Function to plot the models performance"
      ]
    },
    {
      "cell_type": "code",
      "metadata": {
        "id": "3Qm4YKn_5aqJ"
      },
      "source": [
        "from IPython.display import clear_output\n",
        "\n",
        "def plot_performance(num_epochs, train_losses, test_losses, train_accuracies, test_accuracies):\n",
        "    clear_output(wait=True) \n",
        "    fontsize=24\n",
        "    fig, ax = plt.subplots(2,1,sharex=True,figsize=(15,10))\n",
        "    ax[0].set_xlim((0,num_epochs))\n",
        "    ax[0].plot(train_losses,label=\"Training\")\n",
        "    ax[0].plot(test_losses,label=\"Test\")\n",
        "\n",
        "    ax[1].set_ylim((0,1))\n",
        "    ax[1].plot(train_accuracies,label=\"Training\")\n",
        "    ax[1].plot(test_accuracies,label=\"Test\")\n",
        "\n",
        "    ax[0].set_ylabel(\"Loss\",fontsize=fontsize)\n",
        "    ax[1].set_ylabel(\"Accuracy\",fontsize=fontsize)\n",
        "    ax[1].set_xlabel(\"Epochs\",fontsize=fontsize)\n",
        "    ax[1].axhline(0.85,xmax=num_epochs,c='g',ls='--')\n",
        "    ax[0].legend()\n",
        "    ax[1].legend()\n",
        "    plt.show()"
      ],
      "execution_count": 21,
      "outputs": []
    },
    {
      "cell_type": "markdown",
      "metadata": {
        "id": "llPJNtne5aqJ"
      },
      "source": [
        "#### Function to train a given model on a given dataset with given hyperparameter\n",
        "In the end we get back a dictionary containing the performance measures of the model"
      ]
    },
    {
      "cell_type": "code",
      "metadata": {
        "id": "wLUw0EhkKuba"
      },
      "source": [
        "def train_model(model, train_dataset, test_dataset, num_epochs, loss_function, optimizer, learning_rate=0.0001):\n",
        "    running_average_factor = 0.95\n",
        "    \n",
        "    # Initialize lists for later visualization.\n",
        "    train_losses = []\n",
        "    train_accuracies = []\n",
        "\n",
        "    test_losses = []\n",
        "    test_accuracies = []\n",
        "\n",
        "    # Testing model performance on train and test data before learning\n",
        "    train_loss, train_accuracy = test(model, train_dataset, loss_function)\n",
        "    train_losses.append(train_loss)\n",
        "    train_accuracies.append(train_accuracy)\n",
        "\n",
        "    test_loss, test_accuracy = test(model, test_dataset, loss_function)\n",
        "    test_losses.append(test_loss)\n",
        "    test_accuracies.append(test_accuracy)\n",
        "\n",
        "    # Display loss and accuracy before training\n",
        "    print('Starting loss and accuracy:')\n",
        "    print('Train loss: ',train_loss)\n",
        "    print('Test loss: ',test_loss)\n",
        "    print('Train accuracy: ',train_accuracy)\n",
        "    print('Test accuracy: ',test_accuracy)\n",
        "\n",
        "    # Train loop for num_epochs epochs.\n",
        "    for epoch in range(num_epochs):\n",
        "        # Training\n",
        "        running_average_loss = 0\n",
        "        running_average_accuracy = 0\n",
        "        for (input,target) in train_dataset:\n",
        "            train_loss, train_accuracy = train_step(model, input, target, loss_function, optimizer)\n",
        "            running_average_loss = running_average_factor * running_average_loss  + (1 - running_average_factor) * train_loss\n",
        "            running_average_accuracy = running_average_factor * running_average_accuracy  + (1 - running_average_factor) * train_accuracy\n",
        "\n",
        "        train_losses.append(running_average_loss.numpy())\n",
        "        train_accuracies.append(running_average_accuracy.numpy())\n",
        "\n",
        "        # Testing\n",
        "        test_loss, test_accuracy = test(model, test_dataset, loss_function)\n",
        "        test_losses.append(test_loss)\n",
        "        test_accuracies.append(test_accuracy)\n",
        "\n",
        "        #Dynamically plot current accuracy and loss\n",
        "        plot_performance(num_epochs, train_losses, test_losses, train_accuracies, test_accuracies)\n",
        "\n",
        "        # Display loss and accuracy for current epoch    \n",
        "        print('Epoch: __ ' + str(epoch))\n",
        "        print('Train loss: ',running_average_loss.numpy())\n",
        "        print('Test loss: ',test_loss)\n",
        "        print('Train accuracy: ',running_average_accuracy.numpy())\n",
        "        print('Test accuracy: ',test_accuracy)\n",
        "    \n",
        "    model_performance = {\n",
        "        \"train_loss\": train_losses,\n",
        "        \"test_loss\": test_losses,\n",
        "        \"train_accuracy\": train_accuracies,\n",
        "        \"test_accuracy\": test_accuracies,\n",
        "    }\n",
        "    return model_performance"
      ],
      "execution_count": 22,
      "outputs": []
    },
    {
      "cell_type": "markdown",
      "metadata": {
        "id": "bPEzh22pScXb"
      },
      "source": [
        "# Define training and testing\n",
        "\n",
        "Here we define our trainig and testing as tf.functions which gives us a massive! speed boost in our training "
      ]
    },
    {
      "cell_type": "code",
      "metadata": {
        "id": "SVg42aU_xGpK"
      },
      "source": [
        "@tf.function\n",
        "def train_step(model, input, target, loss_function, optimizer):\n",
        "    with tf.GradientTape() as tape:\n",
        "        prediction = model(input, training=True)\n",
        "        loss = loss_function(target, prediction) + tf.reduce_sum(model.losses)        \n",
        "    gradients = tape.gradient(loss, model.trainable_variables)\n",
        "    optimizer.apply_gradients(zip(gradients, model.trainable_variables))\n",
        "    accuracy = tf.reduce_mean(tf.cast(tf.equal(tf.argmax(target, axis=1), tf.argmax(prediction, axis=1)),tf.float32))\n",
        "    return loss, accuracy\n",
        "\n",
        "@tf.function\n",
        "def performance_calc(model, input, target, loss_function):\n",
        "    prediction = model(input, training=False)\n",
        "    loss = loss_function(target, prediction) + tf.reduce_sum(model.losses)\n",
        "    accuracy =  tf.reduce_mean(tf.cast(tf.equal(tf.argmax(target, axis=1), tf.argmax(prediction, axis=1)),tf.float32))\n",
        "    return loss, accuracy\n",
        "\n",
        "def test(model, test_data, loss_function):\n",
        "    # Test over complete test data\n",
        "    test_accuracy_aggregator = []\n",
        "    test_loss_aggregator = []\n",
        "\n",
        "    for (input, target) in test_data:\n",
        "        loss, accuracy = performance_calc(model, input, target, loss_function)\n",
        "        test_loss_aggregator.append(loss.numpy())\n",
        "        test_accuracy_aggregator.append(accuracy.numpy())\n",
        "\n",
        "    test_loss = np.mean(test_loss_aggregator)\n",
        "    test_accuracy = np.mean(test_accuracy_aggregator)\n",
        "\n",
        "    return test_loss, test_accuracy"
      ],
      "execution_count": 27,
      "outputs": []
    },
    {
      "cell_type": "markdown",
      "metadata": {
        "id": "RVsX0m0wsHCt"
      },
      "source": [
        "# Train ResNet"
      ]
    },
    {
      "cell_type": "code",
      "metadata": {
        "colab": {
          "base_uri": "https://localhost:8080/",
          "height": 1000
        },
        "id": "zYQSNB6Hr4w7",
        "outputId": "d99a32e5-20a7-4595-be95-58a0cd2d5cb0"
      },
      "source": [
        "%%time\n",
        "tf.keras.backend.clear_session()\n",
        "\n",
        "learning_rate = 0.001\n",
        "epochs = 30\n",
        "\n",
        "# Initialize the loss\n",
        "loss_function = tf.keras.losses.CategoricalCrossentropy()\n",
        "\n",
        "# Initialize the optimizer\n",
        "optimizer = tf.keras.optimizers.Adam(learning_rate)\n",
        "\n",
        "# Initialize model\n",
        "resnet_model = ResNet(blocks_per_scale=[3,5,3], start_filter=64, bottleneck = False, regularizer = None, dropout_rate = 0.3)\n",
        "resnet_performance = train_model(\n",
        "    model = resnet_model,\n",
        "    train_dataset = train_dataset,\n",
        "    test_dataset=test_dataset,\n",
        "    num_epochs = epochs,\n",
        "    loss_function = loss_function,\n",
        "    optimizer = optimizer,\n",
        "    learning_rate = learning_rate\n",
        ")\n",
        "resnet_model.summary()"
      ],
      "execution_count": 30,
      "outputs": [
        {
          "output_type": "display_data",
          "data": {
            "image/png": "[encoded data removed]",
            "text/plain": [
              "<Figure size 1080x720 with 2 Axes>"
            ]
          },
          "metadata": {
            "tags": [],
            "needs_background": "light"
          }
        },
        {
          "output_type": "stream",
          "text": [
            "Epoch: __ 29\n",
            "Train loss:  0.11919105\n",
            "Test loss:  0.58812356\n",
            "Train accuracy:  0.95241433\n",
            "Test accuracy:  0.8512142\n",
            "Model: \"res_net\"\n",
            "_________________________________________________________________\n",
            "Layer (type)                 Output Shape              Param #   \n",
            "=================================================================\n",
            "conv2d (Conv2D)              multiple                  4864      \n",
            "_________________________________________________________________\n",
            "batch_normalization (BatchNo multiple                  256       \n",
            "_________________________________________________________________\n",
            "activation (Activation)      multiple                  0         \n",
            "_________________________________________________________________\n",
            "residual_block (ResidualBloc multiple                  74368     \n",
            "_________________________________________________________________\n",
            "residual_block_1 (ResidualBl multiple                  74368     \n",
            "_________________________________________________________________\n",
            "residual_block_2 (ResidualBl multiple                  74368     \n",
            "_________________________________________________________________\n",
            "transition_layer (Transition multiple                  8832      \n",
            "_________________________________________________________________\n",
            "residual_block_3 (ResidualBl multiple                  296192    \n",
            "_________________________________________________________________\n",
            "residual_block_4 (ResidualBl multiple                  296192    \n",
            "_________________________________________________________________\n",
            "residual_block_5 (ResidualBl multiple                  296192    \n",
            "_________________________________________________________________\n",
            "residual_block_6 (ResidualBl multiple                  296192    \n",
            "_________________________________________________________________\n",
            "residual_block_7 (ResidualBl multiple                  296192    \n",
            "_________________________________________________________________\n",
            "transition_layer_1 (Transiti multiple                  34048     \n",
            "_________________________________________________________________\n",
            "residual_block_8 (ResidualBl multiple                  1182208   \n",
            "_________________________________________________________________\n",
            "residual_block_9 (ResidualBl multiple                  1182208   \n",
            "_________________________________________________________________\n",
            "residual_block_10 (ResidualB multiple                  1182208   \n",
            "_________________________________________________________________\n",
            "global_average_pooling2d (Gl multiple                  0         \n",
            "_________________________________________________________________\n",
            "dense (Dense)                multiple                  2570      \n",
            "=================================================================\n",
            "Total params: 5,301,258\n",
            "Trainable params: 5,293,962\n",
            "Non-trainable params: 7,296\n",
            "_________________________________________________________________\n",
            "CPU times: user 5min 53s, sys: 36.7 s, total: 6min 30s\n",
            "Wall time: 11min 59s\n"
          ],
          "name": "stdout"
        }
      ]
    },
    {
      "cell_type": "markdown",
      "metadata": {
        "id": "OWfX4_T2sRuw"
      },
      "source": [
        "# Define training and testing\n",
        "\n",
        "We define our training and testing here again, because the autograph function of the tf.function decorator needs to regraph the function when we change anything about our model, but due to a bug the autograph doesn't run (see:https://github.com/tensorflow/tensorflow/issues/27120).  \n",
        "While the 'solution' to redefine the functions isn't pretty, the only other solution would be to write a wrapper function around our functions to force a regraph in every call which would work against the increase in speed which was our reason to use tf.function in the first place.\n",
        "\n",
        "(We just copied this cell so we can run the whole notebook at once.)"
      ]
    },
    {
      "cell_type": "code",
      "metadata": {
        "id": "vUwbrbODsRu4"
      },
      "source": [
        "@tf.function\n",
        "def train_step(model, input, target, loss_function, optimizer):\n",
        "    with tf.GradientTape() as tape:\n",
        "        prediction = model(input, training=True)\n",
        "        loss = loss_function(target, prediction) + tf.reduce_sum(model.losses)        \n",
        "    gradients = tape.gradient(loss, model.trainable_variables)\n",
        "    optimizer.apply_gradients(zip(gradients, model.trainable_variables))\n",
        "    accuracy = tf.reduce_mean(tf.cast(tf.equal(tf.argmax(target, axis=1), tf.argmax(prediction, axis=1)),tf.float32))\n",
        "    return loss, accuracy\n",
        "\n",
        "@tf.function\n",
        "def performance_calc(model, input, target, loss_function):\n",
        "    prediction = model(input, training=False)\n",
        "    loss = loss_function(target, prediction) + tf.reduce_sum(model.losses)\n",
        "    accuracy =  tf.reduce_mean(tf.cast(tf.equal(tf.argmax(target, axis=1), tf.argmax(prediction, axis=1)),tf.float32))\n",
        "    return loss, accuracy\n",
        "\n",
        "def test(model, test_data, loss_function):\n",
        "    # Test over complete test data\n",
        "    test_accuracy_aggregator = []\n",
        "    test_loss_aggregator = []\n",
        "\n",
        "    for (input, target) in test_data:\n",
        "        loss, accuracy = performance_calc(model, input, target, loss_function)\n",
        "        test_loss_aggregator.append(loss.numpy())\n",
        "        test_accuracy_aggregator.append(accuracy.numpy())\n",
        "\n",
        "    test_loss = np.mean(test_loss_aggregator)\n",
        "    test_accuracy = np.mean(test_accuracy_aggregator)\n",
        "\n",
        "    return test_loss, test_accuracy"
      ],
      "execution_count": 86,
      "outputs": []
    },
    {
      "cell_type": "markdown",
      "metadata": {
        "id": "efY8Vi3KsElL"
      },
      "source": [
        "# Train DenseNet"
      ]
    },
    {
      "cell_type": "code",
      "metadata": {
        "id": "YaUfJHuqr4iw",
        "colab": {
          "base_uri": "https://localhost:8080/",
          "height": 1000
        },
        "outputId": "22220416-df98-454d-b4ce-b78e756ff7b2"
      },
      "source": [
        "%%time\n",
        "tf.keras.backend.clear_session()\n",
        "\n",
        "### Hyperparameters\n",
        "learning_rate = 0.001\n",
        "epochs = 30\n",
        "\n",
        "# Initialize the loss\n",
        "loss_function = tf.keras.losses.CategoricalCrossentropy()\n",
        "\n",
        "# Initialize the optimizer\n",
        "optimizer = tf.keras.optimizers.Adam(learning_rate)\n",
        "\n",
        "# Initialize model\n",
        "densenet_model = DenseNet(layers_per_block=[6,18,12,6], growth_rate=16, regularizer = None, dropout_rate = 0.4)\n",
        "densenet_performance = train_model(\n",
        "    model = densenet_model,\n",
        "    train_dataset = train_dataset,\n",
        "    test_dataset=test_dataset,\n",
        "    num_epochs = epochs,\n",
        "    loss_function = loss_function,\n",
        "    optimizer = optimizer,\n",
        "    learning_rate = learning_rate\n",
        ")\n",
        "densenet_model.summary()"
      ],
      "execution_count": 87,
      "outputs": [
        {
          "output_type": "display_data",
          "data": {
            "image/png": "[encoded data removed]",
            "text/plain": [
              "<Figure size 1080x720 with 2 Axes>"
            ]
          },
          "metadata": {
            "tags": [],
            "needs_background": "light"
          }
        },
        {
          "output_type": "stream",
          "text": [
            "Epoch: __ 29\n",
            "Train loss:  0.1256048\n",
            "Test loss:  0.58562875\n",
            "Train accuracy:  0.9507601\n",
            "Test accuracy:  0.8514132\n",
            "Model: \"dense_net\"\n",
            "_________________________________________________________________\n",
            "Layer (type)                 Output Shape              Param #   \n",
            "=================================================================\n",
            "conv2d (Conv2D)              multiple                  2432      \n",
            "_________________________________________________________________\n",
            "batch_normalization (BatchNo multiple                  128       \n",
            "_________________________________________________________________\n",
            "activation (Activation)      multiple                  0         \n",
            "_________________________________________________________________\n",
            "dense_block (DenseBlock)     multiple                  62688     \n",
            "_________________________________________________________________\n",
            "transition_layer (Transition multiple                  12768     \n",
            "_________________________________________________________________\n",
            "dense_block_1 (DenseBlock)   multiple                  602784    \n",
            "_________________________________________________________________\n",
            "transition_layer_1 (Transiti multiple                  112032    \n",
            "_________________________________________________________________\n",
            "dense_block_2 (DenseBlock)   multiple                  650688    \n",
            "_________________________________________________________________\n",
            "transition_layer_2 (Transiti multiple                  93120     \n",
            "_________________________________________________________________\n",
            "dense_block_3 (DenseBlock)   multiple                  200928    \n",
            "_________________________________________________________________\n",
            "global_average_pooling2d (Gl multiple                  0         \n",
            "_________________________________________________________________\n",
            "dense (Dense)                multiple                  2890      \n",
            "=================================================================\n",
            "Total params: 1,740,458\n",
            "Trainable params: 1,737,898\n",
            "Non-trainable params: 2,560\n",
            "_________________________________________________________________\n",
            "CPU times: user 8min 35s, sys: 28.3 s, total: 9min 4s\n",
            "Wall time: 11min 18s\n"
          ],
          "name": "stdout"
        }
      ]
    },
    {
      "cell_type": "markdown",
      "metadata": {
        "id": "lE34rOLaSGYP"
      },
      "source": [
        "# Compare performance of our models"
      ]
    },
    {
      "cell_type": "code",
      "metadata": {
        "colab": {
          "base_uri": "https://localhost:8080/"
        },
        "id": "TMGAVXu4NnJk",
        "outputId": "88ca9349-3b15-4b09-8e65-19c6276ce3b0"
      },
      "source": [
        "print(max(resnet_performance['test_accuracy']))\r\n",
        "print(max(densenet_performance['test_accuracy']))"
      ],
      "execution_count": 88,
      "outputs": [
        {
          "output_type": "stream",
          "text": [
            "0.8553941\n",
            "0.85330415\n"
          ],
          "name": "stdout"
        }
      ]
    },
    {
      "cell_type": "code",
      "metadata": {
        "colab": {
          "base_uri": "https://localhost:8080/",
          "height": 920
        },
        "id": "cDFhnzBGm8Oj",
        "scrolled": false,
        "outputId": "6cd090e1-1205-4b03-fbce-a6307f6f227c"
      },
      "source": [
        "fig, ax = plt.subplots(2,2,sharex='col',sharey='row',figsize=(30,15))\n",
        "\n",
        "ax[0,0].plot(resnet_performance['train_loss'],label=\"Training\")\n",
        "ax[0,0].plot(resnet_performance['test_loss'],label=\"Test\")\n",
        "\n",
        "ax[1,0].plot(resnet_performance['train_accuracy'],label=\"Training\")\n",
        "ax[1,0].plot(resnet_performance['test_accuracy'],label=\"Test\")\n",
        "\n",
        "ax[0,1].plot(densenet_performance['train_loss'],label=\"Training\")\n",
        "ax[0,1].plot(densenet_performance['test_loss'],label=\"Test\")\n",
        "\n",
        "ax[1,1].plot(densenet_performance['train_accuracy'],label=\"Training\")\n",
        "ax[1,1].plot(densenet_performance['test_accuracy'],label=\"Test\")\n",
        "\n",
        "fontsize=24\n",
        "ax[0,0].set_title(\"ResNet performance\",fontsize=30)\n",
        "ax[0,1].set_title(\"DenseNet performance\",fontsize=30)\n",
        "ax[0,0].set_ylabel(\"Loss\",fontsize=fontsize)\n",
        "ax[1,0].set_ylabel(\"Accuracy\",fontsize=fontsize)\n",
        "ax[1,0].set_xlabel(\"Epochs\",fontsize=fontsize)\n",
        "ax[1,1].set_xlabel(\"Epochs\",fontsize=fontsize)\n",
        "ax[1,0].axhline(0.85,xmax=len(resnet_performance['train_accuracy']),c='g',ls='--')\n",
        "ax[1,1].axhline(0.85,xmax=len(densenet_performance['train_accuracy']),c='g',ls='--')\n",
        "ax[0,0].legend()\n",
        "ax[0,1].legend()\n",
        "ax[1,0].legend()\n",
        "ax[1,1].legend()\n",
        "plt.show()"
      ],
      "execution_count": 89,
      "outputs": [
        {
          "output_type": "display_data",
          "data": {
            "image/png": "[encoded data removed]",
            "text/plain": [
              "<Figure size 2160x1080 with 4 Axes>"
            ]
          },
          "metadata": {
            "tags": [],
            "needs_background": "light"
          }
        }
      ]
    },
    {
      "cell_type": "markdown",
      "metadata": {
        "id": "jXQyYMe5iGnG"
      },
      "source": [
        "When we compare our models the most significant difference to the plain CNN from last week is the training speed. Both ResNet and DenseNet can use a larger learning rate and can be trained much faster.  \r\n",
        "When looking at the amount of parameters we need to get an accuracy of +85% we see that the DenseNet need way less parameters which again results in a even faster training in comparison to the ResNet.  \r\n",
        "One thing we found interesting is that although it is controversial to use dropout layer in a CNN, we heavily rely on them to improve the generalization of our models. "
      ]
    }
  ]
}