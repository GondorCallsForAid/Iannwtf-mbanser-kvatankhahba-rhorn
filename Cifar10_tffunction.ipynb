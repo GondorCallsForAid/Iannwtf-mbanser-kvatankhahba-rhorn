{
 "cells": [
  {
   "cell_type": "code",
   "execution_count": 2,
   "metadata": {
    "id": "bvCeupatKuau"
   },
   "outputs": [],
   "source": [
    "import numpy as np\n",
    "#%tensorflow_version 2.x\n",
    "import tensorflow as tf\n",
    "import tensorflow_datasets as tfds\n",
    "import matplotlib.pyplot as plt"
   ]
  },
  {
   "cell_type": "markdown",
   "metadata": {
    "id": "9Ll0Wp2OTosQ"
   },
   "source": [
    "# Load the dataset"
   ]
  },
  {
   "cell_type": "code",
   "execution_count": 3,
   "metadata": {
    "colab": {
     "base_uri": "https://localhost:8080/"
    },
    "id": "12bpAFQy6Hnk",
    "outputId": "860b5db0-8ece-4b24-ea38-4a684583aa66"
   },
   "outputs": [],
   "source": [
    "# Load the dataset as (image,label) tuples and split in 80% train and 20% test data\n",
    "(train_images, train_labels), (test_images, test_labels) = tf.keras.datasets.cifar10.load_data()"
   ]
  },
  {
   "cell_type": "markdown",
   "metadata": {
    "id": "WbGAxd2ATM-d"
   },
   "source": [
    "# Inspect the dataset"
   ]
  },
  {
   "cell_type": "code",
   "execution_count": 4,
   "metadata": {
    "colab": {
     "base_uri": "https://localhost:8080/"
    },
    "id": "g1LKBEdDs7qN",
    "outputId": "ea6d0dca-3401-4b59-fddb-85249a9082c9"
   },
   "outputs": [
    {
     "name": "stdout",
     "output_type": "stream",
     "text": [
      "(50000, 32, 32, 3)\n",
      "(50000, 1)\n",
      "(10000, 32, 32, 3)\n",
      "(10000, 1)\n"
     ]
    }
   ],
   "source": [
    "print(train_images.shape)\n",
    "print(train_labels.shape)\n",
    "print(test_images.shape)\n",
    "print(test_labels.shape)"
   ]
  },
  {
   "cell_type": "code",
   "execution_count": 5,
   "metadata": {
    "colab": {
     "base_uri": "https://localhost:8080/",
     "height": 143
    },
    "id": "uSazNv7_knny",
    "outputId": "122895ff-f038-4498-9fdd-03b1db2618b9"
   },
   "outputs": [
    {
     "data": {
      "image/png": "[encoded data removed]",
      "text/plain": [
       "<Figure size 720x1080 with 5 Axes>"
      ]
     },
     "metadata": {
      "needs_background": "light"
     },
     "output_type": "display_data"
    }
   ],
   "source": [
    "explicit_labels =['airplane', 'automobile', 'bird', 'cat', 'deer', 'dog', 'frog', 'horse', 'ship', 'truck']\n",
    "fig, ax = plt.subplots(1,5,figsize=(10,15))\n",
    "for index, sample in enumerate(np.random.choice(train_images.shape[0], 5)):\n",
    "    ax[index].imshow(train_images[sample])\n",
    "    ax[index].set_title(explicit_labels[train_labels[sample,0]])\n",
    "    ax[index].axis(\"off\")"
   ]
  },
  {
   "cell_type": "markdown",
   "metadata": {
    "id": "qY8YjlAd1STW"
   },
   "source": [
    "# Preprocess the data"
   ]
  },
  {
   "cell_type": "code",
   "execution_count": 6,
   "metadata": {
    "id": "yrmYcryq1Q-W"
   },
   "outputs": [],
   "source": [
    "# Set input shape for model\n",
    "my_input_shape = (train_images.shape[1:])\n",
    "\n",
    "# Reshape labels into one-dimensional array\n",
    "train_labels=train_labels.reshape(-1)\n",
    "test_labels=test_labels.reshape(-1)\n",
    "\n",
    "# Create training and test dataset form the images and labels\n",
    "train_dataset_images = tf.data.Dataset.from_tensor_slices(train_images)\n",
    "train_dataset_targets = tf.data.Dataset.from_tensor_slices(train_labels)\n",
    "test_dataset_images = tf.data.Dataset.from_tensor_slices(test_images)\n",
    "test_dataset_targets = tf.data.Dataset.from_tensor_slices(test_labels)\n",
    "\n",
    "# Zip images and labels\n",
    "train_dataset = tf.data.Dataset.zip((train_dataset_images, train_dataset_targets))\n",
    "test_dataset = tf.data.Dataset.zip((test_dataset_images, test_dataset_targets))\n",
    "\n",
    "# Normalize images and onehot encode the labels\n",
    "train_dataset = train_dataset.map(lambda img, lbl: (tf.cast(2*(img/255)-1,tf.float32),\n",
    "                                                    tf.one_hot(lbl, 10)),\n",
    "                                  num_parallel_calls=tf.data.experimental.AUTOTUNE)\n",
    "test_dataset = test_dataset.map(lambda img, lbl: (tf.cast(2*(img/255)-1,tf.float32),\n",
    "                                                  tf.one_hot(lbl, 10)),\n",
    "                                num_parallel_calls=tf.data.experimental.AUTOTUNE)\n",
    "\n",
    "# Cache the preprocessed datasets\n",
    "#train_dataset = train_dataset.cache()\n",
    "#test_dataset = test_dataset.cache()\n",
    "\n",
    "# Shuffle the data\n",
    "train_dataset = train_dataset.shuffle(100)\n",
    "test_dataset = test_dataset.shuffle(100)\n",
    "\n",
    "# Create minibatches\n",
    "train_dataset = train_dataset.batch(100)\n",
    "test_dataset = test_dataset.batch(100)\n",
    "\n",
    "# Prefetch the datasets\n",
    "train_dataset = train_dataset.prefetch(tf.data.experimental.AUTOTUNE)\n",
    "test_dataset = test_dataset.prefetch(tf.data.experimental.AUTOTUNE)"
   ]
  },
  {
   "cell_type": "markdown",
   "metadata": {
    "id": "Ac_UNFrVSvwc"
   },
   "source": [
    "# Define the model"
   ]
  },
  {
   "cell_type": "code",
   "execution_count": 8,
   "metadata": {
    "id": "ZMvIzsNifMJN"
   },
   "outputs": [],
   "source": [
    "from tensorflow.keras import Model, regularizers\n",
    "\n",
    "class Model(Model):    \n",
    "    def __init__(self):\n",
    "        super(Model, self).__init__()\n",
    "        self.conv_1 = tf.keras.layers.Conv2D(\n",
    "            filters=128,\n",
    "            kernel_size=7,\n",
    "            padding='same',\n",
    "            activation=None,\n",
    "            kernel_regularizer=regularizers.l2(0.01),\n",
    "            input_shape=my_input_shape)\n",
    "        \n",
    "        self.max_pool_1 = tf.keras.layers.MaxPool2D()\n",
    "        \n",
    "        self.batchNorm_1 = tf.keras.layers.BatchNormalization()\n",
    "\n",
    "        self.dropout_1 = tf.keras.layers.Dropout(0.3)\n",
    "\n",
    "        self.conv_2 = tf.keras.layers.Conv2D(\n",
    "            filters=256,\n",
    "            kernel_size=5,\n",
    "            padding='same',\n",
    "            activation=None,\n",
    "            kernel_regularizer=regularizers.l2(0.01)\n",
    "            )\n",
    "        \n",
    "        self.max_pool_2 = tf.keras.layers.MaxPool2D()\n",
    "        \n",
    "        self.batchNorm_2 = tf.keras.layers.BatchNormalization()\n",
    "\n",
    "        self.dropout_2 = tf.keras.layers.Dropout(0.3)\n",
    "\n",
    "        self.conv_3 = tf.keras.layers.Conv2D(\n",
    "            filters=512,\n",
    "            kernel_size=3,\n",
    "            padding='same',\n",
    "            activation=None,\n",
    "            kernel_regularizer=regularizers.l2(0.01)\n",
    "            )\n",
    "        \n",
    "        self.batchNorm_3 = tf.keras.layers.BatchNormalization()    \n",
    "\n",
    "        self.dropout_3 = tf.keras.layers.Dropout(0.3)   \n",
    "\n",
    "        self.conv_4 = tf.keras.layers.Conv2D(\n",
    "            filters=512,\n",
    "            kernel_size=3,\n",
    "            padding='same',\n",
    "            activation=None,\n",
    "            kernel_regularizer=regularizers.l2(0.01)\n",
    "            )\n",
    "        \n",
    "        self.max_pool_4 = tf.keras.layers.MaxPool2D()\n",
    "        \n",
    "        self.batchNorm_4 = tf.keras.layers.BatchNormalization()\n",
    "\n",
    "        self.dropout_4 = tf.keras.layers.Dropout(0.3)\n",
    "        \n",
    "        self.conv_5 = tf.keras.layers.Conv2D(\n",
    "            filters=1024,\n",
    "            kernel_size=3,\n",
    "            padding='same',\n",
    "            activation=None,\n",
    "            kernel_regularizer=regularizers.l2(0.01)\n",
    "            )\n",
    "        \n",
    "        self.batchNorm_5 = tf.keras.layers.BatchNormalization()\n",
    "\n",
    "        self.dropout_5 = tf.keras.layers.Dropout(0.3)\n",
    "\n",
    "        self.conv_6 = tf.keras.layers.Conv2D(\n",
    "            filters=1024,\n",
    "            kernel_size=2,\n",
    "            activation=None,\n",
    "            kernel_regularizer=regularizers.l2(0.01)\n",
    "            )\n",
    "\n",
    "        self.max_pool_6 = tf.keras.layers.MaxPool2D()\n",
    "\n",
    "        self.batchNorm_6 = tf.keras.layers.BatchNormalization()\n",
    "\n",
    "        self.dropout_6 = tf.keras.layers.Dropout(0.3)\n",
    "\n",
    "        self.global_average_pooling_layer = tf.keras.layers.GlobalAvgPool2D()\n",
    "\n",
    "        self.output_layer = tf.keras.layers.Dense(\n",
    "            units=10,\n",
    "            activation='softmax')\n",
    "\n",
    "    def call(self, x, training = True):\n",
    "        x = self.conv_1(x)\n",
    "\n",
    "        x = self.max_pool_1(x) \n",
    "\n",
    "        x = self.batchNorm_1(x, training)\n",
    "        x = tf.keras.activations.relu(x)\n",
    "        x = self.dropout_1(x, training)\n",
    "\n",
    "        x = self.conv_2(x)\n",
    "\n",
    "        x = self.max_pool_2(x)        \n",
    "\n",
    "        x = self.batchNorm_2(x, training)\n",
    "        x = tf.keras.activations.relu(x)\n",
    "        x = self.dropout_2(x, training)\n",
    "\n",
    "        x = self.conv_3(x)\n",
    "\n",
    "        x = self.batchNorm_3(x, training)\n",
    "        x = tf.keras.activations.relu(x)\n",
    "        x = self.dropout_3(x, training)\n",
    "\n",
    "        x = self.conv_4(x)\n",
    "\n",
    "        x = self.max_pool_4(x)\n",
    "\n",
    "        x = self.batchNorm_4(x, training)\n",
    "        x = tf.keras.activations.relu(x)\n",
    "        x = self.dropout_4(x, training)\n",
    "\n",
    "        x = self.conv_5(x)\n",
    "\n",
    "        x = self.batchNorm_5(x, training)\n",
    "        x = tf.keras.activations.relu(x)\n",
    "        x = self.dropout_5(x, training)\n",
    "\n",
    "        x = self.conv_6(x)\n",
    "\n",
    "        x = self.max_pool_6(x)\n",
    "\n",
    "        x = self.batchNorm_6(x, training)\n",
    "        x = tf.keras.activations.relu(x)\n",
    "        x = self.dropout_6(x, training)\n",
    "        x = self.global_average_pooling_layer(x)\n",
    "        x = self.output_layer(x)\n",
    "        return x\n",
    "        tf.equal(tf.argmax(y, 1), tf.argmax(y_, 1))"
   ]
  },
  {
   "cell_type": "markdown",
   "metadata": {
    "id": "XS6pasFlxJA_"
   },
   "source": [
    "# Initialize Model and hyperparameters\n",
    "### Define training and testing"
   ]
  },
  {
   "cell_type": "code",
   "execution_count": null,
   "metadata": {
    "id": "NQ_GBd2lxHew"
   },
   "outputs": [],
   "source": [
    "tf.keras.backend.clear_session()\n",
    "\n",
    "### Hyperparameters\n",
    "learning_rate = 0.0001\n",
    "running_average_factor = 0.95\n",
    "\n",
    "# Initialize model\n",
    "model = Model()\n",
    "\n",
    "# Initialize the loss\n",
    "loss_function = tf.keras.losses.CategoricalCrossentropy()\n",
    "\n",
    "# Initialize the optimizer\n",
    "optimizer = tf.keras.optimizers.Adam(learning_rate)\n",
    "\n",
    "\n",
    "@tf.function\n",
    "def train_step(input, target):\n",
    "    with tf.GradientTape() as tape:\n",
    "        prediction = model(input, training=True)\n",
    "        loss = loss_function(target, prediction) + tf.reduce_sum(model.losses)        \n",
    "    gradients = tape.gradient(loss, model.trainable_variables)\n",
    "    optimizer.apply_gradients(zip(gradients, model.trainable_variables))\n",
    "    accuracy = tf.reduce_mean(tf.cast(tf.equal(tf.argmax(target, axis=1), tf.argmax(prediction, axis=1)),tf.float32))\n",
    "    return loss, accuracy\n",
    "\n",
    "@tf.function\n",
    "def performance_calc(input, target):\n",
    "    prediction = model(input, training=False)\n",
    "    loss = loss_function(target, prediction) + tf.reduce_sum(model.losses)\n",
    "    accuracy =  tf.reduce_mean(tf.cast(tf.equal(tf.argmax(target, axis=1), tf.argmax(prediction, axis=1)),tf.float32))\n",
    "    return loss, accuracy\n",
    "\n",
    "def test(test_data):\n",
    "    # Test over complete test data\n",
    "    test_accuracy_aggregator = []\n",
    "    test_loss_aggregator = []\n",
    "\n",
    "    for (input, target) in test_data:\n",
    "        loss, accuracy = performance_calc(input, target)\n",
    "        test_loss_aggregator.append(loss.numpy())\n",
    "        test_accuracy_aggregator.append(accuracy.numpy())\n",
    "\n",
    "    test_loss = np.mean(test_loss_aggregator)\n",
    "    test_accuracy = np.mean(test_accuracy_aggregator)\n",
    "\n",
    "    return test_loss, test_accuracy"
   ]
  },
  {
   "cell_type": "markdown",
   "metadata": {
    "id": "xaAAaMgISMI0"
   },
   "source": [
    "# Train the model"
   ]
  },
  {
   "cell_type": "code",
   "execution_count": 13,
   "metadata": {
    "id": "wLUw0EhkKuba"
   },
   "outputs": [
    {
     "ename": "ValueError",
     "evalue": "in user code:\n\n    <ipython-input-9-5a367bd5ea31>:13 performance_calc  *\n        prediction = model(input, training=False)\n    <ipython-input-8-cd7f594094d6>:92 call  *\n        x = self.conv_1(x)\n    c:\\users\\marcel\\programme\\miniconda3\\envs\\iannwtf\\lib\\site-packages\\tensorflow\\python\\keras\\engine\\base_layer.py:982 __call__  **\n        self._maybe_build(inputs)\n    c:\\users\\marcel\\programme\\miniconda3\\envs\\iannwtf\\lib\\site-packages\\tensorflow\\python\\keras\\engine\\base_layer.py:2643 _maybe_build\n        self.build(input_shapes)  # pylint:disable=not-callable\n    c:\\users\\marcel\\programme\\miniconda3\\envs\\iannwtf\\lib\\site-packages\\tensorflow\\python\\keras\\layers\\convolutional.py:204 build\n        dtype=self.dtype)\n    c:\\users\\marcel\\programme\\miniconda3\\envs\\iannwtf\\lib\\site-packages\\tensorflow\\python\\keras\\engine\\base_layer.py:614 add_weight\n        caching_device=caching_device)\n    c:\\users\\marcel\\programme\\miniconda3\\envs\\iannwtf\\lib\\site-packages\\tensorflow\\python\\training\\tracking\\base.py:750 _add_variable_with_custom_getter\n        **kwargs_for_getter)\n    c:\\users\\marcel\\programme\\miniconda3\\envs\\iannwtf\\lib\\site-packages\\tensorflow\\python\\keras\\engine\\base_layer_utils.py:145 make_variable\n        shape=variable_shape if variable_shape else None)\n    c:\\users\\marcel\\programme\\miniconda3\\envs\\iannwtf\\lib\\site-packages\\tensorflow\\python\\ops\\variables.py:260 __call__\n        return cls._variable_v1_call(*args, **kwargs)\n    c:\\users\\marcel\\programme\\miniconda3\\envs\\iannwtf\\lib\\site-packages\\tensorflow\\python\\ops\\variables.py:221 _variable_v1_call\n        shape=shape)\n    c:\\users\\marcel\\programme\\miniconda3\\envs\\iannwtf\\lib\\site-packages\\tensorflow\\python\\ops\\variables.py:67 getter\n        return captured_getter(captured_previous, **kwargs)\n    c:\\users\\marcel\\programme\\miniconda3\\envs\\iannwtf\\lib\\site-packages\\tensorflow\\python\\eager\\def_function.py:702 invalid_creator_scope\n        \"tf.function-decorated function tried to create \"\n\n    ValueError: tf.function-decorated function tried to create variables on non-first call.\n",
     "output_type": "error",
     "traceback": [
      "\u001b[1;31m---------------------------------------------------------------------------\u001b[0m",
      "\u001b[1;31mValueError\u001b[0m                                Traceback (most recent call last)",
      "\u001b[1;32m<timed exec>\u001b[0m in \u001b[0;36m<module>\u001b[1;34m\u001b[0m\n",
      "\u001b[1;32m<ipython-input-9-5a367bd5ea31>\u001b[0m in \u001b[0;36mtest\u001b[1;34m(model, test_data, loss_function)\u001b[0m\n\u001b[0;32m     22\u001b[0m \u001b[1;33m\u001b[0m\u001b[0m\n\u001b[0;32m     23\u001b[0m     \u001b[1;32mfor\u001b[0m \u001b[1;33m(\u001b[0m\u001b[0minput\u001b[0m\u001b[1;33m,\u001b[0m \u001b[0mtarget\u001b[0m\u001b[1;33m)\u001b[0m \u001b[1;32min\u001b[0m \u001b[0mtest_data\u001b[0m\u001b[1;33m:\u001b[0m\u001b[1;33m\u001b[0m\u001b[1;33m\u001b[0m\u001b[0m\n\u001b[1;32m---> 24\u001b[1;33m         \u001b[0mloss\u001b[0m\u001b[1;33m,\u001b[0m \u001b[0maccuracy\u001b[0m \u001b[1;33m=\u001b[0m \u001b[0mperformance_calc\u001b[0m\u001b[1;33m(\u001b[0m\u001b[0mmodel\u001b[0m\u001b[1;33m,\u001b[0m \u001b[0minput\u001b[0m\u001b[1;33m,\u001b[0m \u001b[0mtarget\u001b[0m\u001b[1;33m,\u001b[0m \u001b[0mloss_function\u001b[0m\u001b[1;33m)\u001b[0m\u001b[1;33m\u001b[0m\u001b[1;33m\u001b[0m\u001b[0m\n\u001b[0m\u001b[0;32m     25\u001b[0m         \u001b[0mtest_loss_aggregator\u001b[0m\u001b[1;33m.\u001b[0m\u001b[0mappend\u001b[0m\u001b[1;33m(\u001b[0m\u001b[0mloss\u001b[0m\u001b[1;33m.\u001b[0m\u001b[0mnumpy\u001b[0m\u001b[1;33m(\u001b[0m\u001b[1;33m)\u001b[0m\u001b[1;33m)\u001b[0m\u001b[1;33m\u001b[0m\u001b[1;33m\u001b[0m\u001b[0m\n\u001b[0;32m     26\u001b[0m         \u001b[0mtest_accuracy_aggregator\u001b[0m\u001b[1;33m.\u001b[0m\u001b[0mappend\u001b[0m\u001b[1;33m(\u001b[0m\u001b[0maccuracy\u001b[0m\u001b[1;33m.\u001b[0m\u001b[0mnumpy\u001b[0m\u001b[1;33m(\u001b[0m\u001b[1;33m)\u001b[0m\u001b[1;33m)\u001b[0m\u001b[1;33m\u001b[0m\u001b[1;33m\u001b[0m\u001b[0m\n",
      "\u001b[1;32mc:\\users\\marcel\\programme\\miniconda3\\envs\\iannwtf\\lib\\site-packages\\tensorflow\\python\\eager\\def_function.py\u001b[0m in \u001b[0;36m__call__\u001b[1;34m(self, *args, **kwds)\u001b[0m\n\u001b[0;32m    778\u001b[0m       \u001b[1;32melse\u001b[0m\u001b[1;33m:\u001b[0m\u001b[1;33m\u001b[0m\u001b[1;33m\u001b[0m\u001b[0m\n\u001b[0;32m    779\u001b[0m         \u001b[0mcompiler\u001b[0m \u001b[1;33m=\u001b[0m \u001b[1;34m\"nonXla\"\u001b[0m\u001b[1;33m\u001b[0m\u001b[1;33m\u001b[0m\u001b[0m\n\u001b[1;32m--> 780\u001b[1;33m         \u001b[0mresult\u001b[0m \u001b[1;33m=\u001b[0m \u001b[0mself\u001b[0m\u001b[1;33m.\u001b[0m\u001b[0m_call\u001b[0m\u001b[1;33m(\u001b[0m\u001b[1;33m*\u001b[0m\u001b[0margs\u001b[0m\u001b[1;33m,\u001b[0m \u001b[1;33m**\u001b[0m\u001b[0mkwds\u001b[0m\u001b[1;33m)\u001b[0m\u001b[1;33m\u001b[0m\u001b[1;33m\u001b[0m\u001b[0m\n\u001b[0m\u001b[0;32m    781\u001b[0m \u001b[1;33m\u001b[0m\u001b[0m\n\u001b[0;32m    782\u001b[0m       \u001b[0mnew_tracing_count\u001b[0m \u001b[1;33m=\u001b[0m \u001b[0mself\u001b[0m\u001b[1;33m.\u001b[0m\u001b[0m_get_tracing_count\u001b[0m\u001b[1;33m(\u001b[0m\u001b[1;33m)\u001b[0m\u001b[1;33m\u001b[0m\u001b[1;33m\u001b[0m\u001b[0m\n",
      "\u001b[1;32mc:\\users\\marcel\\programme\\miniconda3\\envs\\iannwtf\\lib\\site-packages\\tensorflow\\python\\eager\\def_function.py\u001b[0m in \u001b[0;36m_call\u001b[1;34m(self, *args, **kwds)\u001b[0m\n\u001b[0;32m    805\u001b[0m       \u001b[1;31m# In this case we have created variables on the first call, so we run the\u001b[0m\u001b[1;33m\u001b[0m\u001b[1;33m\u001b[0m\u001b[1;33m\u001b[0m\u001b[0m\n\u001b[0;32m    806\u001b[0m       \u001b[1;31m# defunned version which is guaranteed to never create variables.\u001b[0m\u001b[1;33m\u001b[0m\u001b[1;33m\u001b[0m\u001b[1;33m\u001b[0m\u001b[0m\n\u001b[1;32m--> 807\u001b[1;33m       \u001b[1;32mreturn\u001b[0m \u001b[0mself\u001b[0m\u001b[1;33m.\u001b[0m\u001b[0m_stateless_fn\u001b[0m\u001b[1;33m(\u001b[0m\u001b[1;33m*\u001b[0m\u001b[0margs\u001b[0m\u001b[1;33m,\u001b[0m \u001b[1;33m**\u001b[0m\u001b[0mkwds\u001b[0m\u001b[1;33m)\u001b[0m  \u001b[1;31m# pylint: disable=not-callable\u001b[0m\u001b[1;33m\u001b[0m\u001b[1;33m\u001b[0m\u001b[0m\n\u001b[0m\u001b[0;32m    808\u001b[0m     \u001b[1;32melif\u001b[0m \u001b[0mself\u001b[0m\u001b[1;33m.\u001b[0m\u001b[0m_stateful_fn\u001b[0m \u001b[1;32mis\u001b[0m \u001b[1;32mnot\u001b[0m \u001b[1;32mNone\u001b[0m\u001b[1;33m:\u001b[0m\u001b[1;33m\u001b[0m\u001b[1;33m\u001b[0m\u001b[0m\n\u001b[0;32m    809\u001b[0m       \u001b[1;31m# Release the lock early so that multiple threads can perform the call\u001b[0m\u001b[1;33m\u001b[0m\u001b[1;33m\u001b[0m\u001b[1;33m\u001b[0m\u001b[0m\n",
      "\u001b[1;32mc:\\users\\marcel\\programme\\miniconda3\\envs\\iannwtf\\lib\\site-packages\\tensorflow\\python\\eager\\function.py\u001b[0m in \u001b[0;36m__call__\u001b[1;34m(self, *args, **kwargs)\u001b[0m\n\u001b[0;32m   2826\u001b[0m     \u001b[1;34m\"\"\"Calls a graph function specialized to the inputs.\"\"\"\u001b[0m\u001b[1;33m\u001b[0m\u001b[1;33m\u001b[0m\u001b[0m\n\u001b[0;32m   2827\u001b[0m     \u001b[1;32mwith\u001b[0m \u001b[0mself\u001b[0m\u001b[1;33m.\u001b[0m\u001b[0m_lock\u001b[0m\u001b[1;33m:\u001b[0m\u001b[1;33m\u001b[0m\u001b[1;33m\u001b[0m\u001b[0m\n\u001b[1;32m-> 2828\u001b[1;33m       \u001b[0mgraph_function\u001b[0m\u001b[1;33m,\u001b[0m \u001b[0margs\u001b[0m\u001b[1;33m,\u001b[0m \u001b[0mkwargs\u001b[0m \u001b[1;33m=\u001b[0m \u001b[0mself\u001b[0m\u001b[1;33m.\u001b[0m\u001b[0m_maybe_define_function\u001b[0m\u001b[1;33m(\u001b[0m\u001b[0margs\u001b[0m\u001b[1;33m,\u001b[0m \u001b[0mkwargs\u001b[0m\u001b[1;33m)\u001b[0m\u001b[1;33m\u001b[0m\u001b[1;33m\u001b[0m\u001b[0m\n\u001b[0m\u001b[0;32m   2829\u001b[0m     \u001b[1;32mreturn\u001b[0m \u001b[0mgraph_function\u001b[0m\u001b[1;33m.\u001b[0m\u001b[0m_filtered_call\u001b[0m\u001b[1;33m(\u001b[0m\u001b[0margs\u001b[0m\u001b[1;33m,\u001b[0m \u001b[0mkwargs\u001b[0m\u001b[1;33m)\u001b[0m  \u001b[1;31m# pylint: disable=protected-access\u001b[0m\u001b[1;33m\u001b[0m\u001b[1;33m\u001b[0m\u001b[0m\n\u001b[0;32m   2830\u001b[0m \u001b[1;33m\u001b[0m\u001b[0m\n",
      "\u001b[1;32mc:\\users\\marcel\\programme\\miniconda3\\envs\\iannwtf\\lib\\site-packages\\tensorflow\\python\\eager\\function.py\u001b[0m in \u001b[0;36m_maybe_define_function\u001b[1;34m(self, args, kwargs)\u001b[0m\n\u001b[0;32m   3211\u001b[0m \u001b[1;33m\u001b[0m\u001b[0m\n\u001b[0;32m   3212\u001b[0m       \u001b[0mself\u001b[0m\u001b[1;33m.\u001b[0m\u001b[0m_function_cache\u001b[0m\u001b[1;33m.\u001b[0m\u001b[0mmissed\u001b[0m\u001b[1;33m.\u001b[0m\u001b[0madd\u001b[0m\u001b[1;33m(\u001b[0m\u001b[0mcall_context_key\u001b[0m\u001b[1;33m)\u001b[0m\u001b[1;33m\u001b[0m\u001b[1;33m\u001b[0m\u001b[0m\n\u001b[1;32m-> 3213\u001b[1;33m       \u001b[0mgraph_function\u001b[0m \u001b[1;33m=\u001b[0m \u001b[0mself\u001b[0m\u001b[1;33m.\u001b[0m\u001b[0m_create_graph_function\u001b[0m\u001b[1;33m(\u001b[0m\u001b[0margs\u001b[0m\u001b[1;33m,\u001b[0m \u001b[0mkwargs\u001b[0m\u001b[1;33m)\u001b[0m\u001b[1;33m\u001b[0m\u001b[1;33m\u001b[0m\u001b[0m\n\u001b[0m\u001b[0;32m   3214\u001b[0m       \u001b[0mself\u001b[0m\u001b[1;33m.\u001b[0m\u001b[0m_function_cache\u001b[0m\u001b[1;33m.\u001b[0m\u001b[0mprimary\u001b[0m\u001b[1;33m[\u001b[0m\u001b[0mcache_key\u001b[0m\u001b[1;33m]\u001b[0m \u001b[1;33m=\u001b[0m \u001b[0mgraph_function\u001b[0m\u001b[1;33m\u001b[0m\u001b[1;33m\u001b[0m\u001b[0m\n\u001b[0;32m   3215\u001b[0m       \u001b[1;32mreturn\u001b[0m \u001b[0mgraph_function\u001b[0m\u001b[1;33m,\u001b[0m \u001b[0margs\u001b[0m\u001b[1;33m,\u001b[0m \u001b[0mkwargs\u001b[0m\u001b[1;33m\u001b[0m\u001b[1;33m\u001b[0m\u001b[0m\n",
      "\u001b[1;32mc:\\users\\marcel\\programme\\miniconda3\\envs\\iannwtf\\lib\\site-packages\\tensorflow\\python\\eager\\function.py\u001b[0m in \u001b[0;36m_create_graph_function\u001b[1;34m(self, args, kwargs, override_flat_arg_shapes)\u001b[0m\n\u001b[0;32m   3073\u001b[0m             \u001b[0marg_names\u001b[0m\u001b[1;33m=\u001b[0m\u001b[0marg_names\u001b[0m\u001b[1;33m,\u001b[0m\u001b[1;33m\u001b[0m\u001b[1;33m\u001b[0m\u001b[0m\n\u001b[0;32m   3074\u001b[0m             \u001b[0moverride_flat_arg_shapes\u001b[0m\u001b[1;33m=\u001b[0m\u001b[0moverride_flat_arg_shapes\u001b[0m\u001b[1;33m,\u001b[0m\u001b[1;33m\u001b[0m\u001b[1;33m\u001b[0m\u001b[0m\n\u001b[1;32m-> 3075\u001b[1;33m             capture_by_value=self._capture_by_value),\n\u001b[0m\u001b[0;32m   3076\u001b[0m         \u001b[0mself\u001b[0m\u001b[1;33m.\u001b[0m\u001b[0m_function_attributes\u001b[0m\u001b[1;33m,\u001b[0m\u001b[1;33m\u001b[0m\u001b[1;33m\u001b[0m\u001b[0m\n\u001b[0;32m   3077\u001b[0m         \u001b[0mfunction_spec\u001b[0m\u001b[1;33m=\u001b[0m\u001b[0mself\u001b[0m\u001b[1;33m.\u001b[0m\u001b[0mfunction_spec\u001b[0m\u001b[1;33m,\u001b[0m\u001b[1;33m\u001b[0m\u001b[1;33m\u001b[0m\u001b[0m\n",
      "\u001b[1;32mc:\\users\\marcel\\programme\\miniconda3\\envs\\iannwtf\\lib\\site-packages\\tensorflow\\python\\framework\\func_graph.py\u001b[0m in \u001b[0;36mfunc_graph_from_py_func\u001b[1;34m(name, python_func, args, kwargs, signature, func_graph, autograph, autograph_options, add_control_dependencies, arg_names, op_return_value, collections, capture_by_value, override_flat_arg_shapes)\u001b[0m\n\u001b[0;32m    984\u001b[0m         \u001b[0m_\u001b[0m\u001b[1;33m,\u001b[0m \u001b[0moriginal_func\u001b[0m \u001b[1;33m=\u001b[0m \u001b[0mtf_decorator\u001b[0m\u001b[1;33m.\u001b[0m\u001b[0munwrap\u001b[0m\u001b[1;33m(\u001b[0m\u001b[0mpython_func\u001b[0m\u001b[1;33m)\u001b[0m\u001b[1;33m\u001b[0m\u001b[1;33m\u001b[0m\u001b[0m\n\u001b[0;32m    985\u001b[0m \u001b[1;33m\u001b[0m\u001b[0m\n\u001b[1;32m--> 986\u001b[1;33m       \u001b[0mfunc_outputs\u001b[0m \u001b[1;33m=\u001b[0m \u001b[0mpython_func\u001b[0m\u001b[1;33m(\u001b[0m\u001b[1;33m*\u001b[0m\u001b[0mfunc_args\u001b[0m\u001b[1;33m,\u001b[0m \u001b[1;33m**\u001b[0m\u001b[0mfunc_kwargs\u001b[0m\u001b[1;33m)\u001b[0m\u001b[1;33m\u001b[0m\u001b[1;33m\u001b[0m\u001b[0m\n\u001b[0m\u001b[0;32m    987\u001b[0m \u001b[1;33m\u001b[0m\u001b[0m\n\u001b[0;32m    988\u001b[0m       \u001b[1;31m# invariant: `func_outputs` contains only Tensors, CompositeTensors,\u001b[0m\u001b[1;33m\u001b[0m\u001b[1;33m\u001b[0m\u001b[1;33m\u001b[0m\u001b[0m\n",
      "\u001b[1;32mc:\\users\\marcel\\programme\\miniconda3\\envs\\iannwtf\\lib\\site-packages\\tensorflow\\python\\eager\\def_function.py\u001b[0m in \u001b[0;36mwrapped_fn\u001b[1;34m(*args, **kwds)\u001b[0m\n\u001b[0;32m    598\u001b[0m         \u001b[1;31m# __wrapped__ allows AutoGraph to swap in a converted function. We give\u001b[0m\u001b[1;33m\u001b[0m\u001b[1;33m\u001b[0m\u001b[1;33m\u001b[0m\u001b[0m\n\u001b[0;32m    599\u001b[0m         \u001b[1;31m# the function a weak reference to itself to avoid a reference cycle.\u001b[0m\u001b[1;33m\u001b[0m\u001b[1;33m\u001b[0m\u001b[1;33m\u001b[0m\u001b[0m\n\u001b[1;32m--> 600\u001b[1;33m         \u001b[1;32mreturn\u001b[0m \u001b[0mweak_wrapped_fn\u001b[0m\u001b[1;33m(\u001b[0m\u001b[1;33m)\u001b[0m\u001b[1;33m.\u001b[0m\u001b[0m__wrapped__\u001b[0m\u001b[1;33m(\u001b[0m\u001b[1;33m*\u001b[0m\u001b[0margs\u001b[0m\u001b[1;33m,\u001b[0m \u001b[1;33m**\u001b[0m\u001b[0mkwds\u001b[0m\u001b[1;33m)\u001b[0m\u001b[1;33m\u001b[0m\u001b[1;33m\u001b[0m\u001b[0m\n\u001b[0m\u001b[0;32m    601\u001b[0m     \u001b[0mweak_wrapped_fn\u001b[0m \u001b[1;33m=\u001b[0m \u001b[0mweakref\u001b[0m\u001b[1;33m.\u001b[0m\u001b[0mref\u001b[0m\u001b[1;33m(\u001b[0m\u001b[0mwrapped_fn\u001b[0m\u001b[1;33m)\u001b[0m\u001b[1;33m\u001b[0m\u001b[1;33m\u001b[0m\u001b[0m\n\u001b[0;32m    602\u001b[0m \u001b[1;33m\u001b[0m\u001b[0m\n",
      "\u001b[1;32mc:\\users\\marcel\\programme\\miniconda3\\envs\\iannwtf\\lib\\site-packages\\tensorflow\\python\\framework\\func_graph.py\u001b[0m in \u001b[0;36mwrapper\u001b[1;34m(*args, **kwargs)\u001b[0m\n\u001b[0;32m    971\u001b[0m           \u001b[1;32mexcept\u001b[0m \u001b[0mException\u001b[0m \u001b[1;32mas\u001b[0m \u001b[0me\u001b[0m\u001b[1;33m:\u001b[0m  \u001b[1;31m# pylint:disable=broad-except\u001b[0m\u001b[1;33m\u001b[0m\u001b[1;33m\u001b[0m\u001b[0m\n\u001b[0;32m    972\u001b[0m             \u001b[1;32mif\u001b[0m \u001b[0mhasattr\u001b[0m\u001b[1;33m(\u001b[0m\u001b[0me\u001b[0m\u001b[1;33m,\u001b[0m \u001b[1;34m\"ag_error_metadata\"\u001b[0m\u001b[1;33m)\u001b[0m\u001b[1;33m:\u001b[0m\u001b[1;33m\u001b[0m\u001b[1;33m\u001b[0m\u001b[0m\n\u001b[1;32m--> 973\u001b[1;33m               \u001b[1;32mraise\u001b[0m \u001b[0me\u001b[0m\u001b[1;33m.\u001b[0m\u001b[0mag_error_metadata\u001b[0m\u001b[1;33m.\u001b[0m\u001b[0mto_exception\u001b[0m\u001b[1;33m(\u001b[0m\u001b[0me\u001b[0m\u001b[1;33m)\u001b[0m\u001b[1;33m\u001b[0m\u001b[1;33m\u001b[0m\u001b[0m\n\u001b[0m\u001b[0;32m    974\u001b[0m             \u001b[1;32melse\u001b[0m\u001b[1;33m:\u001b[0m\u001b[1;33m\u001b[0m\u001b[1;33m\u001b[0m\u001b[0m\n\u001b[0;32m    975\u001b[0m               \u001b[1;32mraise\u001b[0m\u001b[1;33m\u001b[0m\u001b[1;33m\u001b[0m\u001b[0m\n",
      "\u001b[1;31mValueError\u001b[0m: in user code:\n\n    <ipython-input-9-5a367bd5ea31>:13 performance_calc  *\n        prediction = model(input, training=False)\n    <ipython-input-8-cd7f594094d6>:92 call  *\n        x = self.conv_1(x)\n    c:\\users\\marcel\\programme\\miniconda3\\envs\\iannwtf\\lib\\site-packages\\tensorflow\\python\\keras\\engine\\base_layer.py:982 __call__  **\n        self._maybe_build(inputs)\n    c:\\users\\marcel\\programme\\miniconda3\\envs\\iannwtf\\lib\\site-packages\\tensorflow\\python\\keras\\engine\\base_layer.py:2643 _maybe_build\n        self.build(input_shapes)  # pylint:disable=not-callable\n    c:\\users\\marcel\\programme\\miniconda3\\envs\\iannwtf\\lib\\site-packages\\tensorflow\\python\\keras\\layers\\convolutional.py:204 build\n        dtype=self.dtype)\n    c:\\users\\marcel\\programme\\miniconda3\\envs\\iannwtf\\lib\\site-packages\\tensorflow\\python\\keras\\engine\\base_layer.py:614 add_weight\n        caching_device=caching_device)\n    c:\\users\\marcel\\programme\\miniconda3\\envs\\iannwtf\\lib\\site-packages\\tensorflow\\python\\training\\tracking\\base.py:750 _add_variable_with_custom_getter\n        **kwargs_for_getter)\n    c:\\users\\marcel\\programme\\miniconda3\\envs\\iannwtf\\lib\\site-packages\\tensorflow\\python\\keras\\engine\\base_layer_utils.py:145 make_variable\n        shape=variable_shape if variable_shape else None)\n    c:\\users\\marcel\\programme\\miniconda3\\envs\\iannwtf\\lib\\site-packages\\tensorflow\\python\\ops\\variables.py:260 __call__\n        return cls._variable_v1_call(*args, **kwargs)\n    c:\\users\\marcel\\programme\\miniconda3\\envs\\iannwtf\\lib\\site-packages\\tensorflow\\python\\ops\\variables.py:221 _variable_v1_call\n        shape=shape)\n    c:\\users\\marcel\\programme\\miniconda3\\envs\\iannwtf\\lib\\site-packages\\tensorflow\\python\\ops\\variables.py:67 getter\n        return captured_getter(captured_previous, **kwargs)\n    c:\\users\\marcel\\programme\\miniconda3\\envs\\iannwtf\\lib\\site-packages\\tensorflow\\python\\eager\\def_function.py:702 invalid_creator_scope\n        \"tf.function-decorated function tried to create \"\n\n    ValueError: tf.function-decorated function tried to create variables on non-first call.\n"
     ]
    }
   ],
   "source": [
    "%%time\n",
    "%matplotlib inline\n",
    "\n",
    "from IPython.display import clear_output\n",
    "\n",
    "# Set number of epochs\n",
    "num_epochs = 30\n",
    "\n",
    "# Initialize lists for later visualization.\n",
    "train_losses = []\n",
    "train_accuracies = []\n",
    "\n",
    "test_losses = []\n",
    "test_accuracies = []\n",
    "\n",
    "# Testing model performance on train and test data before learning\n",
    "train_loss, train_accuracy = test(model, train_dataset, loss_function)\n",
    "train_losses.append(train_loss)\n",
    "train_accuracies.append(train_accuracy)\n",
    "\n",
    "test_loss, test_accuracy = test(model, test_dataset, loss_function)\n",
    "test_losses.append(test_loss)\n",
    "test_accuracies.append(test_accuracy)\n",
    "\n",
    "# Display loss and accuracy before training\n",
    "print('Starting loss and accuracy:')\n",
    "print('Train loss: ',train_loss)\n",
    "print('Test loss: ',test_loss)\n",
    "print('Train accuracy: ',train_accuracy)\n",
    "print('Test accuracy: ',test_accuracy)\n",
    "\n",
    "# Train loop for num_epochs epochs.\n",
    "for epoch in range(num_epochs):\n",
    "    train_dataset = train_dataset.shuffle(buffer_size=64)\n",
    "    test_dataset = test_dataset.shuffle(buffer_size=64)\n",
    "\n",
    "    # Training\n",
    "    running_average_loss = 0\n",
    "    running_average_accuracy = 0\n",
    "    for (input,target) in train_dataset:\n",
    "        train_loss, train_accuracy = train_step(model, input, target, loss_function, optimizer)\n",
    "        running_average_loss = running_average_factor * running_average_loss  + (1 - running_average_factor) * train_loss\n",
    "        running_average_accuracy = running_average_factor * running_average_accuracy  + (1 - running_average_factor) * train_accuracy\n",
    "        \n",
    "    train_losses.append(running_average_loss.numpy())\n",
    "    train_accuracies.append(running_average_accuracy.numpy())\n",
    "\n",
    "    # Testing\n",
    "    test_loss, test_accuracy = test(model, test_dataset, loss_function)\n",
    "    test_losses.append(test_loss)\n",
    "    test_accuracies.append(test_accuracy)\n",
    "\n",
    "    #Dynamically plot current accuracy and loss\n",
    "    clear_output(wait=True) \n",
    "    fontsize=24\n",
    "    fig, ax = plt.subplots(2,1,sharex=True,figsize=(15,10))\n",
    "    ax[0].set_xlim((0,num_epochs))\n",
    "    ax[0].plot(train_losses,label=\"Training\")\n",
    "    ax[0].plot(test_losses,label=\"Test\")\n",
    "\n",
    "    ax[1].set_ylim((0,1))\n",
    "    ax[1].plot(train_accuracies,label=\"Training\")\n",
    "    ax[1].plot(test_accuracies,label=\"Test\")\n",
    "\n",
    "    ax[0].set_ylabel(\"Loss\",fontsize=fontsize)\n",
    "    ax[1].set_ylabel(\"Accuracy\",fontsize=fontsize)\n",
    "    ax[1].set_xlabel(\"Epochs\",fontsize=fontsize)\n",
    "    ax[1].axhline(0.85,xmax=num_epochs,c='g',ls='--')\n",
    "    ax[0].legend()\n",
    "    ax[1].legend()\n",
    "    plt.show()\n",
    "\n",
    "    # Display loss and accuracy for current epoch    \n",
    "    print('Epoch: __ ' + str(epoch))\n",
    "    print('Train loss: ',running_average_loss.numpy())\n",
    "    print('Test loss: ',test_loss)\n",
    "    print('Train accuracy: ',running_average_accuracy.numpy())\n",
    "    print('Test accuracy: ',test_accuracy)"
   ]
  },
  {
   "cell_type": "markdown",
   "metadata": {
    "id": "lE34rOLaSGYP"
   },
   "source": [
    "# Plotting accuracy and loss for training and test data."
   ]
  },
  {
   "cell_type": "code",
   "execution_count": null,
   "metadata": {
    "colab": {
     "base_uri": "https://localhost:8080/",
     "height": 620
    },
    "id": "B6LtskWaG48i",
    "outputId": "4c1fa9bf-730d-4413-d3c1-f723a06e0f1e",
    "scrolled": false
   },
   "outputs": [
    {
     "data": {
      "image/png": "[encoded data removed]",
      "text/plain": [
       "<Figure size 1080x720 with 2 Axes>"
      ]
     },
     "metadata": {
      "needs_background": "light",
      "tags": []
     },
     "output_type": "display_data"
    }
   ],
   "source": [
    "fig, ax = plt.subplots(2,1,sharex=True,figsize=(15,10))\n",
    "ax[0].plot(train_losses,label=\"Training\")\n",
    "ax[0].plot(test_losses,label=\"Test\")\n",
    "\n",
    "ax[1].plot(train_accuracies,label=\"Training\")\n",
    "ax[1].plot(test_accuracies,label=\"Test\")\n",
    "\n",
    "fontsize=24\n",
    "ax[0].set_ylabel(\"Loss\",fontsize=fontsize)\n",
    "ax[1].set_ylabel(\"Accuracy\",fontsize=fontsize)\n",
    "ax[1].set_xlabel(\"Epochs\",fontsize=fontsize)\n",
    "ax[1].axhline(0.85,xmax=num_epochs,c='g',ls='--')\n",
    "ax[0].legend()\n",
    "ax[1].legend()\n",
    "plt.show()"
   ]
  }
 ],
 "metadata": {
  "accelerator": "GPU",
  "colab": {
   "collapsed_sections": [],
   "name": "homework05.ipynb",
   "provenance": []
  },
  "kernelspec": {
   "display_name": "Python 3",
   "language": "python",
   "name": "python3"
  },
  "language_info": {
   "codemirror_mode": {
    "name": "ipython",
    "version": 3
   },
   "file_extension": ".py",
   "mimetype": "text/x-python",
   "name": "python",
   "nbconvert_exporter": "python",
   "pygments_lexer": "ipython3",
   "version": "3.7.9"
  }
 },
 "nbformat": 4,
 "nbformat_minor": 1
}
