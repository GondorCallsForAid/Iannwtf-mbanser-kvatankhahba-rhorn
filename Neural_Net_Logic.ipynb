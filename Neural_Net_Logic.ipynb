{
 "cells": [
  {
   "cell_type": "markdown",
   "metadata": {},
   "source": [
    "### Import libraries"
   ]
  },
  {
   "cell_type": "code",
   "execution_count": 60,
   "metadata": {},
   "outputs": [],
   "source": [
    "# import necessary libraries\n",
    "import numpy as np\n",
    "import matplotlib.pyplot as plt"
   ]
  },
  {
   "cell_type": "markdown",
   "metadata": {},
   "source": [
    "### Settings of NN"
   ]
  },
  {
   "cell_type": "code",
   "execution_count": 91,
   "metadata": {},
   "outputs": [],
   "source": [
    "# Set learning rate\n",
    "learning_rate = 1\n",
    "\n",
    "# Set bounds for the initialization of the random weights\n",
    "weight_min = 0\n",
    "weight_max = 1\n",
    "\n",
    "# Set bounds for the initialization of the random bias\n",
    "bias_min = 0\n",
    "bias_max = 1\n",
    "\n",
    "# Define the activation function\n",
    "def sigmoid(drive):\n",
    "    return 1/(1+np.exp(-drive))\n",
    "\n",
    "# Define the derivative of the activation function\n",
    "def sigmoidprime(drive):\n",
    "    return np.exp(drive)/((np.exp(drive)+1)**2)\n"
   ]
  },
  {
   "cell_type": "markdown",
   "metadata": {},
   "source": [
    "### Training data - Initialize input and expected output (labels)"
   ]
  },
  {
   "cell_type": "code",
   "execution_count": 63,
   "metadata": {},
   "outputs": [],
   "source": [
    "# Because we are trying to learn our network as a logic gate \n",
    "# we can denote every possible input pair as follows\n",
    "input_pairs = np.array([[0,0],[0,1],[1,0],[1,1]])\n",
    "\n",
    "# Depending on which logic gate we are considering, \n",
    "# there will be different outputs or labels/targets for each input pair.\n",
    "t_and = np.array([0,0,0,1])\n",
    "t_or = np.array([0,1,1,1])\n",
    "t_nand = np.array([1,1,1,0])\n",
    "t_nor = np.array([1,0,0,0])\n",
    "t_xor = np.array([0,1,1,0])"
   ]
  },
  {
   "cell_type": "markdown",
   "metadata": {},
   "source": [
    "### Perceptron"
   ]
  },
  {
   "cell_type": "code",
   "execution_count": 85,
   "metadata": {},
   "outputs": [],
   "source": [
    "class Perceptron:\n",
    "    \n",
    "    def __init__(self, input_units = None, activation = 0):\n",
    "        # Initialize the input units so what feeds into the perceptron\n",
    "        # this could be either an input pair if our perceptron is in the first hidden layer\n",
    "        # or it could be other perceptrons if our perceptron is in any other layer\n",
    "        self.input_units = input_units\n",
    "        \n",
    "        # Initialize random weights between weight_min and weight_max (uniformly)\n",
    "        # one weight for each input unit\n",
    "        try:\n",
    "            # We try to initialize weights for the inputs, if there are no inputs\n",
    "            # that means we are in the input layer and dont need any weights\n",
    "            #self.weights = np.random.uniform(weight_min, weight_max, len(input_units))\n",
    "            self.weights = np.random.randn(len(input_units))\n",
    "        except TypeError:\n",
    "            # no inputs means input_units = None\n",
    "            # len(None) throws a TypeError which we except here\n",
    "            # and just \"initialize\" the weights with an empty list\n",
    "            self.weights = []\n",
    "        \n",
    "        # Initalize random bias between bias_min and bias_max (uniformly)\n",
    "        # self.bias = np.random.uniform(bias_min, bias_max)\n",
    "        self.bias = np.random.randn()\n",
    "        \n",
    "        # Initialize learning rate\n",
    "        self.alpha = learning_rate\n",
    "        \n",
    "        # Initialize the activation\n",
    "        self.activation = activation\n",
    "        \n",
    "        # Initialize the drive\n",
    "        self.drive = 0\n",
    "        \n",
    "        \n",
    "    def forward_step(self, input):\n",
    "        # Perform a perceptron forward step.\n",
    "        # 1. Calculate the drive. You can use @ as a matrix multiplication command.\n",
    "        weighted_sum =  self.weights @ input + self.bias\n",
    "        \n",
    "        # 2. Denote the drive of the perceptron\n",
    "        weighted_sum =  self.weights @ input + self.bias\n",
    "        self.drive = weighted_sum\n",
    "        \n",
    "        # 3. Denote the activation of the perceptron\n",
    "        self.activation = sigmoid(weighted_sum)\n",
    "        \n",
    "        # 4. Return the activation\n",
    "        return self.activation\n",
    "    \n",
    "    \n",
    "    def update(self, delta):\n",
    "        # delta is the error vector of the next layer\n",
    "        # delta * activation gives us the weight update\n",
    "        # the activation can be taken from the perceptrons of the previous layer\n",
    "        # if we reached the 2nd layer in the backpropagation then the previous layer\n",
    "        # will be the input layer\n",
    "        weight_update = delta * np.array([input_unit.activation for input_unit in self.input_units])\n",
    "        \n",
    "        # we update our weights according to our learning rate\n",
    "        self.weights -= self.alpha * weight_update\n",
    "        \n",
    "        # we also update the bias\n",
    "        bias_update = delta * 1\n",
    "        self.bias -= self.alpha * bias_update\n",
    "        \n",
    "    def set_input(self, input):\n",
    "        self.activation = input\n",
    "        \n",
    "        \n",
    "        "
   ]
  },
  {
   "cell_type": "markdown",
   "metadata": {},
   "source": [
    "### Multi-Layer Perceptron"
   ]
  },
  {
   "cell_type": "code",
   "execution_count": 86,
   "metadata": {},
   "outputs": [],
   "source": [
    "class MLP:\n",
    "    \n",
    "    def __init__(self, shape = [1,1,1]):\n",
    "        self.shape = shape\n",
    "        # The shape determines the number of input, hidden and output neurons\n",
    "        # [Perceptrons() for i in range(shape[0])] allows us to initialize as many Perceptrons \n",
    "        # as we indicated in the shape\n",
    "        \n",
    "        # We model input layer units as perceptrons with no input units \n",
    "        # but only an activation, which denotes their value, so the input of the MLP\n",
    "        self.input_layer = [Perceptron() for i in range(shape[0])]\n",
    "        \n",
    "        # The input units of the hidden layer are the units of the input layer\n",
    "        self.hidden_layer = [Perceptron(input_units = self.input_layer) for h in range(shape[1])]\n",
    "        \n",
    "        # The input units of the output layer are the units of the hidden layer\n",
    "        self.output_layer = [Perceptron(input_units = self.hidden_layer) for o in range(shape[2])]\n",
    "       \n",
    "    \n",
    "    def forward_step(self, input):\n",
    "        # Input is one of our input pairs [[0,0],[0,1],[1,0],[1,1]]\n",
    "        # This input has to be propergated forward through the MLP\n",
    "        \n",
    "        # Initialize the values of the input layer (activation) with the according input\n",
    "        for input_unit, input_value in zip(self.input_layer, input):\n",
    "            input_unit.set_input(input_value)\n",
    "            \n",
    "        # Calculate the activations of the hidden layer based on the input\n",
    "        # the input is converted into a numpy array to get acces to the dot product function\n",
    "        for hidden_unit in self.hidden_layer:\n",
    "            hidden_unit.forward_step(np.array(input))\n",
    "            \n",
    "        # access the activation for each unit of the hidden layer\n",
    "        hidden_layer_activations = [hidden_unit.activation for hidden_unit in self.hidden_layer]    \n",
    "        \n",
    "        # Calculate the activations of the output layer based on the hidden layer\n",
    "        for output_unit in self.output_layer:\n",
    "            # pass the activations to the output unit\n",
    "            output_unit.forward_step(hidden_layer_activations)\n",
    "        \n",
    "        \n",
    "    def backprop_step(self, label):\n",
    "        # Calculate the error term for each unit of the ouput layer\n",
    "        # in our case that would just be one\n",
    "        delta_o = []\n",
    "        for output_unit in self.output_layer:\n",
    "            delta_o.append(-(label - output_unit.activation) * sigmoidprime(output_unit.drive))\n",
    "            \n",
    "        # Now we can update the weights and bias of our ouput units\n",
    "        for output_unit, delta in zip(self.output_layer, delta_o):\n",
    "            output_unit.update(delta)\n",
    "            \n",
    "        # Next up we calculate the error terms of the hidden layer\n",
    "        delta_h = []\n",
    "        for index, hidden_unit in enumerate(self.hidden_layer):\n",
    "            delta_h.append((delta_o[0] * self.output_layer[0].weights[index]) * sigmoidprime(hidden_unit.drive))\n",
    "            \n",
    "        # And again we update the weights and bias according to the error terms\n",
    "        for hidden_unit, delta in zip(self.hidden_layer, delta_h):\n",
    "            hidden_unit.update(delta)\n",
    "                \n",
    "        \n",
    "            \n",
    "        "
   ]
  },
  {
   "cell_type": "markdown",
   "metadata": {},
   "source": [
    "### Training a MLP on AND gate"
   ]
  },
  {
   "cell_type": "code",
   "execution_count": 94,
   "metadata": {},
   "outputs": [],
   "source": [
    "# Create a Mulit-Layer Perceptron with\n",
    "# 1 input layer consisting of 2 input units\n",
    "# 1 hidden layer consisting of 4 hidden units\n",
    "# 1 output layer consisting of 1 output unit\n",
    "my_MLP = MLP([2,4,1])\n",
    "\n",
    "# Choose logic gate\n",
    "target = t_xor\n",
    "\n",
    "# Initialize lists to store steps and performance.\n",
    "steps = []\n",
    "accuracies = []\n",
    "\n",
    "# Now we train the MLP for 1000 epochs and track the steps and accuracy\n",
    "for i in range(4000):\n",
    "    steps.append(i)\n",
    "    \n",
    "    # 1. Draw a random sample from the input pairs and the corresponding targets.\n",
    "    index = np.random.randint(len(input_pairs))\n",
    "    sample = input_pairs[index]\n",
    "    label = target[index]\n",
    "    \n",
    "    # 2. Perform a forward step\n",
    "    my_MLP.forward_step(sample)\n",
    "    \n",
    "    # 3. Perform a backprop-step\n",
    "    my_MLP.backprop_step(label)\n",
    "    \n",
    "    # 4. Calculate the performance over all four possible inputs.\n",
    "    accuracy_sum = 0\n",
    "    for k in range(len(input_pairs)):\n",
    "        # forward the input pair through the MLP\n",
    "        my_MLP.forward_step(input_pairs[k])\n",
    "        output = my_MLP.output_layer[0].activation\n",
    "        \n",
    "        # if the MLP's prediction is closer than 0.5 to the actual target\n",
    "        # it counts as a correct classification and\n",
    "        accuracy_sum += int(abs(output - target[k]) < 0.5)\n",
    "    \n",
    "    # we divide through all the training examples\n",
    "    accuracy = accuracy_sum / 4                  \n",
    "    accuracies.append(accuracy)   \n",
    "    \n",
    "    \n",
    "    "
   ]
  },
  {
   "cell_type": "markdown",
   "metadata": {},
   "source": [
    "### Visualize training process"
   ]
  },
  {
   "cell_type": "code",
   "execution_count": 95,
   "metadata": {},
   "outputs": [
    {
     "data": {
      "image/png": "[encoded data removed]",
      "text/plain": [
       "<Figure size 432x288 with 1 Axes>"
      ]
     },
     "metadata": {
      "needs_background": "light"
     },
     "output_type": "display_data"
    }
   ],
   "source": [
    "plt.figure()\n",
    "plt.plot(steps, accuracies)\n",
    "plt.xlabel(\"Training Steps\")\n",
    "plt.ylabel(\"Accuracy\")\n",
    "plt.ylim([-0.1, 1.2])\n",
    "plt.show()"
   ]
  },
  {
   "cell_type": "code",
   "execution_count": null,
   "metadata": {},
   "outputs": [],
   "source": []
  }
 ],
 "metadata": {
  "kernelspec": {
   "display_name": "Python 3",
   "language": "python",
   "name": "python3"
  },
  "language_info": {
   "codemirror_mode": {
    "name": "ipython",
    "version": 3
   },
   "file_extension": ".py",
   "mimetype": "text/x-python",
   "name": "python",
   "nbconvert_exporter": "python",
   "pygments_lexer": "ipython3",
   "version": "3.7.5"
  }
 },
 "nbformat": 4,
 "nbformat_minor": 4
}
