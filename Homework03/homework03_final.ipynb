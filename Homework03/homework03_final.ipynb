{
  "nbformat": 4,
  "nbformat_minor": 0,
  "metadata": {
    "colab": {
      "name": "homework03.ipynb",
      "provenance": [],
      "collapsed_sections": []
    },
    "kernelspec": {
      "name": "python3",
      "display_name": "Python 3"
    },
    "accelerator": "GPU"
  },
  "cells": [
    {
      "cell_type": "code",
      "metadata": {
        "id": "bvCeupatKuau"
      },
      "source": [
        "import numpy as np\n",
        "%tensorflow_version 2.x\n",
        "import tensorflow as tf\n",
        "import tensorflow_datasets as tfds\n",
        "import matplotlib.pyplot as plt"
      ],
      "execution_count": 1,
      "outputs": []
    },
    {
      "cell_type": "code",
      "metadata": {
        "id": "1KCq8qilSRWx"
      },
      "source": [
        "def onehotify(tensor):\n",
        "    vocab = {'A':'0','C':'1','G':'2','T':'3'}\n",
        "    for key in vocab.keys():\n",
        "        tensor = tf.strings.regex_replace(tensor, key, vocab[key])\n",
        "    split = tf.strings.bytes_split(tensor)\n",
        "    labels = tf.cast(tf.strings.to_number(split), tf.uint8)\n",
        "    onehot = tf.one_hot(labels, 4)\n",
        "    onehot = tf.reshape(onehot, (-1,))\n",
        "    return onehot"
      ],
      "execution_count": 2,
      "outputs": []
    },
    {
      "cell_type": "markdown",
      "metadata": {
        "id": "9Ll0Wp2OTosQ"
      },
      "source": [
        "# Preparing the dataset"
      ]
    },
    {
      "cell_type": "code",
      "metadata": {
        "id": "12bpAFQy6Hnk"
      },
      "source": [
        "# Load the dataset as (input,label) tuples for train and test data\n",
        "train_dataset, test_dataset = tfds.load(\"genomics_ood\",as_supervised=True,split=['train','test'])\n",
        "\n",
        "# Take only a part of the whole datasets\n",
        "train_dataset = train_dataset.take(100000)\n",
        "test_dataset = test_dataset.take(1000)\n",
        "\n",
        "train_dataset = train_dataset.shuffle(256)\n",
        "\n",
        "# Mapping the data set to get one-hot vectors in parallel to improve performance\n",
        "# Cache the mapped data to avoid mapping for every epoch\n",
        "train_dataset=train_dataset.map(lambda seq,label: (onehotify(seq),tf.one_hot(label, 10)),\n",
        "                                                   num_parallel_calls=tf.data.experimental.AUTOTUNE).cache()\n",
        "\n",
        "# Create batches\n",
        "train_dataset = train_dataset.batch(256)\n",
        "# and prefetch the dataset to improve performance\n",
        "train_dataset = train_dataset.prefetch(tf.data.experimental.AUTOTUNE)\n",
        "\n",
        "# Do the same for the test data\n",
        "test_dataset = test_dataset.shuffle(256)\n",
        "\n",
        "test_dataset=test_dataset.map(lambda seq,label: (onehotify(seq),tf.one_hot(label, 10)),\n",
        "                                                 num_parallel_calls=tf.data.experimental.AUTOTUNE).cache()\n",
        "\n",
        "test_dataset = test_dataset.batch(256)\n",
        "test_dataset = test_dataset.prefetch(tf.data.experimental.AUTOTUNE)\n",
        "\n"
      ],
      "execution_count": 3,
      "outputs": []
    },
    {
      "cell_type": "markdown",
      "metadata": {
        "id": "WbGAxd2ATM-d"
      },
      "source": [
        "### Inspecting the dataset"
      ]
    },
    {
      "cell_type": "code",
      "metadata": {
        "id": "uSazNv7_knny"
      },
      "source": [
        "#for (x,y) in train_dataset:\n",
        "#    print(x.shape)\n",
        "#    print(x)\n",
        "#    break"
      ],
      "execution_count": 4,
      "outputs": []
    },
    {
      "cell_type": "markdown",
      "metadata": {
        "id": "Ac_UNFrVSvwc"
      },
      "source": [
        "# Define the model"
      ]
    },
    {
      "cell_type": "code",
      "metadata": {
        "id": "Hp8iG973V3ri"
      },
      "source": [
        "from tensorflow.keras import Model\n",
        "\n",
        "class Model(Model): \n",
        "    \n",
        "    def __init__(self):\n",
        "        super(Model, self).__init__()\n",
        "        self.hidden_layer_1 = tf.keras.layers.Dense(units=256,\n",
        "                                                    activation=tf.keras.activations.sigmoid)\n",
        "        self.hidden_layer_2 = tf.keras.layers.Dense(units=256,\n",
        "                                                    activation=tf.keras.activations.sigmoid)\n",
        "        self.output_layer = tf.keras.layers.Dense(units=10,\n",
        "                                                  activation=tf.keras.activations.softmax)\n",
        "\n",
        "    def call(self, x):\n",
        "        x = self.hidden_layer_1(x)\n",
        "        x = self.hidden_layer_2(x)\n",
        "        x = self.output_layer(x)\n",
        "        return x"
      ],
      "execution_count": 5,
      "outputs": []
    },
    {
      "cell_type": "markdown",
      "metadata": {
        "id": "bPEzh22pScXb"
      },
      "source": [
        "# Defining the training and test "
      ]
    },
    {
      "cell_type": "code",
      "metadata": {
        "id": "SVg42aU_xGpK"
      },
      "source": [
        "def train_step(model, input, target, loss_function, optimizer):\n",
        "  with tf.GradientTape() as tape:\n",
        "    prediction = model(input)\n",
        "    loss = loss_function(target, prediction)\n",
        "    accuracy = np.mean(np.argmax(target, axis=1) == np.argmax(prediction, axis=1))\n",
        "    gradients = tape.gradient(loss, model.trainable_variables)\n",
        "  optimizer.apply_gradients(zip(gradients, model.trainable_variables))\n",
        "  return loss, accuracy\n",
        "\n",
        "def test(model, test_data, loss_function):\n",
        "  # Test over complete test data\n",
        "\n",
        "  test_accuracy_aggregator = []\n",
        "  test_loss_aggregator = []\n",
        "\n",
        "  for (input, target) in test_data:\n",
        "    prediction = model(input)\n",
        "    sample_test_loss = loss_function(target, prediction)\n",
        "    sample_test_accuracy =  np.argmax(target, axis=1) == np.argmax(prediction, axis=1)\n",
        "    test_loss_aggregator.append(sample_test_loss.numpy())\n",
        "    test_accuracy_aggregator.append(np.mean(sample_test_accuracy))\n",
        "\n",
        "  test_loss = np.mean(test_loss_aggregator)\n",
        "  test_accuracy = np.mean(test_accuracy_aggregator)\n",
        "\n",
        "  return test_loss, test_accuracy"
      ],
      "execution_count": 6,
      "outputs": []
    },
    {
      "cell_type": "markdown",
      "metadata": {
        "id": "xaAAaMgISMI0"
      },
      "source": [
        "# Training the model"
      ]
    },
    {
      "cell_type": "code",
      "metadata": {
        "id": "wLUw0EhkKuba",
        "outputId": "20805293-8824-492c-ad0a-e6ed4221d183",
        "colab": {
          "base_uri": "https://localhost:8080/"
        }
      },
      "source": [
        "%%time\n",
        "tf.keras.backend.clear_session()\n",
        "\n",
        "### Hyperparameters\n",
        "num_epochs = 10\n",
        "learning_rate = 0.1\n",
        "running_average_factor = 0.95\n",
        "\n",
        "model = Model()\n",
        "\n",
        "# Initialize the loss\n",
        "cross_entropy_loss = tf.keras.losses.CategoricalCrossentropy()\n",
        "\n",
        "# Initialize the optimizer\n",
        "optimizer = tf.keras.optimizers.SGD(learning_rate)\n",
        "\n",
        "# Initialize lists for later visualization.\n",
        "train_losses = []\n",
        "train_accuracies = []\n",
        "\n",
        "test_losses = []\n",
        "test_accuracies = []\n",
        "\n",
        "# Testing model performance on train and test data before learning\n",
        "train_loss, train_accuracy = test(model, train_dataset, cross_entropy_loss)\n",
        "train_losses.append(train_loss)\n",
        "train_accuracies.append(train_accuracy)\n",
        "\n",
        "test_loss, test_accuracy = test(model, test_dataset, cross_entropy_loss)\n",
        "test_losses.append(test_loss)\n",
        "test_accuracies.append(test_accuracy)\n",
        "\n",
        "# Train loop for num_epochs epochs.\n",
        "for epoch in range(num_epochs):\n",
        "    print('Epoch: __ ' + str(epoch))\n",
        "\n",
        "    train_dataset = train_dataset.shuffle(buffer_size=128)\n",
        "    test_dataset = test_dataset.shuffle(buffer_size=128)\n",
        "\n",
        "    # Training\n",
        "    running_average_loss = 0\n",
        "    running_average_accuracy = 0\n",
        "    for (input,target) in train_dataset:\n",
        "        train_loss, train_accuracy = train_step(model, input, target, cross_entropy_loss, optimizer)\n",
        "        running_average_loss = running_average_factor * running_average_loss  + (1 - running_average_factor) * train_loss\n",
        "        running_average_accuracy = running_average_factor * running_average_accuracy  + (1 - running_average_factor) * train_accuracy\n",
        "        \n",
        "    train_losses.append(running_average_loss)\n",
        "    train_accuracies.append(running_average_accuracy)\n",
        "\n",
        "    # Testing\n",
        "    test_loss, test_accuracy = test(model, test_dataset, cross_entropy_loss)\n",
        "    test_losses.append(test_loss)\n",
        "    test_accuracies.append(test_accuracy)\n",
        "\n"
      ],
      "execution_count": 7,
      "outputs": [
        {
          "output_type": "stream",
          "text": [
            "Epoch: __ 0\n",
            "Epoch: __ 1\n",
            "Epoch: __ 2\n",
            "Epoch: __ 3\n",
            "Epoch: __ 4\n",
            "Epoch: __ 5\n",
            "Epoch: __ 6\n",
            "Epoch: __ 7\n",
            "Epoch: __ 8\n",
            "Epoch: __ 9\n",
            "CPU times: user 1min 13s, sys: 9.87 s, total: 1min 23s\n",
            "Wall time: 1min 2s\n"
          ],
          "name": "stdout"
        }
      ]
    },
    {
      "cell_type": "markdown",
      "metadata": {
        "id": "lE34rOLaSGYP"
      },
      "source": [
        "# Plotting accuracy and loss for training and test data."
      ]
    },
    {
      "cell_type": "code",
      "metadata": {
        "scrolled": false,
        "id": "_19Jebu2Kube",
        "outputId": "d2779b51-fb25-4268-a067-a6e2f4244e0a",
        "colab": {
          "base_uri": "https://localhost:8080/",
          "height": 893
        }
      },
      "source": [
        "fig, ax = plt.subplots(2,1,sharex=True,figsize=(15,15))\n",
        "ax[0].plot(train_losses,label=\"Training\")\n",
        "ax[0].plot(test_losses,label=\"Test\")\n",
        "\n",
        "ax[1].plot(train_accuracies,label=\"Training\")\n",
        "ax[1].plot(test_accuracies,label=\"Test\")\n",
        "\n",
        "fontsize=24\n",
        "ax[0].set_ylabel(\"Loss\",fontsize=fontsize)\n",
        "ax[1].set_ylabel(\"Accuracy\",fontsize=fontsize)\n",
        "ax[1].set_xlabel(\"Epochs\",fontsize=fontsize)\n",
        "ax[0].legend()\n",
        "ax[1].legend()\n",
        "plt.show()"
      ],
      "execution_count": 8,
      "outputs": [
        {
          "output_type": "display_data",
          "data": {
            "image/png": "[encoded data removed]",
            "text/plain": [
              "<Figure size 1080x1080 with 2 Axes>"
            ]
          },
          "metadata": {
            "tags": [],
            "needs_background": "light"
          }
        }
      ]
    }
  ]
}