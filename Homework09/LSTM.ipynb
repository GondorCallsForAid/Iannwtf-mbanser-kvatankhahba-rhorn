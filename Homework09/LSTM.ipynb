{
  "nbformat": 4,
  "nbformat_minor": 0,
  "metadata": {
    "accelerator": "GPU",
    "colab": {
      "name": "LSTM.ipynb",
      "provenance": [],
      "collapsed_sections": []
    },
    "kernelspec": {
      "display_name": "Python 3",
      "language": "python",
      "name": "python3"
    },
    "language_info": {
      "codemirror_mode": {
        "name": "ipython",
        "version": 3
      },
      "file_extension": ".py",
      "mimetype": "text/x-python",
      "name": "python",
      "nbconvert_exporter": "python",
      "pygments_lexer": "ipython3",
      "version": "3.7.9"
    }
  },
  "cells": [
    {
      "cell_type": "markdown",
      "metadata": {
        "id": "YueqPXMqPMCM"
      },
      "source": [
        "# LSTM"
      ]
    },
    {
      "cell_type": "markdown",
      "metadata": {
        "id": "3M0O3NkPPMCU"
      },
      "source": [
        "#### To get autocomplete working for python 3.7 in local jupyter notebooks"
      ]
    },
    {
      "cell_type": "code",
      "metadata": {
        "colab": {
          "base_uri": "https://localhost:8080/"
        },
        "id": "ViqYFrEbPMCV",
        "outputId": "803f61fc-aa4f-4e53-bdc9-2b35a13c52aa"
      },
      "source": [
        "%config Completer.use_jedi = False"
      ],
      "execution_count": 2,
      "outputs": [
        {
          "output_type": "stream",
          "text": [
            "/usr/local/lib/python3.6/dist-packages/ipykernel_launcher.py:1: UserWarning: Config option `use_jedi` not recognized by `IPCompleter`.\n",
            "  \"\"\"Entry point for launching an IPython kernel.\n"
          ],
          "name": "stderr"
        }
      ]
    },
    {
      "cell_type": "markdown",
      "metadata": {
        "id": "SrdSjGGAPMCW"
      },
      "source": [
        "#### Tell colab what version to use"
      ]
    },
    {
      "cell_type": "code",
      "metadata": {
        "id": "v2Gju4hgPMCW"
      },
      "source": [
        "%tensorflow_version 2.x"
      ],
      "execution_count": 3,
      "outputs": []
    },
    {
      "cell_type": "markdown",
      "metadata": {
        "id": "rqrTLTOD4w7Q"
      },
      "source": [
        "## Import Libraries"
      ]
    },
    {
      "cell_type": "code",
      "metadata": {
        "id": "bvCeupatKuau"
      },
      "source": [
        "import numpy as np\n",
        "import tensorflow as tf\n",
        "import matplotlib.pyplot as plt"
      ],
      "execution_count": 4,
      "outputs": []
    },
    {
      "cell_type": "markdown",
      "metadata": {
        "id": "9Ll0Wp2OTosQ"
      },
      "source": [
        "# Build generator for dataset\r\n",
        "\r\n",
        "The generator returns:\r\n",
        "A random number sequence with a variable length\r\n",
        "\r\n",
        "The context, consisting of two digits\r\n",
        "\r\n",
        "The  label, which is [1,0] if the first digits appears more often in the sequence, [0,1] if the second digit appears more often and [1,1] when both digits appear equally often\r\n",
        "\r\n",
        "And a parameter denoting the actual length of the sequence\r\n"
      ]
    },
    {
      "cell_type": "code",
      "metadata": {
        "id": "12bpAFQy6Hnk"
      },
      "source": [
        "SEQ_MAX = 20\n",
        "\n",
        "def seq_gen():\n",
        "    while True:\n",
        "        seq_len = np.random.randint(1,SEQ_MAX)\n",
        "        seq = np.random.randint(10, size=seq_len)\n",
        "        context = np.random.randint(10, size=2)\n",
        "        n1 = np.sum(seq==context[0])\n",
        "        n2 = np.sum(seq==context[1])\n",
        "        label = [float(n1>=n2),float(n2>=n1)]\n",
        "        yield seq, context, label, seq_len\n"
      ],
      "execution_count": 5,
      "outputs": []
    },
    {
      "cell_type": "markdown",
      "metadata": {
        "id": "9BewAIUjPMCY"
      },
      "source": [
        "# Generate the dataset"
      ]
    },
    {
      "cell_type": "code",
      "metadata": {
        "id": "eUN2xZfhPMCY"
      },
      "source": [
        "dataset = tf.data.Dataset.from_generator(seq_gen,\n",
        "                                         output_types=(tf.int32,tf.int32,tf.float32,tf.int32))"
      ],
      "execution_count": 6,
      "outputs": []
    },
    {
      "cell_type": "markdown",
      "metadata": {
        "id": "WbGAxd2ATM-d"
      },
      "source": [
        "# Inspect the dataset"
      ]
    },
    {
      "cell_type": "code",
      "metadata": {
        "colab": {
          "base_uri": "https://localhost:8080/"
        },
        "id": "g1LKBEdDs7qN",
        "outputId": "f6e15476-4551-40e5-d2a4-053638b8c1cc"
      },
      "source": [
        "for elem in dataset.take(1):\n",
        "    print(f'Sequence:\\n{elem[0]}')\n",
        "    print(f'Context:\\n{elem[1]}')\n",
        "    print(f'Label:\\n{elem[2]}')    \n",
        "    print(f'Length:\\n{elem[3]}')"
      ],
      "execution_count": 7,
      "outputs": [
        {
          "output_type": "stream",
          "text": [
            "Sequence:\n",
            "[3 1 9 1 5 7 1 1 8 8 5 6 4]\n",
            "Context:\n",
            "[0 3]\n",
            "Label:\n",
            "[0. 1.]\n",
            "Length:\n",
            "13\n"
          ],
          "name": "stdout"
        }
      ]
    },
    {
      "cell_type": "markdown",
      "metadata": {
        "id": "qY8YjlAd1STW"
      },
      "source": [
        "# Preprocess the data\r\n",
        "\r\n",
        "The create_input function concatinates the context with each element of the sequence to create our input vector for the LSTM.\r\n",
        "\r\n",
        "This input is also padded with zeros, so that all input vectors are of the same size."
      ]
    },
    {
      "cell_type": "code",
      "metadata": {
        "id": "opUSrRKMPMCa"
      },
      "source": [
        "def create_input(seq,context,length):\n",
        "    t=tf.constant(0)\n",
        "    x=tf.TensorArray(tf.float32, size=SEQ_MAX, dynamic_size=False)\n",
        "    while tf.less(t,length):\n",
        "        x = x.write(t,tf.concat((tf.one_hot(seq[t],10), tf.reshape(tf.one_hot(context, 10), (20,))), 0))\n",
        "        t = t+1\n",
        "    return x.stack()"
      ],
      "execution_count": 8,
      "outputs": []
    },
    {
      "cell_type": "code",
      "metadata": {
        "colab": {
          "base_uri": "https://localhost:8080/"
        },
        "id": "SHKTyxiyPMCa",
        "outputId": "9658facd-f8b5-4c1b-d959-5c2a72a9656c"
      },
      "source": [
        "for seq,con,_,l in dataset.take(1):\n",
        "    print(seq,con)\n",
        "    print(create_input(seq,con,l))"
      ],
      "execution_count": 9,
      "outputs": [
        {
          "output_type": "stream",
          "text": [
            "tf.Tensor([7 2 9 1 5 6 4 1 4 1 4 1 5 1 9], shape=(15,), dtype=int32) tf.Tensor([4 1], shape=(2,), dtype=int32)\n",
            "tf.Tensor(\n",
            "[[0. 0. 0. 0. 0. 0. 0. 1. 0. 0. 0. 0. 0. 0. 1. 0. 0. 0. 0. 0. 0. 1. 0. 0.\n",
            "  0. 0. 0. 0. 0. 0.]\n",
            " [0. 0. 1. 0. 0. 0. 0. 0. 0. 0. 0. 0. 0. 0. 1. 0. 0. 0. 0. 0. 0. 1. 0. 0.\n",
            "  0. 0. 0. 0. 0. 0.]\n",
            " [0. 0. 0. 0. 0. 0. 0. 0. 0. 1. 0. 0. 0. 0. 1. 0. 0. 0. 0. 0. 0. 1. 0. 0.\n",
            "  0. 0. 0. 0. 0. 0.]\n",
            " [0. 1. 0. 0. 0. 0. 0. 0. 0. 0. 0. 0. 0. 0. 1. 0. 0. 0. 0. 0. 0. 1. 0. 0.\n",
            "  0. 0. 0. 0. 0. 0.]\n",
            " [0. 0. 0. 0. 0. 1. 0. 0. 0. 0. 0. 0. 0. 0. 1. 0. 0. 0. 0. 0. 0. 1. 0. 0.\n",
            "  0. 0. 0. 0. 0. 0.]\n",
            " [0. 0. 0. 0. 0. 0. 1. 0. 0. 0. 0. 0. 0. 0. 1. 0. 0. 0. 0. 0. 0. 1. 0. 0.\n",
            "  0. 0. 0. 0. 0. 0.]\n",
            " [0. 0. 0. 0. 1. 0. 0. 0. 0. 0. 0. 0. 0. 0. 1. 0. 0. 0. 0. 0. 0. 1. 0. 0.\n",
            "  0. 0. 0. 0. 0. 0.]\n",
            " [0. 1. 0. 0. 0. 0. 0. 0. 0. 0. 0. 0. 0. 0. 1. 0. 0. 0. 0. 0. 0. 1. 0. 0.\n",
            "  0. 0. 0. 0. 0. 0.]\n",
            " [0. 0. 0. 0. 1. 0. 0. 0. 0. 0. 0. 0. 0. 0. 1. 0. 0. 0. 0. 0. 0. 1. 0. 0.\n",
            "  0. 0. 0. 0. 0. 0.]\n",
            " [0. 1. 0. 0. 0. 0. 0. 0. 0. 0. 0. 0. 0. 0. 1. 0. 0. 0. 0. 0. 0. 1. 0. 0.\n",
            "  0. 0. 0. 0. 0. 0.]\n",
            " [0. 0. 0. 0. 1. 0. 0. 0. 0. 0. 0. 0. 0. 0. 1. 0. 0. 0. 0. 0. 0. 1. 0. 0.\n",
            "  0. 0. 0. 0. 0. 0.]\n",
            " [0. 1. 0. 0. 0. 0. 0. 0. 0. 0. 0. 0. 0. 0. 1. 0. 0. 0. 0. 0. 0. 1. 0. 0.\n",
            "  0. 0. 0. 0. 0. 0.]\n",
            " [0. 0. 0. 0. 0. 1. 0. 0. 0. 0. 0. 0. 0. 0. 1. 0. 0. 0. 0. 0. 0. 1. 0. 0.\n",
            "  0. 0. 0. 0. 0. 0.]\n",
            " [0. 1. 0. 0. 0. 0. 0. 0. 0. 0. 0. 0. 0. 0. 1. 0. 0. 0. 0. 0. 0. 1. 0. 0.\n",
            "  0. 0. 0. 0. 0. 0.]\n",
            " [0. 0. 0. 0. 0. 0. 0. 0. 0. 1. 0. 0. 0. 0. 1. 0. 0. 0. 0. 0. 0. 1. 0. 0.\n",
            "  0. 0. 0. 0. 0. 0.]\n",
            " [0. 0. 0. 0. 0. 0. 0. 0. 0. 0. 0. 0. 0. 0. 0. 0. 0. 0. 0. 0. 0. 0. 0. 0.\n",
            "  0. 0. 0. 0. 0. 0.]\n",
            " [0. 0. 0. 0. 0. 0. 0. 0. 0. 0. 0. 0. 0. 0. 0. 0. 0. 0. 0. 0. 0. 0. 0. 0.\n",
            "  0. 0. 0. 0. 0. 0.]\n",
            " [0. 0. 0. 0. 0. 0. 0. 0. 0. 0. 0. 0. 0. 0. 0. 0. 0. 0. 0. 0. 0. 0. 0. 0.\n",
            "  0. 0. 0. 0. 0. 0.]\n",
            " [0. 0. 0. 0. 0. 0. 0. 0. 0. 0. 0. 0. 0. 0. 0. 0. 0. 0. 0. 0. 0. 0. 0. 0.\n",
            "  0. 0. 0. 0. 0. 0.]\n",
            " [0. 0. 0. 0. 0. 0. 0. 0. 0. 0. 0. 0. 0. 0. 0. 0. 0. 0. 0. 0. 0. 0. 0. 0.\n",
            "  0. 0. 0. 0. 0. 0.]], shape=(20, 30), dtype=float32)\n"
          ],
          "name": "stdout"
        }
      ]
    },
    {
      "cell_type": "code",
      "metadata": {
        "id": "yrmYcryq1Q-W"
      },
      "source": [
        "BATCH_SIZE = 64\n",
        "\n",
        "# Create Datasets and make sure minibatches all have same size\n",
        "train_dataset_unprocessed = dataset.take(1000*BATCH_SIZE)\n",
        "test_dataset_unprocessed = dataset.take(100*BATCH_SIZE)\n",
        "\n",
        "# One-hot encode the data\n",
        "train_dataset = train_dataset_unprocessed.map(lambda seq,context,lbl,l:\n",
        "                                              (create_input(seq,context,l),\n",
        "                                               lbl,\n",
        "                                               l\n",
        "                                              ),\n",
        "                                              num_parallel_calls=tf.data.experimental.AUTOTUNE)\n",
        "\n",
        "test_dataset = test_dataset_unprocessed.map(lambda seq,context,lbl,l:\n",
        "                                            (create_input(seq,context,l),\n",
        "                                             lbl,\n",
        "                                             l\n",
        "                                            ),\n",
        "                                            num_parallel_calls=tf.data.experimental.AUTOTUNE)\n",
        "\n",
        "# Cache the preprocessed datasets\n",
        "train_dataset = train_dataset.cache()\n",
        "test_dataset = test_dataset.cache()\n",
        "\n",
        "# Shuffle the data\n",
        "train_dataset = train_dataset.shuffle(BATCH_SIZE)\n",
        "test_dataset = test_dataset.shuffle(BATCH_SIZE)\n",
        "\n",
        "# Create minibatches\n",
        "train_dataset = train_dataset.batch(BATCH_SIZE)\n",
        "test_dataset = test_dataset.batch(BATCH_SIZE)\n",
        "\n",
        "# Prefetch the data\n",
        "train_dataset = train_dataset.prefetch(tf.data.experimental.AUTOTUNE)\n",
        "test_dataset = test_dataset.prefetch(tf.data.experimental.AUTOTUNE)"
      ],
      "execution_count": 10,
      "outputs": []
    },
    {
      "cell_type": "code",
      "metadata": {
        "scrolled": false,
        "colab": {
          "base_uri": "https://localhost:8080/"
        },
        "id": "qmT5pZwgPMCb",
        "outputId": "27f74e80-6191-4c36-d4e2-bf95403321d1"
      },
      "source": [
        "for seq,lbl,l in train_dataset.take(1):\n",
        "    for t in range(SEQ_MAX):\n",
        "        print(seq[:,t],lbl,l)\n",
        "        break"
      ],
      "execution_count": 11,
      "outputs": [
        {
          "output_type": "stream",
          "text": [
            "tf.Tensor(\n",
            "[[1. 0. 0. ... 0. 0. 0.]\n",
            " [0. 0. 0. ... 0. 0. 0.]\n",
            " [0. 0. 0. ... 0. 0. 0.]\n",
            " ...\n",
            " [0. 0. 0. ... 0. 1. 0.]\n",
            " [0. 0. 0. ... 0. 0. 1.]\n",
            " [0. 1. 0. ... 0. 0. 0.]], shape=(64, 30), dtype=float32) tf.Tensor(\n",
            "[[0. 1.]\n",
            " [1. 1.]\n",
            " [1. 0.]\n",
            " [1. 0.]\n",
            " [1. 0.]\n",
            " [0. 1.]\n",
            " [1. 0.]\n",
            " [1. 1.]\n",
            " [0. 1.]\n",
            " [0. 1.]\n",
            " [0. 1.]\n",
            " [1. 1.]\n",
            " [1. 0.]\n",
            " [1. 0.]\n",
            " [1. 1.]\n",
            " [1. 0.]\n",
            " [1. 1.]\n",
            " [1. 1.]\n",
            " [1. 1.]\n",
            " [1. 1.]\n",
            " [0. 1.]\n",
            " [1. 0.]\n",
            " [0. 1.]\n",
            " [1. 0.]\n",
            " [1. 1.]\n",
            " [0. 1.]\n",
            " [1. 0.]\n",
            " [0. 1.]\n",
            " [1. 0.]\n",
            " [0. 1.]\n",
            " [1. 0.]\n",
            " [1. 1.]\n",
            " [1. 1.]\n",
            " [0. 1.]\n",
            " [1. 0.]\n",
            " [1. 0.]\n",
            " [1. 1.]\n",
            " [1. 0.]\n",
            " [1. 1.]\n",
            " [1. 1.]\n",
            " [0. 1.]\n",
            " [1. 1.]\n",
            " [1. 1.]\n",
            " [1. 1.]\n",
            " [1. 0.]\n",
            " [0. 1.]\n",
            " [1. 1.]\n",
            " [1. 1.]\n",
            " [1. 1.]\n",
            " [0. 1.]\n",
            " [1. 0.]\n",
            " [1. 1.]\n",
            " [1. 0.]\n",
            " [1. 0.]\n",
            " [0. 1.]\n",
            " [1. 0.]\n",
            " [1. 0.]\n",
            " [1. 1.]\n",
            " [1. 0.]\n",
            " [1. 0.]\n",
            " [1. 1.]\n",
            " [0. 1.]\n",
            " [1. 0.]\n",
            " [1. 1.]], shape=(64, 2), dtype=float32) tf.Tensor(\n",
            "[17  6 19  2 19 13 11  4 11  7 16 16 10 11 17 13  9  3  1  9 17  7 16  8\n",
            " 15 10 14 13  5  4  4  2 16 18 18 17  1 15  8  4 17  3 10  3  2 19  2  3\n",
            "  5 14  6  4  7 19  4 10 16  2 14 15 18  5 11  4], shape=(64,), dtype=int32)\n"
          ],
          "name": "stdout"
        }
      ]
    },
    {
      "cell_type": "markdown",
      "metadata": {
        "id": "78C9GeJq5ap7"
      },
      "source": [
        "# Define LSTM cell"
      ]
    },
    {
      "cell_type": "code",
      "metadata": {
        "id": "8nuXgjbz5ap8"
      },
      "source": [
        "from tensorflow.keras import Model\n",
        "\n",
        "class LSTM_cell(Model):\n",
        "    def __init__(self, unit_size):\n",
        "        super(LSTM_cell, self).__init__()\n",
        "        self.forget_gate = tf.keras.layers.Dense(units=unit_size,\n",
        "                                                 activation='sigmoid',\n",
        "                                                 bias_initializer='ones',\n",
        "                                                 name='Forget_gate'\n",
        "                                                )\n",
        "        \n",
        "        self.input_gate = tf.keras.layers.Dense(units=unit_size,\n",
        "                                                activation='sigmoid',\n",
        "                                                name='Input_gate'\n",
        "                                               )\n",
        "        \n",
        "        self.candidates = tf.keras.layers.Dense(units=unit_size,\n",
        "                                                activation='tanh',\n",
        "                                                name='candidate_layer'\n",
        "                                                )\n",
        "        \n",
        "        self.output_gate = tf.keras.layers.Dense(units=unit_size,\n",
        "                                                 activation='sigmoid',\n",
        "                                                 name='Output_gate'\n",
        "                                                )\n",
        "    \n",
        "    def call(self, x_t, states):\n",
        "        h_t, c_t = states\n",
        "        cell_input = tf.concat((x_t,h_t),1)\n",
        "\n",
        "        # Computing the filter\n",
        "        f_t = self.forget_gate(cell_input)\n",
        "        i_t = self.input_gate(cell_input)\n",
        "        candidates = self.candidates(cell_input)\n",
        "        o_t = self.output_gate(cell_input)\n",
        "        \n",
        "        # Computing the new states\n",
        "        c_t = f_t*c_t + i_t*candidates\n",
        "        h_t = o_t*tf.nn.tanh(c_t)\n",
        "        \n",
        "        return (h_t,c_t)"
      ],
      "execution_count": 12,
      "outputs": []
    },
    {
      "cell_type": "markdown",
      "metadata": {
        "id": "JQtSdBNuPMCc"
      },
      "source": [
        "# Inspect LSTM cell"
      ]
    },
    {
      "cell_type": "code",
      "metadata": {
        "colab": {
          "base_uri": "https://localhost:8080/"
        },
        "id": "p_n95rjnnjEx",
        "scrolled": false,
        "outputId": "f5cb18c0-45bc-4607-f376-389342ab22fc"
      },
      "source": [
        "cell = LSTM_cell(50)\n",
        "c = cell(tf.ones((BATCH_SIZE,10)),\n",
        "         (tf.zeros((BATCH_SIZE,50)),tf.zeros((BATCH_SIZE,50)))\n",
        "        )\n",
        "cell.summary()"
      ],
      "execution_count": 13,
      "outputs": [
        {
          "output_type": "stream",
          "text": [
            "Model: \"lstm_cell\"\n",
            "_________________________________________________________________\n",
            "Layer (type)                 Output Shape              Param #   \n",
            "=================================================================\n",
            "Forget_gate (Dense)          multiple                  3050      \n",
            "_________________________________________________________________\n",
            "Input_gate (Dense)           multiple                  3050      \n",
            "_________________________________________________________________\n",
            "candidate_layer (Dense)      multiple                  3050      \n",
            "_________________________________________________________________\n",
            "Output_gate (Dense)          multiple                  3050      \n",
            "=================================================================\n",
            "Total params: 12,200\n",
            "Trainable params: 12,200\n",
            "Non-trainable params: 0\n",
            "_________________________________________________________________\n"
          ],
          "name": "stdout"
        }
      ]
    },
    {
      "cell_type": "markdown",
      "metadata": {
        "id": "xoCo3FewJgEy"
      },
      "source": [
        "# Define LSTM"
      ]
    },
    {
      "cell_type": "code",
      "metadata": {
        "id": "0d6lQLW55ap_"
      },
      "source": [
        "class LSTM(Model):\n",
        "    def __init__(self, unit_size):\n",
        "        super(LSTM, self).__init__()\n",
        "        self.unit_size = unit_size\n",
        "        \n",
        "        self.LSTMcell = LSTM_cell(self.unit_size)\n",
        "\n",
        "        self.readin_layer = tf.keras.layers.Dense(units=10,\n",
        "                                                  activation=None,\n",
        "                                                  name='ReadIn_layer'\n",
        "                                                 )\n",
        "        \n",
        "        # We use a sigmoid activation to treat every class independend\n",
        "        self.output_layer = tf.keras.layers.Dense(units=2,\n",
        "                                                  activation='sigmoid',\n",
        "                                                  name='Output_layer'\n",
        "                                                 )\n",
        "          \n",
        "    def call(self, seq):\n",
        "        steps = tf.constant(SEQ_MAX)\n",
        "        t = tf.constant(0)\n",
        "        # Store the outputs of each timestep in a TensorArray\n",
        "        # We later need the outputs of different timesteps for the different sequence lengths\n",
        "        outputs = tf.TensorArray(tf.float32, size=SEQ_MAX)\n",
        "        \n",
        "        x = self.readin_layer(seq)\n",
        "\n",
        "        # First timestep; reset cell states\n",
        "        h_t = tf.zeros((BATCH_SIZE,self.unit_size))\n",
        "        c_t = tf.zeros((BATCH_SIZE,self.unit_size))\n",
        "\n",
        "        h_t, c_t = self.LSTMcell(x[:,t,:],\n",
        "                                   (h_t,c_t)\n",
        "                                  )\n",
        "        output = self.output_layer(h_t)\n",
        "        outputs = outputs.write(0,output)\n",
        "        t += 1\n",
        "        \n",
        "        # Use tensorflow conditional tf.less for graph mode\n",
        "        while tf.less(t, steps):\n",
        "            h_t, c_t = self.LSTMcell(x[:,t,:],\n",
        "                                       (h_t, c_t)\n",
        "                                      )\n",
        "            output = self.output_layer(h_t)\n",
        "            outputs = outputs.write(t,output)\n",
        "            t += 1\n",
        "        \n",
        "        # Transpose the TensorArray to get shape (BATCH_SIZE, Timesteps, output_size)\n",
        "        lstm_out = tf.transpose(outputs.stack(),perm=[1,0,2])\n",
        "        return lstm_out"
      ],
      "execution_count": 14,
      "outputs": []
    },
    {
      "cell_type": "markdown",
      "metadata": {
        "id": "cigodr5BPMCd"
      },
      "source": [
        "# Inspect LSTM"
      ]
    },
    {
      "cell_type": "code",
      "metadata": {
        "colab": {
          "base_uri": "https://localhost:8080/"
        },
        "id": "b3uDseaMnjEy",
        "scrolled": false,
        "outputId": "ceb7ca92-debb-4e8e-8b10-bd318cad151c"
      },
      "source": [
        "lstm = LSTM(50)\n",
        "lstm_out = lstm(tf.ones((BATCH_SIZE,SEQ_MAX,30)))\n",
        "lstm.summary()\n",
        "lstm_out"
      ],
      "execution_count": 15,
      "outputs": [
        {
          "output_type": "stream",
          "text": [
            "Model: \"lstm\"\n",
            "_________________________________________________________________\n",
            "Layer (type)                 Output Shape              Param #   \n",
            "=================================================================\n",
            "lstm_cell_1 (LSTM_cell)      multiple                  12200     \n",
            "_________________________________________________________________\n",
            "ReadIn_layer (Dense)         multiple                  310       \n",
            "_________________________________________________________________\n",
            "Output_layer (Dense)         multiple                  102       \n",
            "=================================================================\n",
            "Total params: 12,612\n",
            "Trainable params: 12,612\n",
            "Non-trainable params: 0\n",
            "_________________________________________________________________\n"
          ],
          "name": "stdout"
        },
        {
          "output_type": "execute_result",
          "data": {
            "text/plain": [
              "<tf.Tensor: shape=(64, 20, 2), dtype=float32, numpy=\n",
              "array([[[0.5114979 , 0.5296736 ],\n",
              "        [0.51794654, 0.5449942 ],\n",
              "        [0.5190605 , 0.55525774],\n",
              "        ...,\n",
              "        [0.46828583, 0.5972117 ],\n",
              "        [0.4665308 , 0.59720504],\n",
              "        [0.46499324, 0.5972482 ]],\n",
              "\n",
              "       [[0.5114979 , 0.5296736 ],\n",
              "        [0.51794654, 0.5449942 ],\n",
              "        [0.5190605 , 0.55525774],\n",
              "        ...,\n",
              "        [0.46828583, 0.5972117 ],\n",
              "        [0.4665308 , 0.59720504],\n",
              "        [0.46499324, 0.5972482 ]],\n",
              "\n",
              "       [[0.5114979 , 0.5296736 ],\n",
              "        [0.51794654, 0.5449942 ],\n",
              "        [0.5190605 , 0.55525774],\n",
              "        ...,\n",
              "        [0.46828583, 0.5972117 ],\n",
              "        [0.4665308 , 0.59720504],\n",
              "        [0.46499324, 0.5972482 ]],\n",
              "\n",
              "       ...,\n",
              "\n",
              "       [[0.5114979 , 0.5296736 ],\n",
              "        [0.51794654, 0.5449942 ],\n",
              "        [0.5190605 , 0.55525774],\n",
              "        ...,\n",
              "        [0.46828583, 0.5972117 ],\n",
              "        [0.4665308 , 0.59720504],\n",
              "        [0.46499324, 0.5972482 ]],\n",
              "\n",
              "       [[0.5114979 , 0.5296736 ],\n",
              "        [0.51794654, 0.5449942 ],\n",
              "        [0.5190605 , 0.55525774],\n",
              "        ...,\n",
              "        [0.46828583, 0.5972117 ],\n",
              "        [0.4665308 , 0.59720504],\n",
              "        [0.46499324, 0.5972482 ]],\n",
              "\n",
              "       [[0.5114979 , 0.5296736 ],\n",
              "        [0.51794654, 0.5449942 ],\n",
              "        [0.5190605 , 0.55525774],\n",
              "        ...,\n",
              "        [0.46828583, 0.5972117 ],\n",
              "        [0.4665308 , 0.59720504],\n",
              "        [0.46499324, 0.5972482 ]]], dtype=float32)>"
            ]
          },
          "metadata": {
            "tags": []
          },
          "execution_count": 15
        }
      ]
    },
    {
      "cell_type": "markdown",
      "metadata": {
        "id": "xaAAaMgISMI0"
      },
      "source": [
        "# Define the training process"
      ]
    },
    {
      "cell_type": "markdown",
      "metadata": {
        "id": "ZSX3yFSK5aqJ"
      },
      "source": [
        "#### Function to plot the models performance"
      ]
    },
    {
      "cell_type": "code",
      "metadata": {
        "id": "3Qm4YKn_5aqJ"
      },
      "source": [
        "from IPython.display import clear_output\n",
        "\n",
        "def visualize_progress(num_epochs, epoch, train_losses, test_losses, train_accs, test_accs):\n",
        "    clear_output(wait=True)\n",
        "    fig = plt.figure(figsize=(15,10))\n",
        "    plt.subplot(2,1,1)\n",
        "    plt.xlim((0,num_epochs))\n",
        "    plt.plot(train_losses,label='Training')\n",
        "    plt.plot(test_losses,label='Test')\n",
        "    plt.ylabel('Loss',fontsize=24)\n",
        "    plt.xlabel('Epochs',fontsize=24)\n",
        "    plt.title(f'Epoch: {epoch+1}', fontweight='bold', fontsize=30)\n",
        "    plt.xticks(np.arange(0,num_epochs,2))\n",
        "    plt.legend()\n",
        "    plt.subplot(2,1,2)\n",
        "    plt.xlim((0,num_epochs))\n",
        "    plt.plot(train_accs,label='Training')\n",
        "    plt.plot(test_accs,label='Test')    \n",
        "    plt.axhline(0.95,xmax=num_epochs,c='g',ls='--')\n",
        "    plt.ylabel('Accuracy',fontsize=24)\n",
        "    plt.xlabel('Epochs',fontsize=24)\n",
        "    plt.xticks(np.arange(0,num_epochs,2))\n",
        "    plt.legend()\n",
        "    fig.tight_layout()\n",
        "    plt.show() "
      ],
      "execution_count": 16,
      "outputs": []
    },
    {
      "cell_type": "code",
      "metadata": {
        "id": "wLUw0EhkKuba"
      },
      "source": [
        "def train_model(model, train_dataset, test_dataset, loss_function, optimizer, num_epochs):\n",
        "    running_average_factor = 0.95\n",
        "\n",
        "    # Initialize lists for later visualization.\n",
        "    train_losses = []\n",
        "    train_accuracies = []\n",
        "\n",
        "    test_losses = []\n",
        "    test_accuracies = []\n",
        "\n",
        "    # Testing model performance on train and test data before learning\n",
        "    train_loss, train_accuracy = test(model, train_dataset, loss_function)\n",
        "    train_losses.append(train_loss)\n",
        "    train_accuracies.append(train_accuracy)\n",
        "\n",
        "    test_loss, test_accuracy = test(model, test_dataset, loss_function)\n",
        "    test_losses.append(test_loss)\n",
        "    test_accuracies.append(test_accuracy)\n",
        "    \n",
        "    # Train loop for num_epochs epochs.\n",
        "    for epoch in range(num_epochs):\n",
        "            \n",
        "        # Training\n",
        "        running_average_loss = 0\n",
        "        running_average_accuracy = 0\n",
        "        for seq, lbl, length in train_dataset:\n",
        "            train_loss, train_accuracy = train_step(model, seq, lbl, length, loss_function, optimizer)\n",
        "            running_average_loss = running_average_factor * running_average_loss  + (1 - running_average_factor) * train_loss\n",
        "            running_average_accuracy = running_average_factor * running_average_accuracy + (1 - running_average_factor) * train_accuracy\n",
        "\n",
        "        train_losses.append(running_average_loss.numpy())\n",
        "        train_accuracies.append(running_average_accuracy.numpy())\n",
        "\n",
        "        # Testing\n",
        "        test_loss, test_accuracy = test(model, test_dataset, loss_function)\n",
        "        test_losses.append(test_loss)\n",
        "        test_accuracies.append(test_accuracy)\n",
        "        \n",
        "        visualize_progress(num_epochs, epoch, train_losses, test_losses, train_accuracies, test_accuracies)\n",
        "            \n",
        "        # Display loss and accuracy for current epoch    \n",
        "        print('Epoch: __ ' + str(epoch))\n",
        "        print('Train loss: ',running_average_loss.numpy())\n",
        "        print('Test loss: ',test_loss)\n",
        "        print('Train accuracy: ',running_average_accuracy.numpy())\n",
        "        print('Test accuracy: ',test_accuracy)\n",
        "        \n",
        "    model_performance = {\n",
        "        \"train_loss\": train_losses,\n",
        "        \"test_loss\": test_losses,\n",
        "        \"train_accuracy\": train_accuracies,\n",
        "        \"test_accuracy\": test_accuracies,\n",
        "    }\n",
        "    return model_performance"
      ],
      "execution_count": 17,
      "outputs": []
    },
    {
      "cell_type": "markdown",
      "metadata": {
        "id": "bPEzh22pScXb"
      },
      "source": [
        "# Define training and testing"
      ]
    },
    {
      "cell_type": "code",
      "metadata": {
        "id": "SVg42aU_xGpK"
      },
      "source": [
        "@tf.function\n",
        "def train_step(model, seq, target, length, loss_function, optimizer):\n",
        "    with tf.GradientTape() as tape:\n",
        "        prediction = model(seq)\n",
        "        # Get last prediction at the end of the sequence (denoted by length)\n",
        "        last_pred = tf.gather(prediction,length-1,axis=1,batch_dims=1)        \n",
        "        loss = loss_function(target, last_pred)\n",
        "        gradients = tape.gradient(loss, model.trainable_variables)\n",
        "    optimizer.apply_gradients(zip(gradients, model.trainable_variables))\n",
        "    accuracy = tf.reduce_mean(tf.cast(tf.equal(tf.equal(target,1), tf.greater(last_pred,0.5)), tf.float32))\n",
        "    return loss, accuracy\n",
        "\n",
        "@tf.function\n",
        "def performance_calc(model, seq, target, length, loss_function):\n",
        "    prediction = model(seq)\n",
        "    last_pred = tf.gather(prediction,length-1,axis=1,batch_dims=1)\n",
        "    loss = loss_function(target, last_pred)\n",
        "    accuracy =  tf.reduce_mean(tf.cast(tf.equal(tf.equal(target,1), tf.greater(last_pred,0.5)), tf.float32))\n",
        "    return loss, accuracy\n",
        "\n",
        "def test(model, test_data, loss_function):\n",
        "    # Test over complete test data\n",
        "    test_accuracy_aggregator = []\n",
        "    test_loss_aggregator = []\n",
        "\n",
        "    for seq, target, length in test_data:\n",
        "        loss, accuracy = performance_calc(model, seq, target, length, loss_function)\n",
        "        test_loss_aggregator.append(loss.numpy())\n",
        "        test_accuracy_aggregator.append(accuracy.numpy())\n",
        "\n",
        "    test_loss = np.mean(test_loss_aggregator)\n",
        "    test_accuracy = np.mean(test_accuracy_aggregator)\n",
        "\n",
        "    return test_loss, test_accuracy"
      ],
      "execution_count": 18,
      "outputs": []
    },
    {
      "cell_type": "markdown",
      "metadata": {
        "id": "RVsX0m0wsHCt"
      },
      "source": [
        "# Train LSTM"
      ]
    },
    {
      "cell_type": "code",
      "metadata": {
        "colab": {
          "base_uri": "https://localhost:8080/",
          "height": 848
        },
        "id": "zYQSNB6Hr4w7",
        "scrolled": true,
        "outputId": "f770822e-fa25-4bc5-b691-2d34d4cf19d8"
      },
      "source": [
        "%%time\n",
        "tf.keras.backend.clear_session()\n",
        "\n",
        "learning_rate = 0.001\n",
        "hidden_size = 500\n",
        "epochs = 20\n",
        "\n",
        "# Initialize the loss\n",
        "# We use BinaryCrossentropy to treat both classes ('digit one appears more often' and 'digit two appears more often')\n",
        "# independend as a binary classification\n",
        "loss_function = tf.keras.losses.BinaryCrossentropy()\n",
        "\n",
        "# Initialize the optimizer\n",
        "optimizer = tf.keras.optimizers.Adam(learning_rate)\n",
        "\n",
        "# Initialize model\n",
        "lstm = LSTM(hidden_size)\n",
        "train_model(\n",
        "    model = lstm,\n",
        "    train_dataset = train_dataset,\n",
        "    test_dataset = test_dataset,\n",
        "    num_epochs = epochs,\n",
        "    loss_function = loss_function,\n",
        "    optimizer = optimizer\n",
        ")"
      ],
      "execution_count": 19,
      "outputs": [
        {
          "output_type": "display_data",
          "data": {
            "image/png": "[encoded data removed]",
            "text/plain": [
              "<Figure size 1080x720 with 2 Axes>"
            ]
          },
          "metadata": {
            "tags": [],
            "needs_background": "light"
          }
        },
        {
          "output_type": "stream",
          "text": [
            "Epoch: __ 19\n",
            "Train loss:  0.021143952\n",
            "Test loss:  0.06714176\n",
            "Train accuracy:  0.99305475\n",
            "Test accuracy:  0.97945315\n",
            "CPU times: user 11min 19s, sys: 1min 1s, total: 12min 21s\n",
            "Wall time: 8min 34s\n"
          ],
          "name": "stdout"
        }
      ]
    },
    {
      "cell_type": "code",
      "metadata": {
        "colab": {
          "base_uri": "https://localhost:8080/"
        },
        "id": "T6x5-gXNqiG4",
        "outputId": "a2a75dd5-74da-4d70-eb1f-7cc1450926f0"
      },
      "source": [
        "lstm.summary()"
      ],
      "execution_count": 20,
      "outputs": [
        {
          "output_type": "stream",
          "text": [
            "Model: \"lstm\"\n",
            "_________________________________________________________________\n",
            "Layer (type)                 Output Shape              Param #   \n",
            "=================================================================\n",
            "lstm_cell (LSTM_cell)        multiple                  1022000   \n",
            "_________________________________________________________________\n",
            "ReadIn_layer (Dense)         multiple                  310       \n",
            "_________________________________________________________________\n",
            "Output_layer (Dense)         multiple                  1002      \n",
            "=================================================================\n",
            "Total params: 1,023,312\n",
            "Trainable params: 1,023,312\n",
            "Non-trainable params: 0\n",
            "_________________________________________________________________\n"
          ],
          "name": "stdout"
        }
      ]
    },
    {
      "cell_type": "markdown",
      "metadata": {
        "id": "Sh3Z3hxRkBb-"
      },
      "source": [
        "# Test one batch of sequences"
      ]
    },
    {
      "cell_type": "code",
      "metadata": {
        "colab": {
          "base_uri": "https://localhost:8080/"
        },
        "id": "p_DoMyIYqpOH",
        "outputId": "7161ee3f-7f6d-4028-f73f-7842e4a8aed3"
      },
      "source": [
        "for seq_batch,lbl,_ in test_dataset.take(1):\r\n",
        "    pred_batch = lstm(seq_batch)\r\n",
        "\r\n",
        "    for i,seq in enumerate(seq_batch):\r\n",
        "        seq = seq_batch[i].numpy()\r\n",
        "        seq = seq.reshape(-1,3,10)\r\n",
        "        context = seq[0,1:]\r\n",
        "        seq = seq[:,0]\r\n",
        "        \r\n",
        "        pred = pred_batch[i].numpy()[-1]\r\n",
        "\r\n",
        "        print('Context: ',np.argwhere(context)[:,1])\r\n",
        "        print('Sequence: ',np.argwhere(seq)[:,1])\r\n",
        "        print('Prediction: ',pred)\r\n",
        "        print('Label: ', lbl[i].numpy())        \r\n",
        "        print()"
      ],
      "execution_count": 21,
      "outputs": [
        {
          "output_type": "stream",
          "text": [
            "Context:  [8 5]\n",
            "Sequence:  [0 0 3 7 5 3 8 7 8 0 3 0 0 2 8 9]\n",
            "Prediction:  [1.0000000e+00 2.6904234e-05]\n",
            "Label:  [1. 0.]\n",
            "\n",
            "Context:  [3 1]\n",
            "Sequence:  [2 3 7 1 6 1 5 8 2 3 1 5 0]\n",
            "Prediction:  [0.4717921  0.99960285]\n",
            "Label:  [0. 1.]\n",
            "\n",
            "Context:  [9 0]\n",
            "Sequence:  [7 5 1 2 3 7 4 2]\n",
            "Prediction:  [0.99998605 0.02750772]\n",
            "Label:  [1. 1.]\n",
            "\n",
            "Context:  [2 5]\n",
            "Sequence:  [3 2 7 4]\n",
            "Prediction:  [1.000000e+00 8.958318e-06]\n",
            "Label:  [1. 0.]\n",
            "\n",
            "Context:  [7 5]\n",
            "Sequence:  [7 0 1 7 8 1 5 3 6 4 5 1 8 2 8 6 6]\n",
            "Prediction:  [0.779714   0.99973613]\n",
            "Label:  [1. 1.]\n",
            "\n",
            "Context:  [9 8]\n",
            "Sequence:  [8 1 1 3 8 2 3 3 4 7 1 1 5 5 2]\n",
            "Prediction:  [8.694939e-07 1.000000e+00]\n",
            "Label:  [0. 1.]\n",
            "\n",
            "Context:  [5 5]\n",
            "Sequence:  [2 2 2 3 7 2 7 9 6 1 8 6 8 9]\n",
            "Prediction:  [0.9999995 0.9999999]\n",
            "Label:  [1. 1.]\n",
            "\n",
            "Context:  [3 4]\n",
            "Sequence:  [8 9 8 4 1 2 1]\n",
            "Prediction:  [0.8477953 0.9989851]\n",
            "Label:  [0. 1.]\n",
            "\n",
            "Context:  [9 1]\n",
            "Sequence:  [9 7 5 2 1 7 2 2]\n",
            "Prediction:  [0.0096623 0.9999944]\n",
            "Label:  [1. 1.]\n",
            "\n",
            "Context:  [4 5]\n",
            "Sequence:  [7 5 2]\n",
            "Prediction:  [4.0700043e-06 1.0000000e+00]\n",
            "Label:  [0. 1.]\n",
            "\n",
            "Context:  [2 6]\n",
            "Sequence:  [9 6 2 8 3 3]\n",
            "Prediction:  [0.10979822 0.9999683 ]\n",
            "Label:  [1. 1.]\n",
            "\n",
            "Context:  [4 1]\n",
            "Sequence:  [0 0 6 0 5 2 9 4 6 9 2]\n",
            "Prediction:  [1.000000e+00 7.911164e-16]\n",
            "Label:  [1. 0.]\n",
            "\n",
            "Context:  [3 7]\n",
            "Sequence:  [6 5 6 4 5]\n",
            "Prediction:  [1.0000000e+00 8.8387405e-06]\n",
            "Label:  [1. 1.]\n",
            "\n",
            "Context:  [6 7]\n",
            "Sequence:  [4 0 3 4 9 1 2 0 8 0 6 7 3]\n",
            "Prediction:  [0.9999988  0.01165365]\n",
            "Label:  [1. 1.]\n",
            "\n",
            "Context:  [3 4]\n",
            "Sequence:  [3 6 9 8 6 1 0 8 5 6]\n",
            "Prediction:  [1.0000000e+00 1.0545148e-09]\n",
            "Label:  [1. 0.]\n",
            "\n",
            "Context:  [7 7]\n",
            "Sequence:  [3 8 5 6 4 1 8 4 8 9]\n",
            "Prediction:  [0.99999964 0.9999999 ]\n",
            "Label:  [1. 1.]\n",
            "\n",
            "Context:  [6 8]\n",
            "Sequence:  [1 4 1 6 6 3 0 1 8 2 5 6 3]\n",
            "Prediction:  [1.0000000e+00 2.9125458e-10]\n",
            "Label:  [1. 0.]\n",
            "\n",
            "Context:  [4 4]\n",
            "Sequence:  [3 9 0 8 8 1 6 6 0 8 4 1 9 5 1 6 4 2 6]\n",
            "Prediction:  [0.99999976 0.9999999 ]\n",
            "Label:  [1. 1.]\n",
            "\n",
            "Context:  [9 7]\n",
            "Sequence:  [6 0 8 8 4 1 4]\n",
            "Prediction:  [0.72183913 0.997549  ]\n",
            "Label:  [1. 1.]\n",
            "\n",
            "Context:  [6 8]\n",
            "Sequence:  [4]\n",
            "Prediction:  [1.0000000e+00 1.0396301e-04]\n",
            "Label:  [1. 1.]\n",
            "\n",
            "Context:  [6 0]\n",
            "Sequence:  [0 8 3 2 9 3 1 4 0 5 8 9 4 8 6 7 6 4]\n",
            "Prediction:  [0.99999976 0.01653784]\n",
            "Label:  [1. 1.]\n",
            "\n",
            "Context:  [3 8]\n",
            "Sequence:  [0 9]\n",
            "Prediction:  [1.0000000e+00 1.2252822e-05]\n",
            "Label:  [1. 1.]\n",
            "\n",
            "Context:  [9 3]\n",
            "Sequence:  [2 1 4 9 1 4 2 7 8 9 4 2 4 1 6 3 2]\n",
            "Prediction:  [0.99999845 0.00262708]\n",
            "Label:  [1. 0.]\n",
            "\n",
            "Context:  [1 9]\n",
            "Sequence:  [5 4 1 3 5]\n",
            "Prediction:  [0.99963856 0.48818746]\n",
            "Label:  [1. 0.]\n",
            "\n",
            "Context:  [1 6]\n",
            "Sequence:  [5 5 8]\n",
            "Prediction:  [0.99999714 0.02134547]\n",
            "Label:  [1. 1.]\n",
            "\n",
            "Context:  [5 8]\n",
            "Sequence:  [2 1 1 2 5 9 0 7 3 7 9 4]\n",
            "Prediction:  [1.000000e+00 4.282756e-09]\n",
            "Label:  [1. 0.]\n",
            "\n",
            "Context:  [6 6]\n",
            "Sequence:  [8 8 4 1]\n",
            "Prediction:  [0.99977285 0.9989103 ]\n",
            "Label:  [1. 1.]\n",
            "\n",
            "Context:  [8 3]\n",
            "Sequence:  [7 9 1 0]\n",
            "Prediction:  [0.99913824 0.8701781 ]\n",
            "Label:  [1. 1.]\n",
            "\n",
            "Context:  [1 6]\n",
            "Sequence:  [2 4 3 1 7]\n",
            "Prediction:  [1.0000000e+00 3.0127282e-07]\n",
            "Label:  [1. 0.]\n",
            "\n",
            "Context:  [3 3]\n",
            "Sequence:  [0 4 7 6 7 3 3 2 1 3 0 3 4 4 6 0]\n",
            "Prediction:  [0.99998355 0.9999999 ]\n",
            "Label:  [1. 1.]\n",
            "\n",
            "Context:  [8 9]\n",
            "Sequence:  [7]\n",
            "Prediction:  [0.99987483 0.40985504]\n",
            "Label:  [1. 1.]\n",
            "\n",
            "Context:  [4 9]\n",
            "Sequence:  [3 3 9 9 1 7 3 0 1 2 4 7 9 6]\n",
            "Prediction:  [2.6900793e-07 1.0000000e+00]\n",
            "Label:  [0. 1.]\n",
            "\n",
            "Context:  [0 4]\n",
            "Sequence:  [1 0 4 5 0 6 6 8]\n",
            "Prediction:  [9.9999976e-01 7.4739917e-04]\n",
            "Label:  [1. 0.]\n",
            "\n",
            "Context:  [6 5]\n",
            "Sequence:  [9 3 1 3 7 8 3 8 2 2 9 8 4 6 1 0 1]\n",
            "Prediction:  [1.000000e+00 4.636926e-05]\n",
            "Label:  [1. 0.]\n",
            "\n",
            "Context:  [1 1]\n",
            "Sequence:  [0 3 4 0 5 3 5 7 3 8 6 9]\n",
            "Prediction:  [0.9999895 0.9999329]\n",
            "Label:  [1. 1.]\n",
            "\n",
            "Context:  [3 7]\n",
            "Sequence:  [9 8 1 5 4 5 3 9 9 6 1 8 4]\n",
            "Prediction:  [1.0000000e+00 1.9281814e-09]\n",
            "Label:  [1. 0.]\n",
            "\n",
            "Context:  [9 5]\n",
            "Sequence:  [8 5 7 4]\n",
            "Prediction:  [4.3964923e-07 1.0000000e+00]\n",
            "Label:  [0. 1.]\n",
            "\n",
            "Context:  [4 7]\n",
            "Sequence:  [5 5 7 0]\n",
            "Prediction:  [1.7141882e-07 1.0000000e+00]\n",
            "Label:  [0. 1.]\n",
            "\n",
            "Context:  [0 2]\n",
            "Sequence:  [5 2 3 3 7 5 2 6 9 8 9 6 2 6]\n",
            "Prediction:  [1.5569238e-07 1.0000000e+00]\n",
            "Label:  [0. 1.]\n",
            "\n",
            "Context:  [3 7]\n",
            "Sequence:  [4 3 2 0 5 7 7 1 8 0 0 8]\n",
            "Prediction:  [0.99997354 0.07728206]\n",
            "Label:  [0. 1.]\n",
            "\n",
            "Context:  [4 1]\n",
            "Sequence:  [1 6 0 5 2 9]\n",
            "Prediction:  [4.420268e-05 1.000000e+00]\n",
            "Label:  [0. 1.]\n",
            "\n",
            "Context:  [7 2]\n",
            "Sequence:  [9 7 8 1 7 7 8 9 0 7 8 6 8]\n",
            "Prediction:  [1.00000e+00 3.33551e-05]\n",
            "Label:  [1. 0.]\n",
            "\n",
            "Context:  [3 1]\n",
            "Sequence:  [2 1]\n",
            "Prediction:  [0.6247243 0.9991916]\n",
            "Label:  [0. 1.]\n",
            "\n",
            "Context:  [6 0]\n",
            "Sequence:  [3 1 2 2 3 3 0 4 0 5 7 2 6 1 3]\n",
            "Prediction:  [0.0163513 0.9999995]\n",
            "Label:  [0. 1.]\n",
            "\n",
            "Context:  [1 2]\n",
            "Sequence:  [2 1 3 4 7]\n",
            "Prediction:  [0.86674404 0.99997413]\n",
            "Label:  [1. 1.]\n",
            "\n",
            "Context:  [0 9]\n",
            "Sequence:  [3 8 5 4 2 7 6 2 3 2 0]\n",
            "Prediction:  [1.0000000e+00 1.4253063e-05]\n",
            "Label:  [1. 0.]\n",
            "\n",
            "Context:  [3 4]\n",
            "Sequence:  [0 1 4 1 1 5 9 3 8 7 5 8 6 4 2 9 1]\n",
            "Prediction:  [0.93731475 0.9980019 ]\n",
            "Label:  [0. 1.]\n",
            "\n",
            "Context:  [3 7]\n",
            "Sequence:  [5 0 4 2 2 4 7 0 1 5 9 2 5 4 5 5 5 4 5]\n",
            "Prediction:  [0.6256734 0.9999839]\n",
            "Label:  [0. 1.]\n",
            "\n",
            "Context:  [5 0]\n",
            "Sequence:  [7 0]\n",
            "Prediction:  [2.2027796e-06 1.0000000e+00]\n",
            "Label:  [0. 1.]\n",
            "\n",
            "Context:  [7 2]\n",
            "Sequence:  [8 2 6 8 2 6 8]\n",
            "Prediction:  [1.3116481e-06 1.0000000e+00]\n",
            "Label:  [0. 1.]\n",
            "\n",
            "Context:  [6 2]\n",
            "Sequence:  [0 9 6 1 7 1 7 2 6 5 9 2 4 5 8 7]\n",
            "Prediction:  [0.9999695 0.2787794]\n",
            "Label:  [1. 1.]\n",
            "\n",
            "Context:  [0 1]\n",
            "Sequence:  [8 9 7]\n",
            "Prediction:  [0.99994373 0.257599  ]\n",
            "Label:  [1. 1.]\n",
            "\n",
            "Context:  [2 0]\n",
            "Sequence:  [6 0 2 5 9 3 5 1 2 9 0 4 8 7 7 7 7 1]\n",
            "Prediction:  [0.9988859  0.91283166]\n",
            "Label:  [1. 1.]\n",
            "\n",
            "Context:  [5 6]\n",
            "Sequence:  [4 0 1 7 1 8 8 6 6 6 9 2 1 1 5 1 1]\n",
            "Prediction:  [2.1511149e-05 1.0000000e+00]\n",
            "Label:  [0. 1.]\n",
            "\n",
            "Context:  [9 4]\n",
            "Sequence:  [7 9 3 2 9 6 1 6 9 2 1 0 3 8]\n",
            "Prediction:  [1.0000000e+00 5.6472697e-08]\n",
            "Label:  [1. 0.]\n",
            "\n",
            "Context:  [5 6]\n",
            "Sequence:  [8 5 2]\n",
            "Prediction:  [0.9999989  0.07728611]\n",
            "Label:  [1. 0.]\n",
            "\n",
            "Context:  [3 1]\n",
            "Sequence:  [6 6 3 1 7 6 9 5 8 1 3 3 3 1 0 3]\n",
            "Prediction:  [1.0000000e+00 2.2700273e-07]\n",
            "Label:  [1. 0.]\n",
            "\n",
            "Context:  [0 5]\n",
            "Sequence:  [9 8 3 4 0 2 1 6 7 8 0]\n",
            "Prediction:  [1.0000000e+00 4.4943957e-07]\n",
            "Label:  [1. 0.]\n",
            "\n",
            "Context:  [9 7]\n",
            "Sequence:  [4 4 4 7 8 0 2 9 2 0 4 9 1 4 8 7 9]\n",
            "Prediction:  [1.0000000e+00 1.4611147e-04]\n",
            "Label:  [1. 0.]\n",
            "\n",
            "Context:  [6 1]\n",
            "Sequence:  [5 7 9 6 7 3 7]\n",
            "Prediction:  [1.0000000e+00 4.6547907e-06]\n",
            "Label:  [1. 0.]\n",
            "\n",
            "Context:  [7 5]\n",
            "Sequence:  [9 8 5 3 5 2 5 4 3 3 0 4 5 3 2 4 6]\n",
            "Prediction:  [5.0740967e-09 1.0000000e+00]\n",
            "Label:  [0. 1.]\n",
            "\n",
            "Context:  [2 3]\n",
            "Sequence:  [6 4 3 1 9 6 7 3 3 5 1 1 8 2 7 0 6 5]\n",
            "Prediction:  [5.629207e-05 1.000000e+00]\n",
            "Label:  [0. 1.]\n",
            "\n",
            "Context:  [3 9]\n",
            "Sequence:  [8 2 2]\n",
            "Prediction:  [0.9999423  0.82645154]\n",
            "Label:  [1. 1.]\n",
            "\n",
            "Context:  [4 9]\n",
            "Sequence:  [7 0 9 9 1 2 8 5 6 9 4 7 7 1 1 8 8 0 3]\n",
            "Prediction:  [9.64965e-06 1.00000e+00]\n",
            "Label:  [0. 1.]\n",
            "\n"
          ],
          "name": "stdout"
        }
      ]
    }
  ]
}