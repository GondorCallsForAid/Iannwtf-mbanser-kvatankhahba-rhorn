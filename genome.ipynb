{
 "cells": [
  {
   "cell_type": "markdown",
   "metadata": {},
   "source": [
    "### Import Libraries"
   ]
  },
  {
   "cell_type": "code",
   "execution_count": 1,
   "metadata": {},
   "outputs": [],
   "source": [
    "import numpy as np\n",
    "import tensorflow as tf\n",
    "import matplotlib.pyplot as plt\n",
    "\n",
    "import tensorflow_datasets as tfds"
   ]
  },
  {
   "cell_type": "markdown",
   "metadata": {},
   "source": [
    "### Load genome data"
   ]
  },
  {
   "cell_type": "code",
   "execution_count": 227,
   "metadata": {},
   "outputs": [],
   "source": [
    "data, info = tfds.load(\"genomics_ood\", with_info=True)"
   ]
  },
  {
   "cell_type": "code",
   "execution_count": 278,
   "metadata": {},
   "outputs": [],
   "source": [
    "# We take 100,000 examples from our training data \n",
    "# and 1,000 examples from our test data\n",
    "train = data['train'].take(100000)\n",
    "test = data['test'].take(1000)\n",
    "\n",
    "\n",
    "# Then we split the data into Input(sequence) and Label(bacteria)\n",
    "train_sequence = np.array([example[\"seq\"] for example in train])\n",
    "train_label = np.array([example[\"label\"] for example in train])\n",
    "\n",
    "test_sequence = np.array([example[\"seq\"] for example in test])\n",
    "test_label = np.array([example[\"label\"] for example in test])"
   ]
  },
  {
   "cell_type": "markdown",
   "metadata": {},
   "source": [
    "### Inspect the data"
   ]
  },
  {
   "cell_type": "code",
   "execution_count": 279,
   "metadata": {},
   "outputs": [
    {
     "name": "stdout",
     "output_type": "stream",
     "text": [
      "tf.Tensor(b'AAACTATGTTATATTCACGATGATTAACTTACAAAGGAGTTTCAACTATGAAGATGATAAACAAATTAATCGTTCCGGTAACAGCTAGTGCTTTATTATTAGGCGCTTGTGGCGCTAGTGCCACAGACTCTAAAGAAAATACATTAATTTCTTCTAAAGCTGGAGACGTAACAGTTGCAGATACAATGAAAAAAATCGGTAAAGATCAAATTGCAAATGCATCATTTACTGAAATGTTAAATAAAATTTT', shape=(), dtype=string) \n",
      "\n",
      "7\n"
     ]
    }
   ],
   "source": [
    "print(train_sequence[0],\"\\n\")\n",
    "print(train_label[0])\n",
    "   "
   ]
  },
  {
   "cell_type": "markdown",
   "metadata": {},
   "source": [
    "### Encode sequences and labels"
   ]
  },
  {
   "cell_type": "code",
   "execution_count": 280,
   "metadata": {},
   "outputs": [],
   "source": [
    "def onehotify(tensor):\n",
    "    vocab ={\"A\": \"1\", \"C\": \"2\", \"G\": \"3\", \"T\": \"0\"}\n",
    "    for key in vocab.keys():\n",
    "        tensor = tf.strings.regex_replace(tensor, key, vocab[key])\n",
    "    split = tf.strings.bytes_split(tensor)\n",
    "    labels = tf.cast(tf.strings.to_number(split), tf.uint8)\n",
    "    onehot = tf.one_hot(labels, 4)\n",
    "    onehot = tf.reshape(onehot, (-1,))\n",
    "    return onehot"
   ]
  },
  {
   "cell_type": "code",
   "execution_count": 281,
   "metadata": {},
   "outputs": [],
   "source": [
    "train_sequence = [onehotify(seq) for seq in train_sequence]\n",
    "train_label = [tf.one_hot(label, 10) for label in train_label]\n",
    "\n",
    "test_sequence = [onehotify(seq) for seq in test_sequence]\n",
    "test_label = [tf.one_hot(label, 10) for label in test_label]"
   ]
  },
  {
   "cell_type": "code",
   "execution_count": 282,
   "metadata": {},
   "outputs": [],
   "source": [
    "train_sequence = tf.data.Dataset.from_tensor_slices(train_sequence)\n",
    "train_label = tf.data.Dataset.from_tensor_slices(train_label)\n",
    "\n",
    "test_sequence = tf.data.Dataset.from_tensor_slices(test_sequence)\n",
    "test_label = tf.data.Dataset.from_tensor_slices(test_label)"
   ]
  },
  {
   "cell_type": "markdown",
   "metadata": {},
   "source": [
    "### Zip together input and labels"
   ]
  },
  {
   "cell_type": "code",
   "execution_count": 283,
   "metadata": {},
   "outputs": [],
   "source": [
    "train_dataset = tf.data.Dataset.zip((train_sequence, train_label))\n",
    "train_dataset = train_dataset.batch(1000)\n",
    "train_dataset = train_dataset.shuffle(buffer_size=1000)\n",
    "\n",
    "test_dataset = tf.data.Dataset.zip((test_sequence, test_label))\n",
    "test_dataset = train_dataset.batch(1000)\n",
    "test_dataset = train_dataset.shuffle(buffer_size=1000)"
   ]
  },
  {
   "cell_type": "markdown",
   "metadata": {},
   "source": [
    "### Build Model"
   ]
  },
  {
   "cell_type": "code",
   "execution_count": 284,
   "metadata": {},
   "outputs": [],
   "source": [
    "from tensorflow.keras import Model\n",
    "from tensorflow.keras.layers import Layer\n",
    "\n",
    "class Model(Model): \n",
    "    \n",
    "    def __init__(self):\n",
    "        super(Model, self).__init__()\n",
    "        # Define the three layers.\n",
    "        self.hidden_layer_1 = tf.keras.layers.Dense(units=256,\n",
    "                                               activation=tf.keras.activations.sigmoid\n",
    "                                               )\n",
    "        self.hidden_layer_2 = tf.keras.layers.Dense(units=256,\n",
    "                                               activation=tf.keras.activations.sigmoid\n",
    "                                               )\n",
    "        self.output_layer = tf.keras.layers.Dense(units=10,\n",
    "                                               activation=tf.keras.activations.softmax\n",
    "                                               )\n",
    "    def call(self, x):\n",
    "        # Define the forward step.\n",
    "        x = self.hidden_layer_1(x)\n",
    "        x = self.hidden_layer_2(x)\n",
    "        x = self.output_layer(x)\n",
    "        return x"
   ]
  },
  {
   "cell_type": "markdown",
   "metadata": {},
   "source": [
    "### Train the model"
   ]
  },
  {
   "cell_type": "code",
   "execution_count": 285,
   "metadata": {},
   "outputs": [],
   "source": [
    "def train_step(model, input, target, loss_function, optimizer):\n",
    "    # loss_object and optimizer_object are instances of respective tensorflow classes\n",
    "    with tf.GradientTape() as tape:\n",
    "        prediction = model(input)\n",
    "        loss = loss_function(target, prediction)\n",
    "        gradients = tape.gradient(loss, model.trainable_variables)\n",
    "    optimizer.apply_gradients(zip(gradients, model.trainable_variables))\n",
    "    return loss \n",
    "\n",
    "def test(model, test_data, loss_function):\n",
    "    # test over complete test data\n",
    "    test_accuracy_aggregator = []\n",
    "    test_loss_aggregator = []\n",
    "\n",
    "    for (input, target) in test_data:\n",
    "        prediction = model(input)\n",
    "        sample_test_loss = loss_function(target, prediction)\n",
    "        sample_test_accuracy =  np.argmax(target, axis=1) == np.argmax(prediction, axis=1)\n",
    "        sample_test_accuracy = np.mean(sample_test_accuracy)\n",
    "        test_loss_aggregator.append(sample_test_loss.numpy())\n",
    "        test_accuracy_aggregator.append(np.mean(sample_test_accuracy))\n",
    "\n",
    "    test_loss = np.mean(test_loss_aggregator)\n",
    "    test_accuracy = np.mean(test_accuracy_aggregator)\n",
    "\n",
    "    return test_loss, test_accuracy"
   ]
  },
  {
   "cell_type": "code",
   "execution_count": 286,
   "metadata": {},
   "outputs": [
    {
     "name": "stdout",
     "output_type": "stream",
     "text": [
      "Epoch: __ 0\n",
      "Epoch: __ 1\n",
      "Epoch: __ 2\n",
      "Epoch: __ 3\n",
      "Epoch: __ 4\n",
      "Epoch: __ 5\n",
      "Epoch: __ 6\n",
      "Epoch: __ 7\n",
      "Epoch: __ 8\n",
      "Epoch: __ 9\n"
     ]
    }
   ],
   "source": [
    "tf.keras.backend.clear_session()\n",
    "\n",
    "### Hyperparameters\n",
    "num_epochs = 10\n",
    "learning_rate = 0.1\n",
    "running_average_factor = 0.95\n",
    "\n",
    "# Initialize the model.\n",
    "model = Model()\n",
    "# Initialize the loss: categorical cross entropy. Check out 'tf.keras.losses'.\n",
    "cross_entropy_loss = tf.keras.losses.CategoricalCrossentropy()\n",
    "# Initialize the optimizer: Adam with default parameters. Check out 'tf.keras.optimizers'\n",
    "optimizer = tf.keras.optimizers.SGD(learning_rate)\n",
    "\n",
    "# Initialize lists for later visualization.\n",
    "train_losses = []\n",
    "\n",
    "test_losses = []\n",
    "test_accuracies = []\n",
    "\n",
    "#testing once before we begin\n",
    "test_loss, test_accuracy = test(model, test_dataset, cross_entropy_loss)\n",
    "test_losses.append(test_loss)\n",
    "test_accuracies.append(test_accuracy)\n",
    "\n",
    "#check how model performs on train data once before we begin\n",
    "train_loss, _ = test(model, train_dataset, cross_entropy_loss)\n",
    "train_losses.append(train_loss)\n",
    "\n",
    "# We train for num_epochs epochs.\n",
    "for epoch in range(num_epochs):\n",
    "    print('Epoch: __ ' + str(epoch))\n",
    "\n",
    "    train_dataset = train_dataset.shuffle(buffer_size=128)\n",
    "    test_dataset = test_dataset.shuffle(buffer_size=128)\n",
    "\n",
    "    #training (and checking in with training)\n",
    "    running_average = 0\n",
    "    for (input,target) in train_dataset:\n",
    "        train_loss = train_step(model, input, target, cross_entropy_loss, optimizer)\n",
    "        running_average = running_average_factor * running_average  + (1 - running_average_factor) * train_loss\n",
    "    train_losses.append(running_average)\n",
    "\n",
    "    #testing\n",
    "    test_loss, test_accuracy = test(model, test_dataset, cross_entropy_loss)\n",
    "    test_losses.append(test_loss)\n",
    "    test_accuracies.append(test_accuracy)\n",
    "\n"
   ]
  },
  {
   "cell_type": "markdown",
   "metadata": {},
   "source": [
    "### Visualize the training progress"
   ]
  },
  {
   "cell_type": "code",
   "execution_count": 287,
   "metadata": {},
   "outputs": [
    {
     "data": {
      "image/png": "[encoded data removed]",
      "text/plain": [
       "<Figure size 432x288 with 1 Axes>"
      ]
     },
     "metadata": {
      "needs_background": "light"
     },
     "output_type": "display_data"
    },
    {
     "data": {
      "image/png": "[encoded data removed]",
      "text/plain": [
       "<Figure size 432x288 with 1 Axes>"
      ]
     },
     "metadata": {
      "needs_background": "light"
     },
     "output_type": "display_data"
    }
   ],
   "source": [
    "plt.figure()\n",
    "line1, = plt.plot(train_losses)\n",
    "line2, = plt.plot(test_losses)\n",
    "plt.xlabel(\"Training steps\")\n",
    "plt.ylabel(\"Loss\")\n",
    "plt.legend((line1,line2),(\"training\",\"test\"))\n",
    "plt.show()\n",
    "\n",
    "plt.figure()\n",
    "line1, = plt.plot(test_accuracies)\n",
    "plt.xlabel(\"Training steps\")\n",
    "plt.ylabel(\"Accuracy\")\n",
    "plt.show()\n"
   ]
  },
  {
   "cell_type": "code",
   "execution_count": null,
   "metadata": {},
   "outputs": [],
   "source": []
  }
 ],
 "metadata": {
  "kernelspec": {
   "display_name": "Python 3",
   "language": "python",
   "name": "python3"
  },
  "language_info": {
   "codemirror_mode": {
    "name": "ipython",
    "version": 3
   },
   "file_extension": ".py",
   "mimetype": "text/x-python",
   "name": "python",
   "nbconvert_exporter": "python",
   "pygments_lexer": "ipython3",
   "version": "3.7.9"
  }
 },
 "nbformat": 4,
 "nbformat_minor": 4
}
