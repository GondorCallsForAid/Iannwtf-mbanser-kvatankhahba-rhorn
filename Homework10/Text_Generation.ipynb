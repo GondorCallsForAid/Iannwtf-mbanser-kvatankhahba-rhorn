{
  "nbformat": 4,
  "nbformat_minor": 0,
  "metadata": {
    "accelerator": "GPU",
    "colab": {
      "name": "Text Generation.ipynb",
      "provenance": [],
      "collapsed_sections": [
        "n6FGw1n448no",
        "AQ_4gskO6-ij"
      ]
    },
    "kernelspec": {
      "display_name": "Python 3",
      "language": "python",
      "name": "python3"
    },
    "language_info": {
      "codemirror_mode": {
        "name": "ipython",
        "version": 3
      },
      "file_extension": ".py",
      "mimetype": "text/x-python",
      "name": "python",
      "nbconvert_exporter": "python",
      "pygments_lexer": "ipython3",
      "version": "3.7.9"
    },
    "widgets": {
      "application/vnd.jupyter.widget-state+json": {
        "9d5518d34a1946b589c6769b7f4350de": {
          "model_module": "@jupyter-widgets/controls",
          "model_name": "HBoxModel",
          "state": {
            "_view_name": "HBoxView",
            "_dom_classes": [],
            "_model_name": "HBoxModel",
            "_view_module": "@jupyter-widgets/controls",
            "_model_module_version": "1.5.0",
            "_view_count": null,
            "_view_module_version": "1.5.0",
            "box_style": "",
            "layout": "IPY_MODEL_f1de269857894ea9b8af61a3faff9481",
            "_model_module": "@jupyter-widgets/controls",
            "children": [
              "IPY_MODEL_8d4c0883a88543da8665ee9ee175ec23",
              "IPY_MODEL_7660e3eb49b94b0dabae0e239ce508d8"
            ]
          }
        },
        "f1de269857894ea9b8af61a3faff9481": {
          "model_module": "@jupyter-widgets/base",
          "model_name": "LayoutModel",
          "state": {
            "_view_name": "LayoutView",
            "grid_template_rows": null,
            "right": null,
            "justify_content": null,
            "_view_module": "@jupyter-widgets/base",
            "overflow": null,
            "_model_module_version": "1.2.0",
            "_view_count": null,
            "flex_flow": null,
            "width": null,
            "min_width": null,
            "border": null,
            "align_items": null,
            "bottom": null,
            "_model_module": "@jupyter-widgets/base",
            "top": null,
            "grid_column": null,
            "overflow_y": null,
            "overflow_x": null,
            "grid_auto_flow": null,
            "grid_area": null,
            "grid_template_columns": null,
            "flex": null,
            "_model_name": "LayoutModel",
            "justify_items": null,
            "grid_row": null,
            "max_height": null,
            "align_content": null,
            "visibility": null,
            "align_self": null,
            "height": null,
            "min_height": null,
            "padding": null,
            "grid_auto_rows": null,
            "grid_gap": null,
            "max_width": null,
            "order": null,
            "_view_module_version": "1.2.0",
            "grid_template_areas": null,
            "object_position": null,
            "object_fit": null,
            "grid_auto_columns": null,
            "margin": null,
            "display": null,
            "left": null
          }
        },
        "8d4c0883a88543da8665ee9ee175ec23": {
          "model_module": "@jupyter-widgets/controls",
          "model_name": "FloatProgressModel",
          "state": {
            "_view_name": "ProgressView",
            "style": "IPY_MODEL_6477d7beda2441f485219b11882ae230",
            "_dom_classes": [],
            "description": "Dl Completed...: 100%",
            "_model_name": "FloatProgressModel",
            "bar_style": "success",
            "max": 1,
            "_view_module": "@jupyter-widgets/controls",
            "_model_module_version": "1.5.0",
            "value": 1,
            "_view_count": null,
            "_view_module_version": "1.5.0",
            "orientation": "horizontal",
            "min": 0,
            "description_tooltip": null,
            "_model_module": "@jupyter-widgets/controls",
            "layout": "IPY_MODEL_fbad94c25f6f4fbb98f765d7aafef7dc"
          }
        },
        "7660e3eb49b94b0dabae0e239ce508d8": {
          "model_module": "@jupyter-widgets/controls",
          "model_name": "HTMLModel",
          "state": {
            "_view_name": "HTMLView",
            "style": "IPY_MODEL_8d79a4b5a2ed45d993e46160e4338621",
            "_dom_classes": [],
            "description": "",
            "_model_name": "HTMLModel",
            "placeholder": "​",
            "_view_module": "@jupyter-widgets/controls",
            "_model_module_version": "1.5.0",
            "value": " 1/1 [00:01&lt;00:00,  1.03s/ url]",
            "_view_count": null,
            "_view_module_version": "1.5.0",
            "description_tooltip": null,
            "_model_module": "@jupyter-widgets/controls",
            "layout": "IPY_MODEL_e204d1cd0b674008b7d1063f2bcb5f25"
          }
        },
        "6477d7beda2441f485219b11882ae230": {
          "model_module": "@jupyter-widgets/controls",
          "model_name": "ProgressStyleModel",
          "state": {
            "_view_name": "StyleView",
            "_model_name": "ProgressStyleModel",
            "description_width": "initial",
            "_view_module": "@jupyter-widgets/base",
            "_model_module_version": "1.5.0",
            "_view_count": null,
            "_view_module_version": "1.2.0",
            "bar_color": null,
            "_model_module": "@jupyter-widgets/controls"
          }
        },
        "fbad94c25f6f4fbb98f765d7aafef7dc": {
          "model_module": "@jupyter-widgets/base",
          "model_name": "LayoutModel",
          "state": {
            "_view_name": "LayoutView",
            "grid_template_rows": null,
            "right": null,
            "justify_content": null,
            "_view_module": "@jupyter-widgets/base",
            "overflow": null,
            "_model_module_version": "1.2.0",
            "_view_count": null,
            "flex_flow": null,
            "width": null,
            "min_width": null,
            "border": null,
            "align_items": null,
            "bottom": null,
            "_model_module": "@jupyter-widgets/base",
            "top": null,
            "grid_column": null,
            "overflow_y": null,
            "overflow_x": null,
            "grid_auto_flow": null,
            "grid_area": null,
            "grid_template_columns": null,
            "flex": null,
            "_model_name": "LayoutModel",
            "justify_items": null,
            "grid_row": null,
            "max_height": null,
            "align_content": null,
            "visibility": null,
            "align_self": null,
            "height": null,
            "min_height": null,
            "padding": null,
            "grid_auto_rows": null,
            "grid_gap": null,
            "max_width": null,
            "order": null,
            "_view_module_version": "1.2.0",
            "grid_template_areas": null,
            "object_position": null,
            "object_fit": null,
            "grid_auto_columns": null,
            "margin": null,
            "display": null,
            "left": null
          }
        },
        "8d79a4b5a2ed45d993e46160e4338621": {
          "model_module": "@jupyter-widgets/controls",
          "model_name": "DescriptionStyleModel",
          "state": {
            "_view_name": "StyleView",
            "_model_name": "DescriptionStyleModel",
            "description_width": "",
            "_view_module": "@jupyter-widgets/base",
            "_model_module_version": "1.5.0",
            "_view_count": null,
            "_view_module_version": "1.2.0",
            "_model_module": "@jupyter-widgets/controls"
          }
        },
        "e204d1cd0b674008b7d1063f2bcb5f25": {
          "model_module": "@jupyter-widgets/base",
          "model_name": "LayoutModel",
          "state": {
            "_view_name": "LayoutView",
            "grid_template_rows": null,
            "right": null,
            "justify_content": null,
            "_view_module": "@jupyter-widgets/base",
            "overflow": null,
            "_model_module_version": "1.2.0",
            "_view_count": null,
            "flex_flow": null,
            "width": null,
            "min_width": null,
            "border": null,
            "align_items": null,
            "bottom": null,
            "_model_module": "@jupyter-widgets/base",
            "top": null,
            "grid_column": null,
            "overflow_y": null,
            "overflow_x": null,
            "grid_auto_flow": null,
            "grid_area": null,
            "grid_template_columns": null,
            "flex": null,
            "_model_name": "LayoutModel",
            "justify_items": null,
            "grid_row": null,
            "max_height": null,
            "align_content": null,
            "visibility": null,
            "align_self": null,
            "height": null,
            "min_height": null,
            "padding": null,
            "grid_auto_rows": null,
            "grid_gap": null,
            "max_width": null,
            "order": null,
            "_view_module_version": "1.2.0",
            "grid_template_areas": null,
            "object_position": null,
            "object_fit": null,
            "grid_auto_columns": null,
            "margin": null,
            "display": null,
            "left": null
          }
        },
        "22e16d721da64f718a8b9199804dd1b5": {
          "model_module": "@jupyter-widgets/controls",
          "model_name": "HBoxModel",
          "state": {
            "_view_name": "HBoxView",
            "_dom_classes": [],
            "_model_name": "HBoxModel",
            "_view_module": "@jupyter-widgets/controls",
            "_model_module_version": "1.5.0",
            "_view_count": null,
            "_view_module_version": "1.5.0",
            "box_style": "",
            "layout": "IPY_MODEL_5a131a6a4bb649e5ae7f6ece73ee35b3",
            "_model_module": "@jupyter-widgets/controls",
            "children": [
              "IPY_MODEL_e5314fcb5ce54dbb87844f9cce1d57bc",
              "IPY_MODEL_87eee3f606254474b4bcd50b26aa3448"
            ]
          }
        },
        "5a131a6a4bb649e5ae7f6ece73ee35b3": {
          "model_module": "@jupyter-widgets/base",
          "model_name": "LayoutModel",
          "state": {
            "_view_name": "LayoutView",
            "grid_template_rows": null,
            "right": null,
            "justify_content": null,
            "_view_module": "@jupyter-widgets/base",
            "overflow": null,
            "_model_module_version": "1.2.0",
            "_view_count": null,
            "flex_flow": null,
            "width": null,
            "min_width": null,
            "border": null,
            "align_items": null,
            "bottom": null,
            "_model_module": "@jupyter-widgets/base",
            "top": null,
            "grid_column": null,
            "overflow_y": null,
            "overflow_x": null,
            "grid_auto_flow": null,
            "grid_area": null,
            "grid_template_columns": null,
            "flex": null,
            "_model_name": "LayoutModel",
            "justify_items": null,
            "grid_row": null,
            "max_height": null,
            "align_content": null,
            "visibility": null,
            "align_self": null,
            "height": null,
            "min_height": null,
            "padding": null,
            "grid_auto_rows": null,
            "grid_gap": null,
            "max_width": null,
            "order": null,
            "_view_module_version": "1.2.0",
            "grid_template_areas": null,
            "object_position": null,
            "object_fit": null,
            "grid_auto_columns": null,
            "margin": null,
            "display": null,
            "left": null
          }
        },
        "e5314fcb5ce54dbb87844f9cce1d57bc": {
          "model_module": "@jupyter-widgets/controls",
          "model_name": "FloatProgressModel",
          "state": {
            "_view_name": "ProgressView",
            "style": "IPY_MODEL_24e2c37e1fbe47a7a6b06ebe578a261e",
            "_dom_classes": [],
            "description": "Dl Size...: ",
            "_model_name": "FloatProgressModel",
            "bar_style": "success",
            "max": 1,
            "_view_module": "@jupyter-widgets/controls",
            "_model_module_version": "1.5.0",
            "value": 1,
            "_view_count": null,
            "_view_module_version": "1.5.0",
            "orientation": "horizontal",
            "min": 0,
            "description_tooltip": null,
            "_model_module": "@jupyter-widgets/controls",
            "layout": "IPY_MODEL_c362a839dbfb451fbd56882f8f646769"
          }
        },
        "87eee3f606254474b4bcd50b26aa3448": {
          "model_module": "@jupyter-widgets/controls",
          "model_name": "HTMLModel",
          "state": {
            "_view_name": "HTMLView",
            "style": "IPY_MODEL_8c69ba1415024f64bed61c1d57fe996f",
            "_dom_classes": [],
            "description": "",
            "_model_name": "HTMLModel",
            "placeholder": "​",
            "_view_module": "@jupyter-widgets/controls",
            "_model_module_version": "1.5.0",
            "value": " 1/0 [00:00&lt;00:00,  1.01 MiB/s]",
            "_view_count": null,
            "_view_module_version": "1.5.0",
            "description_tooltip": null,
            "_model_module": "@jupyter-widgets/controls",
            "layout": "IPY_MODEL_4bda6af16e4346f1a56ecc20a53a6531"
          }
        },
        "24e2c37e1fbe47a7a6b06ebe578a261e": {
          "model_module": "@jupyter-widgets/controls",
          "model_name": "ProgressStyleModel",
          "state": {
            "_view_name": "StyleView",
            "_model_name": "ProgressStyleModel",
            "description_width": "initial",
            "_view_module": "@jupyter-widgets/base",
            "_model_module_version": "1.5.0",
            "_view_count": null,
            "_view_module_version": "1.2.0",
            "bar_color": null,
            "_model_module": "@jupyter-widgets/controls"
          }
        },
        "c362a839dbfb451fbd56882f8f646769": {
          "model_module": "@jupyter-widgets/base",
          "model_name": "LayoutModel",
          "state": {
            "_view_name": "LayoutView",
            "grid_template_rows": null,
            "right": null,
            "justify_content": null,
            "_view_module": "@jupyter-widgets/base",
            "overflow": null,
            "_model_module_version": "1.2.0",
            "_view_count": null,
            "flex_flow": null,
            "width": null,
            "min_width": null,
            "border": null,
            "align_items": null,
            "bottom": null,
            "_model_module": "@jupyter-widgets/base",
            "top": null,
            "grid_column": null,
            "overflow_y": null,
            "overflow_x": null,
            "grid_auto_flow": null,
            "grid_area": null,
            "grid_template_columns": null,
            "flex": null,
            "_model_name": "LayoutModel",
            "justify_items": null,
            "grid_row": null,
            "max_height": null,
            "align_content": null,
            "visibility": null,
            "align_self": null,
            "height": null,
            "min_height": null,
            "padding": null,
            "grid_auto_rows": null,
            "grid_gap": null,
            "max_width": null,
            "order": null,
            "_view_module_version": "1.2.0",
            "grid_template_areas": null,
            "object_position": null,
            "object_fit": null,
            "grid_auto_columns": null,
            "margin": null,
            "display": null,
            "left": null
          }
        },
        "8c69ba1415024f64bed61c1d57fe996f": {
          "model_module": "@jupyter-widgets/controls",
          "model_name": "DescriptionStyleModel",
          "state": {
            "_view_name": "StyleView",
            "_model_name": "DescriptionStyleModel",
            "description_width": "",
            "_view_module": "@jupyter-widgets/base",
            "_model_module_version": "1.5.0",
            "_view_count": null,
            "_view_module_version": "1.2.0",
            "_model_module": "@jupyter-widgets/controls"
          }
        },
        "4bda6af16e4346f1a56ecc20a53a6531": {
          "model_module": "@jupyter-widgets/base",
          "model_name": "LayoutModel",
          "state": {
            "_view_name": "LayoutView",
            "grid_template_rows": null,
            "right": null,
            "justify_content": null,
            "_view_module": "@jupyter-widgets/base",
            "overflow": null,
            "_model_module_version": "1.2.0",
            "_view_count": null,
            "flex_flow": null,
            "width": null,
            "min_width": null,
            "border": null,
            "align_items": null,
            "bottom": null,
            "_model_module": "@jupyter-widgets/base",
            "top": null,
            "grid_column": null,
            "overflow_y": null,
            "overflow_x": null,
            "grid_auto_flow": null,
            "grid_area": null,
            "grid_template_columns": null,
            "flex": null,
            "_model_name": "LayoutModel",
            "justify_items": null,
            "grid_row": null,
            "max_height": null,
            "align_content": null,
            "visibility": null,
            "align_self": null,
            "height": null,
            "min_height": null,
            "padding": null,
            "grid_auto_rows": null,
            "grid_gap": null,
            "max_width": null,
            "order": null,
            "_view_module_version": "1.2.0",
            "grid_template_areas": null,
            "object_position": null,
            "object_fit": null,
            "grid_auto_columns": null,
            "margin": null,
            "display": null,
            "left": null
          }
        },
        "268cc1becb29492981645d4977f20a67": {
          "model_module": "@jupyter-widgets/controls",
          "model_name": "HBoxModel",
          "state": {
            "_view_name": "HBoxView",
            "_dom_classes": [],
            "_model_name": "HBoxModel",
            "_view_module": "@jupyter-widgets/controls",
            "_model_module_version": "1.5.0",
            "_view_count": null,
            "_view_module_version": "1.5.0",
            "box_style": "",
            "layout": "IPY_MODEL_ceb7fe27af4e4f8dac4c206d292028c9",
            "_model_module": "@jupyter-widgets/controls",
            "children": [
              "IPY_MODEL_fe5d0556ae4c4fa880a56ca1251501d8",
              "IPY_MODEL_3d095969fdee4fdcbfbae138e92c1398"
            ]
          }
        },
        "ceb7fe27af4e4f8dac4c206d292028c9": {
          "model_module": "@jupyter-widgets/base",
          "model_name": "LayoutModel",
          "state": {
            "_view_name": "LayoutView",
            "grid_template_rows": null,
            "right": null,
            "justify_content": null,
            "_view_module": "@jupyter-widgets/base",
            "overflow": null,
            "_model_module_version": "1.2.0",
            "_view_count": null,
            "flex_flow": null,
            "width": null,
            "min_width": null,
            "border": null,
            "align_items": null,
            "bottom": null,
            "_model_module": "@jupyter-widgets/base",
            "top": null,
            "grid_column": null,
            "overflow_y": null,
            "overflow_x": null,
            "grid_auto_flow": null,
            "grid_area": null,
            "grid_template_columns": null,
            "flex": null,
            "_model_name": "LayoutModel",
            "justify_items": null,
            "grid_row": null,
            "max_height": null,
            "align_content": null,
            "visibility": null,
            "align_self": null,
            "height": null,
            "min_height": null,
            "padding": null,
            "grid_auto_rows": null,
            "grid_gap": null,
            "max_width": null,
            "order": null,
            "_view_module_version": "1.2.0",
            "grid_template_areas": null,
            "object_position": null,
            "object_fit": null,
            "grid_auto_columns": null,
            "margin": null,
            "display": null,
            "left": null
          }
        },
        "fe5d0556ae4c4fa880a56ca1251501d8": {
          "model_module": "@jupyter-widgets/controls",
          "model_name": "FloatProgressModel",
          "state": {
            "_view_name": "ProgressView",
            "style": "IPY_MODEL_ba6bcad17803444aa69a24c19f46ea01",
            "_dom_classes": [],
            "description": "",
            "_model_name": "FloatProgressModel",
            "bar_style": "info",
            "max": 1,
            "_view_module": "@jupyter-widgets/controls",
            "_model_module_version": "1.5.0",
            "value": 1,
            "_view_count": null,
            "_view_module_version": "1.5.0",
            "orientation": "horizontal",
            "min": 0,
            "description_tooltip": null,
            "_model_module": "@jupyter-widgets/controls",
            "layout": "IPY_MODEL_75159aaa507d4c459236398f5217fb24"
          }
        },
        "3d095969fdee4fdcbfbae138e92c1398": {
          "model_module": "@jupyter-widgets/controls",
          "model_name": "HTMLModel",
          "state": {
            "_view_name": "HTMLView",
            "style": "IPY_MODEL_ffc6cc3e40864c8c9d1dedcce615faf5",
            "_dom_classes": [],
            "description": "",
            "_model_name": "HTMLModel",
            "placeholder": "​",
            "_view_module": "@jupyter-widgets/controls",
            "_model_module_version": "1.5.0",
            "value": " 1/0 [00:00&lt;00:00, 22.55 examples/s]",
            "_view_count": null,
            "_view_module_version": "1.5.0",
            "description_tooltip": null,
            "_model_module": "@jupyter-widgets/controls",
            "layout": "IPY_MODEL_47812b20766f4a1c8b8cf261e52c39f8"
          }
        },
        "ba6bcad17803444aa69a24c19f46ea01": {
          "model_module": "@jupyter-widgets/controls",
          "model_name": "ProgressStyleModel",
          "state": {
            "_view_name": "StyleView",
            "_model_name": "ProgressStyleModel",
            "description_width": "initial",
            "_view_module": "@jupyter-widgets/base",
            "_model_module_version": "1.5.0",
            "_view_count": null,
            "_view_module_version": "1.2.0",
            "bar_color": null,
            "_model_module": "@jupyter-widgets/controls"
          }
        },
        "75159aaa507d4c459236398f5217fb24": {
          "model_module": "@jupyter-widgets/base",
          "model_name": "LayoutModel",
          "state": {
            "_view_name": "LayoutView",
            "grid_template_rows": null,
            "right": null,
            "justify_content": null,
            "_view_module": "@jupyter-widgets/base",
            "overflow": null,
            "_model_module_version": "1.2.0",
            "_view_count": null,
            "flex_flow": null,
            "width": null,
            "min_width": null,
            "border": null,
            "align_items": null,
            "bottom": null,
            "_model_module": "@jupyter-widgets/base",
            "top": null,
            "grid_column": null,
            "overflow_y": null,
            "overflow_x": null,
            "grid_auto_flow": null,
            "grid_area": null,
            "grid_template_columns": null,
            "flex": null,
            "_model_name": "LayoutModel",
            "justify_items": null,
            "grid_row": null,
            "max_height": null,
            "align_content": null,
            "visibility": null,
            "align_self": null,
            "height": null,
            "min_height": null,
            "padding": null,
            "grid_auto_rows": null,
            "grid_gap": null,
            "max_width": null,
            "order": null,
            "_view_module_version": "1.2.0",
            "grid_template_areas": null,
            "object_position": null,
            "object_fit": null,
            "grid_auto_columns": null,
            "margin": null,
            "display": null,
            "left": null
          }
        },
        "ffc6cc3e40864c8c9d1dedcce615faf5": {
          "model_module": "@jupyter-widgets/controls",
          "model_name": "DescriptionStyleModel",
          "state": {
            "_view_name": "StyleView",
            "_model_name": "DescriptionStyleModel",
            "description_width": "",
            "_view_module": "@jupyter-widgets/base",
            "_model_module_version": "1.5.0",
            "_view_count": null,
            "_view_module_version": "1.2.0",
            "_model_module": "@jupyter-widgets/controls"
          }
        },
        "47812b20766f4a1c8b8cf261e52c39f8": {
          "model_module": "@jupyter-widgets/base",
          "model_name": "LayoutModel",
          "state": {
            "_view_name": "LayoutView",
            "grid_template_rows": null,
            "right": null,
            "justify_content": null,
            "_view_module": "@jupyter-widgets/base",
            "overflow": null,
            "_model_module_version": "1.2.0",
            "_view_count": null,
            "flex_flow": null,
            "width": null,
            "min_width": null,
            "border": null,
            "align_items": null,
            "bottom": null,
            "_model_module": "@jupyter-widgets/base",
            "top": null,
            "grid_column": null,
            "overflow_y": null,
            "overflow_x": null,
            "grid_auto_flow": null,
            "grid_area": null,
            "grid_template_columns": null,
            "flex": null,
            "_model_name": "LayoutModel",
            "justify_items": null,
            "grid_row": null,
            "max_height": null,
            "align_content": null,
            "visibility": null,
            "align_self": null,
            "height": null,
            "min_height": null,
            "padding": null,
            "grid_auto_rows": null,
            "grid_gap": null,
            "max_width": null,
            "order": null,
            "_view_module_version": "1.2.0",
            "grid_template_areas": null,
            "object_position": null,
            "object_fit": null,
            "grid_auto_columns": null,
            "margin": null,
            "display": null,
            "left": null
          }
        },
        "f4efe87e78d04197b4d6f81ccef1a445": {
          "model_module": "@jupyter-widgets/controls",
          "model_name": "HBoxModel",
          "state": {
            "_view_name": "HBoxView",
            "_dom_classes": [],
            "_model_name": "HBoxModel",
            "_view_module": "@jupyter-widgets/controls",
            "_model_module_version": "1.5.0",
            "_view_count": null,
            "_view_module_version": "1.5.0",
            "box_style": "",
            "layout": "IPY_MODEL_709bfdfc63f145ad83a49e09d0046616",
            "_model_module": "@jupyter-widgets/controls",
            "children": [
              "IPY_MODEL_b628f0068b5843fba7af31c888e1edbf",
              "IPY_MODEL_aea34920abf34a79b4a402b8b08a3775"
            ]
          }
        },
        "709bfdfc63f145ad83a49e09d0046616": {
          "model_module": "@jupyter-widgets/base",
          "model_name": "LayoutModel",
          "state": {
            "_view_name": "LayoutView",
            "grid_template_rows": null,
            "right": null,
            "justify_content": null,
            "_view_module": "@jupyter-widgets/base",
            "overflow": null,
            "_model_module_version": "1.2.0",
            "_view_count": null,
            "flex_flow": null,
            "width": null,
            "min_width": null,
            "border": null,
            "align_items": null,
            "bottom": null,
            "_model_module": "@jupyter-widgets/base",
            "top": null,
            "grid_column": null,
            "overflow_y": null,
            "overflow_x": null,
            "grid_auto_flow": null,
            "grid_area": null,
            "grid_template_columns": null,
            "flex": null,
            "_model_name": "LayoutModel",
            "justify_items": null,
            "grid_row": null,
            "max_height": null,
            "align_content": null,
            "visibility": null,
            "align_self": null,
            "height": null,
            "min_height": null,
            "padding": null,
            "grid_auto_rows": null,
            "grid_gap": null,
            "max_width": null,
            "order": null,
            "_view_module_version": "1.2.0",
            "grid_template_areas": null,
            "object_position": null,
            "object_fit": null,
            "grid_auto_columns": null,
            "margin": null,
            "display": null,
            "left": null
          }
        },
        "b628f0068b5843fba7af31c888e1edbf": {
          "model_module": "@jupyter-widgets/controls",
          "model_name": "FloatProgressModel",
          "state": {
            "_view_name": "ProgressView",
            "style": "IPY_MODEL_85de4aed4cac4cd38ad8a0dcd4ba461d",
            "_dom_classes": [],
            "description": "  0%",
            "_model_name": "FloatProgressModel",
            "bar_style": "danger",
            "max": 1,
            "_view_module": "@jupyter-widgets/controls",
            "_model_module_version": "1.5.0",
            "value": 0,
            "_view_count": null,
            "_view_module_version": "1.5.0",
            "orientation": "horizontal",
            "min": 0,
            "description_tooltip": null,
            "_model_module": "@jupyter-widgets/controls",
            "layout": "IPY_MODEL_bace5a00c7fb477291a23e3d9c2bf469"
          }
        },
        "aea34920abf34a79b4a402b8b08a3775": {
          "model_module": "@jupyter-widgets/controls",
          "model_name": "HTMLModel",
          "state": {
            "_view_name": "HTMLView",
            "style": "IPY_MODEL_a5c6acd6f5e44bbb8c34ca7392e14ad1",
            "_dom_classes": [],
            "description": "",
            "_model_name": "HTMLModel",
            "placeholder": "​",
            "_view_module": "@jupyter-widgets/controls",
            "_model_module_version": "1.5.0",
            "value": " 0/1 [00:00&lt;?, ? examples/s]",
            "_view_count": null,
            "_view_module_version": "1.5.0",
            "description_tooltip": null,
            "_model_module": "@jupyter-widgets/controls",
            "layout": "IPY_MODEL_45eb7b3cc8f04ff7a84fbdaa510b0d73"
          }
        },
        "85de4aed4cac4cd38ad8a0dcd4ba461d": {
          "model_module": "@jupyter-widgets/controls",
          "model_name": "ProgressStyleModel",
          "state": {
            "_view_name": "StyleView",
            "_model_name": "ProgressStyleModel",
            "description_width": "initial",
            "_view_module": "@jupyter-widgets/base",
            "_model_module_version": "1.5.0",
            "_view_count": null,
            "_view_module_version": "1.2.0",
            "bar_color": null,
            "_model_module": "@jupyter-widgets/controls"
          }
        },
        "bace5a00c7fb477291a23e3d9c2bf469": {
          "model_module": "@jupyter-widgets/base",
          "model_name": "LayoutModel",
          "state": {
            "_view_name": "LayoutView",
            "grid_template_rows": null,
            "right": null,
            "justify_content": null,
            "_view_module": "@jupyter-widgets/base",
            "overflow": null,
            "_model_module_version": "1.2.0",
            "_view_count": null,
            "flex_flow": null,
            "width": null,
            "min_width": null,
            "border": null,
            "align_items": null,
            "bottom": null,
            "_model_module": "@jupyter-widgets/base",
            "top": null,
            "grid_column": null,
            "overflow_y": null,
            "overflow_x": null,
            "grid_auto_flow": null,
            "grid_area": null,
            "grid_template_columns": null,
            "flex": null,
            "_model_name": "LayoutModel",
            "justify_items": null,
            "grid_row": null,
            "max_height": null,
            "align_content": null,
            "visibility": null,
            "align_self": null,
            "height": null,
            "min_height": null,
            "padding": null,
            "grid_auto_rows": null,
            "grid_gap": null,
            "max_width": null,
            "order": null,
            "_view_module_version": "1.2.0",
            "grid_template_areas": null,
            "object_position": null,
            "object_fit": null,
            "grid_auto_columns": null,
            "margin": null,
            "display": null,
            "left": null
          }
        },
        "a5c6acd6f5e44bbb8c34ca7392e14ad1": {
          "model_module": "@jupyter-widgets/controls",
          "model_name": "DescriptionStyleModel",
          "state": {
            "_view_name": "StyleView",
            "_model_name": "DescriptionStyleModel",
            "description_width": "",
            "_view_module": "@jupyter-widgets/base",
            "_model_module_version": "1.5.0",
            "_view_count": null,
            "_view_module_version": "1.2.0",
            "_model_module": "@jupyter-widgets/controls"
          }
        },
        "45eb7b3cc8f04ff7a84fbdaa510b0d73": {
          "model_module": "@jupyter-widgets/base",
          "model_name": "LayoutModel",
          "state": {
            "_view_name": "LayoutView",
            "grid_template_rows": null,
            "right": null,
            "justify_content": null,
            "_view_module": "@jupyter-widgets/base",
            "overflow": null,
            "_model_module_version": "1.2.0",
            "_view_count": null,
            "flex_flow": null,
            "width": null,
            "min_width": null,
            "border": null,
            "align_items": null,
            "bottom": null,
            "_model_module": "@jupyter-widgets/base",
            "top": null,
            "grid_column": null,
            "overflow_y": null,
            "overflow_x": null,
            "grid_auto_flow": null,
            "grid_area": null,
            "grid_template_columns": null,
            "flex": null,
            "_model_name": "LayoutModel",
            "justify_items": null,
            "grid_row": null,
            "max_height": null,
            "align_content": null,
            "visibility": null,
            "align_self": null,
            "height": null,
            "min_height": null,
            "padding": null,
            "grid_auto_rows": null,
            "grid_gap": null,
            "max_width": null,
            "order": null,
            "_view_module_version": "1.2.0",
            "grid_template_areas": null,
            "object_position": null,
            "object_fit": null,
            "grid_auto_columns": null,
            "margin": null,
            "display": null,
            "left": null
          }
        },
        "192e34d45409410bb24c758562486680": {
          "model_module": "@jupyter-widgets/controls",
          "model_name": "HBoxModel",
          "state": {
            "_view_name": "HBoxView",
            "_dom_classes": [],
            "_model_name": "HBoxModel",
            "_view_module": "@jupyter-widgets/controls",
            "_model_module_version": "1.5.0",
            "_view_count": null,
            "_view_module_version": "1.5.0",
            "box_style": "",
            "layout": "IPY_MODEL_1f770764363241609c59d077bbcbeb63",
            "_model_module": "@jupyter-widgets/controls",
            "children": [
              "IPY_MODEL_fea2d2f024934a84a51aacf1c4ddba25",
              "IPY_MODEL_8e5486b9f599429083826b1fa1d22060"
            ]
          }
        },
        "1f770764363241609c59d077bbcbeb63": {
          "model_module": "@jupyter-widgets/base",
          "model_name": "LayoutModel",
          "state": {
            "_view_name": "LayoutView",
            "grid_template_rows": null,
            "right": null,
            "justify_content": null,
            "_view_module": "@jupyter-widgets/base",
            "overflow": null,
            "_model_module_version": "1.2.0",
            "_view_count": null,
            "flex_flow": null,
            "width": null,
            "min_width": null,
            "border": null,
            "align_items": null,
            "bottom": null,
            "_model_module": "@jupyter-widgets/base",
            "top": null,
            "grid_column": null,
            "overflow_y": null,
            "overflow_x": null,
            "grid_auto_flow": null,
            "grid_area": null,
            "grid_template_columns": null,
            "flex": null,
            "_model_name": "LayoutModel",
            "justify_items": null,
            "grid_row": null,
            "max_height": null,
            "align_content": null,
            "visibility": null,
            "align_self": null,
            "height": null,
            "min_height": null,
            "padding": null,
            "grid_auto_rows": null,
            "grid_gap": null,
            "max_width": null,
            "order": null,
            "_view_module_version": "1.2.0",
            "grid_template_areas": null,
            "object_position": null,
            "object_fit": null,
            "grid_auto_columns": null,
            "margin": null,
            "display": null,
            "left": null
          }
        },
        "fea2d2f024934a84a51aacf1c4ddba25": {
          "model_module": "@jupyter-widgets/controls",
          "model_name": "FloatProgressModel",
          "state": {
            "_view_name": "ProgressView",
            "style": "IPY_MODEL_13977e1a983e4dfe980efd7d8ca51ccf",
            "_dom_classes": [],
            "description": "",
            "_model_name": "FloatProgressModel",
            "bar_style": "info",
            "max": 1,
            "_view_module": "@jupyter-widgets/controls",
            "_model_module_version": "1.5.0",
            "value": 1,
            "_view_count": null,
            "_view_module_version": "1.5.0",
            "orientation": "horizontal",
            "min": 0,
            "description_tooltip": null,
            "_model_module": "@jupyter-widgets/controls",
            "layout": "IPY_MODEL_8554e73e385f446b8b97b6d7b1269593"
          }
        },
        "8e5486b9f599429083826b1fa1d22060": {
          "model_module": "@jupyter-widgets/controls",
          "model_name": "HTMLModel",
          "state": {
            "_view_name": "HTMLView",
            "style": "IPY_MODEL_e2c6b0203eee467a945e6e95be4565c9",
            "_dom_classes": [],
            "description": "",
            "_model_name": "HTMLModel",
            "placeholder": "​",
            "_view_module": "@jupyter-widgets/controls",
            "_model_module_version": "1.5.0",
            "value": " 1/0 [00:00&lt;00:00, 21.51 examples/s]",
            "_view_count": null,
            "_view_module_version": "1.5.0",
            "description_tooltip": null,
            "_model_module": "@jupyter-widgets/controls",
            "layout": "IPY_MODEL_18700fa221c94f399b052153e68f1641"
          }
        },
        "13977e1a983e4dfe980efd7d8ca51ccf": {
          "model_module": "@jupyter-widgets/controls",
          "model_name": "ProgressStyleModel",
          "state": {
            "_view_name": "StyleView",
            "_model_name": "ProgressStyleModel",
            "description_width": "initial",
            "_view_module": "@jupyter-widgets/base",
            "_model_module_version": "1.5.0",
            "_view_count": null,
            "_view_module_version": "1.2.0",
            "bar_color": null,
            "_model_module": "@jupyter-widgets/controls"
          }
        },
        "8554e73e385f446b8b97b6d7b1269593": {
          "model_module": "@jupyter-widgets/base",
          "model_name": "LayoutModel",
          "state": {
            "_view_name": "LayoutView",
            "grid_template_rows": null,
            "right": null,
            "justify_content": null,
            "_view_module": "@jupyter-widgets/base",
            "overflow": null,
            "_model_module_version": "1.2.0",
            "_view_count": null,
            "flex_flow": null,
            "width": null,
            "min_width": null,
            "border": null,
            "align_items": null,
            "bottom": null,
            "_model_module": "@jupyter-widgets/base",
            "top": null,
            "grid_column": null,
            "overflow_y": null,
            "overflow_x": null,
            "grid_auto_flow": null,
            "grid_area": null,
            "grid_template_columns": null,
            "flex": null,
            "_model_name": "LayoutModel",
            "justify_items": null,
            "grid_row": null,
            "max_height": null,
            "align_content": null,
            "visibility": null,
            "align_self": null,
            "height": null,
            "min_height": null,
            "padding": null,
            "grid_auto_rows": null,
            "grid_gap": null,
            "max_width": null,
            "order": null,
            "_view_module_version": "1.2.0",
            "grid_template_areas": null,
            "object_position": null,
            "object_fit": null,
            "grid_auto_columns": null,
            "margin": null,
            "display": null,
            "left": null
          }
        },
        "e2c6b0203eee467a945e6e95be4565c9": {
          "model_module": "@jupyter-widgets/controls",
          "model_name": "DescriptionStyleModel",
          "state": {
            "_view_name": "StyleView",
            "_model_name": "DescriptionStyleModel",
            "description_width": "",
            "_view_module": "@jupyter-widgets/base",
            "_model_module_version": "1.5.0",
            "_view_count": null,
            "_view_module_version": "1.2.0",
            "_model_module": "@jupyter-widgets/controls"
          }
        },
        "18700fa221c94f399b052153e68f1641": {
          "model_module": "@jupyter-widgets/base",
          "model_name": "LayoutModel",
          "state": {
            "_view_name": "LayoutView",
            "grid_template_rows": null,
            "right": null,
            "justify_content": null,
            "_view_module": "@jupyter-widgets/base",
            "overflow": null,
            "_model_module_version": "1.2.0",
            "_view_count": null,
            "flex_flow": null,
            "width": null,
            "min_width": null,
            "border": null,
            "align_items": null,
            "bottom": null,
            "_model_module": "@jupyter-widgets/base",
            "top": null,
            "grid_column": null,
            "overflow_y": null,
            "overflow_x": null,
            "grid_auto_flow": null,
            "grid_area": null,
            "grid_template_columns": null,
            "flex": null,
            "_model_name": "LayoutModel",
            "justify_items": null,
            "grid_row": null,
            "max_height": null,
            "align_content": null,
            "visibility": null,
            "align_self": null,
            "height": null,
            "min_height": null,
            "padding": null,
            "grid_auto_rows": null,
            "grid_gap": null,
            "max_width": null,
            "order": null,
            "_view_module_version": "1.2.0",
            "grid_template_areas": null,
            "object_position": null,
            "object_fit": null,
            "grid_auto_columns": null,
            "margin": null,
            "display": null,
            "left": null
          }
        },
        "c684623900694dfe997d2834110ca404": {
          "model_module": "@jupyter-widgets/controls",
          "model_name": "HBoxModel",
          "state": {
            "_view_name": "HBoxView",
            "_dom_classes": [],
            "_model_name": "HBoxModel",
            "_view_module": "@jupyter-widgets/controls",
            "_model_module_version": "1.5.0",
            "_view_count": null,
            "_view_module_version": "1.5.0",
            "box_style": "",
            "layout": "IPY_MODEL_29fcd6a0a2724a858a29602335368a1f",
            "_model_module": "@jupyter-widgets/controls",
            "children": [
              "IPY_MODEL_05b6cc1eedc842cb99b7b360a207dcbc",
              "IPY_MODEL_1c73d6231f5845548e7e0c85b7f5be2e"
            ]
          }
        },
        "29fcd6a0a2724a858a29602335368a1f": {
          "model_module": "@jupyter-widgets/base",
          "model_name": "LayoutModel",
          "state": {
            "_view_name": "LayoutView",
            "grid_template_rows": null,
            "right": null,
            "justify_content": null,
            "_view_module": "@jupyter-widgets/base",
            "overflow": null,
            "_model_module_version": "1.2.0",
            "_view_count": null,
            "flex_flow": null,
            "width": null,
            "min_width": null,
            "border": null,
            "align_items": null,
            "bottom": null,
            "_model_module": "@jupyter-widgets/base",
            "top": null,
            "grid_column": null,
            "overflow_y": null,
            "overflow_x": null,
            "grid_auto_flow": null,
            "grid_area": null,
            "grid_template_columns": null,
            "flex": null,
            "_model_name": "LayoutModel",
            "justify_items": null,
            "grid_row": null,
            "max_height": null,
            "align_content": null,
            "visibility": null,
            "align_self": null,
            "height": null,
            "min_height": null,
            "padding": null,
            "grid_auto_rows": null,
            "grid_gap": null,
            "max_width": null,
            "order": null,
            "_view_module_version": "1.2.0",
            "grid_template_areas": null,
            "object_position": null,
            "object_fit": null,
            "grid_auto_columns": null,
            "margin": null,
            "display": null,
            "left": null
          }
        },
        "05b6cc1eedc842cb99b7b360a207dcbc": {
          "model_module": "@jupyter-widgets/controls",
          "model_name": "FloatProgressModel",
          "state": {
            "_view_name": "ProgressView",
            "style": "IPY_MODEL_38205b4869774be58d53afee14437735",
            "_dom_classes": [],
            "description": "  0%",
            "_model_name": "FloatProgressModel",
            "bar_style": "danger",
            "max": 1,
            "_view_module": "@jupyter-widgets/controls",
            "_model_module_version": "1.5.0",
            "value": 0,
            "_view_count": null,
            "_view_module_version": "1.5.0",
            "orientation": "horizontal",
            "min": 0,
            "description_tooltip": null,
            "_model_module": "@jupyter-widgets/controls",
            "layout": "IPY_MODEL_78775fcfdea14ac5b0db9a08c9d93d36"
          }
        },
        "1c73d6231f5845548e7e0c85b7f5be2e": {
          "model_module": "@jupyter-widgets/controls",
          "model_name": "HTMLModel",
          "state": {
            "_view_name": "HTMLView",
            "style": "IPY_MODEL_493f248c1f2748c78d77c9fb0d270be7",
            "_dom_classes": [],
            "description": "",
            "_model_name": "HTMLModel",
            "placeholder": "​",
            "_view_module": "@jupyter-widgets/controls",
            "_model_module_version": "1.5.0",
            "value": " 0/1 [00:05&lt;?, ? examples/s]",
            "_view_count": null,
            "_view_module_version": "1.5.0",
            "description_tooltip": null,
            "_model_module": "@jupyter-widgets/controls",
            "layout": "IPY_MODEL_3a6dfe15c40748fea9543436d05051bf"
          }
        },
        "38205b4869774be58d53afee14437735": {
          "model_module": "@jupyter-widgets/controls",
          "model_name": "ProgressStyleModel",
          "state": {
            "_view_name": "StyleView",
            "_model_name": "ProgressStyleModel",
            "description_width": "initial",
            "_view_module": "@jupyter-widgets/base",
            "_model_module_version": "1.5.0",
            "_view_count": null,
            "_view_module_version": "1.2.0",
            "bar_color": null,
            "_model_module": "@jupyter-widgets/controls"
          }
        },
        "78775fcfdea14ac5b0db9a08c9d93d36": {
          "model_module": "@jupyter-widgets/base",
          "model_name": "LayoutModel",
          "state": {
            "_view_name": "LayoutView",
            "grid_template_rows": null,
            "right": null,
            "justify_content": null,
            "_view_module": "@jupyter-widgets/base",
            "overflow": null,
            "_model_module_version": "1.2.0",
            "_view_count": null,
            "flex_flow": null,
            "width": null,
            "min_width": null,
            "border": null,
            "align_items": null,
            "bottom": null,
            "_model_module": "@jupyter-widgets/base",
            "top": null,
            "grid_column": null,
            "overflow_y": null,
            "overflow_x": null,
            "grid_auto_flow": null,
            "grid_area": null,
            "grid_template_columns": null,
            "flex": null,
            "_model_name": "LayoutModel",
            "justify_items": null,
            "grid_row": null,
            "max_height": null,
            "align_content": null,
            "visibility": null,
            "align_self": null,
            "height": null,
            "min_height": null,
            "padding": null,
            "grid_auto_rows": null,
            "grid_gap": null,
            "max_width": null,
            "order": null,
            "_view_module_version": "1.2.0",
            "grid_template_areas": null,
            "object_position": null,
            "object_fit": null,
            "grid_auto_columns": null,
            "margin": null,
            "display": null,
            "left": null
          }
        },
        "493f248c1f2748c78d77c9fb0d270be7": {
          "model_module": "@jupyter-widgets/controls",
          "model_name": "DescriptionStyleModel",
          "state": {
            "_view_name": "StyleView",
            "_model_name": "DescriptionStyleModel",
            "description_width": "",
            "_view_module": "@jupyter-widgets/base",
            "_model_module_version": "1.5.0",
            "_view_count": null,
            "_view_module_version": "1.2.0",
            "_model_module": "@jupyter-widgets/controls"
          }
        },
        "3a6dfe15c40748fea9543436d05051bf": {
          "model_module": "@jupyter-widgets/base",
          "model_name": "LayoutModel",
          "state": {
            "_view_name": "LayoutView",
            "grid_template_rows": null,
            "right": null,
            "justify_content": null,
            "_view_module": "@jupyter-widgets/base",
            "overflow": null,
            "_model_module_version": "1.2.0",
            "_view_count": null,
            "flex_flow": null,
            "width": null,
            "min_width": null,
            "border": null,
            "align_items": null,
            "bottom": null,
            "_model_module": "@jupyter-widgets/base",
            "top": null,
            "grid_column": null,
            "overflow_y": null,
            "overflow_x": null,
            "grid_auto_flow": null,
            "grid_area": null,
            "grid_template_columns": null,
            "flex": null,
            "_model_name": "LayoutModel",
            "justify_items": null,
            "grid_row": null,
            "max_height": null,
            "align_content": null,
            "visibility": null,
            "align_self": null,
            "height": null,
            "min_height": null,
            "padding": null,
            "grid_auto_rows": null,
            "grid_gap": null,
            "max_width": null,
            "order": null,
            "_view_module_version": "1.2.0",
            "grid_template_areas": null,
            "object_position": null,
            "object_fit": null,
            "grid_auto_columns": null,
            "margin": null,
            "display": null,
            "left": null
          }
        },
        "03277e7e77944aa68173c6fedf7f2735": {
          "model_module": "@jupyter-widgets/controls",
          "model_name": "HBoxModel",
          "state": {
            "_view_name": "HBoxView",
            "_dom_classes": [],
            "_model_name": "HBoxModel",
            "_view_module": "@jupyter-widgets/controls",
            "_model_module_version": "1.5.0",
            "_view_count": null,
            "_view_module_version": "1.5.0",
            "box_style": "",
            "layout": "IPY_MODEL_506d5d3a411b4f119d53008b95085baf",
            "_model_module": "@jupyter-widgets/controls",
            "children": [
              "IPY_MODEL_7a4638ad0fa94f39b96ab6ce1f5940a4",
              "IPY_MODEL_1681386410254367a965f41e65465bc2"
            ]
          }
        },
        "506d5d3a411b4f119d53008b95085baf": {
          "model_module": "@jupyter-widgets/base",
          "model_name": "LayoutModel",
          "state": {
            "_view_name": "LayoutView",
            "grid_template_rows": null,
            "right": null,
            "justify_content": null,
            "_view_module": "@jupyter-widgets/base",
            "overflow": null,
            "_model_module_version": "1.2.0",
            "_view_count": null,
            "flex_flow": null,
            "width": null,
            "min_width": null,
            "border": null,
            "align_items": null,
            "bottom": null,
            "_model_module": "@jupyter-widgets/base",
            "top": null,
            "grid_column": null,
            "overflow_y": null,
            "overflow_x": null,
            "grid_auto_flow": null,
            "grid_area": null,
            "grid_template_columns": null,
            "flex": null,
            "_model_name": "LayoutModel",
            "justify_items": null,
            "grid_row": null,
            "max_height": null,
            "align_content": null,
            "visibility": null,
            "align_self": null,
            "height": null,
            "min_height": null,
            "padding": null,
            "grid_auto_rows": null,
            "grid_gap": null,
            "max_width": null,
            "order": null,
            "_view_module_version": "1.2.0",
            "grid_template_areas": null,
            "object_position": null,
            "object_fit": null,
            "grid_auto_columns": null,
            "margin": null,
            "display": null,
            "left": null
          }
        },
        "7a4638ad0fa94f39b96ab6ce1f5940a4": {
          "model_module": "@jupyter-widgets/controls",
          "model_name": "FloatProgressModel",
          "state": {
            "_view_name": "ProgressView",
            "style": "IPY_MODEL_f035db8ca64f4a48861c29c8f007e01d",
            "_dom_classes": [],
            "description": "",
            "_model_name": "FloatProgressModel",
            "bar_style": "info",
            "max": 1,
            "_view_module": "@jupyter-widgets/controls",
            "_model_module_version": "1.5.0",
            "value": 1,
            "_view_count": null,
            "_view_module_version": "1.5.0",
            "orientation": "horizontal",
            "min": 0,
            "description_tooltip": null,
            "_model_module": "@jupyter-widgets/controls",
            "layout": "IPY_MODEL_32fc23b317e4414a913ce1c83647a263"
          }
        },
        "1681386410254367a965f41e65465bc2": {
          "model_module": "@jupyter-widgets/controls",
          "model_name": "HTMLModel",
          "state": {
            "_view_name": "HTMLView",
            "style": "IPY_MODEL_3a4caf8bc5e444fd87bbe2a1af9d591e",
            "_dom_classes": [],
            "description": "",
            "_model_name": "HTMLModel",
            "placeholder": "​",
            "_view_module": "@jupyter-widgets/controls",
            "_model_module_version": "1.5.0",
            "value": " 1/0 [00:00&lt;00:00, 20.26 examples/s]",
            "_view_count": null,
            "_view_module_version": "1.5.0",
            "description_tooltip": null,
            "_model_module": "@jupyter-widgets/controls",
            "layout": "IPY_MODEL_ae75ffab08af468eb8adfe6d0ba0630e"
          }
        },
        "f035db8ca64f4a48861c29c8f007e01d": {
          "model_module": "@jupyter-widgets/controls",
          "model_name": "ProgressStyleModel",
          "state": {
            "_view_name": "StyleView",
            "_model_name": "ProgressStyleModel",
            "description_width": "initial",
            "_view_module": "@jupyter-widgets/base",
            "_model_module_version": "1.5.0",
            "_view_count": null,
            "_view_module_version": "1.2.0",
            "bar_color": null,
            "_model_module": "@jupyter-widgets/controls"
          }
        },
        "32fc23b317e4414a913ce1c83647a263": {
          "model_module": "@jupyter-widgets/base",
          "model_name": "LayoutModel",
          "state": {
            "_view_name": "LayoutView",
            "grid_template_rows": null,
            "right": null,
            "justify_content": null,
            "_view_module": "@jupyter-widgets/base",
            "overflow": null,
            "_model_module_version": "1.2.0",
            "_view_count": null,
            "flex_flow": null,
            "width": null,
            "min_width": null,
            "border": null,
            "align_items": null,
            "bottom": null,
            "_model_module": "@jupyter-widgets/base",
            "top": null,
            "grid_column": null,
            "overflow_y": null,
            "overflow_x": null,
            "grid_auto_flow": null,
            "grid_area": null,
            "grid_template_columns": null,
            "flex": null,
            "_model_name": "LayoutModel",
            "justify_items": null,
            "grid_row": null,
            "max_height": null,
            "align_content": null,
            "visibility": null,
            "align_self": null,
            "height": null,
            "min_height": null,
            "padding": null,
            "grid_auto_rows": null,
            "grid_gap": null,
            "max_width": null,
            "order": null,
            "_view_module_version": "1.2.0",
            "grid_template_areas": null,
            "object_position": null,
            "object_fit": null,
            "grid_auto_columns": null,
            "margin": null,
            "display": null,
            "left": null
          }
        },
        "3a4caf8bc5e444fd87bbe2a1af9d591e": {
          "model_module": "@jupyter-widgets/controls",
          "model_name": "DescriptionStyleModel",
          "state": {
            "_view_name": "StyleView",
            "_model_name": "DescriptionStyleModel",
            "description_width": "",
            "_view_module": "@jupyter-widgets/base",
            "_model_module_version": "1.5.0",
            "_view_count": null,
            "_view_module_version": "1.2.0",
            "_model_module": "@jupyter-widgets/controls"
          }
        },
        "ae75ffab08af468eb8adfe6d0ba0630e": {
          "model_module": "@jupyter-widgets/base",
          "model_name": "LayoutModel",
          "state": {
            "_view_name": "LayoutView",
            "grid_template_rows": null,
            "right": null,
            "justify_content": null,
            "_view_module": "@jupyter-widgets/base",
            "overflow": null,
            "_model_module_version": "1.2.0",
            "_view_count": null,
            "flex_flow": null,
            "width": null,
            "min_width": null,
            "border": null,
            "align_items": null,
            "bottom": null,
            "_model_module": "@jupyter-widgets/base",
            "top": null,
            "grid_column": null,
            "overflow_y": null,
            "overflow_x": null,
            "grid_auto_flow": null,
            "grid_area": null,
            "grid_template_columns": null,
            "flex": null,
            "_model_name": "LayoutModel",
            "justify_items": null,
            "grid_row": null,
            "max_height": null,
            "align_content": null,
            "visibility": null,
            "align_self": null,
            "height": null,
            "min_height": null,
            "padding": null,
            "grid_auto_rows": null,
            "grid_gap": null,
            "max_width": null,
            "order": null,
            "_view_module_version": "1.2.0",
            "grid_template_areas": null,
            "object_position": null,
            "object_fit": null,
            "grid_auto_columns": null,
            "margin": null,
            "display": null,
            "left": null
          }
        },
        "c47d6ca75bf742aaa5b92b242715860d": {
          "model_module": "@jupyter-widgets/controls",
          "model_name": "HBoxModel",
          "state": {
            "_view_name": "HBoxView",
            "_dom_classes": [],
            "_model_name": "HBoxModel",
            "_view_module": "@jupyter-widgets/controls",
            "_model_module_version": "1.5.0",
            "_view_count": null,
            "_view_module_version": "1.5.0",
            "box_style": "",
            "layout": "IPY_MODEL_71d17041d1744957a976c321172efe8d",
            "_model_module": "@jupyter-widgets/controls",
            "children": [
              "IPY_MODEL_2bc19b6e2d214c7a8994ed0d474b5da4",
              "IPY_MODEL_13c254f939de41af866ca1f4f07e953e"
            ]
          }
        },
        "71d17041d1744957a976c321172efe8d": {
          "model_module": "@jupyter-widgets/base",
          "model_name": "LayoutModel",
          "state": {
            "_view_name": "LayoutView",
            "grid_template_rows": null,
            "right": null,
            "justify_content": null,
            "_view_module": "@jupyter-widgets/base",
            "overflow": null,
            "_model_module_version": "1.2.0",
            "_view_count": null,
            "flex_flow": null,
            "width": null,
            "min_width": null,
            "border": null,
            "align_items": null,
            "bottom": null,
            "_model_module": "@jupyter-widgets/base",
            "top": null,
            "grid_column": null,
            "overflow_y": null,
            "overflow_x": null,
            "grid_auto_flow": null,
            "grid_area": null,
            "grid_template_columns": null,
            "flex": null,
            "_model_name": "LayoutModel",
            "justify_items": null,
            "grid_row": null,
            "max_height": null,
            "align_content": null,
            "visibility": null,
            "align_self": null,
            "height": null,
            "min_height": null,
            "padding": null,
            "grid_auto_rows": null,
            "grid_gap": null,
            "max_width": null,
            "order": null,
            "_view_module_version": "1.2.0",
            "grid_template_areas": null,
            "object_position": null,
            "object_fit": null,
            "grid_auto_columns": null,
            "margin": null,
            "display": null,
            "left": null
          }
        },
        "2bc19b6e2d214c7a8994ed0d474b5da4": {
          "model_module": "@jupyter-widgets/controls",
          "model_name": "FloatProgressModel",
          "state": {
            "_view_name": "ProgressView",
            "style": "IPY_MODEL_a926e299bba24706bc1072769b5fc2fe",
            "_dom_classes": [],
            "description": "  0%",
            "_model_name": "FloatProgressModel",
            "bar_style": "danger",
            "max": 1,
            "_view_module": "@jupyter-widgets/controls",
            "_model_module_version": "1.5.0",
            "value": 0,
            "_view_count": null,
            "_view_module_version": "1.5.0",
            "orientation": "horizontal",
            "min": 0,
            "description_tooltip": null,
            "_model_module": "@jupyter-widgets/controls",
            "layout": "IPY_MODEL_23e31bcc91e944f69299c7e9b1b70174"
          }
        },
        "13c254f939de41af866ca1f4f07e953e": {
          "model_module": "@jupyter-widgets/controls",
          "model_name": "HTMLModel",
          "state": {
            "_view_name": "HTMLView",
            "style": "IPY_MODEL_9b0cabbd781e480585c3b7b3b0fb2d89",
            "_dom_classes": [],
            "description": "",
            "_model_name": "HTMLModel",
            "placeholder": "​",
            "_view_module": "@jupyter-widgets/controls",
            "_model_module_version": "1.5.0",
            "value": " 0/1 [00:05&lt;?, ? examples/s]",
            "_view_count": null,
            "_view_module_version": "1.5.0",
            "description_tooltip": null,
            "_model_module": "@jupyter-widgets/controls",
            "layout": "IPY_MODEL_c5878af4adf349d3a4dee91af859137b"
          }
        },
        "a926e299bba24706bc1072769b5fc2fe": {
          "model_module": "@jupyter-widgets/controls",
          "model_name": "ProgressStyleModel",
          "state": {
            "_view_name": "StyleView",
            "_model_name": "ProgressStyleModel",
            "description_width": "initial",
            "_view_module": "@jupyter-widgets/base",
            "_model_module_version": "1.5.0",
            "_view_count": null,
            "_view_module_version": "1.2.0",
            "bar_color": null,
            "_model_module": "@jupyter-widgets/controls"
          }
        },
        "23e31bcc91e944f69299c7e9b1b70174": {
          "model_module": "@jupyter-widgets/base",
          "model_name": "LayoutModel",
          "state": {
            "_view_name": "LayoutView",
            "grid_template_rows": null,
            "right": null,
            "justify_content": null,
            "_view_module": "@jupyter-widgets/base",
            "overflow": null,
            "_model_module_version": "1.2.0",
            "_view_count": null,
            "flex_flow": null,
            "width": null,
            "min_width": null,
            "border": null,
            "align_items": null,
            "bottom": null,
            "_model_module": "@jupyter-widgets/base",
            "top": null,
            "grid_column": null,
            "overflow_y": null,
            "overflow_x": null,
            "grid_auto_flow": null,
            "grid_area": null,
            "grid_template_columns": null,
            "flex": null,
            "_model_name": "LayoutModel",
            "justify_items": null,
            "grid_row": null,
            "max_height": null,
            "align_content": null,
            "visibility": null,
            "align_self": null,
            "height": null,
            "min_height": null,
            "padding": null,
            "grid_auto_rows": null,
            "grid_gap": null,
            "max_width": null,
            "order": null,
            "_view_module_version": "1.2.0",
            "grid_template_areas": null,
            "object_position": null,
            "object_fit": null,
            "grid_auto_columns": null,
            "margin": null,
            "display": null,
            "left": null
          }
        },
        "9b0cabbd781e480585c3b7b3b0fb2d89": {
          "model_module": "@jupyter-widgets/controls",
          "model_name": "DescriptionStyleModel",
          "state": {
            "_view_name": "StyleView",
            "_model_name": "DescriptionStyleModel",
            "description_width": "",
            "_view_module": "@jupyter-widgets/base",
            "_model_module_version": "1.5.0",
            "_view_count": null,
            "_view_module_version": "1.2.0",
            "_model_module": "@jupyter-widgets/controls"
          }
        },
        "c5878af4adf349d3a4dee91af859137b": {
          "model_module": "@jupyter-widgets/base",
          "model_name": "LayoutModel",
          "state": {
            "_view_name": "LayoutView",
            "grid_template_rows": null,
            "right": null,
            "justify_content": null,
            "_view_module": "@jupyter-widgets/base",
            "overflow": null,
            "_model_module_version": "1.2.0",
            "_view_count": null,
            "flex_flow": null,
            "width": null,
            "min_width": null,
            "border": null,
            "align_items": null,
            "bottom": null,
            "_model_module": "@jupyter-widgets/base",
            "top": null,
            "grid_column": null,
            "overflow_y": null,
            "overflow_x": null,
            "grid_auto_flow": null,
            "grid_area": null,
            "grid_template_columns": null,
            "flex": null,
            "_model_name": "LayoutModel",
            "justify_items": null,
            "grid_row": null,
            "max_height": null,
            "align_content": null,
            "visibility": null,
            "align_self": null,
            "height": null,
            "min_height": null,
            "padding": null,
            "grid_auto_rows": null,
            "grid_gap": null,
            "max_width": null,
            "order": null,
            "_view_module_version": "1.2.0",
            "grid_template_areas": null,
            "object_position": null,
            "object_fit": null,
            "grid_auto_columns": null,
            "margin": null,
            "display": null,
            "left": null
          }
        }
      }
    }
  },
  "cells": [
    {
      "cell_type": "markdown",
      "metadata": {
        "id": "YueqPXMqPMCM"
      },
      "source": [
        "# Character based text Generation"
      ]
    },
    {
      "cell_type": "markdown",
      "metadata": {
        "id": "SrdSjGGAPMCW"
      },
      "source": [
        "#### Tell colab what version to use"
      ]
    },
    {
      "cell_type": "code",
      "metadata": {
        "id": "v2Gju4hgPMCW"
      },
      "source": [
        "%tensorflow_version 2.x"
      ],
      "execution_count": 1,
      "outputs": []
    },
    {
      "cell_type": "markdown",
      "metadata": {
        "id": "rqrTLTOD4w7Q"
      },
      "source": [
        "## Import standard Libraries"
      ]
    },
    {
      "cell_type": "code",
      "metadata": {
        "id": "bvCeupatKuau"
      },
      "source": [
        "import numpy as np\n",
        "import tensorflow as tf\n",
        "import tensorflow_datasets as tfds\n",
        "import matplotlib.pyplot as plt\n",
        "from tensorflow.keras import Model"
      ],
      "execution_count": 2,
      "outputs": []
    },
    {
      "cell_type": "markdown",
      "metadata": {
        "id": "9Ll0Wp2OTosQ"
      },
      "source": [
        "# Load data\r\n",
        "\r\n",
        "Convert to string"
      ]
    },
    {
      "cell_type": "code",
      "metadata": {
        "id": "12bpAFQy6Hnk",
        "colab": {
          "base_uri": "https://localhost:8080/",
          "height": 486,
          "referenced_widgets": [
            "9d5518d34a1946b589c6769b7f4350de",
            "f1de269857894ea9b8af61a3faff9481",
            "8d4c0883a88543da8665ee9ee175ec23",
            "7660e3eb49b94b0dabae0e239ce508d8",
            "6477d7beda2441f485219b11882ae230",
            "fbad94c25f6f4fbb98f765d7aafef7dc",
            "8d79a4b5a2ed45d993e46160e4338621",
            "e204d1cd0b674008b7d1063f2bcb5f25",
            "22e16d721da64f718a8b9199804dd1b5",
            "5a131a6a4bb649e5ae7f6ece73ee35b3",
            "e5314fcb5ce54dbb87844f9cce1d57bc",
            "87eee3f606254474b4bcd50b26aa3448",
            "24e2c37e1fbe47a7a6b06ebe578a261e",
            "c362a839dbfb451fbd56882f8f646769",
            "8c69ba1415024f64bed61c1d57fe996f",
            "4bda6af16e4346f1a56ecc20a53a6531",
            "268cc1becb29492981645d4977f20a67",
            "ceb7fe27af4e4f8dac4c206d292028c9",
            "fe5d0556ae4c4fa880a56ca1251501d8",
            "3d095969fdee4fdcbfbae138e92c1398",
            "ba6bcad17803444aa69a24c19f46ea01",
            "75159aaa507d4c459236398f5217fb24",
            "ffc6cc3e40864c8c9d1dedcce615faf5",
            "47812b20766f4a1c8b8cf261e52c39f8",
            "f4efe87e78d04197b4d6f81ccef1a445",
            "709bfdfc63f145ad83a49e09d0046616",
            "b628f0068b5843fba7af31c888e1edbf",
            "aea34920abf34a79b4a402b8b08a3775",
            "85de4aed4cac4cd38ad8a0dcd4ba461d",
            "bace5a00c7fb477291a23e3d9c2bf469",
            "a5c6acd6f5e44bbb8c34ca7392e14ad1",
            "45eb7b3cc8f04ff7a84fbdaa510b0d73",
            "192e34d45409410bb24c758562486680",
            "1f770764363241609c59d077bbcbeb63",
            "fea2d2f024934a84a51aacf1c4ddba25",
            "8e5486b9f599429083826b1fa1d22060",
            "13977e1a983e4dfe980efd7d8ca51ccf",
            "8554e73e385f446b8b97b6d7b1269593",
            "e2c6b0203eee467a945e6e95be4565c9",
            "18700fa221c94f399b052153e68f1641",
            "c684623900694dfe997d2834110ca404",
            "29fcd6a0a2724a858a29602335368a1f",
            "05b6cc1eedc842cb99b7b360a207dcbc",
            "1c73d6231f5845548e7e0c85b7f5be2e",
            "38205b4869774be58d53afee14437735",
            "78775fcfdea14ac5b0db9a08c9d93d36",
            "493f248c1f2748c78d77c9fb0d270be7",
            "3a6dfe15c40748fea9543436d05051bf",
            "03277e7e77944aa68173c6fedf7f2735",
            "506d5d3a411b4f119d53008b95085baf",
            "7a4638ad0fa94f39b96ab6ce1f5940a4",
            "1681386410254367a965f41e65465bc2",
            "f035db8ca64f4a48861c29c8f007e01d",
            "32fc23b317e4414a913ce1c83647a263",
            "3a4caf8bc5e444fd87bbe2a1af9d591e",
            "ae75ffab08af468eb8adfe6d0ba0630e",
            "c47d6ca75bf742aaa5b92b242715860d",
            "71d17041d1744957a976c321172efe8d",
            "2bc19b6e2d214c7a8994ed0d474b5da4",
            "13c254f939de41af866ca1f4f07e953e",
            "a926e299bba24706bc1072769b5fc2fe",
            "23e31bcc91e944f69299c7e9b1b70174",
            "9b0cabbd781e480585c3b7b3b0fb2d89",
            "c5878af4adf349d3a4dee91af859137b"
          ]
        },
        "outputId": "04955869-3832-48b2-c665-21e4f753fe34"
      },
      "source": [
        "shakespeare = tfds.load('tiny_shakespeare')['train']\n",
        "shakespeare = next(iter(shakespeare))\n",
        "shakespeare = shakespeare['text'].numpy().decode('utf-8')\n",
        "print(shakespeare[:100])"
      ],
      "execution_count": 3,
      "outputs": [
        {
          "output_type": "stream",
          "text": [
            "\u001b[1mDownloading and preparing dataset tiny_shakespeare/1.0.0 (download: Unknown size, generated: 1.06 MiB, total: 1.06 MiB) to /root/tensorflow_datasets/tiny_shakespeare/1.0.0...\u001b[0m\n"
          ],
          "name": "stdout"
        },
        {
          "output_type": "display_data",
          "data": {
            "application/vnd.jupyter.widget-view+json": {
              "model_id": "9d5518d34a1946b589c6769b7f4350de",
              "version_minor": 0,
              "version_major": 2
            },
            "text/plain": [
              "HBox(children=(FloatProgress(value=1.0, bar_style='info', description='Dl Completed...', max=1.0, style=Progre…"
            ]
          },
          "metadata": {
            "tags": []
          }
        },
        {
          "output_type": "display_data",
          "data": {
            "application/vnd.jupyter.widget-view+json": {
              "model_id": "22e16d721da64f718a8b9199804dd1b5",
              "version_minor": 0,
              "version_major": 2
            },
            "text/plain": [
              "HBox(children=(FloatProgress(value=1.0, bar_style='info', description='Dl Size...', max=1.0, style=ProgressSty…"
            ]
          },
          "metadata": {
            "tags": []
          }
        },
        {
          "output_type": "stream",
          "text": [
            "\n",
            "\n",
            "\n",
            "\n"
          ],
          "name": "stdout"
        },
        {
          "output_type": "display_data",
          "data": {
            "application/vnd.jupyter.widget-view+json": {
              "model_id": "268cc1becb29492981645d4977f20a67",
              "version_minor": 0,
              "version_major": 2
            },
            "text/plain": [
              "HBox(children=(FloatProgress(value=1.0, bar_style='info', max=1.0), HTML(value='')))"
            ]
          },
          "metadata": {
            "tags": []
          }
        },
        {
          "output_type": "stream",
          "text": [
            "\rShuffling and writing examples to /root/tensorflow_datasets/tiny_shakespeare/1.0.0.incompleteUK6K04/tiny_shakespeare-train.tfrecord\n"
          ],
          "name": "stdout"
        },
        {
          "output_type": "display_data",
          "data": {
            "application/vnd.jupyter.widget-view+json": {
              "model_id": "f4efe87e78d04197b4d6f81ccef1a445",
              "version_minor": 0,
              "version_major": 2
            },
            "text/plain": [
              "HBox(children=(FloatProgress(value=0.0, max=1.0), HTML(value='')))"
            ]
          },
          "metadata": {
            "tags": []
          }
        },
        {
          "output_type": "stream",
          "text": [
            "\r"
          ],
          "name": "stdout"
        },
        {
          "output_type": "display_data",
          "data": {
            "application/vnd.jupyter.widget-view+json": {
              "model_id": "192e34d45409410bb24c758562486680",
              "version_minor": 0,
              "version_major": 2
            },
            "text/plain": [
              "HBox(children=(FloatProgress(value=1.0, bar_style='info', max=1.0), HTML(value='')))"
            ]
          },
          "metadata": {
            "tags": []
          }
        },
        {
          "output_type": "stream",
          "text": [
            "\rShuffling and writing examples to /root/tensorflow_datasets/tiny_shakespeare/1.0.0.incompleteUK6K04/tiny_shakespeare-validation.tfrecord\n"
          ],
          "name": "stdout"
        },
        {
          "output_type": "display_data",
          "data": {
            "application/vnd.jupyter.widget-view+json": {
              "model_id": "c684623900694dfe997d2834110ca404",
              "version_minor": 0,
              "version_major": 2
            },
            "text/plain": [
              "HBox(children=(FloatProgress(value=0.0, max=1.0), HTML(value='')))"
            ]
          },
          "metadata": {
            "tags": []
          }
        },
        {
          "output_type": "display_data",
          "data": {
            "application/vnd.jupyter.widget-view+json": {
              "model_id": "03277e7e77944aa68173c6fedf7f2735",
              "version_minor": 0,
              "version_major": 2
            },
            "text/plain": [
              "HBox(children=(FloatProgress(value=1.0, bar_style='info', max=1.0), HTML(value='')))"
            ]
          },
          "metadata": {
            "tags": []
          }
        },
        {
          "output_type": "stream",
          "text": [
            "Shuffling and writing examples to /root/tensorflow_datasets/tiny_shakespeare/1.0.0.incompleteUK6K04/tiny_shakespeare-test.tfrecord\n"
          ],
          "name": "stdout"
        },
        {
          "output_type": "display_data",
          "data": {
            "application/vnd.jupyter.widget-view+json": {
              "model_id": "c47d6ca75bf742aaa5b92b242715860d",
              "version_minor": 0,
              "version_major": 2
            },
            "text/plain": [
              "HBox(children=(FloatProgress(value=0.0, max=1.0), HTML(value='')))"
            ]
          },
          "metadata": {
            "tags": []
          }
        },
        {
          "output_type": "stream",
          "text": [
            "\u001b[1mDataset tiny_shakespeare downloaded and prepared to /root/tensorflow_datasets/tiny_shakespeare/1.0.0. Subsequent calls will reuse this data.\u001b[0m\n",
            "First Citizen:\n",
            "Before we proceed any further, hear me speak.\n",
            "\n",
            "All:\n",
            "Speak, speak.\n",
            "\n",
            "First Citizen:\n",
            "You\n"
          ],
          "name": "stdout"
        }
      ]
    },
    {
      "cell_type": "markdown",
      "metadata": {
        "id": "9BewAIUjPMCY"
      },
      "source": [
        "# Prepare the dataset\r\n",
        "\r\n",
        "We can use python dictonaries to convert our chars to IDs or we use keras' StringLookup layer.\r\n",
        "Using the StringLookup layer is more convenient, because we don't have to convert back and forth between tensors and numpy arrays to loop through.  \r\n",
        "But the StringLookup layer also adds two additional vocabolary entries (' ', and '[UNK]') that we have to be aware of when translating predicted IDs back to text, as we don't want to sample those entries."
      ]
    },
    {
      "cell_type": "markdown",
      "metadata": {
        "id": "n6FGw1n448no"
      },
      "source": [
        "## Using dictionaries"
      ]
    },
    {
      "cell_type": "code",
      "metadata": {
        "id": "ZsEGBvMtqKYS"
      },
      "source": [
        "# Function to get a string out of a tensor with char IDs\r\n",
        "def text_from_ids(id_tensor):\r\n",
        "    return ''.join([id2char[char] for char in id_tensor.numpy().flatten()])"
      ],
      "execution_count": 24,
      "outputs": []
    },
    {
      "cell_type": "code",
      "metadata": {
        "colab": {
          "base_uri": "https://localhost:8080/"
        },
        "id": "WWKCSK2y46rs",
        "outputId": "6f201157-c5ea-4b0e-ca44-146f909006c3"
      },
      "source": [
        "# Create vocabulary\n",
        "vocab = set(shakespeare)\n",
        "\n",
        "# Use dictionaries to translate characters to IDs and back\n",
        "char2id = {char:id for id, char in enumerate(vocab)}\n",
        "id2char = {id:char for char,id in char2id.items()}\n",
        "\n",
        "# Translate the shakespeare text to IDs\n",
        "text_ids = [char2id[char] for char in shakespeare]\n",
        "\n",
        "# Test \n",
        "print(text_ids[:20])"
      ],
      "execution_count": 25,
      "outputs": [
        {
          "output_type": "stream",
          "text": [
            "[21, 19, 7, 59, 31, 22, 57, 19, 31, 19, 60, 36, 53, 64, 48, 28, 36, 62, 6, 7]\n"
          ],
          "name": "stdout"
        }
      ]
    },
    {
      "cell_type": "markdown",
      "metadata": {
        "id": "A7DljT8ZqreC"
      },
      "source": [
        "### Create the sequences"
      ]
    },
    {
      "cell_type": "code",
      "metadata": {
        "colab": {
          "base_uri": "https://localhost:8080/"
        },
        "id": "vKU1xipXqe0y",
        "outputId": "6926966c-5087-4d37-a4cf-7a8210a686d4"
      },
      "source": [
        "SEQ_LEN = 20 #@param [\"20\", \"50\", \"100\"] {type:\"raw\"}\r\n",
        "\r\n",
        "# Create dataset of sequences\r\n",
        "ids_dataset = tf.data.Dataset.from_tensor_slices(text_ids)\r\n",
        "# 'drop_remainder' drops the last batch if it's smaller than batch_size\r\n",
        "seq_dataset = ids_dataset.batch(batch_size=SEQ_LEN+1, \r\n",
        "                                drop_remainder=True)\r\n",
        "\r\n",
        "# Look at first sequence\r\n",
        "for seq in seq_dataset.take(1):\r\n",
        "    print(text_from_ids(seq))"
      ],
      "execution_count": 26,
      "outputs": [
        {
          "output_type": "stream",
          "text": [
            "First Citizen:\n",
            "Before\n"
          ],
          "name": "stdout"
        }
      ]
    },
    {
      "cell_type": "markdown",
      "metadata": {
        "id": "kOhNfDMwqwDi"
      },
      "source": [
        "### Create dataset of (input, target)-pairs"
      ]
    },
    {
      "cell_type": "code",
      "metadata": {
        "colab": {
          "base_uri": "https://localhost:8080/"
        },
        "id": "xf_F64iiqemK",
        "outputId": "23b73d41-19b4-4a72-a77a-c626b8c37605"
      },
      "source": [
        "BATCH_SIZE = 64 #@param [\"32\", \"64\", \"128\"] {type:\"raw\"}\r\n",
        "BUFFER_SIZE = 1000 #@param [\"1000\", \"10000\", \"100000\"] {type:\"raw\"}\r\n",
        "\r\n",
        "# Create Datasets and make sure minibatches all have same size\r\n",
        "dataset = seq_dataset.map(lambda seq: (seq[:-1],seq[1:]),\r\n",
        "                          num_parallel_calls=tf.data.experimental.AUTOTUNE)\r\n",
        "\r\n",
        "# Shuffle the data\r\n",
        "dataset = dataset.shuffle(BUFFER_SIZE)\r\n",
        "\r\n",
        "# Create minibatches\r\n",
        "dataset = dataset.batch(BATCH_SIZE,drop_remainder=True)\r\n",
        "\r\n",
        "# Prefetch the data\r\n",
        "dataset = dataset.prefetch(tf.data.experimental.AUTOTUNE)\r\n",
        "\r\n",
        "dataset"
      ],
      "execution_count": 27,
      "outputs": [
        {
          "output_type": "execute_result",
          "data": {
            "text/plain": [
              "<PrefetchDataset shapes: ((64, 20), (64, 20)), types: (tf.int32, tf.int32)>"
            ]
          },
          "metadata": {
            "tags": []
          },
          "execution_count": 27
        }
      ]
    },
    {
      "cell_type": "markdown",
      "metadata": {
        "id": "AQ_4gskO6-ij"
      },
      "source": [
        "## Using StringLookup (optional when not using dictionaries)"
      ]
    },
    {
      "cell_type": "code",
      "metadata": {
        "id": "5AvHG92kl-Gw"
      },
      "source": [
        "# Function to get a string out of a tensor with char IDs\r\n",
        "def text_from_ids_StringLookup(id_tensor):\r\n",
        "    return tf.strings.reduce_join(id2char(id_tensor)).numpy().decode('utf-8')"
      ],
      "execution_count": null,
      "outputs": []
    },
    {
      "cell_type": "code",
      "metadata": {
        "colab": {
          "base_uri": "https://localhost:8080/"
        },
        "id": "TjvDDQEmzyxk",
        "outputId": "774511f1-7414-45ca-a4b8-6e622259de0a"
      },
      "source": [
        "from tensorflow.keras.layers.experimental.preprocessing import StringLookup\r\n",
        "\r\n",
        "# Create a tensor containing the text as a list of characters\r\n",
        "text_tensor = tf.strings.unicode_split(shakespeare, 'UTF-8')\r\n",
        "\r\n",
        "# Use the StringLookup layer to translate characters to IDs and back\r\n",
        "char2id = StringLookup(vocabulary=list(set(shakespeare)))\r\n",
        "id2char = StringLookup(vocabulary=char2id.get_vocabulary(), invert=True)\r\n",
        "\r\n",
        "# Create vocabulary (use the StringLookup vocabulary because that contains padding and unknown characters at indeces '0' and '1')\r\n",
        "vocab = char2id.get_vocabulary()\r\n",
        "\r\n",
        "# Translate the shakespeare text to IDs\r\n",
        "text_ids = char2id(text_tensor)\r\n",
        "\r\n",
        "# Test \r\n",
        "print(text_ids)"
      ],
      "execution_count": null,
      "outputs": [
        {
          "output_type": "stream",
          "text": [
            "tf.Tensor([42 65 38 ... 18 38 18], shape=(1003854,), dtype=int64)\n"
          ],
          "name": "stdout"
        }
      ]
    },
    {
      "cell_type": "markdown",
      "metadata": {
        "id": "adxt2_Ps0OPv"
      },
      "source": [
        "### Create the sequences (StringLookup)"
      ]
    },
    {
      "cell_type": "code",
      "metadata": {
        "id": "eUN2xZfhPMCY",
        "colab": {
          "base_uri": "https://localhost:8080/"
        },
        "outputId": "c947bfc7-43d0-40c2-c9ea-843bc82b298c"
      },
      "source": [
        "SEQ_LEN = 20 #@param [\"20\", \"50\", \"100\"] {type:\"raw\"}\n",
        "\n",
        "# Create dataset of sequences\n",
        "ids_dataset = tf.data.Dataset.from_tensor_slices(text_ids)\n",
        "# 'drop_remainder' drops the last batch if it's smaller than batch_size\n",
        "seq_dataset = ids_dataset.batch(batch_size=SEQ_LEN+1, \n",
        "                                drop_remainder=True)\n",
        "\n",
        "# Look at first sequence\n",
        "for seq in seq_dataset.take(1):\n",
        "    print(text_from_ids_StringLookup(seq))"
      ],
      "execution_count": null,
      "outputs": [
        {
          "output_type": "stream",
          "text": [
            "First Citizen:\n",
            "Before\n"
          ],
          "name": "stdout"
        }
      ]
    },
    {
      "cell_type": "markdown",
      "metadata": {
        "id": "hTa0XG8m_UQs"
      },
      "source": [
        "### Create dataset of (input, target)-pairs (StringLookup)"
      ]
    },
    {
      "cell_type": "code",
      "metadata": {
        "colab": {
          "base_uri": "https://localhost:8080/"
        },
        "id": "9Gjp3f7eA71e",
        "outputId": "deeb5757-d04e-430b-b5c6-86432e61207c"
      },
      "source": [
        "BATCH_SIZE = 64 #@param [\"32\", \"64\", \"128\"] {type:\"raw\"}\n",
        "BUFFER_SIZE = 1000 #@param [\"1000\", \"10000\", \"100000\"] {type:\"raw\"}\n",
        "\n",
        "# Create Datasets and make sure minibatches all have same size\n",
        "dataset_StringLookup = seq_dataset.map(lambda seq: (seq[:-1],seq[1:]),\n",
        "                          num_parallel_calls=tf.data.experimental.AUTOTUNE)\n",
        "\n",
        "# Shuffle the data\n",
        "dataset_StringLookup = dataset_StringLookup.shuffle(BUFFER_SIZE)\n",
        "\n",
        "# Create minibatches\n",
        "dataset_StringLookup = dataset_StringLookup.batch(BATCH_SIZE,drop_remainder=True)\n",
        "\n",
        "# Prefetch the data\n",
        "dataset_StringLookup = dataset_StringLookup.prefetch(tf.data.experimental.AUTOTUNE)\n",
        "\n",
        "dataset_StringLookup"
      ],
      "execution_count": null,
      "outputs": [
        {
          "output_type": "execute_result",
          "data": {
            "text/plain": [
              "<PrefetchDataset shapes: ((64, 20), (64, 20)), types: (tf.int64, tf.int64)>"
            ]
          },
          "metadata": {
            "tags": []
          },
          "execution_count": 256
        }
      ]
    },
    {
      "cell_type": "markdown",
      "metadata": {
        "id": "WbGAxd2ATM-d"
      },
      "source": [
        "# Inspect the dataset"
      ]
    },
    {
      "cell_type": "code",
      "metadata": {
        "colab": {
          "base_uri": "https://localhost:8080/"
        },
        "id": "jld3SeZLtmSn",
        "outputId": "1018e8b9-c2bb-4749-f363-44581dcdd7ec"
      },
      "source": [
        "for input, target in dataset.take(1):\r\n",
        "    print(f'Input-target pair:\\n{input[0], target[0]}')\r\n",
        "    print(f'\\nInput:  {text_from_ids(input[0])}\\nTarget:  {text_from_ids(target[0])}')"
      ],
      "execution_count": 29,
      "outputs": [
        {
          "output_type": "stream",
          "text": [
            "Input-target pair:\n",
            "(<tf.Tensor: shape=(20,), dtype=int32, numpy=\n",
            "array([ 6, 22, 49,  6, 50, 36, 59, 22, 12, 36,  7, 36, 41, 48, 48, 26, 36,\n",
            "       49,  6, 53], dtype=int32)>, <tf.Tensor: shape=(20,), dtype=int32, numpy=\n",
            "array([22, 49,  6, 50, 36, 59, 22, 12, 36,  7, 36, 41, 48, 48, 26, 36, 49,\n",
            "        6, 53, 13], dtype=int32)>)\n",
            "\n",
            "Input:  o comes here?\n",
            "\n",
            "Secon\n",
            "Target:   comes here?\n",
            "\n",
            "Second\n"
          ],
          "name": "stdout"
        }
      ]
    },
    {
      "cell_type": "markdown",
      "metadata": {
        "id": "78C9GeJq5ap7"
      },
      "source": [
        "# Define RNN cell\r\n",
        "\r\n",
        "We define our weight matrizes as simple dense layers without activation.  \r\n",
        "It's important to not use a bias in the input layer."
      ]
    },
    {
      "cell_type": "code",
      "metadata": {
        "id": "8nuXgjbz5ap8"
      },
      "source": [
        "class RNN_cell(Model):\n",
        "    def __init__(self, state_size):\n",
        "        super(RNN_cell, self).__init__()\n",
        "        # W_xh\n",
        "        self.input_weights = tf.keras.layers.Dense(units=state_size,\n",
        "                                                   activation=None,\n",
        "                                                   use_bias = False,\n",
        "                                                   name='Input_layer'\n",
        "                                                   )\n",
        "        # W_hh+b_h\n",
        "        self.hidden_weights = tf.keras.layers.Dense(units=state_size,\n",
        "                                                    activation=None,\n",
        "                                                    name='Hidden_layer'\n",
        "                                                    )\n",
        "        \n",
        "    def call(self, x_t, h_t):\n",
        "        # Computing the new hidden state\n",
        "        if h_t == None:\n",
        "            h_t = tf.keras.activations.relu(self.input_weights(x_t))\n",
        "        else:\n",
        "            # h_t = activation(x_t*W_xh + h_t*W_hh+b_h)\n",
        "            h_t = tf.keras.activations.relu(self.input_weights(x_t)+self.hidden_weights(h_t))        \n",
        "        return h_t"
      ],
      "execution_count": 30,
      "outputs": []
    },
    {
      "cell_type": "markdown",
      "metadata": {
        "id": "JQtSdBNuPMCc"
      },
      "source": [
        "## Inspect RNN cell"
      ]
    },
    {
      "cell_type": "code",
      "metadata": {
        "colab": {
          "base_uri": "https://localhost:8080/"
        },
        "id": "p_n95rjnnjEx",
        "scrolled": false,
        "outputId": "bb35993b-f7dd-4101-917c-7400d370b25e"
      },
      "source": [
        "cell = RNN_cell(128)\n",
        "_ = cell(tf.ones((BATCH_SIZE,64)),\n",
        "         tf.zeros((BATCH_SIZE,128))\n",
        "        )\n",
        "cell.summary()"
      ],
      "execution_count": 31,
      "outputs": [
        {
          "output_type": "stream",
          "text": [
            "Model: \"rnn_cell_1\"\n",
            "_________________________________________________________________\n",
            "Layer (type)                 Output Shape              Param #   \n",
            "=================================================================\n",
            "Input_layer (Dense)          multiple                  8192      \n",
            "_________________________________________________________________\n",
            "Hidden_layer (Dense)         multiple                  16512     \n",
            "=================================================================\n",
            "Total params: 24,704\n",
            "Trainable params: 24,704\n",
            "Non-trainable params: 0\n",
            "_________________________________________________________________\n"
          ],
          "name": "stdout"
        }
      ]
    },
    {
      "cell_type": "markdown",
      "metadata": {
        "id": "xoCo3FewJgEy"
      },
      "source": [
        "# Define RNN"
      ]
    },
    {
      "cell_type": "code",
      "metadata": {
        "id": "0d6lQLW55ap_"
      },
      "source": [
        "class RNN(Model):\n",
        "    def __init__(self, state_size, vocab_size, embedding_size):\n",
        "        super(RNN, self).__init__()\n",
        "        self.state_size = state_size\n",
        "\n",
        "        self.readin_layer = tf.keras.layers.Embedding(input_dim=vocab_size,\n",
        "                                                      output_dim=embedding_size,\n",
        "                                                      input_length=SEQ_LEN,\n",
        "                                                      name='ReadIn_layer'\n",
        "                                                      )\n",
        "        \n",
        "        self.RNNcell = RNN_cell(self.state_size)\n",
        "\n",
        "        self.output_layer = tf.keras.layers.Dense(units=vocab_size,\n",
        "                                                  activation='softmax',\n",
        "                                                  name='Readout_layer'\n",
        "                                                 )\n",
        "          \n",
        "    def call(self, seq):\n",
        "        t = tf.constant(0)\n",
        "        # Store the outputs of each timestep in a TensorArray\n",
        "        outputs = tf.TensorArray(tf.float32, size=SEQ_LEN)\n",
        "\n",
        "        seq = self.readin_layer(seq)\n",
        "\n",
        "        # First timestep; reset hidden state\n",
        "        h_t = None\n",
        "\n",
        "        h_t = self.RNNcell(seq[:,t], h_t)\n",
        "\n",
        "        output = self.output_layer(h_t)\n",
        "        outputs = outputs.write(0,output)\n",
        "        t += 1\n",
        "        \n",
        "        # Use tensorflow conditional tf.less for graph mode\n",
        "        while tf.less(t, SEQ_LEN):\n",
        "            h_t = self.RNNcell(seq[:,t], h_t)\n",
        "            output = self.output_layer(h_t)\n",
        "            outputs = outputs.write(t,output)\n",
        "            t += 1\n",
        "        \n",
        "        # Transpose the TensorArray to get shape (BATCH_SIZE, Timesteps, output_size)\n",
        "        rnn_out = tf.transpose(outputs.stack(),perm=[1,0,2])\n",
        "        return rnn_out"
      ],
      "execution_count": 32,
      "outputs": []
    },
    {
      "cell_type": "markdown",
      "metadata": {
        "id": "cigodr5BPMCd"
      },
      "source": [
        "## Inspect RNN\r\n",
        "\r\n",
        "We sample one character for each timestep using the softmax output as distribution."
      ]
    },
    {
      "cell_type": "code",
      "metadata": {
        "colab": {
          "base_uri": "https://localhost:8080/"
        },
        "id": "b3uDseaMnjEy",
        "scrolled": false,
        "outputId": "77009c8d-8c45-4b60-f932-dfb8cba117e4"
      },
      "source": [
        "rnn = RNN(4096, len(vocab), 256)\n",
        "for input, target in dataset.take(1):\n",
        "    rnn_out = rnn(input)\n",
        "    print(f'Input: {text_from_ids(input[0])}\\n')\n",
        "    predicted_ids = tf.random.categorical(tf.math.log(rnn_out[0]), num_samples=1)\n",
        "    print(f'Prediction: {text_from_ids(predicted_ids)}\\n')\n",
        "\n",
        "rnn.summary()"
      ],
      "execution_count": 53,
      "outputs": [
        {
          "output_type": "stream",
          "text": [
            "Input: is good belly,\n",
            "And y\n",
            "\n",
            "Prediction: LhD!pJQnHs! hp-y,Y-Y\n",
            "\n",
            "Model: \"rnn\"\n",
            "_________________________________________________________________\n",
            "Layer (type)                 Output Shape              Param #   \n",
            "=================================================================\n",
            "ReadIn_layer (Embedding)     multiple                  16640     \n",
            "_________________________________________________________________\n",
            "rnn_cell (RNN_cell)          multiple                  17829888  \n",
            "_________________________________________________________________\n",
            "Readout_layer (Dense)        multiple                  266305    \n",
            "=================================================================\n",
            "Total params: 18,112,833\n",
            "Trainable params: 18,112,833\n",
            "Non-trainable params: 0\n",
            "_________________________________________________________________\n"
          ],
          "name": "stdout"
        }
      ]
    },
    {
      "cell_type": "markdown",
      "metadata": {
        "id": "QbNGw_ihLtI5"
      },
      "source": [
        "# Define LSTM"
      ]
    },
    {
      "cell_type": "code",
      "metadata": {
        "id": "8FsAwDp3Lvli"
      },
      "source": [
        "class LSTM_cell(Model):\n",
        "    def __init__(self, unit_size):\n",
        "        super(LSTM_cell, self).__init__()\n",
        "        self.forget_gate = tf.keras.layers.Dense(units=unit_size,\n",
        "                                                 activation='sigmoid',\n",
        "                                                 bias_initializer='ones',\n",
        "                                                 name='Forget_gate'\n",
        "                                                )\n",
        "        \n",
        "        self.input_gate = tf.keras.layers.Dense(units=unit_size,\n",
        "                                                activation='sigmoid',\n",
        "                                                name='Input_gate'\n",
        "                                               )\n",
        "        \n",
        "        self.candidates = tf.keras.layers.Dense(units=unit_size,\n",
        "                                                activation='tanh',\n",
        "                                                name='Candidate_layer'\n",
        "                                                )\n",
        "        \n",
        "        self.output_gate = tf.keras.layers.Dense(units=unit_size,\n",
        "                                                 activation='sigmoid',\n",
        "                                                 name='Output_gate'\n",
        "                                                )\n",
        "    \n",
        "    def call(self, x_t, states):\n",
        "        h_t, c_t = states\n",
        "        cell_input = tf.concat((x_t,h_t),1)\n",
        "\n",
        "        # Computing the filter\n",
        "        f_t = self.forget_gate(cell_input)\n",
        "        i_t = self.input_gate(cell_input)\n",
        "        candidates = self.candidates(cell_input)\n",
        "        o_t = self.output_gate(cell_input)\n",
        "        \n",
        "        # Computing the new states\n",
        "        c_t = f_t*c_t + i_t*candidates            \n",
        "        h_t = o_t*tf.nn.tanh(c_t)\n",
        "        \n",
        "        return (h_t,c_t)"
      ],
      "execution_count": 34,
      "outputs": []
    },
    {
      "cell_type": "code",
      "metadata": {
        "id": "KCMe-1uyMa2f"
      },
      "source": [
        "class LSTM(Model):\n",
        "    def __init__(self, state_size, vocab_size, embedding_size):\n",
        "        super(LSTM, self).__init__()\n",
        "        self.state_size = state_size\n",
        "\n",
        "        self.readin_layer = tf.keras.layers.Embedding(input_dim=vocab_size,\n",
        "                                                      output_dim=embedding_size,\n",
        "                                                      input_length=SEQ_LEN,\n",
        "                                                      name='ReadIn_layer'\n",
        "                                                      )\n",
        "        \n",
        "        self.LSTMcell = LSTM_cell(self.state_size)\n",
        "\n",
        "        self.output_layer = tf.keras.layers.Dense(units=vocab_size,\n",
        "                                                  activation='softmax',\n",
        "                                                  name='Readout_layer'\n",
        "                                                 )\n",
        "          \n",
        "    def call(self, seq):\n",
        "        t = tf.constant(0)\n",
        "        # Store the outputs of each timestep in a TensorArray\n",
        "        outputs = tf.TensorArray(tf.float32, size=SEQ_LEN)\n",
        "\n",
        "        seq = self.readin_layer(seq)\n",
        "\n",
        "\n",
        "        # First timestep; reset hidden state\n",
        "        h_t = tf.zeros((tf.shape(seq)[0],self.state_size))\n",
        "        c_t = tf.zeros((tf.shape(seq)[0],self.state_size))\n",
        "\n",
        "        h_t, c_t = self.LSTMcell(seq[:,t,:],\n",
        "                                 (h_t,c_t))\n",
        "\n",
        "        output = self.output_layer(h_t)\n",
        "        outputs = outputs.write(0,output)\n",
        "        t += 1\n",
        "        \n",
        "        # Use tensorflow conditional tf.less for graph mode\n",
        "        while tf.less(t, SEQ_LEN):\n",
        "            h_t, c_t = self.LSTMcell(seq[:,t,:],(h_t,c_t))\n",
        "\n",
        "            output = self.output_layer(h_t)\n",
        "            outputs = outputs.write(t,output)\n",
        "            t += 1\n",
        "        \n",
        "        # Transpose the TensorArray to get shape (BATCH_SIZE, Timesteps, output_size)\n",
        "        rnn_out = tf.transpose(outputs.stack(),perm=[1,0,2])\n",
        "        return rnn_out"
      ],
      "execution_count": 51,
      "outputs": []
    },
    {
      "cell_type": "code",
      "metadata": {
        "colab": {
          "base_uri": "https://localhost:8080/"
        },
        "scrolled": false,
        "id": "PcyINOP2MsMC",
        "outputId": "bd935466-70f6-44dd-b4bc-f32dd1b3b82e"
      },
      "source": [
        "lstm = LSTM(2048, len(vocab), 256)\n",
        "for input, target in dataset.take(1):\n",
        "    lstm_out = lstm(input)\n",
        "    print(f'Input: {text_from_ids(input[0])}\\n')\n",
        "    predicted_ids = tf.random.categorical(tf.math.log(lstm_out[0]), num_samples=1)\n",
        "    print(f'Prediction: {text_from_ids(predicted_ids)}\\n')\n",
        "\n",
        "lstm.summary()"
      ],
      "execution_count": 52,
      "outputs": [
        {
          "output_type": "stream",
          "text": [
            "Input: an 't please\n",
            "you, de\n",
            "\n",
            "Prediction: BxQ!sCU zswFnSrR$VSY\n",
            "\n",
            "Model: \"lstm_2\"\n",
            "_________________________________________________________________\n",
            "Layer (type)                 Output Shape              Param #   \n",
            "=================================================================\n",
            "ReadIn_layer (Embedding)     multiple                  16640     \n",
            "_________________________________________________________________\n",
            "lstm_cell_3 (LSTM_cell)      multiple                  18882560  \n",
            "_________________________________________________________________\n",
            "Readout_layer (Dense)        multiple                  133185    \n",
            "=================================================================\n",
            "Total params: 19,032,385\n",
            "Trainable params: 19,032,385\n",
            "Non-trainable params: 0\n",
            "_________________________________________________________________\n"
          ],
          "name": "stdout"
        }
      ]
    },
    {
      "cell_type": "markdown",
      "metadata": {
        "id": "xaAAaMgISMI0"
      },
      "source": [
        "# Define the training process"
      ]
    },
    {
      "cell_type": "markdown",
      "metadata": {
        "id": "ZSX3yFSK5aqJ"
      },
      "source": [
        "#### Function to plot the models performance"
      ]
    },
    {
      "cell_type": "code",
      "metadata": {
        "id": "3Qm4YKn_5aqJ"
      },
      "source": [
        "from IPython.display import clear_output\n",
        "\n",
        "def visualize_progress(num_epochs, epoch, train_losses):\n",
        "    clear_output(wait=True)\n",
        "    fig = plt.figure(figsize=(15,5))\n",
        "    plt.xlim((0,num_epochs))\n",
        "    plt.plot(train_losses,label='Training')\n",
        "    plt.ylabel('Loss',fontsize=24)\n",
        "    plt.xlabel('Epochs',fontsize=24)\n",
        "    plt.title(f'Epoch: {epoch+1}', fontweight='bold', fontsize=30)\n",
        "    plt.xticks(np.arange(0,num_epochs,2))\n",
        "    plt.legend()\n",
        "    plt.show() "
      ],
      "execution_count": 37,
      "outputs": []
    },
    {
      "cell_type": "code",
      "metadata": {
        "id": "wLUw0EhkKuba"
      },
      "source": [
        "def train_model(model, dataset, loss_function, optimizer, num_epochs):\n",
        "    running_average_factor = 0.95\n",
        "\n",
        "    # Initialize lists for later visualization.\n",
        "    train_losses = []\n",
        "    \n",
        "    # Train loop for num_epochs epochs.\n",
        "    for epoch in range(num_epochs):\n",
        "            \n",
        "        # Training\n",
        "        running_average_loss = 0\n",
        "        for input_seq, target_seq in dataset:\n",
        "            train_loss = train_step(model, input_seq, target_seq, loss_function, optimizer)\n",
        "            running_average_loss = running_average_factor * running_average_loss  + (1 - running_average_factor) * train_loss\n",
        "\n",
        "        train_losses.append(running_average_loss.numpy())\n",
        "\n",
        "        visualize_progress(num_epochs, epoch, train_losses)\n",
        "\n",
        "        # Look at one sequence and it's prediction\n",
        "        for input_seq, target_seq in dataset.take(1):\n",
        "            pred = model(input_seq)\n",
        "            print(f'Input: {text_from_ids(input_seq[0])}\\n')\n",
        "            predicted_ids = tf.random.categorical(tf.math.log(pred[0]), num_samples=1)\n",
        "            print(f'Prediction: {text_from_ids(predicted_ids)}\\n')\n",
        "            \n",
        "        # Display loss and accuracy for current epoch    \n",
        "        print(f'Epoch: __ {epoch+1}')\n",
        "        print('Train loss: ',running_average_loss.numpy())"
      ],
      "execution_count": 38,
      "outputs": []
    },
    {
      "cell_type": "markdown",
      "metadata": {
        "id": "bPEzh22pScXb"
      },
      "source": [
        "# Define training"
      ]
    },
    {
      "cell_type": "code",
      "metadata": {
        "id": "SVg42aU_xGpK"
      },
      "source": [
        "@tf.function\n",
        "def train_step(model, input_seq, target_seq, loss_function, optimizer):\n",
        "    with tf.GradientTape() as tape:\n",
        "        pred = model(input_seq)\n",
        "        loss = loss_function(target_seq, pred)\n",
        "        gradients = tape.gradient(loss, model.trainable_variables)\n",
        "    optimizer.apply_gradients(zip(gradients, model.trainable_variables))\n",
        "    return loss"
      ],
      "execution_count": 39,
      "outputs": []
    },
    {
      "cell_type": "markdown",
      "metadata": {
        "id": "RVsX0m0wsHCt"
      },
      "source": [
        "# Train RNN"
      ]
    },
    {
      "cell_type": "code",
      "metadata": {
        "colab": {
          "base_uri": "https://localhost:8080/",
          "height": 547
        },
        "id": "zYQSNB6Hr4w7",
        "scrolled": true,
        "outputId": "6c1f4734-e345-4d04-8275-a731795b284b"
      },
      "source": [
        "%%time\n",
        "tf.keras.backend.clear_session()\n",
        "\n",
        "learning_rate = 0.0001\n",
        "state_size = 4096\n",
        "embedding_size = 256\n",
        "epochs = 50\n",
        "\n",
        "# Initialize the loss\n",
        "# We use SparseCategoricalCrossentropy here\n",
        "# This way we don't have to onehot encode our targets and can just use the charID and the softmax prediction to calculate the loss\n",
        "loss_function = tf.keras.losses.SparseCategoricalCrossentropy()\n",
        "\n",
        "# Initialize the optimizer\n",
        "optimizer = tf.keras.optimizers.Adam(learning_rate)\n",
        "\n",
        "# Initialize model\n",
        "rnn = RNN(state_size, len(vocab), embedding_size)\n",
        "train_model(\n",
        "    model = rnn,\n",
        "    dataset = dataset,\n",
        "    num_epochs = epochs,\n",
        "    loss_function = loss_function,\n",
        "    optimizer = optimizer\n",
        ")"
      ],
      "execution_count": 40,
      "outputs": [
        {
          "output_type": "display_data",
          "data": {
            "image/png": "[encoded data removed]",
            "text/plain": [
              "<Figure size 1080x360 with 1 Axes>"
            ]
          },
          "metadata": {
            "tags": [],
            "needs_background": "light"
          }
        },
        {
          "output_type": "stream",
          "text": [
            "Input: tizen:\n",
            "Well, sir, wh\n",
            "\n",
            "Prediction:  cen:\n",
            "Yell, sir, wha\n",
            "\n",
            "Epoch: __ 50\n",
            "Train loss:  0.42283934\n",
            "CPU times: user 27min 22s, sys: 3min 50s, total: 31min 12s\n",
            "Wall time: 1h 29min 19s\n"
          ],
          "name": "stdout"
        }
      ]
    },
    {
      "cell_type": "code",
      "metadata": {
        "colab": {
          "base_uri": "https://localhost:8080/"
        },
        "id": "T6x5-gXNqiG4",
        "outputId": "1242dafc-1ed7-4fd3-fe87-95f6cc9f273c"
      },
      "source": [
        "rnn.summary()"
      ],
      "execution_count": 41,
      "outputs": [
        {
          "output_type": "stream",
          "text": [
            "Model: \"rnn\"\n",
            "_________________________________________________________________\n",
            "Layer (type)                 Output Shape              Param #   \n",
            "=================================================================\n",
            "ReadIn_layer (Embedding)     multiple                  16640     \n",
            "_________________________________________________________________\n",
            "rnn_cell (RNN_cell)          multiple                  17829888  \n",
            "_________________________________________________________________\n",
            "Readout_layer (Dense)        multiple                  266305    \n",
            "=================================================================\n",
            "Total params: 18,112,833\n",
            "Trainable params: 18,112,833\n",
            "Non-trainable params: 0\n",
            "_________________________________________________________________\n"
          ],
          "name": "stdout"
        }
      ]
    },
    {
      "cell_type": "markdown",
      "metadata": {
        "id": "Sh3Z3hxRkBb-"
      },
      "source": [
        "# Create Text"
      ]
    },
    {
      "cell_type": "code",
      "metadata": {
        "colab": {
          "base_uri": "https://localhost:8080/"
        },
        "id": "p_DoMyIYqpOH",
        "outputId": "ae03e5fb-029a-40db-c05c-1ce6ecc18def"
      },
      "source": [
        "def generate_text(in_seq, length=1000):\r\n",
        "    input_ids = np.array([char2id[char] for char in in_seq])    \r\n",
        "\r\n",
        "    output_text = in_seq\r\n",
        "    states=None\r\n",
        "\r\n",
        "    for _ in range(length):\r\n",
        "        input_id_tensor = tf.convert_to_tensor(input_ids)\r\n",
        "        # Add batch dimension\r\n",
        "        input_id_tensor = tf.expand_dims(input_ids,0)\r\n",
        "\r\n",
        "        rnn_out = rnn(input_id_tensor)\r\n",
        "        predicted_ids = tf.random.categorical(tf.math.log(rnn_out[0]), num_samples=1)\r\n",
        "        input_ids = np.delete(input_ids,0)\r\n",
        "        input_ids = np.append(input_ids, tf.squeeze(predicted_ids).numpy()[-1])\r\n",
        "        output_text += text_from_ids(predicted_ids)[-1]\r\n",
        "\r\n",
        "    print(output_text)\r\n",
        "\r\n",
        "generate_text('What do you think of')"
      ],
      "execution_count": 43,
      "outputs": [
        {
          "output_type": "stream",
          "text": [
            "What do you think of Hostandies.\n",
            "Raisin way the deligsted then with honest was friend him Rome, but knows he had be all, to a goos light!\n",
            "\n",
            "BUCKININES:\n",
            "You know the steal neter, elver. A perpatate, and to see this instane a\n",
            "didones for the\n",
            "evords: see wherefore? abe the grave a will; but keep woust my father's slave,\n",
            "and ghen with her, Master Earl of sir, repare than o'er the chorestisen's foolshapes her by had sobotite words.\n",
            "\n",
            "ANFILO:\n",
            "You are a thousand souls,\n",
            "why, old be grandous lord ribhous to the way be valient end against him:\n",
            "He im gorates i' Keepicy,\n",
            "What since ' thank you. At that possessice\n",
            "Shall straight deal downrnal and by have to'en you hear dose seen a dozence; if I dangly teath,\n",
            "Where's Pagains what 'lave? way for a halffal larr's custom.\n",
            "\n",
            "ISABELLA:\n",
            "O, will you me so fured,\n",
            "Bit gull be no so, sir; that you might profess sonce.\n",
            "Bet one on her. That Appry and unant at.\n",
            "\n",
            "DUKE VINCENTIO:\n",
            "Sir, in my poor brother's life:-live, no anmighous to gue be woo: and left,\n",
            "Master Liee in manner.\n",
            "\n",
            "PERDITA:\n"
          ],
          "name": "stdout"
        }
      ]
    },
    {
      "cell_type": "markdown",
      "metadata": {
        "id": "FmxOFmYsOA7X"
      },
      "source": [
        "# Train LSTM\r\n",
        "\r\n",
        "After seeing the results we decided to also use our LSTM from the last homework."
      ]
    },
    {
      "cell_type": "code",
      "metadata": {
        "id": "S0V_5NdePFMX"
      },
      "source": [
        "@tf.function\n",
        "def train_step(model, input_seq, target_seq, loss_function, optimizer):\n",
        "    with tf.GradientTape() as tape:\n",
        "        pred = model(input_seq)\n",
        "        loss = loss_function(target_seq, pred)\n",
        "        gradients = tape.gradient(loss, model.trainable_variables)\n",
        "    optimizer.apply_gradients(zip(gradients, model.trainable_variables))\n",
        "    return loss"
      ],
      "execution_count": 56,
      "outputs": []
    },
    {
      "cell_type": "code",
      "metadata": {
        "colab": {
          "base_uri": "https://localhost:8080/",
          "height": 513
        },
        "scrolled": true,
        "id": "oXmWALmIN8d3",
        "outputId": "7e18a48a-5608-4b8c-8d5f-06888ea5d339"
      },
      "source": [
        "%%time\n",
        "tf.keras.backend.clear_session()\n",
        "\n",
        "learning_rate = 0.001\n",
        "state_size = 4096\n",
        "embedding_size = 256\n",
        "epochs = 25\n",
        "\n",
        "# Initialize the loss\n",
        "# We use SparseCategoricalCrossentropy here\n",
        "# This way we don't have to onehot encode our targets and can just use the charID and the softmax prediction to calculate the loss\n",
        "loss_function = tf.keras.losses.SparseCategoricalCrossentropy()\n",
        "\n",
        "# Initialize the optimizer\n",
        "optimizer = tf.keras.optimizers.Adam(learning_rate)\n",
        "\n",
        "# Initialize model\n",
        "lstm = LSTM(state_size, len(vocab), embedding_size)\n",
        "train_model(\n",
        "    model = lstm,\n",
        "    dataset = dataset,\n",
        "    num_epochs = epochs,\n",
        "    loss_function = loss_function,\n",
        "    optimizer = optimizer\n",
        ")"
      ],
      "execution_count": 57,
      "outputs": [
        {
          "output_type": "display_data",
          "data": {
            "image/png": "[encoded data removed]",
            "text/plain": [
              "<Figure size 1080x360 with 1 Axes>"
            ]
          },
          "metadata": {
            "tags": [],
            "needs_background": "light"
          }
        },
        {
          "output_type": "stream",
          "text": [
            "Input: ncorporate friends,'\n",
            "\n",
            "Prediction: datporate fliend,,' \n",
            "\n",
            "Epoch: __ 25\n",
            "Train loss:  0.548664\n",
            "CPU times: user 31min 30s, sys: 4min 42s, total: 36min 12s\n",
            "Wall time: 2h 56min 7s\n"
          ],
          "name": "stdout"
        }
      ]
    },
    {
      "cell_type": "code",
      "metadata": {
        "colab": {
          "base_uri": "https://localhost:8080/"
        },
        "id": "jNOe2EYyQlyR",
        "outputId": "a94435e0-142a-408f-9558-8fe7ea19abe9"
      },
      "source": [
        "lstm.summary()"
      ],
      "execution_count": 58,
      "outputs": [
        {
          "output_type": "stream",
          "text": [
            "Model: \"lstm\"\n",
            "_________________________________________________________________\n",
            "Layer (type)                 Output Shape              Param #   \n",
            "=================================================================\n",
            "ReadIn_layer (Embedding)     multiple                  16640     \n",
            "_________________________________________________________________\n",
            "lstm_cell (LSTM_cell)        multiple                  71319552  \n",
            "_________________________________________________________________\n",
            "Readout_layer (Dense)        multiple                  266305    \n",
            "=================================================================\n",
            "Total params: 71,602,497\n",
            "Trainable params: 71,602,497\n",
            "Non-trainable params: 0\n",
            "_________________________________________________________________\n"
          ],
          "name": "stdout"
        }
      ]
    },
    {
      "cell_type": "markdown",
      "metadata": {
        "id": "Cdj1OQ5PO3G-"
      },
      "source": [
        "# Create Text"
      ]
    },
    {
      "cell_type": "code",
      "metadata": {
        "colab": {
          "base_uri": "https://localhost:8080/"
        },
        "id": "U3mG_t10O1fR",
        "outputId": "2afdee26-d52f-424f-b1e6-334a4905673c"
      },
      "source": [
        "def generate_text(in_seq, length=1000):\r\n",
        "    input_ids = np.array([char2id[char] for char in in_seq])    \r\n",
        "\r\n",
        "    output_text = in_seq\r\n",
        "    states=None\r\n",
        "\r\n",
        "    for _ in range(length):\r\n",
        "        input_id_tensor = tf.convert_to_tensor(input_ids)\r\n",
        "        # Add batch dimension\r\n",
        "        input_id_tensor = tf.expand_dims(input_ids,0)\r\n",
        "\r\n",
        "        lstm_out = lstm(input_id_tensor)\r\n",
        "        predicted_ids = tf.random.categorical(tf.math.log(lstm_out[0]), num_samples=1)\r\n",
        "        input_ids = np.delete(input_ids,0)\r\n",
        "        input_ids = np.append(input_ids, tf.squeeze(predicted_ids).numpy()[-1])\r\n",
        "        output_text += text_from_ids(predicted_ids)[-1]\r\n",
        "\r\n",
        "    print(output_text)\r\n",
        "\r\n",
        "generate_text('What do you think of')"
      ],
      "execution_count": 60,
      "outputs": [
        {
          "output_type": "stream",
          "text": [
            "What do you think of stags,\n",
            "As to a feel dwell inmedits to melanchy, breach in heavier what his bind stand I ben content yourselves? I do advant you, this is your honour will continue to instruct him, our mother's, I will go all so frames\n",
            "As office as the view that kise my meeds,\n",
            "which yet hath forsome forfeit oncl;\n",
            "And I thank thee thus high strange,\n",
            "And I should kind my husband;\n",
            "And of his office, with surery and as he,\n",
            "sick for them now, nay not you?\n",
            "\n",
            "RICHORD:\n",
            "Gremio?\n",
            "\n",
            "GREMIO:\n",
            "What's he?\n",
            "\n",
            "Proviste\n",
            "Is fill my father,'s singly, savour'st to my soul: now are well upond\n",
            "These two affictless remutation of this peace and gracious for\n",
            ",rements, but I emper ye were here!\n",
            "Thy fortunes is my brother's life and leave at me, the people you shall perceive;\n",
            "Scome his honour than he\n",
            "Dare mine arms about him, for I knew no shame on her,\n",
            "As he is a come that now in place and less! Then\n",
            "let me have you no?\n",
            "\n",
            "GRUMIO:\n",
            "Well, sir.\n",
            "\n",
            "SICINIUS:\n",
            "Let me see them is amazento traitors! 'Twas your fault, I know him; for I do repait \n"
          ],
          "name": "stdout"
        }
      ]
    }
  ]
}