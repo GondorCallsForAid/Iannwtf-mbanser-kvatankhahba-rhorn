{
  "nbformat": 4,
  "nbformat_minor": 0,
  "metadata": {
    "accelerator": "GPU",
    "colab": {
      "name": "Text Generation.ipynb",
      "provenance": [],
      "collapsed_sections": [
        "n6FGw1n448no"
      ]
    },
    "kernelspec": {
      "display_name": "Python 3",
      "language": "python",
      "name": "python3"
    },
    "language_info": {
      "codemirror_mode": {
        "name": "ipython",
        "version": 3
      },
      "file_extension": ".py",
      "mimetype": "text/x-python",
      "name": "python",
      "nbconvert_exporter": "python",
      "pygments_lexer": "ipython3",
      "version": "3.7.9"
    }
  },
  "cells": [
    {
      "cell_type": "markdown",
      "metadata": {
        "id": "YueqPXMqPMCM"
      },
      "source": [
        "# Character based text Generation"
      ]
    },
    {
      "cell_type": "markdown",
      "metadata": {
        "id": "SrdSjGGAPMCW"
      },
      "source": [
        "#### Tell colab what version to use"
      ]
    },
    {
      "cell_type": "code",
      "metadata": {
        "id": "v2Gju4hgPMCW"
      },
      "source": [
        "%tensorflow_version 2.x"
      ],
      "execution_count": 2,
      "outputs": []
    },
    {
      "cell_type": "markdown",
      "metadata": {
        "id": "rqrTLTOD4w7Q"
      },
      "source": [
        "## Import standard Libraries"
      ]
    },
    {
      "cell_type": "code",
      "metadata": {
        "id": "bvCeupatKuau"
      },
      "source": [
        "import numpy as np\n",
        "import tensorflow as tf\n",
        "import tensorflow_datasets as tfds\n",
        "import matplotlib.pyplot as plt\n",
        "from tensorflow.keras import Model"
      ],
      "execution_count": 3,
      "outputs": []
    },
    {
      "cell_type": "markdown",
      "metadata": {
        "id": "9Ll0Wp2OTosQ"
      },
      "source": [
        "# Load data\r\n",
        "\r\n",
        "Convert to string"
      ]
    },
    {
      "cell_type": "code",
      "metadata": {
        "id": "12bpAFQy6Hnk",
        "colab": {
          "base_uri": "https://localhost:8080/"
        },
        "outputId": "c2b04250-8bfe-4a27-a16c-3c12777c33ba"
      },
      "source": [
        "shakespeare = tfds.load('tiny_shakespeare')['train']\n",
        "shakespeare = next(iter(shakespeare))\n",
        "shakespeare = shakespeare['text'].numpy().decode('utf-8')\n",
        "print(shakespeare[:100])"
      ],
      "execution_count": 6,
      "outputs": [
        {
          "output_type": "stream",
          "text": [
            "First Citizen:\n",
            "Before we proceed any further, hear me speak.\n",
            "\n",
            "All:\n",
            "Speak, speak.\n",
            "\n",
            "First Citizen:\n",
            "You\n"
          ],
          "name": "stdout"
        }
      ]
    },
    {
      "cell_type": "markdown",
      "metadata": {
        "id": "9BewAIUjPMCY"
      },
      "source": [
        "# Prepare the dataset\r\n",
        "\r\n",
        "We cen use python dictonaries to convert our chars to IDs or we use keras' StringLookup layer.\r\n",
        "Using the StringLookup layer is more convenient, because we don't have to convert back and forth between tensors and numpy arrays to loop through.  \r\n",
        "But the StringLookup layer also adds two additional vocabolary entries (' ', and '[UNK]') that we have to be aware of when translating predicted IDs back to text, as we don't want to sample those entries."
      ]
    },
    {
      "cell_type": "markdown",
      "metadata": {
        "id": "n6FGw1n448no"
      },
      "source": [
        "## Using dict"
      ]
    },
    {
      "cell_type": "code",
      "metadata": {
        "id": "ZsEGBvMtqKYS"
      },
      "source": [
        "# Function to get a string out of a tensor with char IDs\r\n",
        "def text_from_ids(id_tensor):\r\n",
        "    return ''.join([id2char[char] for char in id_tensor.numpy().flatten()])"
      ],
      "execution_count": 348,
      "outputs": []
    },
    {
      "cell_type": "code",
      "metadata": {
        "colab": {
          "base_uri": "https://localhost:8080/"
        },
        "id": "WWKCSK2y46rs",
        "outputId": "31e65ff7-07c7-4f18-ef6f-01aeb575ea0a"
      },
      "source": [
        "# Create vocabulary\n",
        "vocab = set(shakespeare)\n",
        "\n",
        "# Use dictionaries to translate characters to IDs and back\n",
        "char2id = {char:id for id, char in enumerate(vocab)}\n",
        "id2char = {id:char for char,id in char2id.items()}\n",
        "\n",
        "# Translate the shakespeare text to IDs\n",
        "text_ids = [char2id[char] for char in shakespeare]\n",
        "\n",
        "# Test \n",
        "print(text_ids[:20])"
      ],
      "execution_count": 328,
      "outputs": [
        {
          "output_type": "stream",
          "text": [
            "[40, 63, 36, 5, 27, 7, 39, 63, 27, 63, 41, 16, 64, 28, 18, 51, 16, 53, 2, 36]\n"
          ],
          "name": "stdout"
        }
      ]
    },
    {
      "cell_type": "markdown",
      "metadata": {
        "id": "A7DljT8ZqreC"
      },
      "source": [
        "### Create the sequences"
      ]
    },
    {
      "cell_type": "code",
      "metadata": {
        "colab": {
          "base_uri": "https://localhost:8080/"
        },
        "id": "vKU1xipXqe0y",
        "outputId": "be7f809f-242a-45db-ac82-1d5cf474ec5a"
      },
      "source": [
        "SEQ_LEN = 20 #@param [\"20\", \"50\", \"100\"] {type:\"raw\"}\r\n",
        "\r\n",
        "# Create dataset of sequences\r\n",
        "ids_dataset = tf.data.Dataset.from_tensor_slices(text_ids)\r\n",
        "# 'drop_remainder' drops the last batch if it's smaller than batch_size\r\n",
        "seq_dataset = ids_dataset.batch(batch_size=SEQ_LEN+1, \r\n",
        "                                drop_remainder=True)\r\n",
        "\r\n",
        "# Look at first sequence\r\n",
        "for seq in seq_dataset.take(1):\r\n",
        "    print(text_from_ids(seq))"
      ],
      "execution_count": 349,
      "outputs": [
        {
          "output_type": "stream",
          "text": [
            "First Citizen:\n",
            "Before\n"
          ],
          "name": "stdout"
        }
      ]
    },
    {
      "cell_type": "markdown",
      "metadata": {
        "id": "kOhNfDMwqwDi"
      },
      "source": [
        "### Create dataset of (input, target)-pairs"
      ]
    },
    {
      "cell_type": "code",
      "metadata": {
        "colab": {
          "base_uri": "https://localhost:8080/"
        },
        "id": "xf_F64iiqemK",
        "outputId": "573a6014-07b7-46a7-e916-57fcdab84c02"
      },
      "source": [
        "BATCH_SIZE = 64 #@param [\"32\", \"64\", \"128\"] {type:\"raw\"}\r\n",
        "BUFFER_SIZE = 1000 #@param [\"1000\", \"10000\", \"100000\"] {type:\"raw\"}\r\n",
        "\r\n",
        "# Create Datasets and make sure minibatches all have same size\r\n",
        "dataset = seq_dataset.map(lambda seq: (seq[:-1],seq[1:]),\r\n",
        "                          num_parallel_calls=tf.data.experimental.AUTOTUNE)\r\n",
        "\r\n",
        "# Shuffle the data\r\n",
        "dataset = dataset.shuffle(BUFFER_SIZE)\r\n",
        "\r\n",
        "# Create minibatches\r\n",
        "dataset = dataset.batch(BATCH_SIZE,drop_remainder=True)\r\n",
        "\r\n",
        "# Prefetch the data\r\n",
        "dataset = dataset.prefetch(tf.data.experimental.AUTOTUNE)\r\n",
        "\r\n",
        "dataset"
      ],
      "execution_count": 331,
      "outputs": [
        {
          "output_type": "execute_result",
          "data": {
            "text/plain": [
              "<PrefetchDataset shapes: ((64, 20), (64, 20)), types: (tf.int32, tf.int32)>"
            ]
          },
          "metadata": {
            "tags": []
          },
          "execution_count": 331
        }
      ]
    },
    {
      "cell_type": "markdown",
      "metadata": {
        "id": "AQ_4gskO6-ij"
      },
      "source": [
        "## Using StringLookup"
      ]
    },
    {
      "cell_type": "code",
      "metadata": {
        "id": "5AvHG92kl-Gw"
      },
      "source": [
        "# Function to get a string out of a tensor with char IDs\r\n",
        "def text_from_ids(id_tensor):\r\n",
        "    return tf.strings.reduce_join(id2char(id_tensor)).numpy().decode('utf-8')"
      ],
      "execution_count": 135,
      "outputs": []
    },
    {
      "cell_type": "code",
      "metadata": {
        "colab": {
          "base_uri": "https://localhost:8080/"
        },
        "id": "TjvDDQEmzyxk",
        "outputId": "774511f1-7414-45ca-a4b8-6e622259de0a"
      },
      "source": [
        "from tensorflow.keras.layers.experimental.preprocessing import StringLookup\r\n",
        "\r\n",
        "# Create a tensor containing the text as a list of characters\r\n",
        "text_tensor = tf.strings.unicode_split(shakespeare, 'UTF-8')\r\n",
        "\r\n",
        "# Use the StringLookup layer to translate characters to IDs and back\r\n",
        "char2id = StringLookup(vocabulary=list(set(shakespeare)))\r\n",
        "id2char = StringLookup(vocabulary=char2id.get_vocabulary(), invert=True)\r\n",
        "\r\n",
        "# Create vocabulary (use the StringLookup vocabulary because that contains padding and unknown characters at indeces '0' and '1')\r\n",
        "vocab = char2id.get_vocabulary()\r\n",
        "\r\n",
        "# Translate the shakespeare text to IDs\r\n",
        "text_ids = char2id(text_tensor)\r\n",
        "\r\n",
        "# Test \r\n",
        "print(text_ids)"
      ],
      "execution_count": 252,
      "outputs": [
        {
          "output_type": "stream",
          "text": [
            "tf.Tensor([42 65 38 ... 18 38 18], shape=(1003854,), dtype=int64)\n"
          ],
          "name": "stdout"
        }
      ]
    },
    {
      "cell_type": "markdown",
      "metadata": {
        "id": "adxt2_Ps0OPv"
      },
      "source": [
        "### Create the sequences"
      ]
    },
    {
      "cell_type": "code",
      "metadata": {
        "id": "eUN2xZfhPMCY",
        "colab": {
          "base_uri": "https://localhost:8080/"
        },
        "outputId": "c947bfc7-43d0-40c2-c9ea-843bc82b298c"
      },
      "source": [
        "SEQ_LEN = 20 #@param [\"20\", \"50\", \"100\"] {type:\"raw\"}\n",
        "\n",
        "# Create dataset of sequences\n",
        "ids_dataset = tf.data.Dataset.from_tensor_slices(text_ids)\n",
        "# 'drop_remainder' drops the last batch if it's smaller than batch_size\n",
        "seq_dataset = ids_dataset.batch(batch_size=SEQ_LEN+1, \n",
        "                                drop_remainder=True)\n",
        "\n",
        "# Look at first sequence\n",
        "for seq in seq_dataset.take(1):\n",
        "    print(text_from_ids(seq))"
      ],
      "execution_count": 255,
      "outputs": [
        {
          "output_type": "stream",
          "text": [
            "First Citizen:\n",
            "Before\n"
          ],
          "name": "stdout"
        }
      ]
    },
    {
      "cell_type": "markdown",
      "metadata": {
        "id": "hTa0XG8m_UQs"
      },
      "source": [
        "### Create dataset of (input, target)-pairs"
      ]
    },
    {
      "cell_type": "code",
      "metadata": {
        "colab": {
          "base_uri": "https://localhost:8080/"
        },
        "id": "9Gjp3f7eA71e",
        "outputId": "deeb5757-d04e-430b-b5c6-86432e61207c"
      },
      "source": [
        "BATCH_SIZE = 64 #@param [\"32\", \"64\", \"128\"] {type:\"raw\"}\n",
        "BUFFER_SIZE = 1000 #@param [\"1000\", \"10000\", \"100000\"] {type:\"raw\"}\n",
        "\n",
        "# Create Datasets and make sure minibatches all have same size\n",
        "dataset = seq_dataset.map(lambda seq: (seq[:-1],seq[1:]),\n",
        "                          num_parallel_calls=tf.data.experimental.AUTOTUNE)\n",
        "\n",
        "# Shuffle the data\n",
        "dataset = dataset.shuffle(BUFFER_SIZE)\n",
        "\n",
        "# Create minibatches\n",
        "dataset = dataset.batch(BATCH_SIZE,drop_remainder=True)\n",
        "\n",
        "# Prefetch the data\n",
        "dataset = dataset.prefetch(tf.data.experimental.AUTOTUNE)\n",
        "\n",
        "dataset"
      ],
      "execution_count": 256,
      "outputs": [
        {
          "output_type": "execute_result",
          "data": {
            "text/plain": [
              "<PrefetchDataset shapes: ((64, 20), (64, 20)), types: (tf.int64, tf.int64)>"
            ]
          },
          "metadata": {
            "tags": []
          },
          "execution_count": 256
        }
      ]
    },
    {
      "cell_type": "markdown",
      "metadata": {
        "id": "WbGAxd2ATM-d"
      },
      "source": [
        "# Inspect the dataset"
      ]
    },
    {
      "cell_type": "code",
      "metadata": {
        "colab": {
          "base_uri": "https://localhost:8080/"
        },
        "id": "jld3SeZLtmSn",
        "outputId": "8086a234-ef65-4ae3-d01b-73fc856b49ee"
      },
      "source": [
        "for input, target in dataset.take(1):\r\n",
        "    print(f'Input-target pair:\\n{input[0], target[0]}')\r\n",
        "    print(f'\\nInput:  {text_from_ids(input[0])}\\nTarget:  {text_from_ids(target[0])}')"
      ],
      "execution_count": 350,
      "outputs": [
        {
          "output_type": "stream",
          "text": [
            "Input-target pair:\n",
            "(<tf.Tensor: shape=(20,), dtype=int32, numpy=\n",
            "array([35, 56, 24, 56, 35, 30,  7, 63, 64, 24, 16, 16, 24, 34,  7, 61,  7,\n",
            "       35, 59,  5], dtype=int32)>, <tf.Tensor: shape=(20,), dtype=int32, numpy=\n",
            "array([56, 24, 56, 35, 30,  7, 63, 64, 24, 16, 16, 24, 34,  7, 61,  7, 35,\n",
            "       59,  5, 27], dtype=int32)>)\n",
            "\n",
            "Input:  madam; indeed, I mus\n",
            "Target:  adam; indeed, I must\n"
          ],
          "name": "stdout"
        }
      ]
    },
    {
      "cell_type": "markdown",
      "metadata": {
        "id": "78C9GeJq5ap7"
      },
      "source": [
        "# Define RNN cell\r\n",
        "\r\n",
        "We define our weight matrizes as simple dense layers without activation.  \r\n",
        "It's important to not use a bias in the input layer."
      ]
    },
    {
      "cell_type": "code",
      "metadata": {
        "id": "8nuXgjbz5ap8"
      },
      "source": [
        "class RNN_cell(Model):\n",
        "    def __init__(self, state_size):\n",
        "        super(RNN_cell, self).__init__()\n",
        "        # W_xh\n",
        "        self.input_weights = tf.keras.layers.Dense(units=state_size,\n",
        "                                                   activation=None,\n",
        "                                                   use_bias = False,\n",
        "                                                   name='Input_layer'\n",
        "                                                   )\n",
        "        # W_hh+b_h\n",
        "        self.hidden_weights = tf.keras.layers.Dense(units=state_size,\n",
        "                                                    activation=None,\n",
        "                                                    name='Hidden_layer'\n",
        "                                                    )\n",
        "        \n",
        "    def call(self, x_t, h_t):\n",
        "        # Computing the new hidden state\n",
        "        # h_t = sigmoid(x_t*W_xh + h_t*W_hh+b_h)\n",
        "        h_t = tf.keras.activations.sigmoid(self.input_weights(x_t)+self.hidden_weights(h_t))        \n",
        "        return h_t"
      ],
      "execution_count": 335,
      "outputs": []
    },
    {
      "cell_type": "markdown",
      "metadata": {
        "id": "JQtSdBNuPMCc"
      },
      "source": [
        "## Inspect RNN cell"
      ]
    },
    {
      "cell_type": "code",
      "metadata": {
        "colab": {
          "base_uri": "https://localhost:8080/"
        },
        "id": "p_n95rjnnjEx",
        "scrolled": false,
        "outputId": "3ca6deed-fad8-4792-bb2b-306a36484be7"
      },
      "source": [
        "cell = RNN_cell(128)\n",
        "_ = cell(tf.ones((BATCH_SIZE,64)),\n",
        "         tf.zeros((BATCH_SIZE,128))\n",
        "        )\n",
        "cell.summary()"
      ],
      "execution_count": 337,
      "outputs": [
        {
          "output_type": "stream",
          "text": [
            "Model: \"rnn_cell_2\"\n",
            "_________________________________________________________________\n",
            "Layer (type)                 Output Shape              Param #   \n",
            "=================================================================\n",
            "Input_layer (Dense)          multiple                  8192      \n",
            "_________________________________________________________________\n",
            "Hidden_layer (Dense)         multiple                  16512     \n",
            "=================================================================\n",
            "Total params: 24,704\n",
            "Trainable params: 24,704\n",
            "Non-trainable params: 0\n",
            "_________________________________________________________________\n"
          ],
          "name": "stdout"
        }
      ]
    },
    {
      "cell_type": "markdown",
      "metadata": {
        "id": "xoCo3FewJgEy"
      },
      "source": [
        "# Define RNN"
      ]
    },
    {
      "cell_type": "code",
      "metadata": {
        "id": "0d6lQLW55ap_"
      },
      "source": [
        "class RNN(Model):\n",
        "    def __init__(self, state_size, vocab_size, embedding_size):\n",
        "        super(RNN, self).__init__()\n",
        "        self.state_size = state_size\n",
        "\n",
        "        self.readin_layer = tf.keras.layers.Embedding(input_dim=vocab_size,\n",
        "                                                      output_dim=embedding_size,\n",
        "                                                      input_length=SEQ_LEN,\n",
        "                                                      name='ReadIn_layer'\n",
        "                                                      )\n",
        "        \n",
        "        self.RNNcell = RNN_cell(self.state_size)\n",
        "\n",
        "        self.output_layer = tf.keras.layers.Dense(units=vocab_size,\n",
        "                                                  activation='softmax',\n",
        "                                                  name='Readout_layer'\n",
        "                                                 )\n",
        "          \n",
        "    def call(self, seq):\n",
        "        t = tf.constant(0)\n",
        "        # Store the outputs of each timestep in a TensorArray\n",
        "        outputs = tf.TensorArray(tf.float32, size=SEQ_LEN)\n",
        "\n",
        "        seq = self.readin_layer(seq)\n",
        "\n",
        "        # First timestep; reset hidden state\n",
        "        h_t = tf.zeros((BATCH_SIZE,self.state_size))\n",
        "\n",
        "        h_t = self.RNNcell(seq[:,t], h_t)\n",
        "        \n",
        "        output = self.output_layer(h_t)\n",
        "        outputs = outputs.write(0,output)\n",
        "        t += 1\n",
        "        \n",
        "        # Use tensorflow conditional tf.less for graph mode\n",
        "        while tf.less(t, SEQ_LEN):\n",
        "            h_t = self.RNNcell(seq[:,t], h_t)\n",
        "            output = self.output_layer(h_t)\n",
        "            outputs = outputs.write(t,output)\n",
        "            t += 1\n",
        "        \n",
        "        # Transpose the TensorArray to get shape (BATCH_SIZE, Timesteps, output_size)\n",
        "        rnn_out = tf.transpose(outputs.stack(),perm=[1,0,2])\n",
        "        return rnn_out"
      ],
      "execution_count": 338,
      "outputs": []
    },
    {
      "cell_type": "markdown",
      "metadata": {
        "id": "cigodr5BPMCd"
      },
      "source": [
        "## Inspect RNN\r\n",
        "\r\n",
        "We sample one character for each timestep using the softmax output as distribution."
      ]
    },
    {
      "cell_type": "code",
      "metadata": {
        "colab": {
          "base_uri": "https://localhost:8080/"
        },
        "id": "b3uDseaMnjEy",
        "scrolled": false,
        "outputId": "3a37f526-b492-468a-8ae7-42eb484f7e15"
      },
      "source": [
        "rnn = RNN(128, len(vocab), 64)\n",
        "for input, target in dataset.take(1):\n",
        "    rnn_out = rnn(input)\n",
        "    print(f'Input: {text_from_ids(input[0])}\\n')\n",
        "    predicted_ids = tf.random.categorical(rnn_out[0], num_samples=1)\n",
        "    print(f'Prediction: {text_from_ids(predicted_ids)}\\n')\n",
        "\n",
        "rnn.summary()"
      ],
      "execution_count": 354,
      "outputs": [
        {
          "output_type": "stream",
          "text": [
            "Input:  at first,\n",
            "Which you\n",
            "\n",
            "Prediction: QhMdPJi3TaD3d!T:?Zwo\n",
            "\n",
            "Model: \"rnn_12\"\n",
            "_________________________________________________________________\n",
            "Layer (type)                 Output Shape              Param #   \n",
            "=================================================================\n",
            "ReadIn_layer (Embedding)     multiple                  4160      \n",
            "_________________________________________________________________\n",
            "rnn_cell_14 (RNN_cell)       multiple                  24704     \n",
            "_________________________________________________________________\n",
            "Readout_layer (Dense)        multiple                  8385      \n",
            "=================================================================\n",
            "Total params: 37,249\n",
            "Trainable params: 37,249\n",
            "Non-trainable params: 0\n",
            "_________________________________________________________________\n"
          ],
          "name": "stdout"
        }
      ]
    },
    {
      "cell_type": "markdown",
      "metadata": {
        "id": "xaAAaMgISMI0"
      },
      "source": [
        "# Define the training process"
      ]
    },
    {
      "cell_type": "markdown",
      "metadata": {
        "id": "ZSX3yFSK5aqJ"
      },
      "source": [
        "#### Function to plot the models performance"
      ]
    },
    {
      "cell_type": "code",
      "metadata": {
        "id": "3Qm4YKn_5aqJ"
      },
      "source": [
        "from IPython.display import clear_output\n",
        "\n",
        "def visualize_progress(num_epochs, epoch, train_losses):\n",
        "    clear_output(wait=True)\n",
        "    fig = plt.figure(figsize=(15,5))\n",
        "    plt.xlim((0,num_epochs))\n",
        "    plt.plot(train_losses,label='Training')\n",
        "    plt.ylabel('Loss',fontsize=24)\n",
        "    plt.xlabel('Epochs',fontsize=24)\n",
        "    plt.title(f'Epoch: {epoch+1}', fontweight='bold', fontsize=30)\n",
        "    plt.xticks(np.arange(0,num_epochs,2))\n",
        "    plt.legend()\n",
        "    plt.show() "
      ],
      "execution_count": 355,
      "outputs": []
    },
    {
      "cell_type": "code",
      "metadata": {
        "id": "wLUw0EhkKuba"
      },
      "source": [
        "def train_model(model, dataset, loss_function, optimizer, num_epochs):\n",
        "    running_average_factor = 0.95\n",
        "\n",
        "    # Initialize lists for later visualization.\n",
        "    train_losses = []\n",
        "    \n",
        "    # Train loop for num_epochs epochs.\n",
        "    for epoch in range(num_epochs):\n",
        "            \n",
        "        # Training\n",
        "        running_average_loss = 0\n",
        "        for input_seq, target_seq in dataset:\n",
        "            train_loss = train_step(model, input_seq, target_seq, loss_function, optimizer)\n",
        "            running_average_loss = running_average_factor * running_average_loss  + (1 - running_average_factor) * train_loss\n",
        "\n",
        "        train_losses.append(running_average_loss.numpy())\n",
        "\n",
        "        # Testing\n",
        "        \n",
        "        visualize_progress(num_epochs, epoch, train_losses)\n",
        "            \n",
        "        # Display loss and accuracy for current epoch    \n",
        "        print(f'Epoch: __ {epoch+1}')\n",
        "        print('Train loss: ',running_average_loss.numpy())"
      ],
      "execution_count": 356,
      "outputs": []
    },
    {
      "cell_type": "markdown",
      "metadata": {
        "id": "bPEzh22pScXb"
      },
      "source": [
        "# Define training"
      ]
    },
    {
      "cell_type": "code",
      "metadata": {
        "id": "SVg42aU_xGpK"
      },
      "source": [
        "@tf.function\n",
        "def train_step(model, input_seq, target_seq, loss_function, optimizer):\n",
        "    with tf.GradientTape() as tape:\n",
        "        pred = model(input_seq)\n",
        "        loss = loss_function(target_seq, pred)\n",
        "        gradients = tape.gradient(loss, model.trainable_variables)\n",
        "    optimizer.apply_gradients(zip(gradients, model.trainable_variables))\n",
        "    return loss"
      ],
      "execution_count": 357,
      "outputs": []
    },
    {
      "cell_type": "markdown",
      "metadata": {
        "id": "RVsX0m0wsHCt"
      },
      "source": [
        "# Train LSTM"
      ]
    },
    {
      "cell_type": "code",
      "metadata": {
        "colab": {
          "base_uri": "https://localhost:8080/",
          "height": 445
        },
        "id": "zYQSNB6Hr4w7",
        "scrolled": true,
        "outputId": "0ab2ef6f-7f52-4159-dcac-7074caf21749"
      },
      "source": [
        "%%time\n",
        "tf.keras.backend.clear_session()\n",
        "\n",
        "learning_rate = 0.001\n",
        "state_size = 256\n",
        "embedding_size = 128\n",
        "epochs = 30\n",
        "\n",
        "# Initialize the loss\n",
        "# We use SparseCategoricalCrossentropy here\n",
        "# This way we don't have to onehot encode our targets and can just use the charID and the softmax prediction to calculate the loss\n",
        "loss_function = tf.keras.losses.SparseCategoricalCrossentropy()\n",
        "\n",
        "# Initialize the optimizer\n",
        "optimizer = tf.keras.optimizers.Adam(learning_rate)\n",
        "\n",
        "# Initialize model\n",
        "rnn = RNN(state_size, len(vocab), embedding_size)\n",
        "train_model(\n",
        "    model = rnn,\n",
        "    dataset = dataset,\n",
        "    num_epochs = epochs,\n",
        "    loss_function = loss_function,\n",
        "    optimizer = optimizer\n",
        ")"
      ],
      "execution_count": 358,
      "outputs": [
        {
          "output_type": "display_data",
          "data": {
            "image/png": "[encoded data removed]",
            "text/plain": [
              "<Figure size 1080x360 with 1 Axes>"
            ]
          },
          "metadata": {
            "tags": [],
            "needs_background": "light"
          }
        },
        {
          "output_type": "stream",
          "text": [
            "Epoch: __ 30\n",
            "Train loss:  1.5548457\n",
            "CPU times: user 11min 27s, sys: 1min 16s, total: 12min 43s\n",
            "Wall time: 7min 44s\n"
          ],
          "name": "stdout"
        }
      ]
    },
    {
      "cell_type": "code",
      "metadata": {
        "colab": {
          "base_uri": "https://localhost:8080/"
        },
        "id": "T6x5-gXNqiG4",
        "outputId": "291c19e3-f875-40ae-f7e9-95d69e9ea405"
      },
      "source": [
        "rnn.summary()"
      ],
      "execution_count": 281,
      "outputs": [
        {
          "output_type": "stream",
          "text": [
            "Model: \"rnn\"\n",
            "_________________________________________________________________\n",
            "Layer (type)                 Output Shape              Param #   \n",
            "=================================================================\n",
            "ReadIn_layer (Embedding)     multiple                  17152     \n",
            "_________________________________________________________________\n",
            "rnn_cell (RNN_cell)          multiple                  1311744   \n",
            "_________________________________________________________________\n",
            "Readout_layer (Dense)        multiple                  68675     \n",
            "=================================================================\n",
            "Total params: 1,397,571\n",
            "Trainable params: 1,397,571\n",
            "Non-trainable params: 0\n",
            "_________________________________________________________________\n"
          ],
          "name": "stdout"
        }
      ]
    },
    {
      "cell_type": "markdown",
      "metadata": {
        "id": "Sh3Z3hxRkBb-"
      },
      "source": [
        "# Test one sequence"
      ]
    },
    {
      "cell_type": "code",
      "metadata": {
        "colab": {
          "base_uri": "https://localhost:8080/"
        },
        "id": "p_DoMyIYqpOH",
        "outputId": "838bd993-e26d-4f6f-ca34-217ca639ff6a"
      },
      "source": [
        "for input, target in dataset.take(1):\r\n",
        "    rnn_out = rnn(input)\r\n",
        "    print(f'Input: {text_from_ids(input[0])}\\n')\r\n",
        "    predicted_ids = tf.random.categorical(rnn_out[0], num_samples=1)\r\n",
        "    print(f'Prediction: {text_from_ids(predicted_ids)}\\n')"
      ],
      "execution_count": 361,
      "outputs": [
        {
          "output_type": "stream",
          "text": [
            "Input: ade doubt but Rome w\n",
            "\n",
            "Prediction: ZNmRq&':FDK\n",
            "jbB.,gtN\n",
            "\n",
            "tf.Tensor(1.9795345, shape=(), dtype=float32)\n"
          ],
          "name": "stdout"
        }
      ]
    }
  ]
}