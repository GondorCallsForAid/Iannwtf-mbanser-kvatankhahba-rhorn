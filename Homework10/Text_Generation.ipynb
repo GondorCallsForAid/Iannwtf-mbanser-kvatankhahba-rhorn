{
  "nbformat": 4,
  "nbformat_minor": 0,
  "metadata": {
    "accelerator": "GPU",
    "colab": {
      "name": "Text Generation.ipynb",
      "provenance": [],
      "collapsed_sections": [
        "n6FGw1n448no",
        "AQ_4gskO6-ij"
      ]
    },
    "kernelspec": {
      "display_name": "Python 3",
      "language": "python",
      "name": "python3"
    },
    "language_info": {
      "codemirror_mode": {
        "name": "ipython",
        "version": 3
      },
      "file_extension": ".py",
      "mimetype": "text/x-python",
      "name": "python",
      "nbconvert_exporter": "python",
      "pygments_lexer": "ipython3",
      "version": "3.7.9"
    },
    "widgets": {
      "application/vnd.jupyter.widget-state+json": {
        "f184dc35b9b24e9bbc93b8c07aa54ab0": {
          "model_module": "@jupyter-widgets/controls",
          "model_name": "HBoxModel",
          "state": {
            "_view_name": "HBoxView",
            "_dom_classes": [],
            "_model_name": "HBoxModel",
            "_view_module": "@jupyter-widgets/controls",
            "_model_module_version": "1.5.0",
            "_view_count": null,
            "_view_module_version": "1.5.0",
            "box_style": "",
            "layout": "IPY_MODEL_b1c4d41784f64a7da6d8dcbfc7c65faa",
            "_model_module": "@jupyter-widgets/controls",
            "children": [
              "IPY_MODEL_aae15f1f3ddd4e448c4bd6ff184bac71",
              "IPY_MODEL_fb86e98b40544187a000abbe05025b7c"
            ]
          }
        },
        "b1c4d41784f64a7da6d8dcbfc7c65faa": {
          "model_module": "@jupyter-widgets/base",
          "model_name": "LayoutModel",
          "state": {
            "_view_name": "LayoutView",
            "grid_template_rows": null,
            "right": null,
            "justify_content": null,
            "_view_module": "@jupyter-widgets/base",
            "overflow": null,
            "_model_module_version": "1.2.0",
            "_view_count": null,
            "flex_flow": null,
            "width": null,
            "min_width": null,
            "border": null,
            "align_items": null,
            "bottom": null,
            "_model_module": "@jupyter-widgets/base",
            "top": null,
            "grid_column": null,
            "overflow_y": null,
            "overflow_x": null,
            "grid_auto_flow": null,
            "grid_area": null,
            "grid_template_columns": null,
            "flex": null,
            "_model_name": "LayoutModel",
            "justify_items": null,
            "grid_row": null,
            "max_height": null,
            "align_content": null,
            "visibility": null,
            "align_self": null,
            "height": null,
            "min_height": null,
            "padding": null,
            "grid_auto_rows": null,
            "grid_gap": null,
            "max_width": null,
            "order": null,
            "_view_module_version": "1.2.0",
            "grid_template_areas": null,
            "object_position": null,
            "object_fit": null,
            "grid_auto_columns": null,
            "margin": null,
            "display": null,
            "left": null
          }
        },
        "aae15f1f3ddd4e448c4bd6ff184bac71": {
          "model_module": "@jupyter-widgets/controls",
          "model_name": "FloatProgressModel",
          "state": {
            "_view_name": "ProgressView",
            "style": "IPY_MODEL_f94108712a1d492cba36a4ce49855509",
            "_dom_classes": [],
            "description": "Dl Completed...: 100%",
            "_model_name": "FloatProgressModel",
            "bar_style": "success",
            "max": 1,
            "_view_module": "@jupyter-widgets/controls",
            "_model_module_version": "1.5.0",
            "value": 1,
            "_view_count": null,
            "_view_module_version": "1.5.0",
            "orientation": "horizontal",
            "min": 0,
            "description_tooltip": null,
            "_model_module": "@jupyter-widgets/controls",
            "layout": "IPY_MODEL_3274b0f664ed465ba9f688397dabf6d9"
          }
        },
        "fb86e98b40544187a000abbe05025b7c": {
          "model_module": "@jupyter-widgets/controls",
          "model_name": "HTMLModel",
          "state": {
            "_view_name": "HTMLView",
            "style": "IPY_MODEL_698145f62a954df7b28eda4af8ffc66c",
            "_dom_classes": [],
            "description": "",
            "_model_name": "HTMLModel",
            "placeholder": "​",
            "_view_module": "@jupyter-widgets/controls",
            "_model_module_version": "1.5.0",
            "value": " 1/1 [00:00&lt;00:00,  2.57 url/s]",
            "_view_count": null,
            "_view_module_version": "1.5.0",
            "description_tooltip": null,
            "_model_module": "@jupyter-widgets/controls",
            "layout": "IPY_MODEL_57dc1797219a42a4a870deff9f66b9fe"
          }
        },
        "f94108712a1d492cba36a4ce49855509": {
          "model_module": "@jupyter-widgets/controls",
          "model_name": "ProgressStyleModel",
          "state": {
            "_view_name": "StyleView",
            "_model_name": "ProgressStyleModel",
            "description_width": "initial",
            "_view_module": "@jupyter-widgets/base",
            "_model_module_version": "1.5.0",
            "_view_count": null,
            "_view_module_version": "1.2.0",
            "bar_color": null,
            "_model_module": "@jupyter-widgets/controls"
          }
        },
        "3274b0f664ed465ba9f688397dabf6d9": {
          "model_module": "@jupyter-widgets/base",
          "model_name": "LayoutModel",
          "state": {
            "_view_name": "LayoutView",
            "grid_template_rows": null,
            "right": null,
            "justify_content": null,
            "_view_module": "@jupyter-widgets/base",
            "overflow": null,
            "_model_module_version": "1.2.0",
            "_view_count": null,
            "flex_flow": null,
            "width": null,
            "min_width": null,
            "border": null,
            "align_items": null,
            "bottom": null,
            "_model_module": "@jupyter-widgets/base",
            "top": null,
            "grid_column": null,
            "overflow_y": null,
            "overflow_x": null,
            "grid_auto_flow": null,
            "grid_area": null,
            "grid_template_columns": null,
            "flex": null,
            "_model_name": "LayoutModel",
            "justify_items": null,
            "grid_row": null,
            "max_height": null,
            "align_content": null,
            "visibility": null,
            "align_self": null,
            "height": null,
            "min_height": null,
            "padding": null,
            "grid_auto_rows": null,
            "grid_gap": null,
            "max_width": null,
            "order": null,
            "_view_module_version": "1.2.0",
            "grid_template_areas": null,
            "object_position": null,
            "object_fit": null,
            "grid_auto_columns": null,
            "margin": null,
            "display": null,
            "left": null
          }
        },
        "698145f62a954df7b28eda4af8ffc66c": {
          "model_module": "@jupyter-widgets/controls",
          "model_name": "DescriptionStyleModel",
          "state": {
            "_view_name": "StyleView",
            "_model_name": "DescriptionStyleModel",
            "description_width": "",
            "_view_module": "@jupyter-widgets/base",
            "_model_module_version": "1.5.0",
            "_view_count": null,
            "_view_module_version": "1.2.0",
            "_model_module": "@jupyter-widgets/controls"
          }
        },
        "57dc1797219a42a4a870deff9f66b9fe": {
          "model_module": "@jupyter-widgets/base",
          "model_name": "LayoutModel",
          "state": {
            "_view_name": "LayoutView",
            "grid_template_rows": null,
            "right": null,
            "justify_content": null,
            "_view_module": "@jupyter-widgets/base",
            "overflow": null,
            "_model_module_version": "1.2.0",
            "_view_count": null,
            "flex_flow": null,
            "width": null,
            "min_width": null,
            "border": null,
            "align_items": null,
            "bottom": null,
            "_model_module": "@jupyter-widgets/base",
            "top": null,
            "grid_column": null,
            "overflow_y": null,
            "overflow_x": null,
            "grid_auto_flow": null,
            "grid_area": null,
            "grid_template_columns": null,
            "flex": null,
            "_model_name": "LayoutModel",
            "justify_items": null,
            "grid_row": null,
            "max_height": null,
            "align_content": null,
            "visibility": null,
            "align_self": null,
            "height": null,
            "min_height": null,
            "padding": null,
            "grid_auto_rows": null,
            "grid_gap": null,
            "max_width": null,
            "order": null,
            "_view_module_version": "1.2.0",
            "grid_template_areas": null,
            "object_position": null,
            "object_fit": null,
            "grid_auto_columns": null,
            "margin": null,
            "display": null,
            "left": null
          }
        },
        "f06dcec432a8477ba5aeb5848a2e51d4": {
          "model_module": "@jupyter-widgets/controls",
          "model_name": "HBoxModel",
          "state": {
            "_view_name": "HBoxView",
            "_dom_classes": [],
            "_model_name": "HBoxModel",
            "_view_module": "@jupyter-widgets/controls",
            "_model_module_version": "1.5.0",
            "_view_count": null,
            "_view_module_version": "1.5.0",
            "box_style": "",
            "layout": "IPY_MODEL_710f41e533314263937df80f3425a669",
            "_model_module": "@jupyter-widgets/controls",
            "children": [
              "IPY_MODEL_ee55beb9e9f04eeb9b0d0b422a726d84",
              "IPY_MODEL_ed775dc56d44402f9fc6c42f9a6b94e6"
            ]
          }
        },
        "710f41e533314263937df80f3425a669": {
          "model_module": "@jupyter-widgets/base",
          "model_name": "LayoutModel",
          "state": {
            "_view_name": "LayoutView",
            "grid_template_rows": null,
            "right": null,
            "justify_content": null,
            "_view_module": "@jupyter-widgets/base",
            "overflow": null,
            "_model_module_version": "1.2.0",
            "_view_count": null,
            "flex_flow": null,
            "width": null,
            "min_width": null,
            "border": null,
            "align_items": null,
            "bottom": null,
            "_model_module": "@jupyter-widgets/base",
            "top": null,
            "grid_column": null,
            "overflow_y": null,
            "overflow_x": null,
            "grid_auto_flow": null,
            "grid_area": null,
            "grid_template_columns": null,
            "flex": null,
            "_model_name": "LayoutModel",
            "justify_items": null,
            "grid_row": null,
            "max_height": null,
            "align_content": null,
            "visibility": null,
            "align_self": null,
            "height": null,
            "min_height": null,
            "padding": null,
            "grid_auto_rows": null,
            "grid_gap": null,
            "max_width": null,
            "order": null,
            "_view_module_version": "1.2.0",
            "grid_template_areas": null,
            "object_position": null,
            "object_fit": null,
            "grid_auto_columns": null,
            "margin": null,
            "display": null,
            "left": null
          }
        },
        "ee55beb9e9f04eeb9b0d0b422a726d84": {
          "model_module": "@jupyter-widgets/controls",
          "model_name": "FloatProgressModel",
          "state": {
            "_view_name": "ProgressView",
            "style": "IPY_MODEL_404801ca498e4c89ac6fe4253eee2beb",
            "_dom_classes": [],
            "description": "Dl Size...: ",
            "_model_name": "FloatProgressModel",
            "bar_style": "success",
            "max": 1,
            "_view_module": "@jupyter-widgets/controls",
            "_model_module_version": "1.5.0",
            "value": 1,
            "_view_count": null,
            "_view_module_version": "1.5.0",
            "orientation": "horizontal",
            "min": 0,
            "description_tooltip": null,
            "_model_module": "@jupyter-widgets/controls",
            "layout": "IPY_MODEL_371bd2fc0a12470c9bddb9bb7da75b77"
          }
        },
        "ed775dc56d44402f9fc6c42f9a6b94e6": {
          "model_module": "@jupyter-widgets/controls",
          "model_name": "HTMLModel",
          "state": {
            "_view_name": "HTMLView",
            "style": "IPY_MODEL_ec9b06b452584e9f9cc02aff696fdfa6",
            "_dom_classes": [],
            "description": "",
            "_model_name": "HTMLModel",
            "placeholder": "​",
            "_view_module": "@jupyter-widgets/controls",
            "_model_module_version": "1.5.0",
            "value": " 1/0 [00:00&lt;00:00,  2.80 MiB/s]",
            "_view_count": null,
            "_view_module_version": "1.5.0",
            "description_tooltip": null,
            "_model_module": "@jupyter-widgets/controls",
            "layout": "IPY_MODEL_3e143674487e48df8599bbcad67f8f46"
          }
        },
        "404801ca498e4c89ac6fe4253eee2beb": {
          "model_module": "@jupyter-widgets/controls",
          "model_name": "ProgressStyleModel",
          "state": {
            "_view_name": "StyleView",
            "_model_name": "ProgressStyleModel",
            "description_width": "initial",
            "_view_module": "@jupyter-widgets/base",
            "_model_module_version": "1.5.0",
            "_view_count": null,
            "_view_module_version": "1.2.0",
            "bar_color": null,
            "_model_module": "@jupyter-widgets/controls"
          }
        },
        "371bd2fc0a12470c9bddb9bb7da75b77": {
          "model_module": "@jupyter-widgets/base",
          "model_name": "LayoutModel",
          "state": {
            "_view_name": "LayoutView",
            "grid_template_rows": null,
            "right": null,
            "justify_content": null,
            "_view_module": "@jupyter-widgets/base",
            "overflow": null,
            "_model_module_version": "1.2.0",
            "_view_count": null,
            "flex_flow": null,
            "width": null,
            "min_width": null,
            "border": null,
            "align_items": null,
            "bottom": null,
            "_model_module": "@jupyter-widgets/base",
            "top": null,
            "grid_column": null,
            "overflow_y": null,
            "overflow_x": null,
            "grid_auto_flow": null,
            "grid_area": null,
            "grid_template_columns": null,
            "flex": null,
            "_model_name": "LayoutModel",
            "justify_items": null,
            "grid_row": null,
            "max_height": null,
            "align_content": null,
            "visibility": null,
            "align_self": null,
            "height": null,
            "min_height": null,
            "padding": null,
            "grid_auto_rows": null,
            "grid_gap": null,
            "max_width": null,
            "order": null,
            "_view_module_version": "1.2.0",
            "grid_template_areas": null,
            "object_position": null,
            "object_fit": null,
            "grid_auto_columns": null,
            "margin": null,
            "display": null,
            "left": null
          }
        },
        "ec9b06b452584e9f9cc02aff696fdfa6": {
          "model_module": "@jupyter-widgets/controls",
          "model_name": "DescriptionStyleModel",
          "state": {
            "_view_name": "StyleView",
            "_model_name": "DescriptionStyleModel",
            "description_width": "",
            "_view_module": "@jupyter-widgets/base",
            "_model_module_version": "1.5.0",
            "_view_count": null,
            "_view_module_version": "1.2.0",
            "_model_module": "@jupyter-widgets/controls"
          }
        },
        "3e143674487e48df8599bbcad67f8f46": {
          "model_module": "@jupyter-widgets/base",
          "model_name": "LayoutModel",
          "state": {
            "_view_name": "LayoutView",
            "grid_template_rows": null,
            "right": null,
            "justify_content": null,
            "_view_module": "@jupyter-widgets/base",
            "overflow": null,
            "_model_module_version": "1.2.0",
            "_view_count": null,
            "flex_flow": null,
            "width": null,
            "min_width": null,
            "border": null,
            "align_items": null,
            "bottom": null,
            "_model_module": "@jupyter-widgets/base",
            "top": null,
            "grid_column": null,
            "overflow_y": null,
            "overflow_x": null,
            "grid_auto_flow": null,
            "grid_area": null,
            "grid_template_columns": null,
            "flex": null,
            "_model_name": "LayoutModel",
            "justify_items": null,
            "grid_row": null,
            "max_height": null,
            "align_content": null,
            "visibility": null,
            "align_self": null,
            "height": null,
            "min_height": null,
            "padding": null,
            "grid_auto_rows": null,
            "grid_gap": null,
            "max_width": null,
            "order": null,
            "_view_module_version": "1.2.0",
            "grid_template_areas": null,
            "object_position": null,
            "object_fit": null,
            "grid_auto_columns": null,
            "margin": null,
            "display": null,
            "left": null
          }
        },
        "5023d5367bb84dcda327ccce38c21076": {
          "model_module": "@jupyter-widgets/controls",
          "model_name": "HBoxModel",
          "state": {
            "_view_name": "HBoxView",
            "_dom_classes": [],
            "_model_name": "HBoxModel",
            "_view_module": "@jupyter-widgets/controls",
            "_model_module_version": "1.5.0",
            "_view_count": null,
            "_view_module_version": "1.5.0",
            "box_style": "",
            "layout": "IPY_MODEL_e1bc9bed8da74ad0a945a7670f61458e",
            "_model_module": "@jupyter-widgets/controls",
            "children": [
              "IPY_MODEL_281da6febee74812b21c54af24dcd07c",
              "IPY_MODEL_c4d2ea1e2e2e465daf80b205b5e09ed7"
            ]
          }
        },
        "e1bc9bed8da74ad0a945a7670f61458e": {
          "model_module": "@jupyter-widgets/base",
          "model_name": "LayoutModel",
          "state": {
            "_view_name": "LayoutView",
            "grid_template_rows": null,
            "right": null,
            "justify_content": null,
            "_view_module": "@jupyter-widgets/base",
            "overflow": null,
            "_model_module_version": "1.2.0",
            "_view_count": null,
            "flex_flow": null,
            "width": null,
            "min_width": null,
            "border": null,
            "align_items": null,
            "bottom": null,
            "_model_module": "@jupyter-widgets/base",
            "top": null,
            "grid_column": null,
            "overflow_y": null,
            "overflow_x": null,
            "grid_auto_flow": null,
            "grid_area": null,
            "grid_template_columns": null,
            "flex": null,
            "_model_name": "LayoutModel",
            "justify_items": null,
            "grid_row": null,
            "max_height": null,
            "align_content": null,
            "visibility": null,
            "align_self": null,
            "height": null,
            "min_height": null,
            "padding": null,
            "grid_auto_rows": null,
            "grid_gap": null,
            "max_width": null,
            "order": null,
            "_view_module_version": "1.2.0",
            "grid_template_areas": null,
            "object_position": null,
            "object_fit": null,
            "grid_auto_columns": null,
            "margin": null,
            "display": null,
            "left": null
          }
        },
        "281da6febee74812b21c54af24dcd07c": {
          "model_module": "@jupyter-widgets/controls",
          "model_name": "FloatProgressModel",
          "state": {
            "_view_name": "ProgressView",
            "style": "IPY_MODEL_64a49d1185fb4713a1ed424c49a994a8",
            "_dom_classes": [],
            "description": "",
            "_model_name": "FloatProgressModel",
            "bar_style": "info",
            "max": 1,
            "_view_module": "@jupyter-widgets/controls",
            "_model_module_version": "1.5.0",
            "value": 1,
            "_view_count": null,
            "_view_module_version": "1.5.0",
            "orientation": "horizontal",
            "min": 0,
            "description_tooltip": null,
            "_model_module": "@jupyter-widgets/controls",
            "layout": "IPY_MODEL_9fde431c803346c2b0653e3ca217dbfb"
          }
        },
        "c4d2ea1e2e2e465daf80b205b5e09ed7": {
          "model_module": "@jupyter-widgets/controls",
          "model_name": "HTMLModel",
          "state": {
            "_view_name": "HTMLView",
            "style": "IPY_MODEL_136f8da3aae54ef6bdb95e3351e0d058",
            "_dom_classes": [],
            "description": "",
            "_model_name": "HTMLModel",
            "placeholder": "​",
            "_view_module": "@jupyter-widgets/controls",
            "_model_module_version": "1.5.0",
            "value": " 1/0 [00:00&lt;00:00, 24.99 examples/s]",
            "_view_count": null,
            "_view_module_version": "1.5.0",
            "description_tooltip": null,
            "_model_module": "@jupyter-widgets/controls",
            "layout": "IPY_MODEL_a610239957da4a09b876944ae93e6350"
          }
        },
        "64a49d1185fb4713a1ed424c49a994a8": {
          "model_module": "@jupyter-widgets/controls",
          "model_name": "ProgressStyleModel",
          "state": {
            "_view_name": "StyleView",
            "_model_name": "ProgressStyleModel",
            "description_width": "initial",
            "_view_module": "@jupyter-widgets/base",
            "_model_module_version": "1.5.0",
            "_view_count": null,
            "_view_module_version": "1.2.0",
            "bar_color": null,
            "_model_module": "@jupyter-widgets/controls"
          }
        },
        "9fde431c803346c2b0653e3ca217dbfb": {
          "model_module": "@jupyter-widgets/base",
          "model_name": "LayoutModel",
          "state": {
            "_view_name": "LayoutView",
            "grid_template_rows": null,
            "right": null,
            "justify_content": null,
            "_view_module": "@jupyter-widgets/base",
            "overflow": null,
            "_model_module_version": "1.2.0",
            "_view_count": null,
            "flex_flow": null,
            "width": null,
            "min_width": null,
            "border": null,
            "align_items": null,
            "bottom": null,
            "_model_module": "@jupyter-widgets/base",
            "top": null,
            "grid_column": null,
            "overflow_y": null,
            "overflow_x": null,
            "grid_auto_flow": null,
            "grid_area": null,
            "grid_template_columns": null,
            "flex": null,
            "_model_name": "LayoutModel",
            "justify_items": null,
            "grid_row": null,
            "max_height": null,
            "align_content": null,
            "visibility": null,
            "align_self": null,
            "height": null,
            "min_height": null,
            "padding": null,
            "grid_auto_rows": null,
            "grid_gap": null,
            "max_width": null,
            "order": null,
            "_view_module_version": "1.2.0",
            "grid_template_areas": null,
            "object_position": null,
            "object_fit": null,
            "grid_auto_columns": null,
            "margin": null,
            "display": null,
            "left": null
          }
        },
        "136f8da3aae54ef6bdb95e3351e0d058": {
          "model_module": "@jupyter-widgets/controls",
          "model_name": "DescriptionStyleModel",
          "state": {
            "_view_name": "StyleView",
            "_model_name": "DescriptionStyleModel",
            "description_width": "",
            "_view_module": "@jupyter-widgets/base",
            "_model_module_version": "1.5.0",
            "_view_count": null,
            "_view_module_version": "1.2.0",
            "_model_module": "@jupyter-widgets/controls"
          }
        },
        "a610239957da4a09b876944ae93e6350": {
          "model_module": "@jupyter-widgets/base",
          "model_name": "LayoutModel",
          "state": {
            "_view_name": "LayoutView",
            "grid_template_rows": null,
            "right": null,
            "justify_content": null,
            "_view_module": "@jupyter-widgets/base",
            "overflow": null,
            "_model_module_version": "1.2.0",
            "_view_count": null,
            "flex_flow": null,
            "width": null,
            "min_width": null,
            "border": null,
            "align_items": null,
            "bottom": null,
            "_model_module": "@jupyter-widgets/base",
            "top": null,
            "grid_column": null,
            "overflow_y": null,
            "overflow_x": null,
            "grid_auto_flow": null,
            "grid_area": null,
            "grid_template_columns": null,
            "flex": null,
            "_model_name": "LayoutModel",
            "justify_items": null,
            "grid_row": null,
            "max_height": null,
            "align_content": null,
            "visibility": null,
            "align_self": null,
            "height": null,
            "min_height": null,
            "padding": null,
            "grid_auto_rows": null,
            "grid_gap": null,
            "max_width": null,
            "order": null,
            "_view_module_version": "1.2.0",
            "grid_template_areas": null,
            "object_position": null,
            "object_fit": null,
            "grid_auto_columns": null,
            "margin": null,
            "display": null,
            "left": null
          }
        },
        "a72b07a40b5f4c4483f9809c72054cd4": {
          "model_module": "@jupyter-widgets/controls",
          "model_name": "HBoxModel",
          "state": {
            "_view_name": "HBoxView",
            "_dom_classes": [],
            "_model_name": "HBoxModel",
            "_view_module": "@jupyter-widgets/controls",
            "_model_module_version": "1.5.0",
            "_view_count": null,
            "_view_module_version": "1.5.0",
            "box_style": "",
            "layout": "IPY_MODEL_501b9d25368344b781e110d3ed22a457",
            "_model_module": "@jupyter-widgets/controls",
            "children": [
              "IPY_MODEL_9263bceea4bd4ca38db607d8acf97234",
              "IPY_MODEL_fd553b10922b46a48a08bb2966988ed5"
            ]
          }
        },
        "501b9d25368344b781e110d3ed22a457": {
          "model_module": "@jupyter-widgets/base",
          "model_name": "LayoutModel",
          "state": {
            "_view_name": "LayoutView",
            "grid_template_rows": null,
            "right": null,
            "justify_content": null,
            "_view_module": "@jupyter-widgets/base",
            "overflow": null,
            "_model_module_version": "1.2.0",
            "_view_count": null,
            "flex_flow": null,
            "width": null,
            "min_width": null,
            "border": null,
            "align_items": null,
            "bottom": null,
            "_model_module": "@jupyter-widgets/base",
            "top": null,
            "grid_column": null,
            "overflow_y": null,
            "overflow_x": null,
            "grid_auto_flow": null,
            "grid_area": null,
            "grid_template_columns": null,
            "flex": null,
            "_model_name": "LayoutModel",
            "justify_items": null,
            "grid_row": null,
            "max_height": null,
            "align_content": null,
            "visibility": null,
            "align_self": null,
            "height": null,
            "min_height": null,
            "padding": null,
            "grid_auto_rows": null,
            "grid_gap": null,
            "max_width": null,
            "order": null,
            "_view_module_version": "1.2.0",
            "grid_template_areas": null,
            "object_position": null,
            "object_fit": null,
            "grid_auto_columns": null,
            "margin": null,
            "display": null,
            "left": null
          }
        },
        "9263bceea4bd4ca38db607d8acf97234": {
          "model_module": "@jupyter-widgets/controls",
          "model_name": "FloatProgressModel",
          "state": {
            "_view_name": "ProgressView",
            "style": "IPY_MODEL_b32a08480d8f4e668a1bcc83f516c0fe",
            "_dom_classes": [],
            "description": "  0%",
            "_model_name": "FloatProgressModel",
            "bar_style": "danger",
            "max": 1,
            "_view_module": "@jupyter-widgets/controls",
            "_model_module_version": "1.5.0",
            "value": 0,
            "_view_count": null,
            "_view_module_version": "1.5.0",
            "orientation": "horizontal",
            "min": 0,
            "description_tooltip": null,
            "_model_module": "@jupyter-widgets/controls",
            "layout": "IPY_MODEL_d4f59b15eec34d149d699317a7de5279"
          }
        },
        "fd553b10922b46a48a08bb2966988ed5": {
          "model_module": "@jupyter-widgets/controls",
          "model_name": "HTMLModel",
          "state": {
            "_view_name": "HTMLView",
            "style": "IPY_MODEL_fce954b652d04ace96e975d77394f5ea",
            "_dom_classes": [],
            "description": "",
            "_model_name": "HTMLModel",
            "placeholder": "​",
            "_view_module": "@jupyter-widgets/controls",
            "_model_module_version": "1.5.0",
            "value": " 0/1 [00:00&lt;?, ? examples/s]",
            "_view_count": null,
            "_view_module_version": "1.5.0",
            "description_tooltip": null,
            "_model_module": "@jupyter-widgets/controls",
            "layout": "IPY_MODEL_554b602da68e453fbac3fc2ce7f2104a"
          }
        },
        "b32a08480d8f4e668a1bcc83f516c0fe": {
          "model_module": "@jupyter-widgets/controls",
          "model_name": "ProgressStyleModel",
          "state": {
            "_view_name": "StyleView",
            "_model_name": "ProgressStyleModel",
            "description_width": "initial",
            "_view_module": "@jupyter-widgets/base",
            "_model_module_version": "1.5.0",
            "_view_count": null,
            "_view_module_version": "1.2.0",
            "bar_color": null,
            "_model_module": "@jupyter-widgets/controls"
          }
        },
        "d4f59b15eec34d149d699317a7de5279": {
          "model_module": "@jupyter-widgets/base",
          "model_name": "LayoutModel",
          "state": {
            "_view_name": "LayoutView",
            "grid_template_rows": null,
            "right": null,
            "justify_content": null,
            "_view_module": "@jupyter-widgets/base",
            "overflow": null,
            "_model_module_version": "1.2.0",
            "_view_count": null,
            "flex_flow": null,
            "width": null,
            "min_width": null,
            "border": null,
            "align_items": null,
            "bottom": null,
            "_model_module": "@jupyter-widgets/base",
            "top": null,
            "grid_column": null,
            "overflow_y": null,
            "overflow_x": null,
            "grid_auto_flow": null,
            "grid_area": null,
            "grid_template_columns": null,
            "flex": null,
            "_model_name": "LayoutModel",
            "justify_items": null,
            "grid_row": null,
            "max_height": null,
            "align_content": null,
            "visibility": null,
            "align_self": null,
            "height": null,
            "min_height": null,
            "padding": null,
            "grid_auto_rows": null,
            "grid_gap": null,
            "max_width": null,
            "order": null,
            "_view_module_version": "1.2.0",
            "grid_template_areas": null,
            "object_position": null,
            "object_fit": null,
            "grid_auto_columns": null,
            "margin": null,
            "display": null,
            "left": null
          }
        },
        "fce954b652d04ace96e975d77394f5ea": {
          "model_module": "@jupyter-widgets/controls",
          "model_name": "DescriptionStyleModel",
          "state": {
            "_view_name": "StyleView",
            "_model_name": "DescriptionStyleModel",
            "description_width": "",
            "_view_module": "@jupyter-widgets/base",
            "_model_module_version": "1.5.0",
            "_view_count": null,
            "_view_module_version": "1.2.0",
            "_model_module": "@jupyter-widgets/controls"
          }
        },
        "554b602da68e453fbac3fc2ce7f2104a": {
          "model_module": "@jupyter-widgets/base",
          "model_name": "LayoutModel",
          "state": {
            "_view_name": "LayoutView",
            "grid_template_rows": null,
            "right": null,
            "justify_content": null,
            "_view_module": "@jupyter-widgets/base",
            "overflow": null,
            "_model_module_version": "1.2.0",
            "_view_count": null,
            "flex_flow": null,
            "width": null,
            "min_width": null,
            "border": null,
            "align_items": null,
            "bottom": null,
            "_model_module": "@jupyter-widgets/base",
            "top": null,
            "grid_column": null,
            "overflow_y": null,
            "overflow_x": null,
            "grid_auto_flow": null,
            "grid_area": null,
            "grid_template_columns": null,
            "flex": null,
            "_model_name": "LayoutModel",
            "justify_items": null,
            "grid_row": null,
            "max_height": null,
            "align_content": null,
            "visibility": null,
            "align_self": null,
            "height": null,
            "min_height": null,
            "padding": null,
            "grid_auto_rows": null,
            "grid_gap": null,
            "max_width": null,
            "order": null,
            "_view_module_version": "1.2.0",
            "grid_template_areas": null,
            "object_position": null,
            "object_fit": null,
            "grid_auto_columns": null,
            "margin": null,
            "display": null,
            "left": null
          }
        },
        "5d3c1ae549c5428d97940937b05034c2": {
          "model_module": "@jupyter-widgets/controls",
          "model_name": "HBoxModel",
          "state": {
            "_view_name": "HBoxView",
            "_dom_classes": [],
            "_model_name": "HBoxModel",
            "_view_module": "@jupyter-widgets/controls",
            "_model_module_version": "1.5.0",
            "_view_count": null,
            "_view_module_version": "1.5.0",
            "box_style": "",
            "layout": "IPY_MODEL_40f6cf11da914d98ac9d33fcce678ca9",
            "_model_module": "@jupyter-widgets/controls",
            "children": [
              "IPY_MODEL_2aa70bf7499b452d9ab2dd065ffc4c10",
              "IPY_MODEL_b38b0af96f704f6594942228b409c5c0"
            ]
          }
        },
        "40f6cf11da914d98ac9d33fcce678ca9": {
          "model_module": "@jupyter-widgets/base",
          "model_name": "LayoutModel",
          "state": {
            "_view_name": "LayoutView",
            "grid_template_rows": null,
            "right": null,
            "justify_content": null,
            "_view_module": "@jupyter-widgets/base",
            "overflow": null,
            "_model_module_version": "1.2.0",
            "_view_count": null,
            "flex_flow": null,
            "width": null,
            "min_width": null,
            "border": null,
            "align_items": null,
            "bottom": null,
            "_model_module": "@jupyter-widgets/base",
            "top": null,
            "grid_column": null,
            "overflow_y": null,
            "overflow_x": null,
            "grid_auto_flow": null,
            "grid_area": null,
            "grid_template_columns": null,
            "flex": null,
            "_model_name": "LayoutModel",
            "justify_items": null,
            "grid_row": null,
            "max_height": null,
            "align_content": null,
            "visibility": null,
            "align_self": null,
            "height": null,
            "min_height": null,
            "padding": null,
            "grid_auto_rows": null,
            "grid_gap": null,
            "max_width": null,
            "order": null,
            "_view_module_version": "1.2.0",
            "grid_template_areas": null,
            "object_position": null,
            "object_fit": null,
            "grid_auto_columns": null,
            "margin": null,
            "display": null,
            "left": null
          }
        },
        "2aa70bf7499b452d9ab2dd065ffc4c10": {
          "model_module": "@jupyter-widgets/controls",
          "model_name": "FloatProgressModel",
          "state": {
            "_view_name": "ProgressView",
            "style": "IPY_MODEL_46bcb7e0abf648b69c77d0fe1563aaad",
            "_dom_classes": [],
            "description": "",
            "_model_name": "FloatProgressModel",
            "bar_style": "info",
            "max": 1,
            "_view_module": "@jupyter-widgets/controls",
            "_model_module_version": "1.5.0",
            "value": 1,
            "_view_count": null,
            "_view_module_version": "1.5.0",
            "orientation": "horizontal",
            "min": 0,
            "description_tooltip": null,
            "_model_module": "@jupyter-widgets/controls",
            "layout": "IPY_MODEL_ae649a84e5fa43da9d9a0ef6ed37398f"
          }
        },
        "b38b0af96f704f6594942228b409c5c0": {
          "model_module": "@jupyter-widgets/controls",
          "model_name": "HTMLModel",
          "state": {
            "_view_name": "HTMLView",
            "style": "IPY_MODEL_d0f27787d6ce45648083a7f9ce73dc1a",
            "_dom_classes": [],
            "description": "",
            "_model_name": "HTMLModel",
            "placeholder": "​",
            "_view_module": "@jupyter-widgets/controls",
            "_model_module_version": "1.5.0",
            "value": " 1/0 [00:00&lt;00:00, 25.85 examples/s]",
            "_view_count": null,
            "_view_module_version": "1.5.0",
            "description_tooltip": null,
            "_model_module": "@jupyter-widgets/controls",
            "layout": "IPY_MODEL_0252ba89f895489983e659e2398be681"
          }
        },
        "46bcb7e0abf648b69c77d0fe1563aaad": {
          "model_module": "@jupyter-widgets/controls",
          "model_name": "ProgressStyleModel",
          "state": {
            "_view_name": "StyleView",
            "_model_name": "ProgressStyleModel",
            "description_width": "initial",
            "_view_module": "@jupyter-widgets/base",
            "_model_module_version": "1.5.0",
            "_view_count": null,
            "_view_module_version": "1.2.0",
            "bar_color": null,
            "_model_module": "@jupyter-widgets/controls"
          }
        },
        "ae649a84e5fa43da9d9a0ef6ed37398f": {
          "model_module": "@jupyter-widgets/base",
          "model_name": "LayoutModel",
          "state": {
            "_view_name": "LayoutView",
            "grid_template_rows": null,
            "right": null,
            "justify_content": null,
            "_view_module": "@jupyter-widgets/base",
            "overflow": null,
            "_model_module_version": "1.2.0",
            "_view_count": null,
            "flex_flow": null,
            "width": null,
            "min_width": null,
            "border": null,
            "align_items": null,
            "bottom": null,
            "_model_module": "@jupyter-widgets/base",
            "top": null,
            "grid_column": null,
            "overflow_y": null,
            "overflow_x": null,
            "grid_auto_flow": null,
            "grid_area": null,
            "grid_template_columns": null,
            "flex": null,
            "_model_name": "LayoutModel",
            "justify_items": null,
            "grid_row": null,
            "max_height": null,
            "align_content": null,
            "visibility": null,
            "align_self": null,
            "height": null,
            "min_height": null,
            "padding": null,
            "grid_auto_rows": null,
            "grid_gap": null,
            "max_width": null,
            "order": null,
            "_view_module_version": "1.2.0",
            "grid_template_areas": null,
            "object_position": null,
            "object_fit": null,
            "grid_auto_columns": null,
            "margin": null,
            "display": null,
            "left": null
          }
        },
        "d0f27787d6ce45648083a7f9ce73dc1a": {
          "model_module": "@jupyter-widgets/controls",
          "model_name": "DescriptionStyleModel",
          "state": {
            "_view_name": "StyleView",
            "_model_name": "DescriptionStyleModel",
            "description_width": "",
            "_view_module": "@jupyter-widgets/base",
            "_model_module_version": "1.5.0",
            "_view_count": null,
            "_view_module_version": "1.2.0",
            "_model_module": "@jupyter-widgets/controls"
          }
        },
        "0252ba89f895489983e659e2398be681": {
          "model_module": "@jupyter-widgets/base",
          "model_name": "LayoutModel",
          "state": {
            "_view_name": "LayoutView",
            "grid_template_rows": null,
            "right": null,
            "justify_content": null,
            "_view_module": "@jupyter-widgets/base",
            "overflow": null,
            "_model_module_version": "1.2.0",
            "_view_count": null,
            "flex_flow": null,
            "width": null,
            "min_width": null,
            "border": null,
            "align_items": null,
            "bottom": null,
            "_model_module": "@jupyter-widgets/base",
            "top": null,
            "grid_column": null,
            "overflow_y": null,
            "overflow_x": null,
            "grid_auto_flow": null,
            "grid_area": null,
            "grid_template_columns": null,
            "flex": null,
            "_model_name": "LayoutModel",
            "justify_items": null,
            "grid_row": null,
            "max_height": null,
            "align_content": null,
            "visibility": null,
            "align_self": null,
            "height": null,
            "min_height": null,
            "padding": null,
            "grid_auto_rows": null,
            "grid_gap": null,
            "max_width": null,
            "order": null,
            "_view_module_version": "1.2.0",
            "grid_template_areas": null,
            "object_position": null,
            "object_fit": null,
            "grid_auto_columns": null,
            "margin": null,
            "display": null,
            "left": null
          }
        },
        "7f57ef371bea46578f403b2e88597e55": {
          "model_module": "@jupyter-widgets/controls",
          "model_name": "HBoxModel",
          "state": {
            "_view_name": "HBoxView",
            "_dom_classes": [],
            "_model_name": "HBoxModel",
            "_view_module": "@jupyter-widgets/controls",
            "_model_module_version": "1.5.0",
            "_view_count": null,
            "_view_module_version": "1.5.0",
            "box_style": "",
            "layout": "IPY_MODEL_3b1c778c00c5487dae64519dd576f4f0",
            "_model_module": "@jupyter-widgets/controls",
            "children": [
              "IPY_MODEL_c42b17b470014d0d82956585eee3a94c",
              "IPY_MODEL_a46073b577774c828db6f6451b601761"
            ]
          }
        },
        "3b1c778c00c5487dae64519dd576f4f0": {
          "model_module": "@jupyter-widgets/base",
          "model_name": "LayoutModel",
          "state": {
            "_view_name": "LayoutView",
            "grid_template_rows": null,
            "right": null,
            "justify_content": null,
            "_view_module": "@jupyter-widgets/base",
            "overflow": null,
            "_model_module_version": "1.2.0",
            "_view_count": null,
            "flex_flow": null,
            "width": null,
            "min_width": null,
            "border": null,
            "align_items": null,
            "bottom": null,
            "_model_module": "@jupyter-widgets/base",
            "top": null,
            "grid_column": null,
            "overflow_y": null,
            "overflow_x": null,
            "grid_auto_flow": null,
            "grid_area": null,
            "grid_template_columns": null,
            "flex": null,
            "_model_name": "LayoutModel",
            "justify_items": null,
            "grid_row": null,
            "max_height": null,
            "align_content": null,
            "visibility": null,
            "align_self": null,
            "height": null,
            "min_height": null,
            "padding": null,
            "grid_auto_rows": null,
            "grid_gap": null,
            "max_width": null,
            "order": null,
            "_view_module_version": "1.2.0",
            "grid_template_areas": null,
            "object_position": null,
            "object_fit": null,
            "grid_auto_columns": null,
            "margin": null,
            "display": null,
            "left": null
          }
        },
        "c42b17b470014d0d82956585eee3a94c": {
          "model_module": "@jupyter-widgets/controls",
          "model_name": "FloatProgressModel",
          "state": {
            "_view_name": "ProgressView",
            "style": "IPY_MODEL_528595245bd9424b94ef9c49df53028e",
            "_dom_classes": [],
            "description": "  0%",
            "_model_name": "FloatProgressModel",
            "bar_style": "danger",
            "max": 1,
            "_view_module": "@jupyter-widgets/controls",
            "_model_module_version": "1.5.0",
            "value": 0,
            "_view_count": null,
            "_view_module_version": "1.5.0",
            "orientation": "horizontal",
            "min": 0,
            "description_tooltip": null,
            "_model_module": "@jupyter-widgets/controls",
            "layout": "IPY_MODEL_130fc1e056a74603a2f9f508b7ed1724"
          }
        },
        "a46073b577774c828db6f6451b601761": {
          "model_module": "@jupyter-widgets/controls",
          "model_name": "HTMLModel",
          "state": {
            "_view_name": "HTMLView",
            "style": "IPY_MODEL_ebe5ba0e1b3042d990240aa756b1f5db",
            "_dom_classes": [],
            "description": "",
            "_model_name": "HTMLModel",
            "placeholder": "​",
            "_view_module": "@jupyter-widgets/controls",
            "_model_module_version": "1.5.0",
            "value": " 0/1 [00:05&lt;?, ? examples/s]",
            "_view_count": null,
            "_view_module_version": "1.5.0",
            "description_tooltip": null,
            "_model_module": "@jupyter-widgets/controls",
            "layout": "IPY_MODEL_976b95addb984b7e93a81720544d947e"
          }
        },
        "528595245bd9424b94ef9c49df53028e": {
          "model_module": "@jupyter-widgets/controls",
          "model_name": "ProgressStyleModel",
          "state": {
            "_view_name": "StyleView",
            "_model_name": "ProgressStyleModel",
            "description_width": "initial",
            "_view_module": "@jupyter-widgets/base",
            "_model_module_version": "1.5.0",
            "_view_count": null,
            "_view_module_version": "1.2.0",
            "bar_color": null,
            "_model_module": "@jupyter-widgets/controls"
          }
        },
        "130fc1e056a74603a2f9f508b7ed1724": {
          "model_module": "@jupyter-widgets/base",
          "model_name": "LayoutModel",
          "state": {
            "_view_name": "LayoutView",
            "grid_template_rows": null,
            "right": null,
            "justify_content": null,
            "_view_module": "@jupyter-widgets/base",
            "overflow": null,
            "_model_module_version": "1.2.0",
            "_view_count": null,
            "flex_flow": null,
            "width": null,
            "min_width": null,
            "border": null,
            "align_items": null,
            "bottom": null,
            "_model_module": "@jupyter-widgets/base",
            "top": null,
            "grid_column": null,
            "overflow_y": null,
            "overflow_x": null,
            "grid_auto_flow": null,
            "grid_area": null,
            "grid_template_columns": null,
            "flex": null,
            "_model_name": "LayoutModel",
            "justify_items": null,
            "grid_row": null,
            "max_height": null,
            "align_content": null,
            "visibility": null,
            "align_self": null,
            "height": null,
            "min_height": null,
            "padding": null,
            "grid_auto_rows": null,
            "grid_gap": null,
            "max_width": null,
            "order": null,
            "_view_module_version": "1.2.0",
            "grid_template_areas": null,
            "object_position": null,
            "object_fit": null,
            "grid_auto_columns": null,
            "margin": null,
            "display": null,
            "left": null
          }
        },
        "ebe5ba0e1b3042d990240aa756b1f5db": {
          "model_module": "@jupyter-widgets/controls",
          "model_name": "DescriptionStyleModel",
          "state": {
            "_view_name": "StyleView",
            "_model_name": "DescriptionStyleModel",
            "description_width": "",
            "_view_module": "@jupyter-widgets/base",
            "_model_module_version": "1.5.0",
            "_view_count": null,
            "_view_module_version": "1.2.0",
            "_model_module": "@jupyter-widgets/controls"
          }
        },
        "976b95addb984b7e93a81720544d947e": {
          "model_module": "@jupyter-widgets/base",
          "model_name": "LayoutModel",
          "state": {
            "_view_name": "LayoutView",
            "grid_template_rows": null,
            "right": null,
            "justify_content": null,
            "_view_module": "@jupyter-widgets/base",
            "overflow": null,
            "_model_module_version": "1.2.0",
            "_view_count": null,
            "flex_flow": null,
            "width": null,
            "min_width": null,
            "border": null,
            "align_items": null,
            "bottom": null,
            "_model_module": "@jupyter-widgets/base",
            "top": null,
            "grid_column": null,
            "overflow_y": null,
            "overflow_x": null,
            "grid_auto_flow": null,
            "grid_area": null,
            "grid_template_columns": null,
            "flex": null,
            "_model_name": "LayoutModel",
            "justify_items": null,
            "grid_row": null,
            "max_height": null,
            "align_content": null,
            "visibility": null,
            "align_self": null,
            "height": null,
            "min_height": null,
            "padding": null,
            "grid_auto_rows": null,
            "grid_gap": null,
            "max_width": null,
            "order": null,
            "_view_module_version": "1.2.0",
            "grid_template_areas": null,
            "object_position": null,
            "object_fit": null,
            "grid_auto_columns": null,
            "margin": null,
            "display": null,
            "left": null
          }
        },
        "c5b2dc2719a1487e9b00ec3deca15244": {
          "model_module": "@jupyter-widgets/controls",
          "model_name": "HBoxModel",
          "state": {
            "_view_name": "HBoxView",
            "_dom_classes": [],
            "_model_name": "HBoxModel",
            "_view_module": "@jupyter-widgets/controls",
            "_model_module_version": "1.5.0",
            "_view_count": null,
            "_view_module_version": "1.5.0",
            "box_style": "",
            "layout": "IPY_MODEL_4b2e41e2246e4be59b54868be9295220",
            "_model_module": "@jupyter-widgets/controls",
            "children": [
              "IPY_MODEL_28d8f331b94d4b9391238172e020446f",
              "IPY_MODEL_94e3ec7a47124c2ca12a13b393a71a0c"
            ]
          }
        },
        "4b2e41e2246e4be59b54868be9295220": {
          "model_module": "@jupyter-widgets/base",
          "model_name": "LayoutModel",
          "state": {
            "_view_name": "LayoutView",
            "grid_template_rows": null,
            "right": null,
            "justify_content": null,
            "_view_module": "@jupyter-widgets/base",
            "overflow": null,
            "_model_module_version": "1.2.0",
            "_view_count": null,
            "flex_flow": null,
            "width": null,
            "min_width": null,
            "border": null,
            "align_items": null,
            "bottom": null,
            "_model_module": "@jupyter-widgets/base",
            "top": null,
            "grid_column": null,
            "overflow_y": null,
            "overflow_x": null,
            "grid_auto_flow": null,
            "grid_area": null,
            "grid_template_columns": null,
            "flex": null,
            "_model_name": "LayoutModel",
            "justify_items": null,
            "grid_row": null,
            "max_height": null,
            "align_content": null,
            "visibility": null,
            "align_self": null,
            "height": null,
            "min_height": null,
            "padding": null,
            "grid_auto_rows": null,
            "grid_gap": null,
            "max_width": null,
            "order": null,
            "_view_module_version": "1.2.0",
            "grid_template_areas": null,
            "object_position": null,
            "object_fit": null,
            "grid_auto_columns": null,
            "margin": null,
            "display": null,
            "left": null
          }
        },
        "28d8f331b94d4b9391238172e020446f": {
          "model_module": "@jupyter-widgets/controls",
          "model_name": "FloatProgressModel",
          "state": {
            "_view_name": "ProgressView",
            "style": "IPY_MODEL_4293c4cb42354e7684f16f173281701d",
            "_dom_classes": [],
            "description": "",
            "_model_name": "FloatProgressModel",
            "bar_style": "info",
            "max": 1,
            "_view_module": "@jupyter-widgets/controls",
            "_model_module_version": "1.5.0",
            "value": 1,
            "_view_count": null,
            "_view_module_version": "1.5.0",
            "orientation": "horizontal",
            "min": 0,
            "description_tooltip": null,
            "_model_module": "@jupyter-widgets/controls",
            "layout": "IPY_MODEL_ece56bcddab4470e9590c946feef5e24"
          }
        },
        "94e3ec7a47124c2ca12a13b393a71a0c": {
          "model_module": "@jupyter-widgets/controls",
          "model_name": "HTMLModel",
          "state": {
            "_view_name": "HTMLView",
            "style": "IPY_MODEL_cbb73c0f6c604832b74fdf059747f667",
            "_dom_classes": [],
            "description": "",
            "_model_name": "HTMLModel",
            "placeholder": "​",
            "_view_module": "@jupyter-widgets/controls",
            "_model_module_version": "1.5.0",
            "value": " 1/0 [00:00&lt;00:00, 26.25 examples/s]",
            "_view_count": null,
            "_view_module_version": "1.5.0",
            "description_tooltip": null,
            "_model_module": "@jupyter-widgets/controls",
            "layout": "IPY_MODEL_7d035128eb6f4c1cbcd991c5f913a9fd"
          }
        },
        "4293c4cb42354e7684f16f173281701d": {
          "model_module": "@jupyter-widgets/controls",
          "model_name": "ProgressStyleModel",
          "state": {
            "_view_name": "StyleView",
            "_model_name": "ProgressStyleModel",
            "description_width": "initial",
            "_view_module": "@jupyter-widgets/base",
            "_model_module_version": "1.5.0",
            "_view_count": null,
            "_view_module_version": "1.2.0",
            "bar_color": null,
            "_model_module": "@jupyter-widgets/controls"
          }
        },
        "ece56bcddab4470e9590c946feef5e24": {
          "model_module": "@jupyter-widgets/base",
          "model_name": "LayoutModel",
          "state": {
            "_view_name": "LayoutView",
            "grid_template_rows": null,
            "right": null,
            "justify_content": null,
            "_view_module": "@jupyter-widgets/base",
            "overflow": null,
            "_model_module_version": "1.2.0",
            "_view_count": null,
            "flex_flow": null,
            "width": null,
            "min_width": null,
            "border": null,
            "align_items": null,
            "bottom": null,
            "_model_module": "@jupyter-widgets/base",
            "top": null,
            "grid_column": null,
            "overflow_y": null,
            "overflow_x": null,
            "grid_auto_flow": null,
            "grid_area": null,
            "grid_template_columns": null,
            "flex": null,
            "_model_name": "LayoutModel",
            "justify_items": null,
            "grid_row": null,
            "max_height": null,
            "align_content": null,
            "visibility": null,
            "align_self": null,
            "height": null,
            "min_height": null,
            "padding": null,
            "grid_auto_rows": null,
            "grid_gap": null,
            "max_width": null,
            "order": null,
            "_view_module_version": "1.2.0",
            "grid_template_areas": null,
            "object_position": null,
            "object_fit": null,
            "grid_auto_columns": null,
            "margin": null,
            "display": null,
            "left": null
          }
        },
        "cbb73c0f6c604832b74fdf059747f667": {
          "model_module": "@jupyter-widgets/controls",
          "model_name": "DescriptionStyleModel",
          "state": {
            "_view_name": "StyleView",
            "_model_name": "DescriptionStyleModel",
            "description_width": "",
            "_view_module": "@jupyter-widgets/base",
            "_model_module_version": "1.5.0",
            "_view_count": null,
            "_view_module_version": "1.2.0",
            "_model_module": "@jupyter-widgets/controls"
          }
        },
        "7d035128eb6f4c1cbcd991c5f913a9fd": {
          "model_module": "@jupyter-widgets/base",
          "model_name": "LayoutModel",
          "state": {
            "_view_name": "LayoutView",
            "grid_template_rows": null,
            "right": null,
            "justify_content": null,
            "_view_module": "@jupyter-widgets/base",
            "overflow": null,
            "_model_module_version": "1.2.0",
            "_view_count": null,
            "flex_flow": null,
            "width": null,
            "min_width": null,
            "border": null,
            "align_items": null,
            "bottom": null,
            "_model_module": "@jupyter-widgets/base",
            "top": null,
            "grid_column": null,
            "overflow_y": null,
            "overflow_x": null,
            "grid_auto_flow": null,
            "grid_area": null,
            "grid_template_columns": null,
            "flex": null,
            "_model_name": "LayoutModel",
            "justify_items": null,
            "grid_row": null,
            "max_height": null,
            "align_content": null,
            "visibility": null,
            "align_self": null,
            "height": null,
            "min_height": null,
            "padding": null,
            "grid_auto_rows": null,
            "grid_gap": null,
            "max_width": null,
            "order": null,
            "_view_module_version": "1.2.0",
            "grid_template_areas": null,
            "object_position": null,
            "object_fit": null,
            "grid_auto_columns": null,
            "margin": null,
            "display": null,
            "left": null
          }
        },
        "5ec8f02b9153487aab76981df5c003b0": {
          "model_module": "@jupyter-widgets/controls",
          "model_name": "HBoxModel",
          "state": {
            "_view_name": "HBoxView",
            "_dom_classes": [],
            "_model_name": "HBoxModel",
            "_view_module": "@jupyter-widgets/controls",
            "_model_module_version": "1.5.0",
            "_view_count": null,
            "_view_module_version": "1.5.0",
            "box_style": "",
            "layout": "IPY_MODEL_1670fa1ed1f24d5fa4f82d7ab859b269",
            "_model_module": "@jupyter-widgets/controls",
            "children": [
              "IPY_MODEL_7b4cd3d1dfdf4758bd54063fa367ef87",
              "IPY_MODEL_041d78c8457c4002b47188098f794da8"
            ]
          }
        },
        "1670fa1ed1f24d5fa4f82d7ab859b269": {
          "model_module": "@jupyter-widgets/base",
          "model_name": "LayoutModel",
          "state": {
            "_view_name": "LayoutView",
            "grid_template_rows": null,
            "right": null,
            "justify_content": null,
            "_view_module": "@jupyter-widgets/base",
            "overflow": null,
            "_model_module_version": "1.2.0",
            "_view_count": null,
            "flex_flow": null,
            "width": null,
            "min_width": null,
            "border": null,
            "align_items": null,
            "bottom": null,
            "_model_module": "@jupyter-widgets/base",
            "top": null,
            "grid_column": null,
            "overflow_y": null,
            "overflow_x": null,
            "grid_auto_flow": null,
            "grid_area": null,
            "grid_template_columns": null,
            "flex": null,
            "_model_name": "LayoutModel",
            "justify_items": null,
            "grid_row": null,
            "max_height": null,
            "align_content": null,
            "visibility": null,
            "align_self": null,
            "height": null,
            "min_height": null,
            "padding": null,
            "grid_auto_rows": null,
            "grid_gap": null,
            "max_width": null,
            "order": null,
            "_view_module_version": "1.2.0",
            "grid_template_areas": null,
            "object_position": null,
            "object_fit": null,
            "grid_auto_columns": null,
            "margin": null,
            "display": null,
            "left": null
          }
        },
        "7b4cd3d1dfdf4758bd54063fa367ef87": {
          "model_module": "@jupyter-widgets/controls",
          "model_name": "FloatProgressModel",
          "state": {
            "_view_name": "ProgressView",
            "style": "IPY_MODEL_907848a1f8a64deca21569aa4a28a20e",
            "_dom_classes": [],
            "description": "  0%",
            "_model_name": "FloatProgressModel",
            "bar_style": "danger",
            "max": 1,
            "_view_module": "@jupyter-widgets/controls",
            "_model_module_version": "1.5.0",
            "value": 0,
            "_view_count": null,
            "_view_module_version": "1.5.0",
            "orientation": "horizontal",
            "min": 0,
            "description_tooltip": null,
            "_model_module": "@jupyter-widgets/controls",
            "layout": "IPY_MODEL_1f06105cc1c842e1b70b69575964d1df"
          }
        },
        "041d78c8457c4002b47188098f794da8": {
          "model_module": "@jupyter-widgets/controls",
          "model_name": "HTMLModel",
          "state": {
            "_view_name": "HTMLView",
            "style": "IPY_MODEL_479f6e7c7f9c4641ac2fab56eebfc614",
            "_dom_classes": [],
            "description": "",
            "_model_name": "HTMLModel",
            "placeholder": "​",
            "_view_module": "@jupyter-widgets/controls",
            "_model_module_version": "1.5.0",
            "value": " 0/1 [00:05&lt;?, ? examples/s]",
            "_view_count": null,
            "_view_module_version": "1.5.0",
            "description_tooltip": null,
            "_model_module": "@jupyter-widgets/controls",
            "layout": "IPY_MODEL_cf8c182589b444d38e536b249dd4819e"
          }
        },
        "907848a1f8a64deca21569aa4a28a20e": {
          "model_module": "@jupyter-widgets/controls",
          "model_name": "ProgressStyleModel",
          "state": {
            "_view_name": "StyleView",
            "_model_name": "ProgressStyleModel",
            "description_width": "initial",
            "_view_module": "@jupyter-widgets/base",
            "_model_module_version": "1.5.0",
            "_view_count": null,
            "_view_module_version": "1.2.0",
            "bar_color": null,
            "_model_module": "@jupyter-widgets/controls"
          }
        },
        "1f06105cc1c842e1b70b69575964d1df": {
          "model_module": "@jupyter-widgets/base",
          "model_name": "LayoutModel",
          "state": {
            "_view_name": "LayoutView",
            "grid_template_rows": null,
            "right": null,
            "justify_content": null,
            "_view_module": "@jupyter-widgets/base",
            "overflow": null,
            "_model_module_version": "1.2.0",
            "_view_count": null,
            "flex_flow": null,
            "width": null,
            "min_width": null,
            "border": null,
            "align_items": null,
            "bottom": null,
            "_model_module": "@jupyter-widgets/base",
            "top": null,
            "grid_column": null,
            "overflow_y": null,
            "overflow_x": null,
            "grid_auto_flow": null,
            "grid_area": null,
            "grid_template_columns": null,
            "flex": null,
            "_model_name": "LayoutModel",
            "justify_items": null,
            "grid_row": null,
            "max_height": null,
            "align_content": null,
            "visibility": null,
            "align_self": null,
            "height": null,
            "min_height": null,
            "padding": null,
            "grid_auto_rows": null,
            "grid_gap": null,
            "max_width": null,
            "order": null,
            "_view_module_version": "1.2.0",
            "grid_template_areas": null,
            "object_position": null,
            "object_fit": null,
            "grid_auto_columns": null,
            "margin": null,
            "display": null,
            "left": null
          }
        },
        "479f6e7c7f9c4641ac2fab56eebfc614": {
          "model_module": "@jupyter-widgets/controls",
          "model_name": "DescriptionStyleModel",
          "state": {
            "_view_name": "StyleView",
            "_model_name": "DescriptionStyleModel",
            "description_width": "",
            "_view_module": "@jupyter-widgets/base",
            "_model_module_version": "1.5.0",
            "_view_count": null,
            "_view_module_version": "1.2.0",
            "_model_module": "@jupyter-widgets/controls"
          }
        },
        "cf8c182589b444d38e536b249dd4819e": {
          "model_module": "@jupyter-widgets/base",
          "model_name": "LayoutModel",
          "state": {
            "_view_name": "LayoutView",
            "grid_template_rows": null,
            "right": null,
            "justify_content": null,
            "_view_module": "@jupyter-widgets/base",
            "overflow": null,
            "_model_module_version": "1.2.0",
            "_view_count": null,
            "flex_flow": null,
            "width": null,
            "min_width": null,
            "border": null,
            "align_items": null,
            "bottom": null,
            "_model_module": "@jupyter-widgets/base",
            "top": null,
            "grid_column": null,
            "overflow_y": null,
            "overflow_x": null,
            "grid_auto_flow": null,
            "grid_area": null,
            "grid_template_columns": null,
            "flex": null,
            "_model_name": "LayoutModel",
            "justify_items": null,
            "grid_row": null,
            "max_height": null,
            "align_content": null,
            "visibility": null,
            "align_self": null,
            "height": null,
            "min_height": null,
            "padding": null,
            "grid_auto_rows": null,
            "grid_gap": null,
            "max_width": null,
            "order": null,
            "_view_module_version": "1.2.0",
            "grid_template_areas": null,
            "object_position": null,
            "object_fit": null,
            "grid_auto_columns": null,
            "margin": null,
            "display": null,
            "left": null
          }
        }
      }
    }
  },
  "cells": [
    {
      "cell_type": "markdown",
      "metadata": {
        "id": "YueqPXMqPMCM"
      },
      "source": [
        "# Character based text Generation"
      ]
    },
    {
      "cell_type": "markdown",
      "metadata": {
        "id": "SrdSjGGAPMCW"
      },
      "source": [
        "#### Tell colab what version to use"
      ]
    },
    {
      "cell_type": "code",
      "metadata": {
        "id": "v2Gju4hgPMCW"
      },
      "source": [
        "%tensorflow_version 2.x"
      ],
      "execution_count": 1,
      "outputs": []
    },
    {
      "cell_type": "markdown",
      "metadata": {
        "id": "rqrTLTOD4w7Q"
      },
      "source": [
        "## Import standard Libraries"
      ]
    },
    {
      "cell_type": "code",
      "metadata": {
        "id": "bvCeupatKuau"
      },
      "source": [
        "import numpy as np\n",
        "import tensorflow as tf\n",
        "import tensorflow_datasets as tfds\n",
        "import matplotlib.pyplot as plt\n",
        "from tensorflow.keras import Model"
      ],
      "execution_count": 2,
      "outputs": []
    },
    {
      "cell_type": "markdown",
      "metadata": {
        "id": "9Ll0Wp2OTosQ"
      },
      "source": [
        "# Load data\r\n",
        "\r\n",
        "Convert to string"
      ]
    },
    {
      "cell_type": "code",
      "metadata": {
        "id": "12bpAFQy6Hnk",
        "colab": {
          "base_uri": "https://localhost:8080/",
          "height": 486,
          "referenced_widgets": [
            "f184dc35b9b24e9bbc93b8c07aa54ab0",
            "b1c4d41784f64a7da6d8dcbfc7c65faa",
            "aae15f1f3ddd4e448c4bd6ff184bac71",
            "fb86e98b40544187a000abbe05025b7c",
            "f94108712a1d492cba36a4ce49855509",
            "3274b0f664ed465ba9f688397dabf6d9",
            "698145f62a954df7b28eda4af8ffc66c",
            "57dc1797219a42a4a870deff9f66b9fe",
            "f06dcec432a8477ba5aeb5848a2e51d4",
            "710f41e533314263937df80f3425a669",
            "ee55beb9e9f04eeb9b0d0b422a726d84",
            "ed775dc56d44402f9fc6c42f9a6b94e6",
            "404801ca498e4c89ac6fe4253eee2beb",
            "371bd2fc0a12470c9bddb9bb7da75b77",
            "ec9b06b452584e9f9cc02aff696fdfa6",
            "3e143674487e48df8599bbcad67f8f46",
            "5023d5367bb84dcda327ccce38c21076",
            "e1bc9bed8da74ad0a945a7670f61458e",
            "281da6febee74812b21c54af24dcd07c",
            "c4d2ea1e2e2e465daf80b205b5e09ed7",
            "64a49d1185fb4713a1ed424c49a994a8",
            "9fde431c803346c2b0653e3ca217dbfb",
            "136f8da3aae54ef6bdb95e3351e0d058",
            "a610239957da4a09b876944ae93e6350",
            "a72b07a40b5f4c4483f9809c72054cd4",
            "501b9d25368344b781e110d3ed22a457",
            "9263bceea4bd4ca38db607d8acf97234",
            "fd553b10922b46a48a08bb2966988ed5",
            "b32a08480d8f4e668a1bcc83f516c0fe",
            "d4f59b15eec34d149d699317a7de5279",
            "fce954b652d04ace96e975d77394f5ea",
            "554b602da68e453fbac3fc2ce7f2104a",
            "5d3c1ae549c5428d97940937b05034c2",
            "40f6cf11da914d98ac9d33fcce678ca9",
            "2aa70bf7499b452d9ab2dd065ffc4c10",
            "b38b0af96f704f6594942228b409c5c0",
            "46bcb7e0abf648b69c77d0fe1563aaad",
            "ae649a84e5fa43da9d9a0ef6ed37398f",
            "d0f27787d6ce45648083a7f9ce73dc1a",
            "0252ba89f895489983e659e2398be681",
            "7f57ef371bea46578f403b2e88597e55",
            "3b1c778c00c5487dae64519dd576f4f0",
            "c42b17b470014d0d82956585eee3a94c",
            "a46073b577774c828db6f6451b601761",
            "528595245bd9424b94ef9c49df53028e",
            "130fc1e056a74603a2f9f508b7ed1724",
            "ebe5ba0e1b3042d990240aa756b1f5db",
            "976b95addb984b7e93a81720544d947e",
            "c5b2dc2719a1487e9b00ec3deca15244",
            "4b2e41e2246e4be59b54868be9295220",
            "28d8f331b94d4b9391238172e020446f",
            "94e3ec7a47124c2ca12a13b393a71a0c",
            "4293c4cb42354e7684f16f173281701d",
            "ece56bcddab4470e9590c946feef5e24",
            "cbb73c0f6c604832b74fdf059747f667",
            "7d035128eb6f4c1cbcd991c5f913a9fd",
            "5ec8f02b9153487aab76981df5c003b0",
            "1670fa1ed1f24d5fa4f82d7ab859b269",
            "7b4cd3d1dfdf4758bd54063fa367ef87",
            "041d78c8457c4002b47188098f794da8",
            "907848a1f8a64deca21569aa4a28a20e",
            "1f06105cc1c842e1b70b69575964d1df",
            "479f6e7c7f9c4641ac2fab56eebfc614",
            "cf8c182589b444d38e536b249dd4819e"
          ]
        },
        "outputId": "9f3c7a0f-bde1-482d-8cfa-9bc5a5254359"
      },
      "source": [
        "shakespeare = tfds.load('tiny_shakespeare')['train']\n",
        "shakespeare = next(iter(shakespeare))\n",
        "shakespeare = shakespeare['text'].numpy().decode('utf-8')\n",
        "print(shakespeare[:100])"
      ],
      "execution_count": 3,
      "outputs": [
        {
          "output_type": "stream",
          "text": [
            "\u001b[1mDownloading and preparing dataset tiny_shakespeare/1.0.0 (download: Unknown size, generated: 1.06 MiB, total: 1.06 MiB) to /root/tensorflow_datasets/tiny_shakespeare/1.0.0...\u001b[0m\n"
          ],
          "name": "stdout"
        },
        {
          "output_type": "display_data",
          "data": {
            "application/vnd.jupyter.widget-view+json": {
              "model_id": "f184dc35b9b24e9bbc93b8c07aa54ab0",
              "version_minor": 0,
              "version_major": 2
            },
            "text/plain": [
              "HBox(children=(FloatProgress(value=1.0, bar_style='info', description='Dl Completed...', max=1.0, style=Progre…"
            ]
          },
          "metadata": {
            "tags": []
          }
        },
        {
          "output_type": "display_data",
          "data": {
            "application/vnd.jupyter.widget-view+json": {
              "model_id": "f06dcec432a8477ba5aeb5848a2e51d4",
              "version_minor": 0,
              "version_major": 2
            },
            "text/plain": [
              "HBox(children=(FloatProgress(value=1.0, bar_style='info', description='Dl Size...', max=1.0, style=ProgressSty…"
            ]
          },
          "metadata": {
            "tags": []
          }
        },
        {
          "output_type": "stream",
          "text": [
            "\n",
            "\n",
            "\n",
            "\n"
          ],
          "name": "stdout"
        },
        {
          "output_type": "display_data",
          "data": {
            "application/vnd.jupyter.widget-view+json": {
              "model_id": "5023d5367bb84dcda327ccce38c21076",
              "version_minor": 0,
              "version_major": 2
            },
            "text/plain": [
              "HBox(children=(FloatProgress(value=1.0, bar_style='info', max=1.0), HTML(value='')))"
            ]
          },
          "metadata": {
            "tags": []
          }
        },
        {
          "output_type": "stream",
          "text": [
            "\rShuffling and writing examples to /root/tensorflow_datasets/tiny_shakespeare/1.0.0.incompleteIT8AUA/tiny_shakespeare-train.tfrecord\n"
          ],
          "name": "stdout"
        },
        {
          "output_type": "display_data",
          "data": {
            "application/vnd.jupyter.widget-view+json": {
              "model_id": "a72b07a40b5f4c4483f9809c72054cd4",
              "version_minor": 0,
              "version_major": 2
            },
            "text/plain": [
              "HBox(children=(FloatProgress(value=0.0, max=1.0), HTML(value='')))"
            ]
          },
          "metadata": {
            "tags": []
          }
        },
        {
          "output_type": "stream",
          "text": [
            "\r"
          ],
          "name": "stdout"
        },
        {
          "output_type": "display_data",
          "data": {
            "application/vnd.jupyter.widget-view+json": {
              "model_id": "5d3c1ae549c5428d97940937b05034c2",
              "version_minor": 0,
              "version_major": 2
            },
            "text/plain": [
              "HBox(children=(FloatProgress(value=1.0, bar_style='info', max=1.0), HTML(value='')))"
            ]
          },
          "metadata": {
            "tags": []
          }
        },
        {
          "output_type": "stream",
          "text": [
            "\rShuffling and writing examples to /root/tensorflow_datasets/tiny_shakespeare/1.0.0.incompleteIT8AUA/tiny_shakespeare-validation.tfrecord\n"
          ],
          "name": "stdout"
        },
        {
          "output_type": "display_data",
          "data": {
            "application/vnd.jupyter.widget-view+json": {
              "model_id": "7f57ef371bea46578f403b2e88597e55",
              "version_minor": 0,
              "version_major": 2
            },
            "text/plain": [
              "HBox(children=(FloatProgress(value=0.0, max=1.0), HTML(value='')))"
            ]
          },
          "metadata": {
            "tags": []
          }
        },
        {
          "output_type": "display_data",
          "data": {
            "application/vnd.jupyter.widget-view+json": {
              "model_id": "c5b2dc2719a1487e9b00ec3deca15244",
              "version_minor": 0,
              "version_major": 2
            },
            "text/plain": [
              "HBox(children=(FloatProgress(value=1.0, bar_style='info', max=1.0), HTML(value='')))"
            ]
          },
          "metadata": {
            "tags": []
          }
        },
        {
          "output_type": "stream",
          "text": [
            "Shuffling and writing examples to /root/tensorflow_datasets/tiny_shakespeare/1.0.0.incompleteIT8AUA/tiny_shakespeare-test.tfrecord\n"
          ],
          "name": "stdout"
        },
        {
          "output_type": "display_data",
          "data": {
            "application/vnd.jupyter.widget-view+json": {
              "model_id": "5ec8f02b9153487aab76981df5c003b0",
              "version_minor": 0,
              "version_major": 2
            },
            "text/plain": [
              "HBox(children=(FloatProgress(value=0.0, max=1.0), HTML(value='')))"
            ]
          },
          "metadata": {
            "tags": []
          }
        },
        {
          "output_type": "stream",
          "text": [
            "\u001b[1mDataset tiny_shakespeare downloaded and prepared to /root/tensorflow_datasets/tiny_shakespeare/1.0.0. Subsequent calls will reuse this data.\u001b[0m\n",
            "First Citizen:\n",
            "Before we proceed any further, hear me speak.\n",
            "\n",
            "All:\n",
            "Speak, speak.\n",
            "\n",
            "First Citizen:\n",
            "You\n"
          ],
          "name": "stdout"
        }
      ]
    },
    {
      "cell_type": "markdown",
      "metadata": {
        "id": "9BewAIUjPMCY"
      },
      "source": [
        "# Prepare the dataset\r\n",
        "\r\n",
        "We cen use python dictonaries to convert our chars to IDs or we use keras' StringLookup layer.\r\n",
        "Using the StringLookup layer is more convenient, because we don't have to convert back and forth between tensors and numpy arrays to loop through.  \r\n",
        "But the StringLookup layer also adds two additional vocabolary entries (' ', and '[UNK]') that we have to be aware of when translating predicted IDs back to text, as we don't want to sample those entries."
      ]
    },
    {
      "cell_type": "markdown",
      "metadata": {
        "id": "n6FGw1n448no"
      },
      "source": [
        "## Using dict"
      ]
    },
    {
      "cell_type": "code",
      "metadata": {
        "id": "ZsEGBvMtqKYS"
      },
      "source": [
        "# Function to get a string out of a tensor with char IDs\r\n",
        "def text_from_ids(id_tensor):\r\n",
        "    return ''.join([id2char[char] for char in id_tensor.numpy().flatten()])"
      ],
      "execution_count": 4,
      "outputs": []
    },
    {
      "cell_type": "code",
      "metadata": {
        "colab": {
          "base_uri": "https://localhost:8080/"
        },
        "id": "WWKCSK2y46rs",
        "outputId": "bb95a569-ad5a-4dda-cedb-62b6049b18d9"
      },
      "source": [
        "# Create vocabulary\n",
        "vocab = set(shakespeare)\n",
        "\n",
        "# Use dictionaries to translate characters to IDs and back\n",
        "char2id = {char:id for id, char in enumerate(vocab)}\n",
        "id2char = {id:char for char,id in char2id.items()}\n",
        "\n",
        "# Translate the shakespeare text to IDs\n",
        "text_ids = [char2id[char] for char in shakespeare]\n",
        "\n",
        "# Test \n",
        "print(text_ids[:20])"
      ],
      "execution_count": 5,
      "outputs": [
        {
          "output_type": "stream",
          "text": [
            "[52, 41, 4, 57, 34, 17, 9, 41, 34, 41, 27, 63, 32, 26, 59, 10, 63, 64, 14, 4]\n"
          ],
          "name": "stdout"
        }
      ]
    },
    {
      "cell_type": "markdown",
      "metadata": {
        "id": "A7DljT8ZqreC"
      },
      "source": [
        "### Create the sequences"
      ]
    },
    {
      "cell_type": "code",
      "metadata": {
        "colab": {
          "base_uri": "https://localhost:8080/"
        },
        "id": "vKU1xipXqe0y",
        "outputId": "bf898d19-5e06-4572-8f90-f65cdcecd96f"
      },
      "source": [
        "SEQ_LEN = 20 #@param [\"20\", \"50\", \"100\"] {type:\"raw\"}\r\n",
        "\r\n",
        "# Create dataset of sequences\r\n",
        "ids_dataset = tf.data.Dataset.from_tensor_slices(text_ids)\r\n",
        "# 'drop_remainder' drops the last batch if it's smaller than batch_size\r\n",
        "seq_dataset = ids_dataset.batch(batch_size=SEQ_LEN+1, \r\n",
        "                                drop_remainder=True)\r\n",
        "\r\n",
        "# Look at first sequence\r\n",
        "for seq in seq_dataset.take(1):\r\n",
        "    print(text_from_ids(seq))"
      ],
      "execution_count": 6,
      "outputs": [
        {
          "output_type": "stream",
          "text": [
            "First Citizen:\n",
            "Before\n"
          ],
          "name": "stdout"
        }
      ]
    },
    {
      "cell_type": "markdown",
      "metadata": {
        "id": "kOhNfDMwqwDi"
      },
      "source": [
        "### Create dataset of (input, target)-pairs"
      ]
    },
    {
      "cell_type": "code",
      "metadata": {
        "colab": {
          "base_uri": "https://localhost:8080/"
        },
        "id": "xf_F64iiqemK",
        "outputId": "62367373-90aa-4503-8536-2a176dbfc4df"
      },
      "source": [
        "BATCH_SIZE = 64 #@param [\"32\", \"64\", \"128\"] {type:\"raw\"}\r\n",
        "BUFFER_SIZE = 1000 #@param [\"1000\", \"10000\", \"100000\"] {type:\"raw\"}\r\n",
        "\r\n",
        "# Create Datasets and make sure minibatches all have same size\r\n",
        "dataset = seq_dataset.map(lambda seq: (seq[:-1],seq[1:]),\r\n",
        "                          num_parallel_calls=tf.data.experimental.AUTOTUNE)\r\n",
        "\r\n",
        "# Shuffle the data\r\n",
        "dataset = dataset.shuffle(BUFFER_SIZE)\r\n",
        "\r\n",
        "# Create minibatches\r\n",
        "dataset = dataset.batch(BATCH_SIZE,drop_remainder=True)\r\n",
        "\r\n",
        "# Prefetch the data\r\n",
        "dataset = dataset.prefetch(tf.data.experimental.AUTOTUNE)\r\n",
        "\r\n",
        "dataset"
      ],
      "execution_count": 7,
      "outputs": [
        {
          "output_type": "execute_result",
          "data": {
            "text/plain": [
              "<PrefetchDataset shapes: ((64, 20), (64, 20)), types: (tf.int32, tf.int32)>"
            ]
          },
          "metadata": {
            "tags": []
          },
          "execution_count": 7
        }
      ]
    },
    {
      "cell_type": "markdown",
      "metadata": {
        "id": "AQ_4gskO6-ij"
      },
      "source": [
        "## Using StringLookup"
      ]
    },
    {
      "cell_type": "code",
      "metadata": {
        "id": "5AvHG92kl-Gw"
      },
      "source": [
        "# Function to get a string out of a tensor with char IDs\r\n",
        "def text_from_ids(id_tensor):\r\n",
        "    return tf.strings.reduce_join(id2char(id_tensor)).numpy().decode('utf-8')"
      ],
      "execution_count": 135,
      "outputs": []
    },
    {
      "cell_type": "code",
      "metadata": {
        "colab": {
          "base_uri": "https://localhost:8080/"
        },
        "id": "TjvDDQEmzyxk",
        "outputId": "774511f1-7414-45ca-a4b8-6e622259de0a"
      },
      "source": [
        "from tensorflow.keras.layers.experimental.preprocessing import StringLookup\r\n",
        "\r\n",
        "# Create a tensor containing the text as a list of characters\r\n",
        "text_tensor = tf.strings.unicode_split(shakespeare, 'UTF-8')\r\n",
        "\r\n",
        "# Use the StringLookup layer to translate characters to IDs and back\r\n",
        "char2id = StringLookup(vocabulary=list(set(shakespeare)))\r\n",
        "id2char = StringLookup(vocabulary=char2id.get_vocabulary(), invert=True)\r\n",
        "\r\n",
        "# Create vocabulary (use the StringLookup vocabulary because that contains padding and unknown characters at indeces '0' and '1')\r\n",
        "vocab = char2id.get_vocabulary()\r\n",
        "\r\n",
        "# Translate the shakespeare text to IDs\r\n",
        "text_ids = char2id(text_tensor)\r\n",
        "\r\n",
        "# Test \r\n",
        "print(text_ids)"
      ],
      "execution_count": 252,
      "outputs": [
        {
          "output_type": "stream",
          "text": [
            "tf.Tensor([42 65 38 ... 18 38 18], shape=(1003854,), dtype=int64)\n"
          ],
          "name": "stdout"
        }
      ]
    },
    {
      "cell_type": "markdown",
      "metadata": {
        "id": "adxt2_Ps0OPv"
      },
      "source": [
        "### Create the sequences"
      ]
    },
    {
      "cell_type": "code",
      "metadata": {
        "id": "eUN2xZfhPMCY",
        "colab": {
          "base_uri": "https://localhost:8080/"
        },
        "outputId": "c947bfc7-43d0-40c2-c9ea-843bc82b298c"
      },
      "source": [
        "SEQ_LEN = 20 #@param [\"20\", \"50\", \"100\"] {type:\"raw\"}\n",
        "\n",
        "# Create dataset of sequences\n",
        "ids_dataset = tf.data.Dataset.from_tensor_slices(text_ids)\n",
        "# 'drop_remainder' drops the last batch if it's smaller than batch_size\n",
        "seq_dataset = ids_dataset.batch(batch_size=SEQ_LEN+1, \n",
        "                                drop_remainder=True)\n",
        "\n",
        "# Look at first sequence\n",
        "for seq in seq_dataset.take(1):\n",
        "    print(text_from_ids(seq))"
      ],
      "execution_count": 255,
      "outputs": [
        {
          "output_type": "stream",
          "text": [
            "First Citizen:\n",
            "Before\n"
          ],
          "name": "stdout"
        }
      ]
    },
    {
      "cell_type": "markdown",
      "metadata": {
        "id": "hTa0XG8m_UQs"
      },
      "source": [
        "### Create dataset of (input, target)-pairs"
      ]
    },
    {
      "cell_type": "code",
      "metadata": {
        "colab": {
          "base_uri": "https://localhost:8080/"
        },
        "id": "9Gjp3f7eA71e",
        "outputId": "deeb5757-d04e-430b-b5c6-86432e61207c"
      },
      "source": [
        "BATCH_SIZE = 64 #@param [\"32\", \"64\", \"128\"] {type:\"raw\"}\n",
        "BUFFER_SIZE = 1000 #@param [\"1000\", \"10000\", \"100000\"] {type:\"raw\"}\n",
        "\n",
        "# Create Datasets and make sure minibatches all have same size\n",
        "dataset = seq_dataset.map(lambda seq: (seq[:-1],seq[1:]),\n",
        "                          num_parallel_calls=tf.data.experimental.AUTOTUNE)\n",
        "\n",
        "# Shuffle the data\n",
        "dataset = dataset.shuffle(BUFFER_SIZE)\n",
        "\n",
        "# Create minibatches\n",
        "dataset = dataset.batch(BATCH_SIZE,drop_remainder=True)\n",
        "\n",
        "# Prefetch the data\n",
        "dataset = dataset.prefetch(tf.data.experimental.AUTOTUNE)\n",
        "\n",
        "dataset"
      ],
      "execution_count": 256,
      "outputs": [
        {
          "output_type": "execute_result",
          "data": {
            "text/plain": [
              "<PrefetchDataset shapes: ((64, 20), (64, 20)), types: (tf.int64, tf.int64)>"
            ]
          },
          "metadata": {
            "tags": []
          },
          "execution_count": 256
        }
      ]
    },
    {
      "cell_type": "markdown",
      "metadata": {
        "id": "WbGAxd2ATM-d"
      },
      "source": [
        "# Inspect the dataset"
      ]
    },
    {
      "cell_type": "code",
      "metadata": {
        "colab": {
          "base_uri": "https://localhost:8080/"
        },
        "id": "jld3SeZLtmSn",
        "outputId": "ff13a139-e743-4286-f5ec-fd83f5aee41e"
      },
      "source": [
        "for input, target in dataset.take(1):\r\n",
        "    print(f'Input-target pair:\\n{input[0], target[0]}')\r\n",
        "    print(f'\\nInput:  {text_from_ids(input[0])}\\nTarget:  {text_from_ids(target[0])}')"
      ],
      "execution_count": 441,
      "outputs": [
        {
          "output_type": "stream",
          "text": [
            "Input-target pair:\n",
            "(<tf.Tensor: shape=(20,), dtype=int32, numpy=\n",
            "array([60, 29, 56, 27,  7, 16, 58, 16, 36,  7, 29, 56, 58, 16,  7,  3, 16,\n",
            "       16, 64,  7], dtype=int32)>, <tf.Tensor: shape=(20,), dtype=int32, numpy=\n",
            "array([29, 56, 27,  7, 16, 58, 16, 36,  7, 29, 56, 58, 16,  7,  3, 16, 16,\n",
            "       64,  7, 27], dtype=int32)>)\n",
            "\n",
            "Input:  What ever have been \n",
            "Target:  hat ever have been t\n"
          ],
          "name": "stdout"
        }
      ]
    },
    {
      "cell_type": "markdown",
      "metadata": {
        "id": "78C9GeJq5ap7"
      },
      "source": [
        "# Define RNN cell\r\n",
        "\r\n",
        "We define our weight matrizes as simple dense layers without activation.  \r\n",
        "It's important to not use a bias in the input layer."
      ]
    },
    {
      "cell_type": "code",
      "metadata": {
        "id": "8nuXgjbz5ap8"
      },
      "source": [
        "class RNN_cell(Model):\n",
        "    def __init__(self, state_size):\n",
        "        super(RNN_cell, self).__init__()\n",
        "        # W_xh\n",
        "        self.input_weights = tf.keras.layers.Dense(units=state_size,\n",
        "                                                   activation=None,\n",
        "                                                   use_bias = False,\n",
        "                                                   name='Input_layer'\n",
        "                                                   )\n",
        "        # W_hh+b_h\n",
        "        self.hidden_weights = tf.keras.layers.Dense(units=state_size,\n",
        "                                                    activation=None,\n",
        "                                                    name='Hidden_layer'\n",
        "                                                    )\n",
        "        \n",
        "    def call(self, x_t, h_t):\n",
        "        # Computing the new hidden state\n",
        "        if h_t == None:\n",
        "            h_t = tf.keras.activations.relu(self.input_weights(x_t))\n",
        "        else:\n",
        "            # h_t = activation(x_t*W_xh + h_t*W_hh+b_h)\n",
        "            h_t = tf.keras.activations.relu(self.input_weights(x_t)+self.hidden_weights(h_t))        \n",
        "        return h_t"
      ],
      "execution_count": 8,
      "outputs": []
    },
    {
      "cell_type": "markdown",
      "metadata": {
        "id": "JQtSdBNuPMCc"
      },
      "source": [
        "## Inspect RNN cell"
      ]
    },
    {
      "cell_type": "code",
      "metadata": {
        "colab": {
          "base_uri": "https://localhost:8080/"
        },
        "id": "p_n95rjnnjEx",
        "scrolled": false,
        "outputId": "635c4d71-f281-4165-9858-88556b1b9b95"
      },
      "source": [
        "cell = RNN_cell(128)\n",
        "_ = cell(tf.ones((BATCH_SIZE,64)),\n",
        "         tf.zeros((BATCH_SIZE,128))\n",
        "        )\n",
        "cell.summary()"
      ],
      "execution_count": 9,
      "outputs": [
        {
          "output_type": "stream",
          "text": [
            "Model: \"rnn_cell\"\n",
            "_________________________________________________________________\n",
            "Layer (type)                 Output Shape              Param #   \n",
            "=================================================================\n",
            "Input_layer (Dense)          multiple                  8192      \n",
            "_________________________________________________________________\n",
            "Hidden_layer (Dense)         multiple                  16512     \n",
            "=================================================================\n",
            "Total params: 24,704\n",
            "Trainable params: 24,704\n",
            "Non-trainable params: 0\n",
            "_________________________________________________________________\n"
          ],
          "name": "stdout"
        }
      ]
    },
    {
      "cell_type": "markdown",
      "metadata": {
        "id": "xoCo3FewJgEy"
      },
      "source": [
        "# Define RNN"
      ]
    },
    {
      "cell_type": "code",
      "metadata": {
        "id": "0d6lQLW55ap_"
      },
      "source": [
        "class RNN(Model):\n",
        "    def __init__(self, state_size, vocab_size, embedding_size):\n",
        "        super(RNN, self).__init__()\n",
        "        self.state_size = state_size\n",
        "\n",
        "        self.readin_layer = tf.keras.layers.Embedding(input_dim=vocab_size,\n",
        "                                                      output_dim=embedding_size,\n",
        "                                                      input_length=SEQ_LEN,\n",
        "                                                      name='ReadIn_layer'\n",
        "                                                      )\n",
        "        \n",
        "        self.RNNcell = RNN_cell(self.state_size)\n",
        "\n",
        "        self.output_layer = tf.keras.layers.Dense(units=vocab_size,\n",
        "                                                  activation='softmax',\n",
        "                                                  name='Readout_layer'\n",
        "                                                 )\n",
        "          \n",
        "    def call(self, seq):\n",
        "        t = tf.constant(0)\n",
        "        # Store the outputs of each timestep in a TensorArray\n",
        "        outputs = tf.TensorArray(tf.float32, size=SEQ_LEN)\n",
        "\n",
        "        seq = self.readin_layer(seq)\n",
        "\n",
        "        # First timestep; reset hidden state\n",
        "        h_t = None\n",
        "\n",
        "        h_t = self.RNNcell(seq[:,t], h_t)\n",
        "\n",
        "        output = self.output_layer(h_t)\n",
        "        outputs = outputs.write(0,output)\n",
        "        t += 1\n",
        "        \n",
        "        # Use tensorflow conditional tf.less for graph mode\n",
        "        while tf.less(t, SEQ_LEN):\n",
        "            h_t = self.RNNcell(seq[:,t], h_t)\n",
        "            output = self.output_layer(h_t)\n",
        "            outputs = outputs.write(t,output)\n",
        "            t += 1\n",
        "        \n",
        "        # Transpose the TensorArray to get shape (BATCH_SIZE, Timesteps, output_size)\n",
        "        rnn_out = tf.transpose(outputs.stack(),perm=[1,0,2])\n",
        "        return rnn_out"
      ],
      "execution_count": 10,
      "outputs": []
    },
    {
      "cell_type": "markdown",
      "metadata": {
        "id": "cigodr5BPMCd"
      },
      "source": [
        "## Inspect RNN\r\n",
        "\r\n",
        "We sample one character for each timestep using the softmax output as distribution."
      ]
    },
    {
      "cell_type": "code",
      "metadata": {
        "colab": {
          "base_uri": "https://localhost:8080/"
        },
        "id": "b3uDseaMnjEy",
        "scrolled": false,
        "outputId": "0fc64192-c34d-49fc-afb5-2ff4dfe57554"
      },
      "source": [
        "rnn = RNN(256, len(vocab), 128)\n",
        "for input, target in dataset.take(1):\n",
        "    rnn_out = rnn(input)\n",
        "    print(f'Input: {text_from_ids(input[0])}\\n')\n",
        "    predicted_ids = tf.random.categorical(tf.math.log(rnn_out[0]), num_samples=1)\n",
        "    print(f'Prediction: {text_from_ids(predicted_ids)}\\n')\n",
        "\n",
        "rnn.summary()"
      ],
      "execution_count": 11,
      "outputs": [
        {
          "output_type": "stream",
          "text": [
            "Input:  and so, I pray, go \n",
            "\n",
            "Prediction: wKNBkE'sXo$xceqRjQxf\n",
            "\n",
            "Model: \"rnn\"\n",
            "_________________________________________________________________\n",
            "Layer (type)                 Output Shape              Param #   \n",
            "=================================================================\n",
            "ReadIn_layer (Embedding)     multiple                  8320      \n",
            "_________________________________________________________________\n",
            "rnn_cell_1 (RNN_cell)        multiple                  98560     \n",
            "_________________________________________________________________\n",
            "Readout_layer (Dense)        multiple                  16705     \n",
            "=================================================================\n",
            "Total params: 123,585\n",
            "Trainable params: 123,585\n",
            "Non-trainable params: 0\n",
            "_________________________________________________________________\n"
          ],
          "name": "stdout"
        }
      ]
    },
    {
      "cell_type": "markdown",
      "metadata": {
        "id": "QbNGw_ihLtI5"
      },
      "source": [
        "# Define LSTM"
      ]
    },
    {
      "cell_type": "code",
      "metadata": {
        "id": "8FsAwDp3Lvli"
      },
      "source": [
        "class LSTM_cell(Model):\n",
        "    def __init__(self, unit_size):\n",
        "        super(LSTM_cell, self).__init__()\n",
        "        self.forget_gate = tf.keras.layers.Dense(units=unit_size,\n",
        "                                                 activation='sigmoid',\n",
        "                                                 bias_initializer='ones',\n",
        "                                                 name='Forget_gate'\n",
        "                                                )\n",
        "        \n",
        "        self.input_gate = tf.keras.layers.Dense(units=unit_size,\n",
        "                                                activation='sigmoid',\n",
        "                                                name='Input_gate'\n",
        "                                               )\n",
        "        \n",
        "        self.candidates = tf.keras.layers.Dense(units=unit_size,\n",
        "                                                activation='tanh',\n",
        "                                                name='Candidate_layer'\n",
        "                                                )\n",
        "        \n",
        "        self.output_gate = tf.keras.layers.Dense(units=unit_size,\n",
        "                                                 activation='sigmoid',\n",
        "                                                 name='Output_gate'\n",
        "                                                )\n",
        "    \n",
        "    def call(self, x_t, states):\n",
        "        h_t, c_t = states\n",
        "        cell_input = tf.concat((x_t,h_t),1)\n",
        "\n",
        "        # Computing the filter\n",
        "        f_t = self.forget_gate(cell_input)\n",
        "        i_t = self.input_gate(cell_input)\n",
        "        candidates = self.candidates(cell_input)\n",
        "        o_t = self.output_gate(cell_input)\n",
        "        \n",
        "        # Computing the new states\n",
        "        c_t = f_t*c_t + i_t*candidates            \n",
        "        h_t = o_t*tf.nn.tanh(c_t)\n",
        "        \n",
        "        return (h_t,c_t)"
      ],
      "execution_count": 12,
      "outputs": []
    },
    {
      "cell_type": "code",
      "metadata": {
        "id": "KCMe-1uyMa2f"
      },
      "source": [
        "class LSTM(Model):\n",
        "    def __init__(self, state_size, vocab_size, embedding_size):\n",
        "        super(LSTM, self).__init__()\n",
        "        self.state_size = state_size\n",
        "\n",
        "        self.readin_layer = tf.keras.layers.Embedding(input_dim=vocab_size,\n",
        "                                                      output_dim=embedding_size,\n",
        "                                                      input_length=SEQ_LEN,\n",
        "                                                      name='ReadIn_layer'\n",
        "                                                      )\n",
        "        \n",
        "        self.LSTMcell1 = LSTM_cell(self.state_size)\n",
        "        self.LSTMcell2 = LSTM_cell(self.state_size)\n",
        "\n",
        "        self.output_layer = tf.keras.layers.Dense(units=vocab_size,\n",
        "                                                  activation='softmax',\n",
        "                                                  name='Readout_layer'\n",
        "                                                 )\n",
        "          \n",
        "    def call(self, seq):\n",
        "        t = tf.constant(0)\n",
        "        # Store the outputs of each timestep in a TensorArray\n",
        "        outputs = tf.TensorArray(tf.float32, size=SEQ_LEN)\n",
        "\n",
        "        seq = self.readin_layer(seq)\n",
        "\n",
        "\n",
        "        # First timestep; reset hidden state\n",
        "        h_t1 = tf.zeros((tf.shape(seq)[0],self.state_size))\n",
        "        c_t1 = tf.zeros((tf.shape(seq)[0],self.state_size))\n",
        "        \n",
        "        h_t2 = tf.zeros((tf.shape(seq)[0],self.state_size))\n",
        "        c_t2 = tf.zeros((tf.shape(seq)[0],self.state_size))\n",
        "\n",
        "        h_t1, c_t1 = self.LSTMcell1(seq[:,t,:],\n",
        "                                 (h_t1,c_t1))\n",
        "        \n",
        "        h_t2, c_t2 = self.LSTMcell2(h_t1,(h_t2,c_t2))\n",
        "\n",
        "        output = self.output_layer(h_t2)\n",
        "        outputs = outputs.write(0,output)\n",
        "        t += 1\n",
        "        \n",
        "        # Use tensorflow conditional tf.less for graph mode\n",
        "        while tf.less(t, SEQ_LEN):\n",
        "            h_t1, c_t1 = self.LSTMcell1(seq[:,t,:],(h_t1,c_t1))\n",
        "            \n",
        "            h_t2, c_t2 = self.LSTMcell2(h_t1,(h_t2,c_t2))\n",
        "\n",
        "            output = self.output_layer(h_t2)\n",
        "            outputs = outputs.write(t,output)\n",
        "            t += 1\n",
        "        \n",
        "        # Transpose the TensorArray to get shape (BATCH_SIZE, Timesteps, output_size)\n",
        "        rnn_out = tf.transpose(outputs.stack(),perm=[1,0,2])\n",
        "        return rnn_out"
      ],
      "execution_count": 32,
      "outputs": []
    },
    {
      "cell_type": "code",
      "metadata": {
        "colab": {
          "base_uri": "https://localhost:8080/"
        },
        "scrolled": false,
        "id": "PcyINOP2MsMC",
        "outputId": "fce517d2-e32e-49d0-e121-f23121a81d9b"
      },
      "source": [
        "lstm = LSTM(256, len(vocab), 128)\n",
        "for input, target in dataset.take(1):\n",
        "    lstm_out = lstm(input)\n",
        "    print(f'Input: {text_from_ids(input[0])}\\n')\n",
        "    predicted_ids = tf.random.categorical(tf.math.log(lstm_out[0]), num_samples=1)\n",
        "    print(f'Prediction: {text_from_ids(predicted_ids)}\\n')\n",
        "\n",
        "lstm.summary()"
      ],
      "execution_count": 33,
      "outputs": [
        {
          "output_type": "stream",
          "text": [
            "Input: hey think we are too\n",
            "\n",
            "Prediction: yjyn'LUZLzWKQL,L: Yl\n",
            "\n",
            "Model: \"lstm_1\"\n",
            "_________________________________________________________________\n",
            "Layer (type)                 Output Shape              Param #   \n",
            "=================================================================\n",
            "ReadIn_layer (Embedding)     multiple                  8320      \n",
            "_________________________________________________________________\n",
            "lstm_cell_2 (LSTM_cell)      multiple                  394240    \n",
            "_________________________________________________________________\n",
            "lstm_cell_3 (LSTM_cell)      multiple                  525312    \n",
            "_________________________________________________________________\n",
            "Readout_layer (Dense)        multiple                  16705     \n",
            "=================================================================\n",
            "Total params: 944,577\n",
            "Trainable params: 944,577\n",
            "Non-trainable params: 0\n",
            "_________________________________________________________________\n"
          ],
          "name": "stdout"
        }
      ]
    },
    {
      "cell_type": "markdown",
      "metadata": {
        "id": "xaAAaMgISMI0"
      },
      "source": [
        "# Define the training process"
      ]
    },
    {
      "cell_type": "markdown",
      "metadata": {
        "id": "ZSX3yFSK5aqJ"
      },
      "source": [
        "#### Function to plot the models performance"
      ]
    },
    {
      "cell_type": "code",
      "metadata": {
        "id": "3Qm4YKn_5aqJ"
      },
      "source": [
        "from IPython.display import clear_output\n",
        "\n",
        "def visualize_progress(num_epochs, epoch, train_losses):\n",
        "    clear_output(wait=True)\n",
        "    fig = plt.figure(figsize=(15,5))\n",
        "    plt.xlim((0,num_epochs))\n",
        "    plt.plot(train_losses,label='Training')\n",
        "    plt.ylabel('Loss',fontsize=24)\n",
        "    plt.xlabel('Epochs',fontsize=24)\n",
        "    plt.title(f'Epoch: {epoch+1}', fontweight='bold', fontsize=30)\n",
        "    plt.xticks(np.arange(0,num_epochs,2))\n",
        "    plt.legend()\n",
        "    plt.show() "
      ],
      "execution_count": 15,
      "outputs": []
    },
    {
      "cell_type": "code",
      "metadata": {
        "id": "wLUw0EhkKuba"
      },
      "source": [
        "def train_model(model, dataset, loss_function, optimizer, num_epochs):\n",
        "    running_average_factor = 0.95\n",
        "\n",
        "    # Initialize lists for later visualization.\n",
        "    train_losses = []\n",
        "    \n",
        "    # Train loop for num_epochs epochs.\n",
        "    for epoch in range(num_epochs):\n",
        "            \n",
        "        # Training\n",
        "        running_average_loss = 0\n",
        "        for input_seq, target_seq in dataset:\n",
        "            train_loss = train_step(model, input_seq, target_seq, loss_function, optimizer)\n",
        "            running_average_loss = running_average_factor * running_average_loss  + (1 - running_average_factor) * train_loss\n",
        "\n",
        "        train_losses.append(running_average_loss.numpy())\n",
        "\n",
        "        visualize_progress(num_epochs, epoch, train_losses)\n",
        "\n",
        "        # Look at one sequence and it's prediction\n",
        "        for input_seq, target_seq in dataset.take(1):\n",
        "            pred = model(input_seq)\n",
        "            print(f'Input: {text_from_ids(input_seq[0])}\\n')\n",
        "            predicted_ids = tf.random.categorical(tf.math.log(pred[0]), num_samples=1)\n",
        "            print(f'Prediction: {text_from_ids(predicted_ids)}\\n')\n",
        "            \n",
        "        # Display loss and accuracy for current epoch    \n",
        "        print(f'Epoch: __ {epoch+1}')\n",
        "        print('Train loss: ',running_average_loss.numpy())"
      ],
      "execution_count": 16,
      "outputs": []
    },
    {
      "cell_type": "markdown",
      "metadata": {
        "id": "bPEzh22pScXb"
      },
      "source": [
        "# Define training"
      ]
    },
    {
      "cell_type": "code",
      "metadata": {
        "id": "SVg42aU_xGpK"
      },
      "source": [
        "@tf.function\n",
        "def train_step(model, input_seq, target_seq, loss_function, optimizer):\n",
        "    with tf.GradientTape() as tape:\n",
        "        pred = model(input_seq)\n",
        "        loss = loss_function(target_seq, pred)\n",
        "        gradients = tape.gradient(loss, model.trainable_variables)\n",
        "    optimizer.apply_gradients(zip(gradients, model.trainable_variables))\n",
        "    return loss"
      ],
      "execution_count": 26,
      "outputs": []
    },
    {
      "cell_type": "markdown",
      "metadata": {
        "id": "RVsX0m0wsHCt"
      },
      "source": [
        "# Train RNN"
      ]
    },
    {
      "cell_type": "code",
      "metadata": {
        "colab": {
          "base_uri": "https://localhost:8080/",
          "height": 530
        },
        "id": "zYQSNB6Hr4w7",
        "scrolled": true,
        "outputId": "734eaa8c-a003-488b-ebd9-feec1054ccc5"
      },
      "source": [
        "%%time\n",
        "tf.keras.backend.clear_session()\n",
        "\n",
        "learning_rate = 0.0001\n",
        "state_size = 4096\n",
        "embedding_size = 256\n",
        "epochs = 50\n",
        "\n",
        "# Initialize the loss\n",
        "# We use SparseCategoricalCrossentropy here\n",
        "# This way we don't have to onehot encode our targets and can just use the charID and the softmax prediction to calculate the loss\n",
        "loss_function = tf.keras.losses.SparseCategoricalCrossentropy()\n",
        "\n",
        "# Initialize the optimizer\n",
        "optimizer = tf.keras.optimizers.Adam(learning_rate)\n",
        "\n",
        "# Initialize model\n",
        "rnn = RNN(state_size, len(vocab), embedding_size)\n",
        "train_model(\n",
        "    model = rnn,\n",
        "    dataset = dataset,\n",
        "    num_epochs = epochs,\n",
        "    loss_function = loss_function,\n",
        "    optimizer = optimizer\n",
        ")"
      ],
      "execution_count": 27,
      "outputs": [
        {
          "output_type": "display_data",
          "data": {
            "image/png": "[encoded data removed]",
            "text/plain": [
              "<Figure size 1080x360 with 1 Axes>"
            ]
          },
          "metadata": {
            "tags": [],
            "needs_background": "light"
          }
        },
        {
          "output_type": "stream",
          "text": [
            "Input: ls, that dogs must e\n",
            "\n",
            "Prediction: y \n",
            "mhat dog  must ea\n",
            "\n",
            "Epoch: __ 50\n",
            "Train loss:  0.42330235\n",
            "CPU times: user 21min 10s, sys: 2min 32s, total: 23min 42s\n",
            "Wall time: 42min 36s\n"
          ],
          "name": "stdout"
        }
      ]
    },
    {
      "cell_type": "code",
      "metadata": {
        "colab": {
          "base_uri": "https://localhost:8080/"
        },
        "id": "T6x5-gXNqiG4",
        "outputId": "6e933eec-86e6-4d41-c008-21652b1cfc70"
      },
      "source": [
        "rnn.summary()"
      ],
      "execution_count": 28,
      "outputs": [
        {
          "output_type": "stream",
          "text": [
            "Model: \"rnn\"\n",
            "_________________________________________________________________\n",
            "Layer (type)                 Output Shape              Param #   \n",
            "=================================================================\n",
            "ReadIn_layer (Embedding)     multiple                  16640     \n",
            "_________________________________________________________________\n",
            "rnn_cell (RNN_cell)          multiple                  17829888  \n",
            "_________________________________________________________________\n",
            "Readout_layer (Dense)        multiple                  266305    \n",
            "=================================================================\n",
            "Total params: 18,112,833\n",
            "Trainable params: 18,112,833\n",
            "Non-trainable params: 0\n",
            "_________________________________________________________________\n"
          ],
          "name": "stdout"
        }
      ]
    },
    {
      "cell_type": "markdown",
      "metadata": {
        "id": "Sh3Z3hxRkBb-"
      },
      "source": [
        "# Create Text"
      ]
    },
    {
      "cell_type": "code",
      "metadata": {
        "colab": {
          "base_uri": "https://localhost:8080/"
        },
        "id": "p_DoMyIYqpOH",
        "outputId": "1b56bd3a-6fd7-4a39-fc8a-c3b3ff8b00a9"
      },
      "source": [
        "def generate_text(in_seq, length=200):\r\n",
        "    input_ids = tf.convert_to_tensor([char2id[char] for char in in_seq])    \r\n",
        "\r\n",
        "    output_text = in_seq\r\n",
        "    states=None\r\n",
        "\r\n",
        "    for _ in range(length):\r\n",
        "        input_id_tensor = tf.convert_to_tensor(input_ids)\r\n",
        "        # Add batch dimension\r\n",
        "        input_id_tensor = tf.expand_dims(input_ids,0)\r\n",
        "\r\n",
        "        lstm_out = lstm(input_id_tensor)\r\n",
        "        predicted_ids = tf.random.categorical(tf.math.log(lstm_out[0]), num_samples=1)\r\n",
        "        input_ids = np.delete(input_ids,0)\r\n",
        "        input_ids.append(tf.squeeze(predicted_ids).numpy()[-1])\r\n",
        "        output_text += text_from_ids(predicted_ids)[-1]\r\n",
        "\r\n",
        "    print(output_text)\r\n",
        "\r\n",
        "generate_text('MARCIUS:\\nHow far of ')"
      ],
      "execution_count": 29,
      "outputs": [
        {
          "output_type": "stream",
          "text": [
            "MARCIUS:\n",
            "How far of wikedener o\n",
            "enatsheg. how.ulelaz wimatad weroupry\n",
            "Fulys, onuchanok asure:\n",
            "F\n",
            "Cinombe h\n",
            "'Bvat Ament RRun; hesinor thst trs hitexisinerarietrlyo, LI h, y\n",
            "Ve.\n",
            "TInes\n",
            "T, f the\n",
            "Twero,\n",
            "I\n",
            "Frr, gesat f seAspate\n"
          ],
          "name": "stdout"
        }
      ]
    },
    {
      "cell_type": "markdown",
      "metadata": {
        "id": "FmxOFmYsOA7X"
      },
      "source": [
        "# Train LSTM\r\n",
        "\r\n",
        "After seeing the results we decided to also use our LSTM from the last homework."
      ]
    },
    {
      "cell_type": "code",
      "metadata": {
        "id": "S0V_5NdePFMX"
      },
      "source": [
        "@tf.function\n",
        "def train_step(model, input_seq, target_seq, loss_function, optimizer):\n",
        "    with tf.GradientTape() as tape:\n",
        "        pred = model(input_seq)\n",
        "        loss = loss_function(target_seq, pred)\n",
        "        gradients = tape.gradient(loss, model.trainable_variables)\n",
        "    optimizer.apply_gradients(zip(gradients, model.trainable_variables))\n",
        "    return loss"
      ],
      "execution_count": 34,
      "outputs": []
    },
    {
      "cell_type": "code",
      "metadata": {
        "colab": {
          "base_uri": "https://localhost:8080/",
          "height": 496
        },
        "scrolled": true,
        "id": "oXmWALmIN8d3",
        "outputId": "fcf71398-1826-42c9-d1f6-8234d372209c"
      },
      "source": [
        "%%time\n",
        "tf.keras.backend.clear_session()\n",
        "\n",
        "learning_rate = 0.001\n",
        "state_size = 4096\n",
        "embedding_size = 256\n",
        "epochs = 25\n",
        "\n",
        "# Initialize the loss\n",
        "# We use SparseCategoricalCrossentropy here\n",
        "# This way we don't have to onehot encode our targets and can just use the charID and the softmax prediction to calculate the loss\n",
        "loss_function = tf.keras.losses.SparseCategoricalCrossentropy()\n",
        "\n",
        "# Initialize the optimizer\n",
        "optimizer = tf.keras.optimizers.Adam(learning_rate)\n",
        "\n",
        "# Initialize model\n",
        "lstm = LSTM(state_size, len(vocab), embedding_size)\n",
        "train_model(\n",
        "    model = lstm,\n",
        "    dataset = dataset,\n",
        "    num_epochs = epochs,\n",
        "    loss_function = loss_function,\n",
        "    optimizer = optimizer\n",
        ")"
      ],
      "execution_count": null,
      "outputs": [
        {
          "output_type": "display_data",
          "data": {
            "image/png": "[encoded data removed]",
            "text/plain": [
              "<Figure size 1080x360 with 1 Axes>"
            ]
          },
          "metadata": {
            "tags": [],
            "needs_background": "light"
          }
        },
        {
          "output_type": "stream",
          "text": [
            "Input: is brows\n",
            "bound with \n",
            "\n",
            "Prediction: f daows bolnd aith i\n",
            "\n",
            "Epoch: __ 13\n",
            "Train loss:  0.5893169\n"
          ],
          "name": "stdout"
        }
      ]
    },
    {
      "cell_type": "code",
      "metadata": {
        "colab": {
          "base_uri": "https://localhost:8080/",
          "height": 163
        },
        "id": "jNOe2EYyQlyR",
        "outputId": "0d0f4d0a-1e64-4ee2-f895-8b2e7503c389"
      },
      "source": [
        "lstm.summary()"
      ],
      "execution_count": 1,
      "outputs": [
        {
          "output_type": "error",
          "ename": "NameError",
          "evalue": "ignored",
          "traceback": [
            "\u001b[0;31m---------------------------------------------------------------------------\u001b[0m",
            "\u001b[0;31mNameError\u001b[0m                                 Traceback (most recent call last)",
            "\u001b[0;32m<ipython-input-1-62cc2d0e0081>\u001b[0m in \u001b[0;36m<module>\u001b[0;34m()\u001b[0m\n\u001b[0;32m----> 1\u001b[0;31m \u001b[0mlstm\u001b[0m\u001b[0;34m.\u001b[0m\u001b[0msummary\u001b[0m\u001b[0;34m(\u001b[0m\u001b[0;34m)\u001b[0m\u001b[0;34m\u001b[0m\u001b[0;34m\u001b[0m\u001b[0m\n\u001b[0m",
            "\u001b[0;31mNameError\u001b[0m: name 'lstm' is not defined"
          ]
        }
      ]
    },
    {
      "cell_type": "markdown",
      "metadata": {
        "id": "Cdj1OQ5PO3G-"
      },
      "source": [
        "# Create Text"
      ]
    },
    {
      "cell_type": "code",
      "metadata": {
        "colab": {
          "base_uri": "https://localhost:8080/"
        },
        "id": "U3mG_t10O1fR",
        "outputId": "71aa2e86-96be-406d-a105-b3b2acdb5e2b"
      },
      "source": [
        "def generate_text(in_seq, length=200):\r\n",
        "    input_ids = tf.convert_to_tensor([char2id[char] for char in in_seq])\r\n",
        "\r\n",
        "    # Add batch dimension\r\n",
        "    input_ids = tf.expand_dims(input_ids,0)\r\n",
        "\r\n",
        "    output_text = in_seq\r\n",
        "\r\n",
        "    for _ in range(length):\r\n",
        "        rnn_out = rnn(input_ids)\r\n",
        "        predicted_ids = tf.random.categorical(tf.math.log(rnn_out[0]), num_samples=1)\r\n",
        "        input_ids = tf.expand_dims(tf.squeeze(predicted_ids),0)\r\n",
        "        output_text += text_from_ids(predicted_ids)[-1]\r\n",
        "\r\n",
        "    print(output_text)\r\n",
        "\r\n",
        "generate_text('MARCIUS:\\nHow far of ')"
      ],
      "execution_count": 25,
      "outputs": [
        {
          "output_type": "stream",
          "text": [
            "MARCIUS:\n",
            "How far of hitrealofunea oreditss, mitre cus, lond thadom p wle atist; aranino;\n",
            "owit talind.\n",
            "As. th, GLy\n",
            "Med iousO ad ris tinestyono'soly Ro.\n",
            "he mesor alexitinot!\n",
            "Tayst t Ban hicr,\n",
            "ned\n",
            "uris IUn ar,\n",
            "Idildowathani\n"
          ],
          "name": "stdout"
        }
      ]
    }
  ]
}